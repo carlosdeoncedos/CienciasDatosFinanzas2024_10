{
 "cells": [
  {
   "cell_type": "markdown",
   "id": "64563f84-86d3-491d-9c4d-2f00a2507894",
   "metadata": {},
   "source": [
    "# <font color='#2B17B0'>FZ4026.60 CIENCIA DE DATOS APLICADA A FINANZAS</font>\n",
    "Sesión 5 2024-10-11<br>\n",
    "Carlos Crespo Elizondo<br>\n",
    "TEC DE MONTERREY, CAMPUS SANTA FE"
   ]
  },
  {
   "cell_type": "markdown",
   "id": "62856015-e178-496f-a97b-d154d9cb7502",
   "metadata": {},
   "source": [
    "## <font color='#2B17B0'>COMENTARIOS INICIALES</font>"
   ]
  },
  {
   "cell_type": "markdown",
   "id": "717d4a27-48f3-479e-9860-067e47b41db7",
   "metadata": {
    "tags": []
   },
   "source": [
    "### Contacto"
   ]
  },
  {
   "cell_type": "markdown",
   "id": "aec04bd1-c580-4576-b477-93c54e3e8bad",
   "metadata": {},
   "source": [
    "email: carlos@oncedos.com"
   ]
  },
  {
   "cell_type": "markdown",
   "id": "062dfc21-5f27-4857-8fd8-4cb85c227291",
   "metadata": {
    "tags": []
   },
   "source": [
    "### Asesorías"
   ]
  },
  {
   "cell_type": "markdown",
   "id": "e6f3c82e-6dac-41c3-a2fc-7ce1eb498243",
   "metadata": {
    "tags": []
   },
   "source": [
    "### Github:  Clonar repositorio de la clase\n",
    "URL del repositorio:<br>\n",
    "https://github.com/carlosdeoncedos/CienciasDatosFinanzas2024_10.git <br>\n",
    "\n",
    "Para verificar si GitHub está instaldo corre el siguiente comando desde la ventana de terminal:\n",
    "`git --version`.  Si está instalado, arrojará la versión instalada.\n",
    "\n"
   ]
  },
  {
   "cell_type": "markdown",
   "id": "0be6229b-8dfa-4bf2-9699-e0b3bbf59166",
   "metadata": {
    "tags": []
   },
   "source": [
    "#### Instalar GitHub\n",
    "En caso de no tener Github instalado:"
   ]
  },
  {
   "cell_type": "markdown",
   "id": "1782bca8-9bab-49e5-94df-b59a7eb3ed5e",
   "metadata": {
    "tags": []
   },
   "source": [
    "##### **MAC OS:**\n",
    "1. Abre la Terminal en tu Mac.\n",
    "1. Ejecuta el siguiente comando para instalar Homebrew:<br>\n",
    "    `/bin/bash -c \"$(curl -fsSL https://raw.githubusercontent.com/Homebrew/install/HEAD/install.sh)\"`\n",
    "1. Ejecuta el siguiente comando para instalar Git usando Homebrew:\n",
    "    `brew install git`"
   ]
  },
  {
   "cell_type": "markdown",
   "id": "7262c5fc-b023-41a7-ab69-d3966945098f",
   "metadata": {},
   "source": [
    "##### **WINDOWS**:\n",
    "1. Ve al sitio web oficial de Git: https://git-scm.com/download/win\n",
    "1. La descarga del instalador de Git para Windows debería comenzar automáticamente. Si no es así, haz clic en el enlace \"click here to download manually\" (haz clic aquí para descargar manualmente) en la página.\n",
    "1. Ejecuta el archivo de instalación que descargaste en el Paso 1.\n",
    "1. Selecciona las opciones de instalación que prefieras y sigue las instrucciones del instalador. Si no estás seguro de qué opciones elegir, las predeterminadas suelen ser adecuadas para la mayoría de los usuarios.\n",
    "1. Haz clic en \"Install\" (Instalar) para comenzar la instalación.\n",
    "1. Una vez que se complete la instalación, Git estará instalado en tu computadora con Windows."
   ]
  },
  {
   "cell_type": "markdown",
   "id": "5bc24210-e1a3-4eed-9cfa-85878fd93e2d",
   "metadata": {},
   "source": [
    "#### **CREAR USUARIO**\n",
    "1. Entra a la página https://github.com\n",
    "1. En la página principal de GitHub, localiza el formulario de registro.\n",
    "1. Ingresa un nombre de usuario único. GitHub verificará si el nombre de usuario está disponible.\n",
    "1. Ingresa una dirección de correo electrónico válida. Asegúrate de que sea una dirección de correo electrónico a la que tengas acceso, ya que GitHub enviará un correo electrónico de verificación.\n",
    "1. Crea una contraseña segura siguiendo las pautas de GitHub. La contraseña debe tener al menos 8 caracteres y debe incluir letras mayúsculas y minúsculas, números y símbolos.\n",
    "1. Haz clic en el botón \"Sign up for GitHub\" (Regístrate en GitHub) para continuar.\n",
    "1. GitHub te enviará un correo electrónico de verificación a la dirección de correo electrónico que proporcionaste.\n",
    "1. Abre el correo electrónico y haz clic en el enlace de verificación para confirmar tu dirección de correo electrónico y continuar con el proceso de registro.\n",
    "1. GitHub te mostrará diferentes planes disponibles. Elige el plan gratuito y haz clic en \"Continue\". El plan gratuito te permitirá crear repositorios públicos ilimitados y colaborar en repositorios privados.\n",
    "1. GitHub te ofrecerá la opción de personalizar tu experiencia proporcionando información adicional sobre tus intereses y preferencias. Puedes completar esta información si lo deseas, pero no es obligatorio.\n",
    "1. Una vez que hayas proporcionado la información que desees, haz clic en \"Submit\" (Enviar) o \"Skip this step\" (Omitir este paso) si prefieres no proporcionar esta información."
   ]
  },
  {
   "cell_type": "markdown",
   "id": "e90a91d9-4afe-4c04-a32d-729263b83d3e",
   "metadata": {},
   "source": [
    "#### Clonar repositorio"
   ]
  },
  {
   "cell_type": "markdown",
   "id": "395a4181-a29a-4a56-891e-b3660d72f7fb",
   "metadata": {},
   "source": [
    "1. Navega a la página principal del repositorio de la clase (Ver URL).\n",
    "1. Haz clic en el botón verde \"Code\" cerca de la esquina superior derecha de la página.\n",
    "1. En el menú desplegable, elige entre HTTPS o SSH en \"Clone\". Si no estás seguro de cuál usar, se recomienda HTTPS para la mayoría de los usuarios debido a su simplicidad y compatibilidad. Copia la URL proporcionada.\n",
    "1. Abre tu terminal (en macOS o Linux) o Command Prompt (en Windows) en la computadora y ve al directorio donde deseas clonar el repositorio\n",
    "1. Ejecutar el siguiente comando para clonar repositorio:<br>\n",
    "    `git clone https://github.com/carlosdeoncedos/CienciaDatosFinanzas2023_05.git`"
   ]
  },
  {
   "cell_type": "markdown",
   "id": "5bfc3d04-90b4-42b3-b6ce-79ae2f666140",
   "metadata": {},
   "source": [
    "# <font color='#2B17B0'>APIs</font>\n"
   ]
  },
  {
   "cell_type": "markdown",
   "id": "ef42d0c1-5394-4cec-8223-775273ae0cca",
   "metadata": {},
   "source": [
    "### <font color='#2B17B0'>Que es un API</font>\n"
   ]
  },
  {
   "cell_type": "markdown",
   "id": "47784a9d-1d90-404e-a894-a106529fefad",
   "metadata": {},
   "source": [
    "> _API: \"(Application Programming Interface) es un set de reglas y protocolos que permite que un software pueda interactuar con otro.  Define los métodos y la estructura de datos que las aplicaciones utilizan para comunicarse entre si\"_  <br>\n",
    "\n",
    "Chat GPT-4o"
   ]
  },
  {
   "cell_type": "markdown",
   "id": "752b9e21-17e4-4da0-ac56-e32724350f26",
   "metadata": {},
   "source": [
    "### <font color='#2B17B0'>Tipos de APIs</font>\n"
   ]
  },
  {
   "cell_type": "markdown",
   "id": "1b4d590f-353d-487d-aeff-6197c479212e",
   "metadata": {},
   "source": [
    "* _Web_:  Se usan para interactuar con servicios web (protocolos HTTP/HTTPS).\n",
    "* _Librerias_:  Publicadas por las librerías para permitir el uso de sus funciones.\n",
    "* _Sistema Operativo_:  Permite que una aplicación pueda interactuar con el OS.\n",
    "* _Base de Datos_:  Permite la comunicación entre una aplicación y el administrador de la BD."
   ]
  },
  {
   "cell_type": "markdown",
   "id": "2fcf2fb2-89a6-41d6-9fc9-7c787bb577a4",
   "metadata": {},
   "source": [
    "### <font color='#2B17B0'>Como funcionan las APIs</font>\n"
   ]
  },
  {
   "cell_type": "markdown",
   "id": "3e1b422d-b766-4b9d-bc74-d27b7ba7d068",
   "metadata": {},
   "source": [
    "#### <font color='#2B17B0'>Componentes</font>\n"
   ]
  },
  {
   "cell_type": "markdown",
   "id": "9ca4ca30-aae1-478b-9341-a90f92d1ee71",
   "metadata": {},
   "source": [
    "1. _Endpoint_:  Especificar URL para accesar al API.\n",
    "1. _Request_:  La llamada que el cliente hace al **endpoint**.  Por lo general incluye parámetros.\n",
    "1. _Response_:  Los datos que el API regresa al cliente.\n",
    "1. _Methods_:  Las acciones que puedes hacer através del API como:\n",
    "    * Get:  Obtener datos.\n",
    "    * Post:  Subir datos.\n",
    "    * Put:  Actualizar registros  o crearlo en caso de que no exista\n",
    "    * Delete:  Eliminar registros"
   ]
  },
  {
   "cell_type": "markdown",
   "id": "590b48cc-6c92-43db-b3ae-7461b0e6f04c",
   "metadata": {},
   "source": [
    "#### <font color='#2B17B0'>Web APIs</font>\n"
   ]
  },
  {
   "cell_type": "markdown",
   "id": "639cd942-215d-4d76-890b-9100924190cd",
   "metadata": {},
   "source": [
    "1. Por lo general utilizan los protocolos de comunicación HTTP / HTTPS\n",
    "2. Existen varias arquitecturas, las más usadas son:\n",
    "    1. REST (Representational State Transfer)\n",
    "    2. SOAP (Simple Object Access Protocol)"
   ]
  },
  {
   "cell_type": "markdown",
   "id": "ff3ca9fd-d9fa-45d3-afbe-f3941968a1b0",
   "metadata": {},
   "source": [
    "### <font color='#2B17B0'>Ejemplo:  Usar los APIs del Banco de México </font>\n",
    "OBJETIVO:  Cargar la serie histórica del tipo de cambio peso dólar en Jupyter.<br>\n",
    "MÉTODO:\n",
    "1. Manera manual\n",
    "1. Manera Automatizada"
   ]
  },
  {
   "cell_type": "markdown",
   "id": "9eee55b6-d128-4b31-8e5c-f79daa3c72e3",
   "metadata": {},
   "source": [
    "#### Buscar la información en la página de Banxico y cargarla en Jupyter"
   ]
  },
  {
   "cell_type": "markdown",
   "id": "5ed19888-8b14-4186-9f0f-ba7de346b9e5",
   "metadata": {},
   "source": [
    "https://www.banxico.org.mx <br>\n",
    "https://www.banxico.org.mx/SieAPIRest/service/v1/"
   ]
  },
  {
   "cell_type": "markdown",
   "id": "40870987-2104-484d-a1ea-7328b06c2ce4",
   "metadata": {},
   "source": [
    "#### Hacer pruebas de conexión al API utilizando Postman\n"
   ]
  },
  {
   "cell_type": "markdown",
   "id": "6f0a5256-415c-4832-82ac-7ad013a07930",
   "metadata": {},
   "source": [
    "* Postman es un programa en el que podemos desarrollar y/o probar APIs\n",
    "* Descargarlo en la siguiente dirección:<br>\n",
    "  https://web.postman.co\n"
   ]
  },
  {
   "cell_type": "markdown",
   "id": "4fa01bb1-f352-45ee-86a9-c9f7a6ca4036",
   "metadata": {},
   "source": [
    "#### <font color='#2B17B0'>Librería Request</font>\n"
   ]
  },
  {
   "cell_type": "markdown",
   "id": "94b11ea9-170e-472b-83dc-8ac7bc7e1046",
   "metadata": {},
   "source": [
    "> _Request es una librería de Python que se usa para hacer llamadas HTTP_"
   ]
  },
  {
   "cell_type": "markdown",
   "id": "863c667e-30ee-4c98-848c-3897c67c4db0",
   "metadata": {},
   "source": [
    "Pasos para usar hacer una llamda con la librería Request:\n",
    "1. Importar librería\n",
    "2. Definir la URL a donde se hará la llamada\n",
    "3. Realizar la llamada\n",
    "\n",
    "Adicionalmente podemos interpretar el tipo de respuesta de la llamada"
   ]
  },
  {
   "cell_type": "code",
   "execution_count": 1,
   "id": "073dd978-30da-4083-a2cb-39b1147ff9a8",
   "metadata": {},
   "outputs": [],
   "source": [
    "import pandas as pd\n",
    "import requests"
   ]
  },
  {
   "cell_type": "code",
   "execution_count": 2,
   "id": "e4c017c5-6136-42da-8615-1025a43d525c",
   "metadata": {},
   "outputs": [],
   "source": [
    "url = 'https://www.banxico.org.mx/SieAPIRest/service/v1/series/SF63528/datos'"
   ]
  },
  {
   "cell_type": "markdown",
   "id": "e9b467d4-c198-43b6-b8c4-9191ed23b5a1",
   "metadata": {},
   "source": [
    "A continuación haremos la llamada al API **CON UN ERROR** (falta el TOKEN)"
   ]
  },
  {
   "cell_type": "code",
   "execution_count": 3,
   "id": "d2936213-42b0-40be-8573-f728d464a0c7",
   "metadata": {},
   "outputs": [],
   "source": [
    "respuesta = requests.get(url)"
   ]
  },
  {
   "cell_type": "code",
   "execution_count": 6,
   "id": "8d9c6864-71a4-4178-9497-eb055c6a235f",
   "metadata": {},
   "outputs": [
    {
     "data": {
      "text/plain": [
       "<Response [401]>"
      ]
     },
     "execution_count": 6,
     "metadata": {},
     "output_type": "execute_result"
    }
   ],
   "source": [
    "respuesta"
   ]
  },
  {
   "cell_type": "markdown",
   "id": "c0810156-79a4-4972-aa31-90e0ac22febc",
   "metadata": {},
   "source": [
    "Ahora haremos la llamada al API de BANXICO correctamente"
   ]
  },
  {
   "cell_type": "code",
   "execution_count": 7,
   "id": "778ecffb-791d-417a-9734-37bd87e073e5",
   "metadata": {},
   "outputs": [],
   "source": [
    "token = '251f19996ce7aa25c925974f843c9dd532a152783be1799a547591a962e08c6d'"
   ]
  },
  {
   "cell_type": "code",
   "execution_count": 12,
   "id": "6bfb4bca-2357-40b4-9f3e-6a195e8c321f",
   "metadata": {},
   "outputs": [],
   "source": [
    "headers = {\n",
    "    'Bmx-Token': token\n",
    "}"
   ]
  },
  {
   "cell_type": "code",
   "execution_count": 15,
   "id": "8dd32b61-ea3f-4926-986b-0889cd047fee",
   "metadata": {},
   "outputs": [],
   "source": [
    "respuesta = requests.get(url, headers=headers)"
   ]
  },
  {
   "cell_type": "code",
   "execution_count": 17,
   "id": "44b20470-01af-4e60-960e-5f9edda0609c",
   "metadata": {},
   "outputs": [
    {
     "data": {
      "text/plain": [
       "<Response [200]>"
      ]
     },
     "execution_count": 17,
     "metadata": {},
     "output_type": "execute_result"
    }
   ],
   "source": [
    "respuesta"
   ]
  },
  {
   "cell_type": "code",
   "execution_count": 18,
   "id": "97ad2bd4-0c2d-4962-ad3b-84355bd42022",
   "metadata": {},
   "outputs": [],
   "source": [
    "datos = respuesta.json()"
   ]
  },
  {
   "cell_type": "code",
   "execution_count": 31,
   "id": "ea352d4f-5951-4e4b-91fe-62e77bf7b54d",
   "metadata": {
    "scrolled": true
   },
   "outputs": [
    {
     "data": {
      "text/plain": [
       "{'bmx': {'series': [{'idSerie': 'SF63528',\n",
       "    'titulo': 'Serie histórica del tipo de cambio Tipo de cambio peso dólar desde 1954',\n",
       "    'datos': [{'fecha': '19/04/1954', 'dato': '0.01250'},\n",
       "     {'fecha': '20/04/1954', 'dato': '0.01250'},\n",
       "     {'fecha': '21/04/1954', 'dato': '0.01250'},\n",
       "     {'fecha': '22/04/1954', 'dato': '0.01250'},\n",
       "     {'fecha': '23/04/1954', 'dato': '0.01250'},\n",
       "     {'fecha': '26/04/1954', 'dato': '0.01250'},\n",
       "     {'fecha': '27/04/1954', 'dato': '0.01250'},\n",
       "     {'fecha': '28/04/1954', 'dato': '0.01250'},\n",
       "     {'fecha': '29/04/1954', 'dato': '0.01250'},\n",
       "     {'fecha': '30/04/1954', 'dato': '0.01250'},\n",
       "     {'fecha': '03/05/1954', 'dato': '0.01250'},\n",
       "     {'fecha': '04/05/1954', 'dato': '0.01250'},\n",
       "     {'fecha': '05/05/1954', 'dato': '0.01250'},\n",
       "     {'fecha': '06/05/1954', 'dato': '0.01250'},\n",
       "     {'fecha': '07/05/1954', 'dato': '0.01250'},\n",
       "     {'fecha': '10/05/1954', 'dato': '0.01250'},\n",
       "     {'fecha': '11/05/1954', 'dato': '0.01250'},\n",
       "     {'fecha': '12/05/1954', 'dato': '0.01250'},\n",
       "     {'fecha': '13/05/1954', 'dato': '0.01250'},\n",
       "     {'fecha': '14/05/1954', 'dato': '0.01250'},\n",
       "     {'fecha': '17/05/1954', 'dato': '0.01250'},\n",
       "     {'fecha': '18/05/1954', 'dato': '0.01250'},\n",
       "     {'fecha': '19/05/1954', 'dato': '0.01250'},\n",
       "     {'fecha': '20/05/1954', 'dato': '0.01250'},\n",
       "     {'fecha': '21/05/1954', 'dato': '0.01250'},\n",
       "     {'fecha': '24/05/1954', 'dato': '0.01250'},\n",
       "     {'fecha': '25/05/1954', 'dato': '0.01250'},\n",
       "     {'fecha': '26/05/1954', 'dato': '0.01250'},\n",
       "     {'fecha': '27/05/1954', 'dato': '0.01250'},\n",
       "     {'fecha': '28/05/1954', 'dato': '0.01250'},\n",
       "     {'fecha': '31/05/1954', 'dato': '0.01250'},\n",
       "     {'fecha': '01/06/1954', 'dato': '0.01250'},\n",
       "     {'fecha': '02/06/1954', 'dato': '0.01250'},\n",
       "     {'fecha': '03/06/1954', 'dato': '0.01250'},\n",
       "     {'fecha': '04/06/1954', 'dato': '0.01250'},\n",
       "     {'fecha': '07/06/1954', 'dato': '0.01250'},\n",
       "     {'fecha': '08/06/1954', 'dato': '0.01250'},\n",
       "     {'fecha': '09/06/1954', 'dato': '0.01250'},\n",
       "     {'fecha': '10/06/1954', 'dato': '0.01250'},\n",
       "     {'fecha': '11/06/1954', 'dato': '0.01250'},\n",
       "     {'fecha': '14/06/1954', 'dato': '0.01250'},\n",
       "     {'fecha': '15/06/1954', 'dato': '0.01250'},\n",
       "     {'fecha': '16/06/1954', 'dato': '0.01250'},\n",
       "     {'fecha': '17/06/1954', 'dato': '0.01250'},\n",
       "     {'fecha': '18/06/1954', 'dato': '0.01250'},\n",
       "     {'fecha': '21/06/1954', 'dato': '0.01250'},\n",
       "     {'fecha': '22/06/1954', 'dato': '0.01250'},\n",
       "     {'fecha': '23/06/1954', 'dato': '0.01250'},\n",
       "     {'fecha': '24/06/1954', 'dato': '0.01250'},\n",
       "     {'fecha': '25/06/1954', 'dato': '0.01250'},\n",
       "     {'fecha': '28/06/1954', 'dato': '0.01250'},\n",
       "     {'fecha': '29/06/1954', 'dato': '0.01250'},\n",
       "     {'fecha': '30/06/1954', 'dato': '0.01250'},\n",
       "     {'fecha': '01/07/1954', 'dato': '0.01250'},\n",
       "     {'fecha': '02/07/1954', 'dato': '0.01250'},\n",
       "     {'fecha': '05/07/1954', 'dato': '0.01250'},\n",
       "     {'fecha': '06/07/1954', 'dato': '0.01250'},\n",
       "     {'fecha': '07/07/1954', 'dato': '0.01250'},\n",
       "     {'fecha': '08/07/1954', 'dato': '0.01250'},\n",
       "     {'fecha': '09/07/1954', 'dato': '0.01250'},\n",
       "     {'fecha': '12/07/1954', 'dato': '0.01250'},\n",
       "     {'fecha': '13/07/1954', 'dato': '0.01250'},\n",
       "     {'fecha': '14/07/1954', 'dato': '0.01250'},\n",
       "     {'fecha': '15/07/1954', 'dato': '0.01250'},\n",
       "     {'fecha': '16/07/1954', 'dato': '0.01250'},\n",
       "     {'fecha': '19/07/1954', 'dato': '0.01250'},\n",
       "     {'fecha': '20/07/1954', 'dato': '0.01250'},\n",
       "     {'fecha': '21/07/1954', 'dato': '0.01250'},\n",
       "     {'fecha': '22/07/1954', 'dato': '0.01250'},\n",
       "     {'fecha': '23/07/1954', 'dato': '0.01250'},\n",
       "     {'fecha': '26/07/1954', 'dato': '0.01250'},\n",
       "     {'fecha': '27/07/1954', 'dato': '0.01250'},\n",
       "     {'fecha': '28/07/1954', 'dato': '0.01250'},\n",
       "     {'fecha': '29/07/1954', 'dato': '0.01250'},\n",
       "     {'fecha': '30/07/1954', 'dato': '0.01250'},\n",
       "     {'fecha': '02/08/1954', 'dato': '0.01250'},\n",
       "     {'fecha': '03/08/1954', 'dato': '0.01250'},\n",
       "     {'fecha': '04/08/1954', 'dato': '0.01250'},\n",
       "     {'fecha': '05/08/1954', 'dato': '0.01250'},\n",
       "     {'fecha': '06/08/1954', 'dato': '0.01250'},\n",
       "     {'fecha': '09/08/1954', 'dato': '0.01250'},\n",
       "     {'fecha': '10/08/1954', 'dato': '0.01250'},\n",
       "     {'fecha': '11/08/1954', 'dato': '0.01250'},\n",
       "     {'fecha': '12/08/1954', 'dato': '0.01250'},\n",
       "     {'fecha': '13/08/1954', 'dato': '0.01250'},\n",
       "     {'fecha': '16/08/1954', 'dato': '0.01250'},\n",
       "     {'fecha': '17/08/1954', 'dato': '0.01250'},\n",
       "     {'fecha': '18/08/1954', 'dato': '0.01250'},\n",
       "     {'fecha': '19/08/1954', 'dato': '0.01250'},\n",
       "     {'fecha': '20/08/1954', 'dato': '0.01250'},\n",
       "     {'fecha': '23/08/1954', 'dato': '0.01250'},\n",
       "     {'fecha': '24/08/1954', 'dato': '0.01250'},\n",
       "     {'fecha': '25/08/1954', 'dato': '0.01250'},\n",
       "     {'fecha': '26/08/1954', 'dato': '0.01250'},\n",
       "     {'fecha': '27/08/1954', 'dato': '0.01250'},\n",
       "     {'fecha': '30/08/1954', 'dato': '0.01250'},\n",
       "     {'fecha': '31/08/1954', 'dato': '0.01250'},\n",
       "     {'fecha': '01/09/1954', 'dato': '0.01250'},\n",
       "     {'fecha': '02/09/1954', 'dato': '0.01250'},\n",
       "     {'fecha': '03/09/1954', 'dato': '0.01250'},\n",
       "     {'fecha': '06/09/1954', 'dato': '0.01250'},\n",
       "     {'fecha': '07/09/1954', 'dato': '0.01250'},\n",
       "     {'fecha': '08/09/1954', 'dato': '0.01250'},\n",
       "     {'fecha': '09/09/1954', 'dato': '0.01250'},\n",
       "     {'fecha': '10/09/1954', 'dato': '0.01250'},\n",
       "     {'fecha': '13/09/1954', 'dato': '0.01250'},\n",
       "     {'fecha': '14/09/1954', 'dato': '0.01250'},\n",
       "     {'fecha': '15/09/1954', 'dato': '0.01250'},\n",
       "     {'fecha': '16/09/1954', 'dato': '0.01250'},\n",
       "     {'fecha': '17/09/1954', 'dato': '0.01250'},\n",
       "     {'fecha': '20/09/1954', 'dato': '0.01250'},\n",
       "     {'fecha': '21/09/1954', 'dato': '0.01250'},\n",
       "     {'fecha': '22/09/1954', 'dato': '0.01250'},\n",
       "     {'fecha': '23/09/1954', 'dato': '0.01250'},\n",
       "     {'fecha': '24/09/1954', 'dato': '0.01250'},\n",
       "     {'fecha': '27/09/1954', 'dato': '0.01250'},\n",
       "     {'fecha': '28/09/1954', 'dato': '0.01250'},\n",
       "     {'fecha': '29/09/1954', 'dato': '0.01250'},\n",
       "     {'fecha': '30/09/1954', 'dato': '0.01250'},\n",
       "     {'fecha': '01/10/1954', 'dato': '0.01250'},\n",
       "     {'fecha': '04/10/1954', 'dato': '0.01250'},\n",
       "     {'fecha': '05/10/1954', 'dato': '0.01250'},\n",
       "     {'fecha': '06/10/1954', 'dato': '0.01250'},\n",
       "     {'fecha': '07/10/1954', 'dato': '0.01250'},\n",
       "     {'fecha': '08/10/1954', 'dato': '0.01250'},\n",
       "     {'fecha': '11/10/1954', 'dato': '0.01250'},\n",
       "     {'fecha': '12/10/1954', 'dato': '0.01250'},\n",
       "     {'fecha': '13/10/1954', 'dato': '0.01250'},\n",
       "     {'fecha': '14/10/1954', 'dato': '0.01250'},\n",
       "     {'fecha': '15/10/1954', 'dato': '0.01250'},\n",
       "     {'fecha': '18/10/1954', 'dato': '0.01250'},\n",
       "     {'fecha': '19/10/1954', 'dato': '0.01250'},\n",
       "     {'fecha': '20/10/1954', 'dato': '0.01250'},\n",
       "     {'fecha': '21/10/1954', 'dato': '0.01250'},\n",
       "     {'fecha': '22/10/1954', 'dato': '0.01250'},\n",
       "     {'fecha': '25/10/1954', 'dato': '0.01250'},\n",
       "     {'fecha': '26/10/1954', 'dato': '0.01250'},\n",
       "     {'fecha': '27/10/1954', 'dato': '0.01250'},\n",
       "     {'fecha': '28/10/1954', 'dato': '0.01250'},\n",
       "     {'fecha': '29/10/1954', 'dato': '0.01250'},\n",
       "     {'fecha': '01/11/1954', 'dato': '0.01250'},\n",
       "     {'fecha': '02/11/1954', 'dato': '0.01250'},\n",
       "     {'fecha': '03/11/1954', 'dato': '0.01250'},\n",
       "     {'fecha': '04/11/1954', 'dato': '0.01250'},\n",
       "     {'fecha': '05/11/1954', 'dato': '0.01250'},\n",
       "     {'fecha': '08/11/1954', 'dato': '0.01250'},\n",
       "     {'fecha': '09/11/1954', 'dato': '0.01250'},\n",
       "     {'fecha': '10/11/1954', 'dato': '0.01250'},\n",
       "     {'fecha': '11/11/1954', 'dato': '0.01250'},\n",
       "     {'fecha': '12/11/1954', 'dato': '0.01250'},\n",
       "     {'fecha': '15/11/1954', 'dato': '0.01250'},\n",
       "     {'fecha': '16/11/1954', 'dato': '0.01250'},\n",
       "     {'fecha': '17/11/1954', 'dato': '0.01250'},\n",
       "     {'fecha': '18/11/1954', 'dato': '0.01250'},\n",
       "     {'fecha': '19/11/1954', 'dato': '0.01250'},\n",
       "     {'fecha': '22/11/1954', 'dato': '0.01250'},\n",
       "     {'fecha': '23/11/1954', 'dato': '0.01250'},\n",
       "     {'fecha': '24/11/1954', 'dato': '0.01250'},\n",
       "     {'fecha': '25/11/1954', 'dato': '0.01250'},\n",
       "     {'fecha': '26/11/1954', 'dato': '0.01250'},\n",
       "     {'fecha': '29/11/1954', 'dato': '0.01250'},\n",
       "     {'fecha': '30/11/1954', 'dato': '0.01250'},\n",
       "     {'fecha': '01/12/1954', 'dato': '0.01250'},\n",
       "     {'fecha': '02/12/1954', 'dato': '0.01250'},\n",
       "     {'fecha': '03/12/1954', 'dato': '0.01250'},\n",
       "     {'fecha': '06/12/1954', 'dato': '0.01250'},\n",
       "     {'fecha': '07/12/1954', 'dato': '0.01250'},\n",
       "     {'fecha': '08/12/1954', 'dato': '0.01250'},\n",
       "     {'fecha': '09/12/1954', 'dato': '0.01250'},\n",
       "     {'fecha': '10/12/1954', 'dato': '0.01250'},\n",
       "     {'fecha': '13/12/1954', 'dato': '0.01250'},\n",
       "     {'fecha': '14/12/1954', 'dato': '0.01250'},\n",
       "     {'fecha': '15/12/1954', 'dato': '0.01250'},\n",
       "     {'fecha': '16/12/1954', 'dato': '0.01250'},\n",
       "     {'fecha': '17/12/1954', 'dato': '0.01250'},\n",
       "     {'fecha': '20/12/1954', 'dato': '0.01250'},\n",
       "     {'fecha': '21/12/1954', 'dato': '0.01250'},\n",
       "     {'fecha': '22/12/1954', 'dato': '0.01250'},\n",
       "     {'fecha': '23/12/1954', 'dato': '0.01250'},\n",
       "     {'fecha': '24/12/1954', 'dato': '0.01250'},\n",
       "     {'fecha': '27/12/1954', 'dato': '0.01250'},\n",
       "     {'fecha': '28/12/1954', 'dato': '0.01250'},\n",
       "     {'fecha': '29/12/1954', 'dato': '0.01250'},\n",
       "     {'fecha': '30/12/1954', 'dato': '0.01250'},\n",
       "     {'fecha': '31/12/1954', 'dato': '0.01250'},\n",
       "     {'fecha': '03/01/1955', 'dato': '0.01250'},\n",
       "     {'fecha': '04/01/1955', 'dato': '0.01250'},\n",
       "     {'fecha': '05/01/1955', 'dato': '0.01250'},\n",
       "     {'fecha': '06/01/1955', 'dato': '0.01250'},\n",
       "     {'fecha': '07/01/1955', 'dato': '0.01250'},\n",
       "     {'fecha': '10/01/1955', 'dato': '0.01250'},\n",
       "     {'fecha': '11/01/1955', 'dato': '0.01250'},\n",
       "     {'fecha': '12/01/1955', 'dato': '0.01250'},\n",
       "     {'fecha': '13/01/1955', 'dato': '0.01250'},\n",
       "     {'fecha': '14/01/1955', 'dato': '0.01250'},\n",
       "     {'fecha': '17/01/1955', 'dato': '0.01250'},\n",
       "     {'fecha': '18/01/1955', 'dato': '0.01250'},\n",
       "     {'fecha': '19/01/1955', 'dato': '0.01250'},\n",
       "     {'fecha': '20/01/1955', 'dato': '0.01250'},\n",
       "     {'fecha': '21/01/1955', 'dato': '0.01250'},\n",
       "     {'fecha': '24/01/1955', 'dato': '0.01250'},\n",
       "     {'fecha': '25/01/1955', 'dato': '0.01250'},\n",
       "     {'fecha': '26/01/1955', 'dato': '0.01250'},\n",
       "     {'fecha': '27/01/1955', 'dato': '0.01250'},\n",
       "     {'fecha': '28/01/1955', 'dato': '0.01250'},\n",
       "     {'fecha': '31/01/1955', 'dato': '0.01250'},\n",
       "     {'fecha': '01/02/1955', 'dato': '0.01250'},\n",
       "     {'fecha': '02/02/1955', 'dato': '0.01250'},\n",
       "     {'fecha': '03/02/1955', 'dato': '0.01250'},\n",
       "     {'fecha': '04/02/1955', 'dato': '0.01250'},\n",
       "     {'fecha': '07/02/1955', 'dato': '0.01250'},\n",
       "     {'fecha': '08/02/1955', 'dato': '0.01250'},\n",
       "     {'fecha': '09/02/1955', 'dato': '0.01250'},\n",
       "     {'fecha': '10/02/1955', 'dato': '0.01250'},\n",
       "     {'fecha': '11/02/1955', 'dato': '0.01250'},\n",
       "     {'fecha': '14/02/1955', 'dato': '0.01250'},\n",
       "     {'fecha': '15/02/1955', 'dato': '0.01250'},\n",
       "     {'fecha': '16/02/1955', 'dato': '0.01250'},\n",
       "     {'fecha': '17/02/1955', 'dato': '0.01250'},\n",
       "     {'fecha': '18/02/1955', 'dato': '0.01250'},\n",
       "     {'fecha': '21/02/1955', 'dato': '0.01250'},\n",
       "     {'fecha': '22/02/1955', 'dato': '0.01250'},\n",
       "     {'fecha': '23/02/1955', 'dato': '0.01250'},\n",
       "     {'fecha': '24/02/1955', 'dato': '0.01250'},\n",
       "     {'fecha': '25/02/1955', 'dato': '0.01250'},\n",
       "     {'fecha': '28/02/1955', 'dato': '0.01250'},\n",
       "     {'fecha': '01/03/1955', 'dato': '0.01250'},\n",
       "     {'fecha': '02/03/1955', 'dato': '0.01250'},\n",
       "     {'fecha': '03/03/1955', 'dato': '0.01250'},\n",
       "     {'fecha': '04/03/1955', 'dato': '0.01250'},\n",
       "     {'fecha': '07/03/1955', 'dato': '0.01250'},\n",
       "     {'fecha': '08/03/1955', 'dato': '0.01250'},\n",
       "     {'fecha': '09/03/1955', 'dato': '0.01250'},\n",
       "     {'fecha': '10/03/1955', 'dato': '0.01250'},\n",
       "     {'fecha': '11/03/1955', 'dato': '0.01250'},\n",
       "     {'fecha': '14/03/1955', 'dato': '0.01250'},\n",
       "     {'fecha': '15/03/1955', 'dato': '0.01250'},\n",
       "     {'fecha': '16/03/1955', 'dato': '0.01250'},\n",
       "     {'fecha': '17/03/1955', 'dato': '0.01250'},\n",
       "     {'fecha': '18/03/1955', 'dato': '0.01250'},\n",
       "     {'fecha': '21/03/1955', 'dato': '0.01250'},\n",
       "     {'fecha': '22/03/1955', 'dato': '0.01250'},\n",
       "     {'fecha': '23/03/1955', 'dato': '0.01250'},\n",
       "     {'fecha': '24/03/1955', 'dato': '0.01250'},\n",
       "     {'fecha': '25/03/1955', 'dato': '0.01250'},\n",
       "     {'fecha': '28/03/1955', 'dato': '0.01250'},\n",
       "     {'fecha': '29/03/1955', 'dato': '0.01250'},\n",
       "     {'fecha': '30/03/1955', 'dato': '0.01250'},\n",
       "     {'fecha': '31/03/1955', 'dato': '0.01250'},\n",
       "     {'fecha': '01/04/1955', 'dato': '0.01250'},\n",
       "     {'fecha': '04/04/1955', 'dato': '0.01250'},\n",
       "     {'fecha': '05/04/1955', 'dato': '0.01250'},\n",
       "     {'fecha': '06/04/1955', 'dato': '0.01250'},\n",
       "     {'fecha': '07/04/1955', 'dato': '0.01250'},\n",
       "     {'fecha': '08/04/1955', 'dato': '0.01250'},\n",
       "     {'fecha': '11/04/1955', 'dato': '0.01250'},\n",
       "     {'fecha': '12/04/1955', 'dato': '0.01250'},\n",
       "     {'fecha': '13/04/1955', 'dato': '0.01250'},\n",
       "     {'fecha': '14/04/1955', 'dato': '0.01250'},\n",
       "     {'fecha': '15/04/1955', 'dato': '0.01250'},\n",
       "     {'fecha': '18/04/1955', 'dato': '0.01250'},\n",
       "     {'fecha': '19/04/1955', 'dato': '0.01250'},\n",
       "     {'fecha': '20/04/1955', 'dato': '0.01250'},\n",
       "     {'fecha': '21/04/1955', 'dato': '0.01250'},\n",
       "     {'fecha': '22/04/1955', 'dato': '0.01250'},\n",
       "     {'fecha': '25/04/1955', 'dato': '0.01250'},\n",
       "     {'fecha': '26/04/1955', 'dato': '0.01250'},\n",
       "     {'fecha': '27/04/1955', 'dato': '0.01250'},\n",
       "     {'fecha': '28/04/1955', 'dato': '0.01250'},\n",
       "     {'fecha': '29/04/1955', 'dato': '0.01250'},\n",
       "     {'fecha': '02/05/1955', 'dato': '0.01250'},\n",
       "     {'fecha': '03/05/1955', 'dato': '0.01250'},\n",
       "     {'fecha': '04/05/1955', 'dato': '0.01250'},\n",
       "     {'fecha': '05/05/1955', 'dato': '0.01250'},\n",
       "     {'fecha': '06/05/1955', 'dato': '0.01250'},\n",
       "     {'fecha': '09/05/1955', 'dato': '0.01250'},\n",
       "     {'fecha': '10/05/1955', 'dato': '0.01250'},\n",
       "     {'fecha': '11/05/1955', 'dato': '0.01250'},\n",
       "     {'fecha': '12/05/1955', 'dato': '0.01250'},\n",
       "     {'fecha': '13/05/1955', 'dato': '0.01250'},\n",
       "     {'fecha': '16/05/1955', 'dato': '0.01250'},\n",
       "     {'fecha': '17/05/1955', 'dato': '0.01250'},\n",
       "     {'fecha': '18/05/1955', 'dato': '0.01250'},\n",
       "     {'fecha': '19/05/1955', 'dato': '0.01250'},\n",
       "     {'fecha': '20/05/1955', 'dato': '0.01250'},\n",
       "     {'fecha': '23/05/1955', 'dato': '0.01250'},\n",
       "     {'fecha': '24/05/1955', 'dato': '0.01250'},\n",
       "     {'fecha': '25/05/1955', 'dato': '0.01250'},\n",
       "     {'fecha': '26/05/1955', 'dato': '0.01250'},\n",
       "     {'fecha': '27/05/1955', 'dato': '0.01250'},\n",
       "     {'fecha': '30/05/1955', 'dato': '0.01250'},\n",
       "     {'fecha': '31/05/1955', 'dato': '0.01250'},\n",
       "     {'fecha': '01/06/1955', 'dato': '0.01250'},\n",
       "     {'fecha': '02/06/1955', 'dato': '0.01250'},\n",
       "     {'fecha': '03/06/1955', 'dato': '0.01250'},\n",
       "     {'fecha': '06/06/1955', 'dato': '0.01250'},\n",
       "     {'fecha': '07/06/1955', 'dato': '0.01250'},\n",
       "     {'fecha': '08/06/1955', 'dato': '0.01250'},\n",
       "     {'fecha': '09/06/1955', 'dato': '0.01250'},\n",
       "     {'fecha': '10/06/1955', 'dato': '0.01250'},\n",
       "     {'fecha': '13/06/1955', 'dato': '0.01250'},\n",
       "     {'fecha': '14/06/1955', 'dato': '0.01250'},\n",
       "     {'fecha': '15/06/1955', 'dato': '0.01250'},\n",
       "     {'fecha': '16/06/1955', 'dato': '0.01250'},\n",
       "     {'fecha': '17/06/1955', 'dato': '0.01250'},\n",
       "     {'fecha': '20/06/1955', 'dato': '0.01250'},\n",
       "     {'fecha': '21/06/1955', 'dato': '0.01250'},\n",
       "     {'fecha': '22/06/1955', 'dato': '0.01250'},\n",
       "     {'fecha': '23/06/1955', 'dato': '0.01250'},\n",
       "     {'fecha': '24/06/1955', 'dato': '0.01250'},\n",
       "     {'fecha': '27/06/1955', 'dato': '0.01250'},\n",
       "     {'fecha': '28/06/1955', 'dato': '0.01250'},\n",
       "     {'fecha': '29/06/1955', 'dato': '0.01250'},\n",
       "     {'fecha': '30/06/1955', 'dato': '0.01250'},\n",
       "     {'fecha': '01/07/1955', 'dato': '0.01250'},\n",
       "     {'fecha': '04/07/1955', 'dato': '0.01250'},\n",
       "     {'fecha': '05/07/1955', 'dato': '0.01250'},\n",
       "     {'fecha': '06/07/1955', 'dato': '0.01250'},\n",
       "     {'fecha': '07/07/1955', 'dato': '0.01250'},\n",
       "     {'fecha': '08/07/1955', 'dato': '0.01250'},\n",
       "     {'fecha': '11/07/1955', 'dato': '0.01250'},\n",
       "     {'fecha': '12/07/1955', 'dato': '0.01250'},\n",
       "     {'fecha': '13/07/1955', 'dato': '0.01250'},\n",
       "     {'fecha': '14/07/1955', 'dato': '0.01250'},\n",
       "     {'fecha': '15/07/1955', 'dato': '0.01250'},\n",
       "     {'fecha': '18/07/1955', 'dato': '0.01250'},\n",
       "     {'fecha': '19/07/1955', 'dato': '0.01250'},\n",
       "     {'fecha': '20/07/1955', 'dato': '0.01250'},\n",
       "     {'fecha': '21/07/1955', 'dato': '0.01250'},\n",
       "     {'fecha': '22/07/1955', 'dato': '0.01250'},\n",
       "     {'fecha': '25/07/1955', 'dato': '0.01250'},\n",
       "     {'fecha': '26/07/1955', 'dato': '0.01250'},\n",
       "     {'fecha': '27/07/1955', 'dato': '0.01250'},\n",
       "     {'fecha': '28/07/1955', 'dato': '0.01250'},\n",
       "     {'fecha': '29/07/1955', 'dato': '0.01250'},\n",
       "     {'fecha': '01/08/1955', 'dato': '0.01250'},\n",
       "     {'fecha': '02/08/1955', 'dato': '0.01250'},\n",
       "     {'fecha': '03/08/1955', 'dato': '0.01250'},\n",
       "     {'fecha': '04/08/1955', 'dato': '0.01250'},\n",
       "     {'fecha': '05/08/1955', 'dato': '0.01250'},\n",
       "     {'fecha': '08/08/1955', 'dato': '0.01250'},\n",
       "     {'fecha': '09/08/1955', 'dato': '0.01250'},\n",
       "     {'fecha': '10/08/1955', 'dato': '0.01250'},\n",
       "     {'fecha': '11/08/1955', 'dato': '0.01250'},\n",
       "     {'fecha': '12/08/1955', 'dato': '0.01250'},\n",
       "     {'fecha': '15/08/1955', 'dato': '0.01250'},\n",
       "     {'fecha': '16/08/1955', 'dato': '0.01250'},\n",
       "     {'fecha': '17/08/1955', 'dato': '0.01250'},\n",
       "     {'fecha': '18/08/1955', 'dato': '0.01250'},\n",
       "     {'fecha': '19/08/1955', 'dato': '0.01250'},\n",
       "     {'fecha': '22/08/1955', 'dato': '0.01250'},\n",
       "     {'fecha': '23/08/1955', 'dato': '0.01250'},\n",
       "     {'fecha': '24/08/1955', 'dato': '0.01250'},\n",
       "     {'fecha': '25/08/1955', 'dato': '0.01250'},\n",
       "     {'fecha': '26/08/1955', 'dato': '0.01250'},\n",
       "     {'fecha': '29/08/1955', 'dato': '0.01250'},\n",
       "     {'fecha': '30/08/1955', 'dato': '0.01250'},\n",
       "     {'fecha': '31/08/1955', 'dato': '0.01250'},\n",
       "     {'fecha': '01/09/1955', 'dato': '0.01250'},\n",
       "     {'fecha': '02/09/1955', 'dato': '0.01250'},\n",
       "     {'fecha': '05/09/1955', 'dato': '0.01250'},\n",
       "     {'fecha': '06/09/1955', 'dato': '0.01250'},\n",
       "     {'fecha': '07/09/1955', 'dato': '0.01250'},\n",
       "     {'fecha': '08/09/1955', 'dato': '0.01250'},\n",
       "     {'fecha': '09/09/1955', 'dato': '0.01250'},\n",
       "     {'fecha': '12/09/1955', 'dato': '0.01250'},\n",
       "     {'fecha': '13/09/1955', 'dato': '0.01250'},\n",
       "     {'fecha': '14/09/1955', 'dato': '0.01250'},\n",
       "     {'fecha': '15/09/1955', 'dato': '0.01250'},\n",
       "     {'fecha': '16/09/1955', 'dato': '0.01250'},\n",
       "     {'fecha': '19/09/1955', 'dato': '0.01250'},\n",
       "     {'fecha': '20/09/1955', 'dato': '0.01250'},\n",
       "     {'fecha': '21/09/1955', 'dato': '0.01250'},\n",
       "     {'fecha': '22/09/1955', 'dato': '0.01250'},\n",
       "     {'fecha': '23/09/1955', 'dato': '0.01250'},\n",
       "     {'fecha': '26/09/1955', 'dato': '0.01250'},\n",
       "     {'fecha': '27/09/1955', 'dato': '0.01250'},\n",
       "     {'fecha': '28/09/1955', 'dato': '0.01250'},\n",
       "     {'fecha': '29/09/1955', 'dato': '0.01250'},\n",
       "     {'fecha': '30/09/1955', 'dato': '0.01250'},\n",
       "     {'fecha': '03/10/1955', 'dato': '0.01250'},\n",
       "     {'fecha': '04/10/1955', 'dato': '0.01250'},\n",
       "     {'fecha': '05/10/1955', 'dato': '0.01250'},\n",
       "     {'fecha': '06/10/1955', 'dato': '0.01250'},\n",
       "     {'fecha': '07/10/1955', 'dato': '0.01250'},\n",
       "     {'fecha': '10/10/1955', 'dato': '0.01250'},\n",
       "     {'fecha': '11/10/1955', 'dato': '0.01250'},\n",
       "     {'fecha': '12/10/1955', 'dato': '0.01250'},\n",
       "     {'fecha': '13/10/1955', 'dato': '0.01250'},\n",
       "     {'fecha': '14/10/1955', 'dato': '0.01250'},\n",
       "     {'fecha': '17/10/1955', 'dato': '0.01250'},\n",
       "     {'fecha': '18/10/1955', 'dato': '0.01250'},\n",
       "     {'fecha': '19/10/1955', 'dato': '0.01250'},\n",
       "     {'fecha': '20/10/1955', 'dato': '0.01250'},\n",
       "     {'fecha': '21/10/1955', 'dato': '0.01250'},\n",
       "     {'fecha': '24/10/1955', 'dato': '0.01250'},\n",
       "     {'fecha': '25/10/1955', 'dato': '0.01250'},\n",
       "     {'fecha': '26/10/1955', 'dato': '0.01250'},\n",
       "     {'fecha': '27/10/1955', 'dato': '0.01250'},\n",
       "     {'fecha': '28/10/1955', 'dato': '0.01250'},\n",
       "     {'fecha': '31/10/1955', 'dato': '0.01250'},\n",
       "     {'fecha': '01/11/1955', 'dato': '0.01250'},\n",
       "     {'fecha': '02/11/1955', 'dato': '0.01250'},\n",
       "     {'fecha': '03/11/1955', 'dato': '0.01250'},\n",
       "     {'fecha': '04/11/1955', 'dato': '0.01250'},\n",
       "     {'fecha': '07/11/1955', 'dato': '0.01250'},\n",
       "     {'fecha': '08/11/1955', 'dato': '0.01250'},\n",
       "     {'fecha': '09/11/1955', 'dato': '0.01250'},\n",
       "     {'fecha': '10/11/1955', 'dato': '0.01250'},\n",
       "     {'fecha': '11/11/1955', 'dato': '0.01250'},\n",
       "     {'fecha': '14/11/1955', 'dato': '0.01250'},\n",
       "     {'fecha': '15/11/1955', 'dato': '0.01250'},\n",
       "     {'fecha': '16/11/1955', 'dato': '0.01250'},\n",
       "     {'fecha': '17/11/1955', 'dato': '0.01250'},\n",
       "     {'fecha': '18/11/1955', 'dato': '0.01250'},\n",
       "     {'fecha': '21/11/1955', 'dato': '0.01250'},\n",
       "     {'fecha': '22/11/1955', 'dato': '0.01250'},\n",
       "     {'fecha': '23/11/1955', 'dato': '0.01250'},\n",
       "     {'fecha': '24/11/1955', 'dato': '0.01250'},\n",
       "     {'fecha': '25/11/1955', 'dato': '0.01250'},\n",
       "     {'fecha': '28/11/1955', 'dato': '0.01250'},\n",
       "     {'fecha': '29/11/1955', 'dato': '0.01250'},\n",
       "     {'fecha': '30/11/1955', 'dato': '0.01250'},\n",
       "     {'fecha': '01/12/1955', 'dato': '0.01250'},\n",
       "     {'fecha': '02/12/1955', 'dato': '0.01250'},\n",
       "     {'fecha': '05/12/1955', 'dato': '0.01250'},\n",
       "     {'fecha': '06/12/1955', 'dato': '0.01250'},\n",
       "     {'fecha': '07/12/1955', 'dato': '0.01250'},\n",
       "     {'fecha': '08/12/1955', 'dato': '0.01250'},\n",
       "     {'fecha': '09/12/1955', 'dato': '0.01250'},\n",
       "     {'fecha': '12/12/1955', 'dato': '0.01250'},\n",
       "     {'fecha': '13/12/1955', 'dato': '0.01250'},\n",
       "     {'fecha': '14/12/1955', 'dato': '0.01250'},\n",
       "     {'fecha': '15/12/1955', 'dato': '0.01250'},\n",
       "     {'fecha': '16/12/1955', 'dato': '0.01250'},\n",
       "     {'fecha': '19/12/1955', 'dato': '0.01250'},\n",
       "     {'fecha': '20/12/1955', 'dato': '0.01250'},\n",
       "     {'fecha': '21/12/1955', 'dato': '0.01250'},\n",
       "     {'fecha': '22/12/1955', 'dato': '0.01250'},\n",
       "     {'fecha': '23/12/1955', 'dato': '0.01250'},\n",
       "     {'fecha': '26/12/1955', 'dato': '0.01250'},\n",
       "     {'fecha': '27/12/1955', 'dato': '0.01250'},\n",
       "     {'fecha': '28/12/1955', 'dato': '0.01250'},\n",
       "     {'fecha': '29/12/1955', 'dato': '0.01250'},\n",
       "     {'fecha': '30/12/1955', 'dato': '0.01250'},\n",
       "     {'fecha': '02/01/1956', 'dato': '0.01250'},\n",
       "     {'fecha': '03/01/1956', 'dato': '0.01250'},\n",
       "     {'fecha': '04/01/1956', 'dato': '0.01250'},\n",
       "     {'fecha': '05/01/1956', 'dato': '0.01250'},\n",
       "     {'fecha': '06/01/1956', 'dato': '0.01250'},\n",
       "     {'fecha': '09/01/1956', 'dato': '0.01250'},\n",
       "     {'fecha': '10/01/1956', 'dato': '0.01250'},\n",
       "     {'fecha': '11/01/1956', 'dato': '0.01250'},\n",
       "     {'fecha': '12/01/1956', 'dato': '0.01250'},\n",
       "     {'fecha': '13/01/1956', 'dato': '0.01250'},\n",
       "     {'fecha': '16/01/1956', 'dato': '0.01250'},\n",
       "     {'fecha': '17/01/1956', 'dato': '0.01250'},\n",
       "     {'fecha': '18/01/1956', 'dato': '0.01250'},\n",
       "     {'fecha': '19/01/1956', 'dato': '0.01250'},\n",
       "     {'fecha': '20/01/1956', 'dato': '0.01250'},\n",
       "     {'fecha': '23/01/1956', 'dato': '0.01250'},\n",
       "     {'fecha': '24/01/1956', 'dato': '0.01250'},\n",
       "     {'fecha': '25/01/1956', 'dato': '0.01250'},\n",
       "     {'fecha': '26/01/1956', 'dato': '0.01250'},\n",
       "     {'fecha': '27/01/1956', 'dato': '0.01250'},\n",
       "     {'fecha': '30/01/1956', 'dato': '0.01250'},\n",
       "     {'fecha': '31/01/1956', 'dato': '0.01250'},\n",
       "     {'fecha': '01/02/1956', 'dato': '0.01250'},\n",
       "     {'fecha': '02/02/1956', 'dato': '0.01250'},\n",
       "     {'fecha': '03/02/1956', 'dato': '0.01250'},\n",
       "     {'fecha': '06/02/1956', 'dato': '0.01250'},\n",
       "     {'fecha': '07/02/1956', 'dato': '0.01250'},\n",
       "     {'fecha': '08/02/1956', 'dato': '0.01250'},\n",
       "     {'fecha': '09/02/1956', 'dato': '0.01250'},\n",
       "     {'fecha': '10/02/1956', 'dato': '0.01250'},\n",
       "     {'fecha': '13/02/1956', 'dato': '0.01250'},\n",
       "     {'fecha': '14/02/1956', 'dato': '0.01250'},\n",
       "     {'fecha': '15/02/1956', 'dato': '0.01250'},\n",
       "     {'fecha': '16/02/1956', 'dato': '0.01250'},\n",
       "     {'fecha': '17/02/1956', 'dato': '0.01250'},\n",
       "     {'fecha': '20/02/1956', 'dato': '0.01250'},\n",
       "     {'fecha': '21/02/1956', 'dato': '0.01250'},\n",
       "     {'fecha': '22/02/1956', 'dato': '0.01250'},\n",
       "     {'fecha': '23/02/1956', 'dato': '0.01250'},\n",
       "     {'fecha': '24/02/1956', 'dato': '0.01250'},\n",
       "     {'fecha': '27/02/1956', 'dato': '0.01250'},\n",
       "     {'fecha': '28/02/1956', 'dato': '0.01250'},\n",
       "     {'fecha': '29/02/1956', 'dato': '0.01250'},\n",
       "     {'fecha': '01/03/1956', 'dato': '0.01250'},\n",
       "     {'fecha': '02/03/1956', 'dato': '0.01250'},\n",
       "     {'fecha': '05/03/1956', 'dato': '0.01250'},\n",
       "     {'fecha': '06/03/1956', 'dato': '0.01250'},\n",
       "     {'fecha': '07/03/1956', 'dato': '0.01250'},\n",
       "     {'fecha': '08/03/1956', 'dato': '0.01250'},\n",
       "     {'fecha': '09/03/1956', 'dato': '0.01250'},\n",
       "     {'fecha': '12/03/1956', 'dato': '0.01250'},\n",
       "     {'fecha': '13/03/1956', 'dato': '0.01250'},\n",
       "     {'fecha': '14/03/1956', 'dato': '0.01250'},\n",
       "     {'fecha': '15/03/1956', 'dato': '0.01250'},\n",
       "     {'fecha': '16/03/1956', 'dato': '0.01250'},\n",
       "     {'fecha': '19/03/1956', 'dato': '0.01250'},\n",
       "     {'fecha': '20/03/1956', 'dato': '0.01250'},\n",
       "     {'fecha': '21/03/1956', 'dato': '0.01250'},\n",
       "     {'fecha': '22/03/1956', 'dato': '0.01250'},\n",
       "     {'fecha': '23/03/1956', 'dato': '0.01250'},\n",
       "     {'fecha': '26/03/1956', 'dato': '0.01250'},\n",
       "     {'fecha': '27/03/1956', 'dato': '0.01250'},\n",
       "     {'fecha': '28/03/1956', 'dato': '0.01250'},\n",
       "     {'fecha': '29/03/1956', 'dato': '0.01250'},\n",
       "     {'fecha': '30/03/1956', 'dato': '0.01250'},\n",
       "     {'fecha': '02/04/1956', 'dato': '0.01250'},\n",
       "     {'fecha': '03/04/1956', 'dato': '0.01250'},\n",
       "     {'fecha': '04/04/1956', 'dato': '0.01250'},\n",
       "     {'fecha': '05/04/1956', 'dato': '0.01250'},\n",
       "     {'fecha': '06/04/1956', 'dato': '0.01250'},\n",
       "     {'fecha': '09/04/1956', 'dato': '0.01250'},\n",
       "     {'fecha': '10/04/1956', 'dato': '0.01250'},\n",
       "     {'fecha': '11/04/1956', 'dato': '0.01250'},\n",
       "     {'fecha': '12/04/1956', 'dato': '0.01250'},\n",
       "     {'fecha': '13/04/1956', 'dato': '0.01250'},\n",
       "     {'fecha': '16/04/1956', 'dato': '0.01250'},\n",
       "     {'fecha': '17/04/1956', 'dato': '0.01250'},\n",
       "     {'fecha': '18/04/1956', 'dato': '0.01250'},\n",
       "     {'fecha': '19/04/1956', 'dato': '0.01250'},\n",
       "     {'fecha': '20/04/1956', 'dato': '0.01250'},\n",
       "     {'fecha': '23/04/1956', 'dato': '0.01250'},\n",
       "     {'fecha': '24/04/1956', 'dato': '0.01250'},\n",
       "     {'fecha': '25/04/1956', 'dato': '0.01250'},\n",
       "     {'fecha': '26/04/1956', 'dato': '0.01250'},\n",
       "     {'fecha': '27/04/1956', 'dato': '0.01250'},\n",
       "     {'fecha': '30/04/1956', 'dato': '0.01250'},\n",
       "     {'fecha': '01/05/1956', 'dato': '0.01250'},\n",
       "     {'fecha': '02/05/1956', 'dato': '0.01250'},\n",
       "     {'fecha': '03/05/1956', 'dato': '0.01250'},\n",
       "     {'fecha': '04/05/1956', 'dato': '0.01250'},\n",
       "     {'fecha': '07/05/1956', 'dato': '0.01250'},\n",
       "     {'fecha': '08/05/1956', 'dato': '0.01250'},\n",
       "     {'fecha': '09/05/1956', 'dato': '0.01250'},\n",
       "     {'fecha': '10/05/1956', 'dato': '0.01250'},\n",
       "     {'fecha': '11/05/1956', 'dato': '0.01250'},\n",
       "     {'fecha': '14/05/1956', 'dato': '0.01250'},\n",
       "     {'fecha': '15/05/1956', 'dato': '0.01250'},\n",
       "     {'fecha': '16/05/1956', 'dato': '0.01250'},\n",
       "     {'fecha': '17/05/1956', 'dato': '0.01250'},\n",
       "     {'fecha': '18/05/1956', 'dato': '0.01250'},\n",
       "     {'fecha': '21/05/1956', 'dato': '0.01250'},\n",
       "     {'fecha': '22/05/1956', 'dato': '0.01250'},\n",
       "     {'fecha': '23/05/1956', 'dato': '0.01250'},\n",
       "     {'fecha': '24/05/1956', 'dato': '0.01250'},\n",
       "     {'fecha': '25/05/1956', 'dato': '0.01250'},\n",
       "     {'fecha': '28/05/1956', 'dato': '0.01250'},\n",
       "     {'fecha': '29/05/1956', 'dato': '0.01250'},\n",
       "     {'fecha': '30/05/1956', 'dato': '0.01250'},\n",
       "     {'fecha': '31/05/1956', 'dato': '0.01250'},\n",
       "     {'fecha': '01/06/1956', 'dato': '0.01250'},\n",
       "     {'fecha': '04/06/1956', 'dato': '0.01250'},\n",
       "     {'fecha': '05/06/1956', 'dato': '0.01250'},\n",
       "     {'fecha': '06/06/1956', 'dato': '0.01250'},\n",
       "     {'fecha': '07/06/1956', 'dato': '0.01250'},\n",
       "     {'fecha': '08/06/1956', 'dato': '0.01250'},\n",
       "     {'fecha': '11/06/1956', 'dato': '0.01250'},\n",
       "     {'fecha': '12/06/1956', 'dato': '0.01250'},\n",
       "     {'fecha': '13/06/1956', 'dato': '0.01250'},\n",
       "     {'fecha': '14/06/1956', 'dato': '0.01250'},\n",
       "     {'fecha': '15/06/1956', 'dato': '0.01250'},\n",
       "     {'fecha': '18/06/1956', 'dato': '0.01250'},\n",
       "     {'fecha': '19/06/1956', 'dato': '0.01250'},\n",
       "     {'fecha': '20/06/1956', 'dato': '0.01250'},\n",
       "     {'fecha': '21/06/1956', 'dato': '0.01250'},\n",
       "     {'fecha': '22/06/1956', 'dato': '0.01250'},\n",
       "     {'fecha': '25/06/1956', 'dato': '0.01250'},\n",
       "     {'fecha': '26/06/1956', 'dato': '0.01250'},\n",
       "     {'fecha': '27/06/1956', 'dato': '0.01250'},\n",
       "     {'fecha': '28/06/1956', 'dato': '0.01250'},\n",
       "     {'fecha': '29/06/1956', 'dato': '0.01250'},\n",
       "     {'fecha': '02/07/1956', 'dato': '0.01250'},\n",
       "     {'fecha': '03/07/1956', 'dato': '0.01250'},\n",
       "     {'fecha': '04/07/1956', 'dato': '0.01250'},\n",
       "     {'fecha': '05/07/1956', 'dato': '0.01250'},\n",
       "     {'fecha': '06/07/1956', 'dato': '0.01250'},\n",
       "     {'fecha': '09/07/1956', 'dato': '0.01250'},\n",
       "     {'fecha': '10/07/1956', 'dato': '0.01250'},\n",
       "     {'fecha': '11/07/1956', 'dato': '0.01250'},\n",
       "     {'fecha': '12/07/1956', 'dato': '0.01250'},\n",
       "     {'fecha': '13/07/1956', 'dato': '0.01250'},\n",
       "     {'fecha': '16/07/1956', 'dato': '0.01250'},\n",
       "     {'fecha': '17/07/1956', 'dato': '0.01250'},\n",
       "     {'fecha': '18/07/1956', 'dato': '0.01250'},\n",
       "     {'fecha': '19/07/1956', 'dato': '0.01250'},\n",
       "     {'fecha': '20/07/1956', 'dato': '0.01250'},\n",
       "     {'fecha': '23/07/1956', 'dato': '0.01250'},\n",
       "     {'fecha': '24/07/1956', 'dato': '0.01250'},\n",
       "     {'fecha': '25/07/1956', 'dato': '0.01250'},\n",
       "     {'fecha': '26/07/1956', 'dato': '0.01250'},\n",
       "     {'fecha': '27/07/1956', 'dato': '0.01250'},\n",
       "     {'fecha': '30/07/1956', 'dato': '0.01250'},\n",
       "     {'fecha': '31/07/1956', 'dato': '0.01250'},\n",
       "     {'fecha': '01/08/1956', 'dato': '0.01250'},\n",
       "     {'fecha': '02/08/1956', 'dato': '0.01250'},\n",
       "     {'fecha': '03/08/1956', 'dato': '0.01250'},\n",
       "     {'fecha': '06/08/1956', 'dato': '0.01250'},\n",
       "     {'fecha': '07/08/1956', 'dato': '0.01250'},\n",
       "     {'fecha': '08/08/1956', 'dato': '0.01250'},\n",
       "     {'fecha': '09/08/1956', 'dato': '0.01250'},\n",
       "     {'fecha': '10/08/1956', 'dato': '0.01250'},\n",
       "     {'fecha': '13/08/1956', 'dato': '0.01250'},\n",
       "     {'fecha': '14/08/1956', 'dato': '0.01250'},\n",
       "     {'fecha': '15/08/1956', 'dato': '0.01250'},\n",
       "     {'fecha': '16/08/1956', 'dato': '0.01250'},\n",
       "     {'fecha': '17/08/1956', 'dato': '0.01250'},\n",
       "     {'fecha': '20/08/1956', 'dato': '0.01250'},\n",
       "     {'fecha': '21/08/1956', 'dato': '0.01250'},\n",
       "     {'fecha': '22/08/1956', 'dato': '0.01250'},\n",
       "     {'fecha': '23/08/1956', 'dato': '0.01250'},\n",
       "     {'fecha': '24/08/1956', 'dato': '0.01250'},\n",
       "     {'fecha': '27/08/1956', 'dato': '0.01250'},\n",
       "     {'fecha': '28/08/1956', 'dato': '0.01250'},\n",
       "     {'fecha': '29/08/1956', 'dato': '0.01250'},\n",
       "     {'fecha': '30/08/1956', 'dato': '0.01250'},\n",
       "     {'fecha': '31/08/1956', 'dato': '0.01250'},\n",
       "     {'fecha': '03/09/1956', 'dato': '0.01250'},\n",
       "     {'fecha': '04/09/1956', 'dato': '0.01250'},\n",
       "     {'fecha': '05/09/1956', 'dato': '0.01250'},\n",
       "     {'fecha': '06/09/1956', 'dato': '0.01250'},\n",
       "     {'fecha': '07/09/1956', 'dato': '0.01250'},\n",
       "     {'fecha': '10/09/1956', 'dato': '0.01250'},\n",
       "     {'fecha': '11/09/1956', 'dato': '0.01250'},\n",
       "     {'fecha': '12/09/1956', 'dato': '0.01250'},\n",
       "     {'fecha': '13/09/1956', 'dato': '0.01250'},\n",
       "     {'fecha': '14/09/1956', 'dato': '0.01250'},\n",
       "     {'fecha': '17/09/1956', 'dato': '0.01250'},\n",
       "     {'fecha': '18/09/1956', 'dato': '0.01250'},\n",
       "     {'fecha': '19/09/1956', 'dato': '0.01250'},\n",
       "     {'fecha': '20/09/1956', 'dato': '0.01250'},\n",
       "     {'fecha': '21/09/1956', 'dato': '0.01250'},\n",
       "     {'fecha': '24/09/1956', 'dato': '0.01250'},\n",
       "     {'fecha': '25/09/1956', 'dato': '0.01250'},\n",
       "     {'fecha': '26/09/1956', 'dato': '0.01250'},\n",
       "     {'fecha': '27/09/1956', 'dato': '0.01250'},\n",
       "     {'fecha': '28/09/1956', 'dato': '0.01250'},\n",
       "     {'fecha': '01/10/1956', 'dato': '0.01250'},\n",
       "     {'fecha': '02/10/1956', 'dato': '0.01250'},\n",
       "     {'fecha': '03/10/1956', 'dato': '0.01250'},\n",
       "     {'fecha': '04/10/1956', 'dato': '0.01250'},\n",
       "     {'fecha': '05/10/1956', 'dato': '0.01250'},\n",
       "     {'fecha': '08/10/1956', 'dato': '0.01250'},\n",
       "     {'fecha': '09/10/1956', 'dato': '0.01250'},\n",
       "     {'fecha': '10/10/1956', 'dato': '0.01250'},\n",
       "     {'fecha': '11/10/1956', 'dato': '0.01250'},\n",
       "     {'fecha': '12/10/1956', 'dato': '0.01250'},\n",
       "     {'fecha': '15/10/1956', 'dato': '0.01250'},\n",
       "     {'fecha': '16/10/1956', 'dato': '0.01250'},\n",
       "     {'fecha': '17/10/1956', 'dato': '0.01250'},\n",
       "     {'fecha': '18/10/1956', 'dato': '0.01250'},\n",
       "     {'fecha': '19/10/1956', 'dato': '0.01250'},\n",
       "     {'fecha': '22/10/1956', 'dato': '0.01250'},\n",
       "     {'fecha': '23/10/1956', 'dato': '0.01250'},\n",
       "     {'fecha': '24/10/1956', 'dato': '0.01250'},\n",
       "     {'fecha': '25/10/1956', 'dato': '0.01250'},\n",
       "     {'fecha': '26/10/1956', 'dato': '0.01250'},\n",
       "     {'fecha': '29/10/1956', 'dato': '0.01250'},\n",
       "     {'fecha': '30/10/1956', 'dato': '0.01250'},\n",
       "     {'fecha': '31/10/1956', 'dato': '0.01250'},\n",
       "     {'fecha': '01/11/1956', 'dato': '0.01250'},\n",
       "     {'fecha': '02/11/1956', 'dato': '0.01250'},\n",
       "     {'fecha': '05/11/1956', 'dato': '0.01250'},\n",
       "     {'fecha': '06/11/1956', 'dato': '0.01250'},\n",
       "     {'fecha': '07/11/1956', 'dato': '0.01250'},\n",
       "     {'fecha': '08/11/1956', 'dato': '0.01250'},\n",
       "     {'fecha': '09/11/1956', 'dato': '0.01250'},\n",
       "     {'fecha': '12/11/1956', 'dato': '0.01250'},\n",
       "     {'fecha': '13/11/1956', 'dato': '0.01250'},\n",
       "     {'fecha': '14/11/1956', 'dato': '0.01250'},\n",
       "     {'fecha': '15/11/1956', 'dato': '0.01250'},\n",
       "     {'fecha': '16/11/1956', 'dato': '0.01250'},\n",
       "     {'fecha': '19/11/1956', 'dato': '0.01250'},\n",
       "     {'fecha': '20/11/1956', 'dato': '0.01250'},\n",
       "     {'fecha': '21/11/1956', 'dato': '0.01250'},\n",
       "     {'fecha': '22/11/1956', 'dato': '0.01250'},\n",
       "     {'fecha': '23/11/1956', 'dato': '0.01250'},\n",
       "     {'fecha': '26/11/1956', 'dato': '0.01250'},\n",
       "     {'fecha': '27/11/1956', 'dato': '0.01250'},\n",
       "     {'fecha': '28/11/1956', 'dato': '0.01250'},\n",
       "     {'fecha': '29/11/1956', 'dato': '0.01250'},\n",
       "     {'fecha': '30/11/1956', 'dato': '0.01250'},\n",
       "     {'fecha': '03/12/1956', 'dato': '0.01250'},\n",
       "     {'fecha': '04/12/1956', 'dato': '0.01250'},\n",
       "     {'fecha': '05/12/1956', 'dato': '0.01250'},\n",
       "     {'fecha': '06/12/1956', 'dato': '0.01250'},\n",
       "     {'fecha': '07/12/1956', 'dato': '0.01250'},\n",
       "     {'fecha': '10/12/1956', 'dato': '0.01250'},\n",
       "     {'fecha': '11/12/1956', 'dato': '0.01250'},\n",
       "     {'fecha': '12/12/1956', 'dato': '0.01250'},\n",
       "     {'fecha': '13/12/1956', 'dato': '0.01250'},\n",
       "     {'fecha': '14/12/1956', 'dato': '0.01250'},\n",
       "     {'fecha': '17/12/1956', 'dato': '0.01250'},\n",
       "     {'fecha': '18/12/1956', 'dato': '0.01250'},\n",
       "     {'fecha': '19/12/1956', 'dato': '0.01250'},\n",
       "     {'fecha': '20/12/1956', 'dato': '0.01250'},\n",
       "     {'fecha': '21/12/1956', 'dato': '0.01250'},\n",
       "     {'fecha': '24/12/1956', 'dato': '0.01250'},\n",
       "     {'fecha': '25/12/1956', 'dato': '0.01250'},\n",
       "     {'fecha': '26/12/1956', 'dato': '0.01250'},\n",
       "     {'fecha': '27/12/1956', 'dato': '0.01250'},\n",
       "     {'fecha': '28/12/1956', 'dato': '0.01250'},\n",
       "     {'fecha': '31/12/1956', 'dato': '0.01250'},\n",
       "     {'fecha': '01/01/1957', 'dato': '0.01250'},\n",
       "     {'fecha': '02/01/1957', 'dato': '0.01250'},\n",
       "     {'fecha': '03/01/1957', 'dato': '0.01250'},\n",
       "     {'fecha': '04/01/1957', 'dato': '0.01250'},\n",
       "     {'fecha': '07/01/1957', 'dato': '0.01250'},\n",
       "     {'fecha': '08/01/1957', 'dato': '0.01250'},\n",
       "     {'fecha': '09/01/1957', 'dato': '0.01250'},\n",
       "     {'fecha': '10/01/1957', 'dato': '0.01250'},\n",
       "     {'fecha': '11/01/1957', 'dato': '0.01250'},\n",
       "     {'fecha': '14/01/1957', 'dato': '0.01250'},\n",
       "     {'fecha': '15/01/1957', 'dato': '0.01250'},\n",
       "     {'fecha': '16/01/1957', 'dato': '0.01250'},\n",
       "     {'fecha': '17/01/1957', 'dato': '0.01250'},\n",
       "     {'fecha': '18/01/1957', 'dato': '0.01250'},\n",
       "     {'fecha': '21/01/1957', 'dato': '0.01250'},\n",
       "     {'fecha': '22/01/1957', 'dato': '0.01250'},\n",
       "     {'fecha': '23/01/1957', 'dato': '0.01250'},\n",
       "     {'fecha': '24/01/1957', 'dato': '0.01250'},\n",
       "     {'fecha': '25/01/1957', 'dato': '0.01250'},\n",
       "     {'fecha': '28/01/1957', 'dato': '0.01250'},\n",
       "     {'fecha': '29/01/1957', 'dato': '0.01250'},\n",
       "     {'fecha': '30/01/1957', 'dato': '0.01250'},\n",
       "     {'fecha': '31/01/1957', 'dato': '0.01250'},\n",
       "     {'fecha': '01/02/1957', 'dato': '0.01250'},\n",
       "     {'fecha': '04/02/1957', 'dato': '0.01250'},\n",
       "     {'fecha': '05/02/1957', 'dato': '0.01250'},\n",
       "     {'fecha': '06/02/1957', 'dato': '0.01250'},\n",
       "     {'fecha': '07/02/1957', 'dato': '0.01250'},\n",
       "     {'fecha': '08/02/1957', 'dato': '0.01250'},\n",
       "     {'fecha': '11/02/1957', 'dato': '0.01250'},\n",
       "     {'fecha': '12/02/1957', 'dato': '0.01250'},\n",
       "     {'fecha': '13/02/1957', 'dato': '0.01250'},\n",
       "     {'fecha': '14/02/1957', 'dato': '0.01250'},\n",
       "     {'fecha': '15/02/1957', 'dato': '0.01250'},\n",
       "     {'fecha': '18/02/1957', 'dato': '0.01250'},\n",
       "     {'fecha': '19/02/1957', 'dato': '0.01250'},\n",
       "     {'fecha': '20/02/1957', 'dato': '0.01250'},\n",
       "     {'fecha': '21/02/1957', 'dato': '0.01250'},\n",
       "     {'fecha': '22/02/1957', 'dato': '0.01250'},\n",
       "     {'fecha': '25/02/1957', 'dato': '0.01250'},\n",
       "     {'fecha': '26/02/1957', 'dato': '0.01250'},\n",
       "     {'fecha': '27/02/1957', 'dato': '0.01250'},\n",
       "     {'fecha': '28/02/1957', 'dato': '0.01250'},\n",
       "     {'fecha': '01/03/1957', 'dato': '0.01250'},\n",
       "     {'fecha': '04/03/1957', 'dato': '0.01250'},\n",
       "     {'fecha': '05/03/1957', 'dato': '0.01250'},\n",
       "     {'fecha': '06/03/1957', 'dato': '0.01250'},\n",
       "     {'fecha': '07/03/1957', 'dato': '0.01250'},\n",
       "     {'fecha': '08/03/1957', 'dato': '0.01250'},\n",
       "     {'fecha': '11/03/1957', 'dato': '0.01250'},\n",
       "     {'fecha': '12/03/1957', 'dato': '0.01250'},\n",
       "     {'fecha': '13/03/1957', 'dato': '0.01250'},\n",
       "     {'fecha': '14/03/1957', 'dato': '0.01250'},\n",
       "     {'fecha': '15/03/1957', 'dato': '0.01250'},\n",
       "     {'fecha': '18/03/1957', 'dato': '0.01250'},\n",
       "     {'fecha': '19/03/1957', 'dato': '0.01250'},\n",
       "     {'fecha': '20/03/1957', 'dato': '0.01250'},\n",
       "     {'fecha': '21/03/1957', 'dato': '0.01250'},\n",
       "     {'fecha': '22/03/1957', 'dato': '0.01250'},\n",
       "     {'fecha': '25/03/1957', 'dato': '0.01250'},\n",
       "     {'fecha': '26/03/1957', 'dato': '0.01250'},\n",
       "     {'fecha': '27/03/1957', 'dato': '0.01250'},\n",
       "     {'fecha': '28/03/1957', 'dato': '0.01250'},\n",
       "     {'fecha': '29/03/1957', 'dato': '0.01250'},\n",
       "     {'fecha': '01/04/1957', 'dato': '0.01250'},\n",
       "     {'fecha': '02/04/1957', 'dato': '0.01250'},\n",
       "     {'fecha': '03/04/1957', 'dato': '0.01250'},\n",
       "     {'fecha': '04/04/1957', 'dato': '0.01250'},\n",
       "     {'fecha': '05/04/1957', 'dato': '0.01250'},\n",
       "     {'fecha': '08/04/1957', 'dato': '0.01250'},\n",
       "     {'fecha': '09/04/1957', 'dato': '0.01250'},\n",
       "     {'fecha': '10/04/1957', 'dato': '0.01250'},\n",
       "     {'fecha': '11/04/1957', 'dato': '0.01250'},\n",
       "     {'fecha': '12/04/1957', 'dato': '0.01250'},\n",
       "     {'fecha': '15/04/1957', 'dato': '0.01250'},\n",
       "     {'fecha': '16/04/1957', 'dato': '0.01250'},\n",
       "     {'fecha': '17/04/1957', 'dato': '0.01250'},\n",
       "     {'fecha': '18/04/1957', 'dato': '0.01250'},\n",
       "     {'fecha': '19/04/1957', 'dato': '0.01250'},\n",
       "     {'fecha': '22/04/1957', 'dato': '0.01250'},\n",
       "     {'fecha': '23/04/1957', 'dato': '0.01250'},\n",
       "     {'fecha': '24/04/1957', 'dato': '0.01250'},\n",
       "     {'fecha': '25/04/1957', 'dato': '0.01250'},\n",
       "     {'fecha': '26/04/1957', 'dato': '0.01250'},\n",
       "     {'fecha': '29/04/1957', 'dato': '0.01250'},\n",
       "     {'fecha': '30/04/1957', 'dato': '0.01250'},\n",
       "     {'fecha': '01/05/1957', 'dato': '0.01250'},\n",
       "     {'fecha': '02/05/1957', 'dato': '0.01250'},\n",
       "     {'fecha': '03/05/1957', 'dato': '0.01250'},\n",
       "     {'fecha': '06/05/1957', 'dato': '0.01250'},\n",
       "     {'fecha': '07/05/1957', 'dato': '0.01250'},\n",
       "     {'fecha': '08/05/1957', 'dato': '0.01250'},\n",
       "     {'fecha': '09/05/1957', 'dato': '0.01250'},\n",
       "     {'fecha': '10/05/1957', 'dato': '0.01250'},\n",
       "     {'fecha': '13/05/1957', 'dato': '0.01250'},\n",
       "     {'fecha': '14/05/1957', 'dato': '0.01250'},\n",
       "     {'fecha': '15/05/1957', 'dato': '0.01250'},\n",
       "     {'fecha': '16/05/1957', 'dato': '0.01250'},\n",
       "     {'fecha': '17/05/1957', 'dato': '0.01250'},\n",
       "     {'fecha': '20/05/1957', 'dato': '0.01250'},\n",
       "     {'fecha': '21/05/1957', 'dato': '0.01250'},\n",
       "     {'fecha': '22/05/1957', 'dato': '0.01250'},\n",
       "     {'fecha': '23/05/1957', 'dato': '0.01250'},\n",
       "     {'fecha': '24/05/1957', 'dato': '0.01250'},\n",
       "     {'fecha': '27/05/1957', 'dato': '0.01250'},\n",
       "     {'fecha': '28/05/1957', 'dato': '0.01250'},\n",
       "     {'fecha': '29/05/1957', 'dato': '0.01250'},\n",
       "     {'fecha': '30/05/1957', 'dato': '0.01250'},\n",
       "     {'fecha': '31/05/1957', 'dato': '0.01250'},\n",
       "     {'fecha': '03/06/1957', 'dato': '0.01250'},\n",
       "     {'fecha': '04/06/1957', 'dato': '0.01250'},\n",
       "     {'fecha': '05/06/1957', 'dato': '0.01250'},\n",
       "     {'fecha': '06/06/1957', 'dato': '0.01250'},\n",
       "     {'fecha': '07/06/1957', 'dato': '0.01250'},\n",
       "     {'fecha': '10/06/1957', 'dato': '0.01250'},\n",
       "     {'fecha': '11/06/1957', 'dato': '0.01250'},\n",
       "     {'fecha': '12/06/1957', 'dato': '0.01250'},\n",
       "     {'fecha': '13/06/1957', 'dato': '0.01250'},\n",
       "     {'fecha': '14/06/1957', 'dato': '0.01250'},\n",
       "     {'fecha': '17/06/1957', 'dato': '0.01250'},\n",
       "     {'fecha': '18/06/1957', 'dato': '0.01250'},\n",
       "     {'fecha': '19/06/1957', 'dato': '0.01250'},\n",
       "     {'fecha': '20/06/1957', 'dato': '0.01250'},\n",
       "     {'fecha': '21/06/1957', 'dato': '0.01250'},\n",
       "     {'fecha': '24/06/1957', 'dato': '0.01250'},\n",
       "     {'fecha': '25/06/1957', 'dato': '0.01250'},\n",
       "     {'fecha': '26/06/1957', 'dato': '0.01250'},\n",
       "     {'fecha': '27/06/1957', 'dato': '0.01250'},\n",
       "     {'fecha': '28/06/1957', 'dato': '0.01250'},\n",
       "     {'fecha': '01/07/1957', 'dato': '0.01250'},\n",
       "     {'fecha': '02/07/1957', 'dato': '0.01250'},\n",
       "     {'fecha': '03/07/1957', 'dato': '0.01250'},\n",
       "     {'fecha': '04/07/1957', 'dato': '0.01250'},\n",
       "     {'fecha': '05/07/1957', 'dato': '0.01250'},\n",
       "     {'fecha': '08/07/1957', 'dato': '0.01250'},\n",
       "     {'fecha': '09/07/1957', 'dato': '0.01250'},\n",
       "     {'fecha': '10/07/1957', 'dato': '0.01250'},\n",
       "     {'fecha': '11/07/1957', 'dato': '0.01250'},\n",
       "     {'fecha': '12/07/1957', 'dato': '0.01250'},\n",
       "     {'fecha': '15/07/1957', 'dato': '0.01250'},\n",
       "     {'fecha': '16/07/1957', 'dato': '0.01250'},\n",
       "     {'fecha': '17/07/1957', 'dato': '0.01250'},\n",
       "     {'fecha': '18/07/1957', 'dato': '0.01250'},\n",
       "     {'fecha': '19/07/1957', 'dato': '0.01250'},\n",
       "     {'fecha': '22/07/1957', 'dato': '0.01250'},\n",
       "     {'fecha': '23/07/1957', 'dato': '0.01250'},\n",
       "     {'fecha': '24/07/1957', 'dato': '0.01250'},\n",
       "     {'fecha': '25/07/1957', 'dato': '0.01250'},\n",
       "     {'fecha': '26/07/1957', 'dato': '0.01250'},\n",
       "     {'fecha': '29/07/1957', 'dato': '0.01250'},\n",
       "     {'fecha': '30/07/1957', 'dato': '0.01250'},\n",
       "     {'fecha': '31/07/1957', 'dato': '0.01250'},\n",
       "     {'fecha': '01/08/1957', 'dato': '0.01250'},\n",
       "     {'fecha': '02/08/1957', 'dato': '0.01250'},\n",
       "     {'fecha': '05/08/1957', 'dato': '0.01250'},\n",
       "     {'fecha': '06/08/1957', 'dato': '0.01250'},\n",
       "     {'fecha': '07/08/1957', 'dato': '0.01250'},\n",
       "     {'fecha': '08/08/1957', 'dato': '0.01250'},\n",
       "     {'fecha': '09/08/1957', 'dato': '0.01250'},\n",
       "     {'fecha': '12/08/1957', 'dato': '0.01250'},\n",
       "     {'fecha': '13/08/1957', 'dato': '0.01250'},\n",
       "     {'fecha': '14/08/1957', 'dato': '0.01250'},\n",
       "     {'fecha': '15/08/1957', 'dato': '0.01250'},\n",
       "     {'fecha': '16/08/1957', 'dato': '0.01250'},\n",
       "     {'fecha': '19/08/1957', 'dato': '0.01250'},\n",
       "     {'fecha': '20/08/1957', 'dato': '0.01250'},\n",
       "     {'fecha': '21/08/1957', 'dato': '0.01250'},\n",
       "     {'fecha': '22/08/1957', 'dato': '0.01250'},\n",
       "     {'fecha': '23/08/1957', 'dato': '0.01250'},\n",
       "     {'fecha': '26/08/1957', 'dato': '0.01250'},\n",
       "     {'fecha': '27/08/1957', 'dato': '0.01250'},\n",
       "     {'fecha': '28/08/1957', 'dato': '0.01250'},\n",
       "     {'fecha': '29/08/1957', 'dato': '0.01250'},\n",
       "     {'fecha': '30/08/1957', 'dato': '0.01250'},\n",
       "     {'fecha': '02/09/1957', 'dato': '0.01250'},\n",
       "     {'fecha': '03/09/1957', 'dato': '0.01250'},\n",
       "     {'fecha': '04/09/1957', 'dato': '0.01250'},\n",
       "     {'fecha': '05/09/1957', 'dato': '0.01250'},\n",
       "     {'fecha': '06/09/1957', 'dato': '0.01250'},\n",
       "     {'fecha': '09/09/1957', 'dato': '0.01250'},\n",
       "     {'fecha': '10/09/1957', 'dato': '0.01250'},\n",
       "     {'fecha': '11/09/1957', 'dato': '0.01250'},\n",
       "     {'fecha': '12/09/1957', 'dato': '0.01250'},\n",
       "     {'fecha': '13/09/1957', 'dato': '0.01250'},\n",
       "     {'fecha': '16/09/1957', 'dato': '0.01250'},\n",
       "     {'fecha': '17/09/1957', 'dato': '0.01250'},\n",
       "     {'fecha': '18/09/1957', 'dato': '0.01250'},\n",
       "     {'fecha': '19/09/1957', 'dato': '0.01250'},\n",
       "     {'fecha': '20/09/1957', 'dato': '0.01250'},\n",
       "     {'fecha': '23/09/1957', 'dato': '0.01250'},\n",
       "     {'fecha': '24/09/1957', 'dato': '0.01250'},\n",
       "     {'fecha': '25/09/1957', 'dato': '0.01250'},\n",
       "     {'fecha': '26/09/1957', 'dato': '0.01250'},\n",
       "     {'fecha': '27/09/1957', 'dato': '0.01250'},\n",
       "     {'fecha': '30/09/1957', 'dato': '0.01250'},\n",
       "     {'fecha': '01/10/1957', 'dato': '0.01250'},\n",
       "     {'fecha': '02/10/1957', 'dato': '0.01250'},\n",
       "     {'fecha': '03/10/1957', 'dato': '0.01250'},\n",
       "     {'fecha': '04/10/1957', 'dato': '0.01250'},\n",
       "     {'fecha': '07/10/1957', 'dato': '0.01250'},\n",
       "     {'fecha': '08/10/1957', 'dato': '0.01250'},\n",
       "     {'fecha': '09/10/1957', 'dato': '0.01250'},\n",
       "     {'fecha': '10/10/1957', 'dato': '0.01250'},\n",
       "     {'fecha': '11/10/1957', 'dato': '0.01250'},\n",
       "     {'fecha': '14/10/1957', 'dato': '0.01250'},\n",
       "     {'fecha': '15/10/1957', 'dato': '0.01250'},\n",
       "     {'fecha': '16/10/1957', 'dato': '0.01250'},\n",
       "     {'fecha': '17/10/1957', 'dato': '0.01250'},\n",
       "     {'fecha': '18/10/1957', 'dato': '0.01250'},\n",
       "     {'fecha': '21/10/1957', 'dato': '0.01250'},\n",
       "     {'fecha': '22/10/1957', 'dato': '0.01250'},\n",
       "     {'fecha': '23/10/1957', 'dato': '0.01250'},\n",
       "     {'fecha': '24/10/1957', 'dato': '0.01250'},\n",
       "     {'fecha': '25/10/1957', 'dato': '0.01250'},\n",
       "     {'fecha': '28/10/1957', 'dato': '0.01250'},\n",
       "     {'fecha': '29/10/1957', 'dato': '0.01250'},\n",
       "     {'fecha': '30/10/1957', 'dato': '0.01250'},\n",
       "     {'fecha': '31/10/1957', 'dato': '0.01250'},\n",
       "     {'fecha': '01/11/1957', 'dato': '0.01250'},\n",
       "     {'fecha': '04/11/1957', 'dato': '0.01250'},\n",
       "     {'fecha': '05/11/1957', 'dato': '0.01250'},\n",
       "     {'fecha': '06/11/1957', 'dato': '0.01250'},\n",
       "     {'fecha': '07/11/1957', 'dato': '0.01250'},\n",
       "     {'fecha': '08/11/1957', 'dato': '0.01250'},\n",
       "     {'fecha': '11/11/1957', 'dato': '0.01250'},\n",
       "     {'fecha': '12/11/1957', 'dato': '0.01250'},\n",
       "     {'fecha': '13/11/1957', 'dato': '0.01250'},\n",
       "     {'fecha': '14/11/1957', 'dato': '0.01250'},\n",
       "     {'fecha': '15/11/1957', 'dato': '0.01250'},\n",
       "     {'fecha': '18/11/1957', 'dato': '0.01250'},\n",
       "     {'fecha': '19/11/1957', 'dato': '0.01250'},\n",
       "     {'fecha': '20/11/1957', 'dato': '0.01250'},\n",
       "     {'fecha': '21/11/1957', 'dato': '0.01250'},\n",
       "     {'fecha': '22/11/1957', 'dato': '0.01250'},\n",
       "     {'fecha': '25/11/1957', 'dato': '0.01250'},\n",
       "     {'fecha': '26/11/1957', 'dato': '0.01250'},\n",
       "     {'fecha': '27/11/1957', 'dato': '0.01250'},\n",
       "     {'fecha': '28/11/1957', 'dato': '0.01250'},\n",
       "     {'fecha': '29/11/1957', 'dato': '0.01250'},\n",
       "     {'fecha': '02/12/1957', 'dato': '0.01250'},\n",
       "     {'fecha': '03/12/1957', 'dato': '0.01250'},\n",
       "     {'fecha': '04/12/1957', 'dato': '0.01250'},\n",
       "     {'fecha': '05/12/1957', 'dato': '0.01250'},\n",
       "     {'fecha': '06/12/1957', 'dato': '0.01250'},\n",
       "     {'fecha': '09/12/1957', 'dato': '0.01250'},\n",
       "     {'fecha': '10/12/1957', 'dato': '0.01250'},\n",
       "     {'fecha': '11/12/1957', 'dato': '0.01250'},\n",
       "     {'fecha': '12/12/1957', 'dato': '0.01250'},\n",
       "     {'fecha': '13/12/1957', 'dato': '0.01250'},\n",
       "     {'fecha': '16/12/1957', 'dato': '0.01250'},\n",
       "     {'fecha': '17/12/1957', 'dato': '0.01250'},\n",
       "     {'fecha': '18/12/1957', 'dato': '0.01250'},\n",
       "     {'fecha': '19/12/1957', 'dato': '0.01250'},\n",
       "     {'fecha': '20/12/1957', 'dato': '0.01250'},\n",
       "     {'fecha': '23/12/1957', 'dato': '0.01250'},\n",
       "     {'fecha': '24/12/1957', 'dato': '0.01250'},\n",
       "     {'fecha': '25/12/1957', 'dato': '0.01250'},\n",
       "     {'fecha': '26/12/1957', 'dato': '0.01250'},\n",
       "     {'fecha': '27/12/1957', 'dato': '0.01250'},\n",
       "     {'fecha': '30/12/1957', 'dato': '0.01250'},\n",
       "     {'fecha': '31/12/1957', 'dato': '0.01250'},\n",
       "     {'fecha': '01/01/1958', 'dato': '0.01250'},\n",
       "     {'fecha': '02/01/1958', 'dato': '0.01250'},\n",
       "     {'fecha': '03/01/1958', 'dato': '0.01250'},\n",
       "     {'fecha': '06/01/1958', 'dato': '0.01250'},\n",
       "     {'fecha': '07/01/1958', 'dato': '0.01250'},\n",
       "     {'fecha': '08/01/1958', 'dato': '0.01250'},\n",
       "     {'fecha': '09/01/1958', 'dato': '0.01250'},\n",
       "     {'fecha': '10/01/1958', 'dato': '0.01250'},\n",
       "     {'fecha': '13/01/1958', 'dato': '0.01250'},\n",
       "     {'fecha': '14/01/1958', 'dato': '0.01250'},\n",
       "     {'fecha': '15/01/1958', 'dato': '0.01250'},\n",
       "     {'fecha': '16/01/1958', 'dato': '0.01250'},\n",
       "     {'fecha': '17/01/1958', 'dato': '0.01250'},\n",
       "     {'fecha': '20/01/1958', 'dato': '0.01250'},\n",
       "     {'fecha': '21/01/1958', 'dato': '0.01250'},\n",
       "     {'fecha': '22/01/1958', 'dato': '0.01250'},\n",
       "     {'fecha': '23/01/1958', 'dato': '0.01250'},\n",
       "     {'fecha': '24/01/1958', 'dato': '0.01250'},\n",
       "     {'fecha': '27/01/1958', 'dato': '0.01250'},\n",
       "     {'fecha': '28/01/1958', 'dato': '0.01250'},\n",
       "     {'fecha': '29/01/1958', 'dato': '0.01250'},\n",
       "     {'fecha': '30/01/1958', 'dato': '0.01250'},\n",
       "     {'fecha': '31/01/1958', 'dato': '0.01250'},\n",
       "     {'fecha': '03/02/1958', 'dato': '0.01250'},\n",
       "     {'fecha': '04/02/1958', 'dato': '0.01250'},\n",
       "     {'fecha': '05/02/1958', 'dato': '0.01250'},\n",
       "     {'fecha': '06/02/1958', 'dato': '0.01250'},\n",
       "     {'fecha': '07/02/1958', 'dato': '0.01250'},\n",
       "     {'fecha': '10/02/1958', 'dato': '0.01250'},\n",
       "     {'fecha': '11/02/1958', 'dato': '0.01250'},\n",
       "     {'fecha': '12/02/1958', 'dato': '0.01250'},\n",
       "     {'fecha': '13/02/1958', 'dato': '0.01250'},\n",
       "     {'fecha': '14/02/1958', 'dato': '0.01250'},\n",
       "     ...]}]}}"
      ]
     },
     "execution_count": 31,
     "metadata": {},
     "output_type": "execute_result"
    }
   ],
   "source": [
    "datos"
   ]
  },
  {
   "cell_type": "code",
   "execution_count": 32,
   "id": "94303d73-4fbf-485f-a4cc-d408fcb4180c",
   "metadata": {
    "scrolled": true
   },
   "outputs": [],
   "source": [
    "fix = datos['bmx']['series'][0]['datos']"
   ]
  },
  {
   "cell_type": "code",
   "execution_count": 33,
   "id": "eceaeca8-8edd-4044-af8e-3c42419cdd9e",
   "metadata": {},
   "outputs": [],
   "source": [
    "df = pd.DataFrame(fix)"
   ]
  },
  {
   "cell_type": "code",
   "execution_count": 34,
   "id": "babd3931-458a-401f-a6e8-f030859016f8",
   "metadata": {},
   "outputs": [
    {
     "data": {
      "text/html": [
       "<div>\n",
       "<style scoped>\n",
       "    .dataframe tbody tr th:only-of-type {\n",
       "        vertical-align: middle;\n",
       "    }\n",
       "\n",
       "    .dataframe tbody tr th {\n",
       "        vertical-align: top;\n",
       "    }\n",
       "\n",
       "    .dataframe thead th {\n",
       "        text-align: right;\n",
       "    }\n",
       "</style>\n",
       "<table border=\"1\" class=\"dataframe\">\n",
       "  <thead>\n",
       "    <tr style=\"text-align: right;\">\n",
       "      <th></th>\n",
       "      <th>fecha</th>\n",
       "      <th>dato</th>\n",
       "    </tr>\n",
       "  </thead>\n",
       "  <tbody>\n",
       "    <tr>\n",
       "      <th>0</th>\n",
       "      <td>19/04/1954</td>\n",
       "      <td>0.01250</td>\n",
       "    </tr>\n",
       "    <tr>\n",
       "      <th>1</th>\n",
       "      <td>20/04/1954</td>\n",
       "      <td>0.01250</td>\n",
       "    </tr>\n",
       "    <tr>\n",
       "      <th>2</th>\n",
       "      <td>21/04/1954</td>\n",
       "      <td>0.01250</td>\n",
       "    </tr>\n",
       "    <tr>\n",
       "      <th>3</th>\n",
       "      <td>22/04/1954</td>\n",
       "      <td>0.01250</td>\n",
       "    </tr>\n",
       "    <tr>\n",
       "      <th>4</th>\n",
       "      <td>23/04/1954</td>\n",
       "      <td>0.01250</td>\n",
       "    </tr>\n",
       "    <tr>\n",
       "      <th>...</th>\n",
       "      <td>...</td>\n",
       "      <td>...</td>\n",
       "    </tr>\n",
       "    <tr>\n",
       "      <th>17901</th>\n",
       "      <td>07/10/2024</td>\n",
       "      <td>19.33880</td>\n",
       "    </tr>\n",
       "    <tr>\n",
       "      <th>17902</th>\n",
       "      <td>08/10/2024</td>\n",
       "      <td>19.35320</td>\n",
       "    </tr>\n",
       "    <tr>\n",
       "      <th>17903</th>\n",
       "      <td>09/10/2024</td>\n",
       "      <td>19.41750</td>\n",
       "    </tr>\n",
       "    <tr>\n",
       "      <th>17904</th>\n",
       "      <td>10/10/2024</td>\n",
       "      <td>19.51130</td>\n",
       "    </tr>\n",
       "    <tr>\n",
       "      <th>17905</th>\n",
       "      <td>11/10/2024</td>\n",
       "      <td>19.39830</td>\n",
       "    </tr>\n",
       "  </tbody>\n",
       "</table>\n",
       "<p>17906 rows × 2 columns</p>\n",
       "</div>"
      ],
      "text/plain": [
       "            fecha      dato\n",
       "0      19/04/1954   0.01250\n",
       "1      20/04/1954   0.01250\n",
       "2      21/04/1954   0.01250\n",
       "3      22/04/1954   0.01250\n",
       "4      23/04/1954   0.01250\n",
       "...           ...       ...\n",
       "17901  07/10/2024  19.33880\n",
       "17902  08/10/2024  19.35320\n",
       "17903  09/10/2024  19.41750\n",
       "17904  10/10/2024  19.51130\n",
       "17905  11/10/2024  19.39830\n",
       "\n",
       "[17906 rows x 2 columns]"
      ]
     },
     "execution_count": 34,
     "metadata": {},
     "output_type": "execute_result"
    }
   ],
   "source": [
    "df"
   ]
  },
  {
   "cell_type": "code",
   "execution_count": 35,
   "id": "09985094-f927-4c8d-8eda-714db421653b",
   "metadata": {},
   "outputs": [
    {
     "name": "stdout",
     "output_type": "stream",
     "text": [
      "<class 'pandas.core.frame.DataFrame'>\n",
      "RangeIndex: 17906 entries, 0 to 17905\n",
      "Data columns (total 2 columns):\n",
      " #   Column  Non-Null Count  Dtype \n",
      "---  ------  --------------  ----- \n",
      " 0   fecha   17906 non-null  object\n",
      " 1   dato    17906 non-null  object\n",
      "dtypes: object(2)\n",
      "memory usage: 279.9+ KB\n"
     ]
    }
   ],
   "source": [
    "df.info()"
   ]
  },
  {
   "cell_type": "markdown",
   "id": "30479008-f56a-4283-8f47-278fe41f28c9",
   "metadata": {
    "tags": []
   },
   "source": [
    "## <font color='#2B17B0'>RETORNOS</font>"
   ]
  },
  {
   "cell_type": "markdown",
   "id": "49db3f67-3045-40c3-ad2d-dcb04fdd6fec",
   "metadata": {},
   "source": [
    "La gráfica a continuación ilustra que ambos activos (activo naranja y el activo azul) poseen un Retorno Promedio de 1% tras 12 periodos. Basarse exclusivamente en Retornos Promedios podría conducirnos a conclusiones incorrectas. Esta visualización subraya la relevancia de entender cómo se comportan y se componen los retornos y sus respectivas volatilidades."
   ]
  },
  {
   "cell_type": "markdown",
   "id": "c4236156-cb32-4e39-9538-da3992f08342",
   "metadata": {},
   "source": [
    "![Image](https://dl.dropboxusercontent.com/scl/fi/b7wdy8tro4bplu2bp9fpj/retornos_mensuales.png?rlkey=7rt23vi2scfl0uz3tdwrnrx2f&dl=0)"
   ]
  },
  {
   "cell_type": "markdown",
   "id": "25f4a79f-fe6c-4115-bc90-d1bc6f2a631b",
   "metadata": {},
   "source": [
    "La gráfica siguiente refleja el saldo resultante de invertir $100 en cada uno de los activos azul y naranja"
   ]
  },
  {
   "cell_type": "markdown",
   "id": "17795b87-4abd-4310-b7bd-6652e9a0fea0",
   "metadata": {},
   "source": [
    "![Image](https://dl.dropboxusercontent.com/scl/fi/u0qygnfbfrh9cu1iscgdy/desempeno_inversion.png?rlkey=i1r2nl1xlqb306w27mlhvl3or&dl=0)"
   ]
  },
  {
   "cell_type": "markdown",
   "id": "870552db-4ca3-4cc8-a4ab-6b8bd9510d1b",
   "metadata": {},
   "source": [
    "Puntos clave de la gráfica \"Demepeño de invertir \\$100 en cada activo\":\n",
    "* *Inversión inicial de $100 en ambos activos*\n",
    "* _Evolución de los activos durante el año:_\n",
    "    * _Activo azul: crecimiento estable y positivo_\n",
    "    * _Activo naranja: comportamiento volátil_\n",
    "* _Activos con el mismo __retorno promedio mensual__ al final del periodo_\n",
    "* _No confundir retorno promedio con ganancias finales_"
   ]
  },
  {
   "cell_type": "markdown",
   "id": "f2db3847-7ef6-401a-82f9-c63ca3e821d4",
   "metadata": {},
   "source": [
    "> _El **retorno** es un indicador esencial que refleja la ganancia o pérdida en una inversión en comparación con la cantidad invertida inicialmente, y se expresa en forma de porcentaje o decimal. Este indicador nos permite evaluar el desempeño de las inversiones, comparar diversas opciones y tomar decisiones fundamentadas en la asignación de recursos. Alcanzar el equilibrio adecuado entre riesgo y retorno es crucial para desarrollar una estrategia de inversión exitosa._<br><br>\n",
    "> _**IMPORTANTE**: Por lo general los rendimientos **más altos**  conllevan **mayores riesgos**._<br>"
   ]
  },
  {
   "cell_type": "markdown",
   "id": "567561d6-4302-4d7c-a700-cfebbf1aac61",
   "metadata": {},
   "source": [
    "El cálculo del retorno aritmético es directo; se realiza restando el precio de compra al precio de venta y dividiendo el resultado entre el precio de compra. También se puede expresar como la relación entre el precio de venta y el de compra, menos uno."
   ]
  },
  {
   "cell_type": "markdown",
   "id": "d1062e76-ee8a-4d6b-aed1-f20ecc10f9f1",
   "metadata": {},
   "source": [
    "<br><br>\n",
    "$$\\Large R=\\frac{P_1-P_0}{P_0}\\rightarrow R=\\frac{P_1}{P_0}-1$$"
   ]
  },
  {
   "cell_type": "markdown",
   "id": "b7475387-efbd-4d2b-a83e-43f14b16d8e2",
   "metadata": {},
   "source": [
    "Al calcular el retorno de un activo que ha generado flujos adicionales de efectivo durante el periodo de tenencia, como los dividendos de una acción, estos flujos adicionales deben ser incluidos."
   ]
  },
  {
   "cell_type": "markdown",
   "id": "766ab4c0-e5a1-48cf-8fe0-b31de7045986",
   "metadata": {},
   "source": [
    "<br><br>\n",
    "$$\\Large R=\\frac{P_1+Div_{t_0, t_1}-P_0}{P_0}\\rightarrow R=\\frac{P_1+Div_{t_0, t_1}}{P_0}-1$$"
   ]
  },
  {
   "cell_type": "markdown",
   "id": "4ecc75ab-bbf7-4d94-8436-5e8bfd8c2d4c",
   "metadata": {},
   "source": [
    "### <font color='#2B17B0'>FLUJOS DE EFECTIVOS Y RETORNOS ENTRE MULTIPLES PERIODOS</font>"
   ]
  },
  {
   "cell_type": "markdown",
   "id": "d8635b14-42e6-4421-9814-88e900639dde",
   "metadata": {
    "tags": []
   },
   "source": [
    "### Flujos de efectivo"
   ]
  },
  {
   "cell_type": "markdown",
   "id": "ab3595e5-6701-44e5-b0ea-2345ddcafb5c",
   "metadata": {},
   "source": [
    "> _Los flujos de efectivo representan el movimiento de dinero que se recibe o se gasta a lo largo de un período determinado. Estos flujos pueden ser entrantes (dinero recibido) o salientes (dinero gastado), y su ocurrencia puede ser regular o esporádica._\n",
    "<br><br>\n",
    "> _Visualizar el flujo de efectivo en un gráfico facilita la comprensión de los datos financieros complejos, mejorando así la toma de decisiones. Los gráficos muestran la dirección de los flujos (entrantes o salientes), las cantidades de dinero, el número de períodos y la frecuencia con la que ocurren._"
   ]
  },
  {
   "cell_type": "markdown",
   "id": "2af393f4-f23a-4713-b28b-1e502efe18fb",
   "metadata": {},
   "source": [
    "Supongamos que contamos con tres flujos de ingresos positivos de 140, 189, y 195 para los periodos $t_0$, $t_1$ y $t_2$ respectivamente.  Podemos representar estos flujos gráficamente de la siguiente forma:"
   ]
  },
  {
   "cell_type": "markdown",
   "id": "d60bb661-bde5-42ef-8c80-c7fda8090bbe",
   "metadata": {},
   "source": [
    "![Image](https://dl.dropboxusercontent.com/scl/fi/k4vrvw71s9kw5j16hzq17/flujos_periodo.png?rlkey=yu3c96xo5x3izv0sno4wi4h7n&dl=0)"
   ]
  },
  {
   "cell_type": "markdown",
   "id": "b50defa2-0607-4d36-8c35-023ed8f1cc83",
   "metadata": {},
   "source": [
    "Los ingresos o flujos positivos se representan en la parte superior de cada periodo, mientras que los flujos negativos o egresos se expresan en la parte inferior.<br><br>"
   ]
  },
  {
   "cell_type": "markdown",
   "id": "822f5315-5d97-40b0-98ea-4415618f5d8f",
   "metadata": {
    "tags": []
   },
   "source": [
    "### Calcular el retorno de los flujos de $t_0$ a $t_1$ y de $t_1$ a $t_2$"
   ]
  },
  {
   "cell_type": "markdown",
   "id": "70cf813a-5d7e-4980-a871-e900fd2fdc4f",
   "metadata": {},
   "source": [
    "Para determinar el retorno de estos flujos, procederemos paso a paso. A modo de ejemplo, calcularemos inicialmente los retornos entre los periodos de $t_0$ a $t_1$ y de $t_1$ a $t_2$"
   ]
  },
  {
   "cell_type": "markdown",
   "id": "15930682-511a-4610-b94b-f36cb4a9116d",
   "metadata": {},
   "source": [
    "![Image](https://dl.dropboxusercontent.com/scl/fi/7ccrpxhi9vqt1mfcpfbuu/retorno_periodo.png?rlkey=r5c8wno09mxna74q918m46mwl&dl=0)"
   ]
  },
  {
   "cell_type": "markdown",
   "id": "845fae1e-8cc3-49e8-94ec-15624e9a81b7",
   "metadata": {},
   "source": [
    "$\\large R_{0,1} = \\frac{189}{140} - 1$"
   ]
  },
  {
   "cell_type": "code",
   "execution_count": 36,
   "id": "6df68d83-8060-4121-a1cb-e782e4d5e9bd",
   "metadata": {},
   "outputs": [
    {
     "data": {
      "text/plain": [
       "0.3500000000000001"
      ]
     },
     "execution_count": 36,
     "metadata": {},
     "output_type": "execute_result"
    }
   ],
   "source": [
    "189/140 - 1"
   ]
  },
  {
   "cell_type": "markdown",
   "id": "8df07244-5f2f-4e79-8eb4-ecb22d1ca4cc",
   "metadata": {},
   "source": [
    "$\\large R_{1,2} = \\frac{195}{189} - 1$"
   ]
  },
  {
   "cell_type": "code",
   "execution_count": null,
   "id": "4c882aa0-25c0-46a2-9c14-a9aba588c5f6",
   "metadata": {},
   "outputs": [],
   "source": []
  },
  {
   "cell_type": "markdown",
   "id": "7a7f912c-29db-428b-a1bd-d0e5a6d272a2",
   "metadata": {
    "tags": []
   },
   "source": [
    "### Calcular el retorno múltiple o compuesto de $t_0$ a $t_2$"
   ]
  },
  {
   "cell_type": "markdown",
   "id": "adee56bf-5b99-49a6-929d-3e6fc99ce02b",
   "metadata": {
    "tags": []
   },
   "source": [
    "> *El retorno de múltiples periodos es la medida acumulativa de la ganancia o pérdida de una inversión a lo largo de varios intervalos de tiempo consecutivos, reflejando el efecto compuesto de los retornos en cada periodo.*\n",
    "\n",
    "Ya sabemos los retornos de $t_0$ a $t_1$ y de $t_1$ a $t_2$.  Ahora el reto es calcular el retorno de los multiples períodos!"
   ]
  },
  {
   "cell_type": "markdown",
   "id": "e601a1f4-49f1-4858-9e99-4375766f666a",
   "metadata": {},
   "source": [
    "![Image](https://dl.dropboxusercontent.com/scl/fi/89iafhshon8fng5415kci/retorno_multiples_periodos.png?rlkey=d6wluqutujqsl1wj24gjdkg3f&dl=0)"
   ]
  },
  {
   "cell_type": "markdown",
   "id": "f02eb23f-6a43-42df-8ddc-fe4c5279c6d8",
   "metadata": {},
   "source": [
    "#### Cálculo intuitivo"
   ]
  },
  {
   "cell_type": "markdown",
   "id": "6679d7f6-53bb-4e52-bdfd-7c4c9f155be8",
   "metadata": {},
   "source": [
    "Quizá una manera intuitiva de calcular el retorno de los múltiples períodos sería calcular el retorno entre $t_0$ y $t_2$:\n",
    "\n",
    "$\\large R_{0,2}=\\frac{195}{140}-1$<br><br>"
   ]
  },
  {
   "cell_type": "code",
   "execution_count": 37,
   "id": "c325f874-097d-4913-8e94-6a74ea9cdc61",
   "metadata": {},
   "outputs": [
    {
     "data": {
      "text/plain": [
       "0.3928571428571428"
      ]
     },
     "execution_count": 37,
     "metadata": {},
     "output_type": "execute_result"
    }
   ],
   "source": [
    "195/140 - 1"
   ]
  },
  {
   "cell_type": "markdown",
   "id": "744ad766-b4cb-4321-a912-0615558b7f80",
   "metadata": {},
   "source": [
    "Y hasta podemos comprobarlo:"
   ]
  },
  {
   "cell_type": "code",
   "execution_count": null,
   "id": "970e6c59-8f6c-4c20-9bfc-b3b058a6597d",
   "metadata": {},
   "outputs": [],
   "source": []
  },
  {
   "cell_type": "markdown",
   "id": "3b332b8c-3d40-4058-b72d-030d1f4f8921",
   "metadata": {},
   "source": [
    "*__Sin embargo__*, esto no refleja el retorno compuesto. El retorno compuesto se calcula a partir de los retornos intermedios o, en otras palabras, utilizando los retornos entre periodos. Este método considera el efecto de la reinversión de los retornos obtenidos en cada periodo, ofreciendo una visión más exacta del rendimiento total de una inversión a lo largo del tiempo, sobre todo cuando los rendimientos fluctúan.\n",
    "\n",
    "Calcular el interés compuesto también es muy sencillo:<br>\n",
    "$\\large R_{t_0,t_2}=(1+R_{t_0,t_1})(1+R_{t_1,t_2})-1$\n",
    "<br><br>\n",
    "$\\large R_{t_0,t_n}=(1+R_{t_0,t_1})(1+R_{t_1,t_2}) \\ldots (1+R_{t_{n-1},t_n})-1\\text{, donde } t_n \\text{repesenta el tiempo en el periodo \"n\"}$ <br><br>\n",
    "\n",
    "Recordemos los retornos $R_{0,1}$ y $R_{1,2}$"
   ]
  },
  {
   "cell_type": "code",
   "execution_count": 39,
   "id": "f5aed936-8733-4bbd-b7aa-81e748d345f3",
   "metadata": {},
   "outputs": [
    {
     "data": {
      "text/plain": [
       "0.3932000000000002"
      ]
     },
     "execution_count": 39,
     "metadata": {},
     "output_type": "execute_result"
    }
   ],
   "source": [
    "((1+.35) * (1 + 0.032)) - 1"
   ]
  },
  {
   "cell_type": "markdown",
   "id": "d024a09f-5b00-4cb1-9a91-f64d19e194b9",
   "metadata": {},
   "source": [
    "El retorno compuesto de $t_0$ a $t_2$ lo calculamos de la siguinete manera:<br>\n",
    "$R_{0,2} = (1+0.35) * (1+0.0317) - 1$"
   ]
  },
  {
   "cell_type": "code",
   "execution_count": null,
   "id": "816607fe-36e6-4545-989d-3c88ba8a1fc8",
   "metadata": {},
   "outputs": [],
   "source": []
  },
  {
   "cell_type": "markdown",
   "id": "e03dfc27-3a38-4b95-b91d-a9ff87bb3b48",
   "metadata": {
    "tags": []
   },
   "source": [
    "### Retorno Anualizado"
   ]
  },
  {
   "cell_type": "markdown",
   "id": "ec0ef3d0-ccfe-4f9d-941b-34649cd5391e",
   "metadata": {},
   "source": [
    "Anualizar retornos es fundamental para realizar comparaciones exactas y equitativas de la rentabilidad de distintas inversiones, especialmente cuando los periodos de inversión difieren. Convertir todos los retornos a una base anual nos permite realizar comparaciones equitativas entre diferentes escalas temporales de inversión.\n",
    "\n",
    "Por ejemplo, al comparar una inversión que ha rendido un 6% en 6 meses con una que ha rendido un 10% en un año, a primera vista, la segunda podría parecer más rentable. No obstante, al anualizar los retornos, podríamos encontrar que la primera inversión, si se mantiene durante un año completo, ofrecería un rendimiento superior, facilitando así una evaluación más precisa y justa."
   ]
  },
  {
   "cell_type": "markdown",
   "id": "f6a5b43f-7880-4f2b-9e68-35c07db3e0bd",
   "metadata": {},
   "source": [
    "$$\\Large R_{a}=(1+R_{P})^{\\frac{PeriodosPorAño}{NúmeroDePeriodos}}-1$$\n",
    "Donde<br>\n",
    "* $R_a$: Retorno anualizado<br>\n",
    "* $R_P$: Retorno del periodos<br>\n",
    "* $PeriodosPorAño$:  Números de periodos presentes en un año<br>\n",
    "* $NúmeroDePeriodos$:  Números de periodos que representa el $R_p$"
   ]
  },
  {
   "cell_type": "markdown",
   "id": "e0b16f13-4d06-420b-bf82-f48b23c93255",
   "metadata": {},
   "source": [
    "|Frecuencia|Fórmula|\n",
    "|:-:|:-:|\n",
    "|Diaria*|$$(1+R_p)^{252}-1$$|\n",
    "|Mensual|$$(1+R_p)^{12}-1$$|\n",
    "|Bimestral|$$(1+R_p)^{6}-1$$|\n",
    "|Trimestral|$$(1+R_p)^{4}-1$$|\n",
    "|Semestral|$$(1+R_p)^{2}-1$$|\n",
    "\n",
    "* _NOTA_:  Se utilizan 252 días para incluir solo los días en que los mercados están operativos, excluyendo fines de semana y días festivos. Sin embargo, en mercados que operan continuamente como los de divisas (FX) o criptomonedas, se emplean 365 días, dado que estos mercados funcionan 24/7."
   ]
  },
  {
   "cell_type": "markdown",
   "id": "e69b65bc-7b04-4dd7-8798-f6032ca094c6",
   "metadata": {},
   "source": [
    "#### Anualizar retorno diario"
   ]
  },
  {
   "cell_type": "code",
   "execution_count": null,
   "id": "9f459499-dc39-4590-8449-c2cababcf23e",
   "metadata": {},
   "outputs": [],
   "source": []
  },
  {
   "cell_type": "markdown",
   "id": "789c4bfa-d110-4881-b630-1e3fb77c1faa",
   "metadata": {},
   "source": [
    "#### Anualizar retorno mensual"
   ]
  },
  {
   "cell_type": "code",
   "execution_count": null,
   "id": "4b42d470-a372-4c46-9cf5-f78d871a94fe",
   "metadata": {},
   "outputs": [],
   "source": []
  },
  {
   "cell_type": "markdown",
   "id": "9bc9a788-4f6a-4473-a864-25210b526fca",
   "metadata": {},
   "source": [
    "#### Anualizar retorno bimestral"
   ]
  },
  {
   "cell_type": "code",
   "execution_count": null,
   "id": "23ccf78f-f940-4288-8cc9-7bb2fa6c8c31",
   "metadata": {},
   "outputs": [],
   "source": []
  },
  {
   "cell_type": "markdown",
   "id": "77869d48-d885-4041-9c8e-08f8bd89564a",
   "metadata": {},
   "source": [
    "#### Anualizar retorno trimestral"
   ]
  },
  {
   "cell_type": "code",
   "execution_count": null,
   "id": "cfa6ccc9-44c8-4801-a09e-6ec34030cc96",
   "metadata": {},
   "outputs": [],
   "source": []
  },
  {
   "cell_type": "markdown",
   "id": "cd39bb6b-d536-425a-930f-54281f2be89f",
   "metadata": {},
   "source": [
    "#### Anualizar retorno semestral"
   ]
  },
  {
   "cell_type": "code",
   "execution_count": null,
   "id": "07528496-3a31-4b22-af60-74ec662bccb5",
   "metadata": {},
   "outputs": [],
   "source": []
  },
  {
   "cell_type": "markdown",
   "id": "f6555555-d490-4655-9c83-60910109f07a",
   "metadata": {},
   "source": [
    "## <font color='#2B17B0'>RIESGO</font>"
   ]
  },
  {
   "cell_type": "markdown",
   "id": "a0943c6c-848e-4415-8262-67ab744db76c",
   "metadata": {},
   "source": [
    "En finanzas, definimos el riesgo en series de tiempo y retornos, principalmente, a través de la Desviación Estándar, que sirve como medida de la volatilidad o variabilidad de una serie de datos. En el contexto de los retornos financieros, la Desviación Estándar cuantifica la dispersión de los retornos de una inversión respecto a su media, ofreciendo una percepción clara de la estabilidad o variabilidad en los retornos a lo largo del tiempo.\n",
    "\n",
    "Cuando los retornos de una inversión presentan una Desviación Estándar alta, se interpreta como una inversión de alto riesgo, ya que los retornos pueden variar significativamente, siendo impredecibles y oscilando ampliamente entre valores positivos y negativos. Por el contrario, una Desviación Estándar baja indica un menor riesgo, ya que los retornos tienden a ser más estables y predecibles, fluctuando en menor medida alrededor de la media."
   ]
  },
  {
   "cell_type": "markdown",
   "id": "c5d48062-c97d-49db-b358-ce7120689a38",
   "metadata": {},
   "source": [
    "### Varianza"
   ]
  },
  {
   "cell_type": "markdown",
   "id": "4a546492-73dd-47ca-8c82-e307877c4219",
   "metadata": {},
   "source": [
    "> \"_La varianza es una medida estadística cuantitativa que representa la dispersión o variabilidad de los valores en un conjunto de datos._\""
   ]
  },
  {
   "cell_type": "markdown",
   "id": "94e12298-fcfd-4bdb-9d66-7b53973db2af",
   "metadata": {},
   "source": [
    "$$\\sigma_{R}^{2} =  \\frac{1}{N}*\\sum_{i=1}^{N}{(R - \\bar{R})^2}$$\n",
    "Donde $\\bar{R}$ es el promedio aritmérico de los retornos"
   ]
  },
  {
   "cell_type": "markdown",
   "id": "36ea432e-b916-4f04-a4fe-43235779f2c4",
   "metadata": {},
   "source": [
    "En otras palabras, la varianza es _\"el promedio del cuadrado de las desviaciones de la media\"_.\n",
    "Pasos:\n",
    "1. Descontar la media a cada retorno de la serie\n",
    "1. Elevar al cuadrado el retorno descontado\n",
    "1. Promediar todos los retornos descontados elevados al cuadrado"
   ]
  },
  {
   "cell_type": "markdown",
   "id": "93f23462-343e-40f4-a004-d4dfc0a4c330",
   "metadata": {},
   "source": [
    "### Desviación Estándar"
   ]
  },
  {
   "cell_type": "markdown",
   "id": "036882ac-3730-4099-9c1a-ad19ac3d5c75",
   "metadata": {
    "tags": []
   },
   "source": [
    "Para medir la volatilidad eliminamos los valores elevados al cuadrado que representa la varianza, calculando la desviación estándar."
   ]
  },
  {
   "cell_type": "markdown",
   "id": "c98d6cad-af83-4b61-8a45-2bee3845e2c2",
   "metadata": {},
   "source": [
    "$$\\sigma_{R} =  \\sqrt{\\sigma_{R}^2}=\\sqrt{\\frac{1}{N}*\\sum_{i=1}^{N}{(R - \\bar{R})^2}}$$"
   ]
  },
  {
   "cell_type": "markdown",
   "id": "ab74f00b-a201-41b5-9e84-2c32def27f3c",
   "metadata": {},
   "source": [
    "### Anualizar volatilidad"
   ]
  },
  {
   "cell_type": "markdown",
   "id": "5909c95c-f2cf-42c4-8a12-9cf2f8b5014f",
   "metadata": {},
   "source": [
    "#### Pasos para anualizar volatilidad"
   ]
  },
  {
   "cell_type": "markdown",
   "id": "3ff9bc19-c867-4837-99df-fc1ae5dab8d9",
   "metadata": {},
   "source": [
    "1. Identificar el número de periodos en un año calendario\n",
    "    1. _**NOTA:  Para el caso de retornos diarios, se considera que el año calendario es de 252 días en caso de que operen en mercados como las Bolsas de Valores**_\n",
    "1. Multiplicar la raiz cuadrada del número de periodos por su volatilidad correspondiente"
   ]
  },
  {
   "cell_type": "markdown",
   "id": "6885540a-a53f-4fff-a36c-da4bc74af386",
   "metadata": {},
   "source": [
    "$$\\large\\sigma{2}_{anualizada}=\\sigma{2}_{p}*p$$\n",
    "$$\\large\\sigma_{anualizada}=\\sigma_{p}*\\sqrt{p}$$"
   ]
  },
  {
   "cell_type": "markdown",
   "id": "94c8bcc7-2812-434a-8ed8-4c8bb08d64c3",
   "metadata": {},
   "source": [
    "#### Portafolios de Alta y Baja Capitalización de Mercado"
   ]
  },
  {
   "cell_type": "markdown",
   "id": "3c841406-2f8f-4569-925a-61166faa1806",
   "metadata": {},
   "source": [
    "La base de datos del Dr. Kenneth French proporciona una amplia gama de datos sobre los retornos de los portafolios de acciones, categorizados por diferentes criterios, uno de los cuales es el tamaño de capitalización del mercado (\"market cap\"). Los datos se estructuran para facilitar la investigación en finanzas empíricas, especialmente en áreas relacionadas con la valuación de activos.\n",
    "En particular, los portafolios divididos por tamaño, o \"market cap\", normalmente incluyen:\n",
    "\n",
    "* Large Cap: Empresas con alta capitalización de mercado. Estas son, generalmente, empresas grandes y bien establecidas\n",
    "* Small Cap: Empresas con baja capitalización de mercado, las cuales son usualmente empresas más pequeñas o nuevas\n",
    "\n",
    "De la página del Dr. Kennet French, vamos a descargar un archivo que contiene los retornos mensuales de diferentes portafolios construidos en función al tamaño de las empresas.<br>\n",
    "https://mba.tuck.dartmouth.edu/pages/faculty/ken.french/"
   ]
  },
  {
   "cell_type": "markdown",
   "id": "0eb3d9c8-c181-4430-8ad8-8a335b2ad8e1",
   "metadata": {},
   "source": [
    "##### Importar librerías"
   ]
  },
  {
   "cell_type": "code",
   "execution_count": 1,
   "id": "55bcb126-f7c8-471d-8245-93b0e368eb21",
   "metadata": {
    "tags": []
   },
   "outputs": [],
   "source": [
    "import matplotlib.pyplot as plt\n",
    "import seaborn as sns #librería para formatear/editar gráficas\n",
    "import pandas as pd\n",
    "import numpy as np\n",
    "\n",
    "sns.set_theme() "
   ]
  },
  {
   "cell_type": "markdown",
   "id": "d0bb89ee-2581-48ce-ac20-6339543a33f3",
   "metadata": {},
   "source": [
    "##### Leer datos y guardarlos en un DataFrame de pandas"
   ]
  },
  {
   "cell_type": "code",
   "execution_count": 3,
   "id": "031c735e-ba4d-4e01-b8b1-b1df2bd05dbe",
   "metadata": {
    "tags": []
   },
   "outputs": [],
   "source": [
    "url = 'https://mba.tuck.dartmouth.edu/pages/faculty/ken.french/ftp/Portfolios_Formed_on_ME_CSV.zip'"
   ]
  },
  {
   "cell_type": "code",
   "execution_count": 23,
   "id": "c908e763-6c76-4726-b672-70e693df0e21",
   "metadata": {
    "tags": []
   },
   "outputs": [],
   "source": [
    "df = pd.read_csv(url, compression='zip', skiprows=1194, nrows=1178)"
   ]
  },
  {
   "cell_type": "code",
   "execution_count": 11,
   "id": "8d60c77f-f3b8-4ff9-8b82-412e1789099d",
   "metadata": {
    "tags": []
   },
   "outputs": [
    {
     "name": "stdout",
     "output_type": "stream",
     "text": [
      "<class 'pandas.core.frame.DataFrame'>\n",
      "RangeIndex: 1178 entries, 0 to 1177\n",
      "Data columns (total 20 columns):\n",
      " #   Column      Non-Null Count  Dtype  \n",
      "---  ------      --------------  -----  \n",
      " 0   Unnamed: 0  1178 non-null   int64  \n",
      " 1   <= 0        1178 non-null   float64\n",
      " 2   Lo 30       1178 non-null   float64\n",
      " 3   Med 40      1178 non-null   float64\n",
      " 4   Hi 30       1178 non-null   float64\n",
      " 5   Lo 20       1178 non-null   float64\n",
      " 6   Qnt 2       1178 non-null   float64\n",
      " 7   Qnt 3       1178 non-null   float64\n",
      " 8   Qnt 4       1178 non-null   float64\n",
      " 9   Hi 20       1178 non-null   float64\n",
      " 10  Lo 10       1178 non-null   float64\n",
      " 11  Dec 2       1178 non-null   float64\n",
      " 12  Dec 3       1178 non-null   float64\n",
      " 13  Dec 4       1178 non-null   float64\n",
      " 14  Dec 5       1178 non-null   float64\n",
      " 15  Dec 6       1178 non-null   float64\n",
      " 16  Dec 7       1178 non-null   float64\n",
      " 17  Dec 8       1178 non-null   float64\n",
      " 18  Dec 9       1178 non-null   float64\n",
      " 19  Hi 10       1178 non-null   float64\n",
      "dtypes: float64(19), int64(1)\n",
      "memory usage: 184.2 KB\n"
     ]
    }
   ],
   "source": [
    "df.info()"
   ]
  },
  {
   "cell_type": "code",
   "execution_count": 24,
   "id": "8b969cc4-8a4f-4914-ba15-e61ad3a94f31",
   "metadata": {},
   "outputs": [
    {
     "data": {
      "text/html": [
       "<div>\n",
       "<style scoped>\n",
       "    .dataframe tbody tr th:only-of-type {\n",
       "        vertical-align: middle;\n",
       "    }\n",
       "\n",
       "    .dataframe tbody tr th {\n",
       "        vertical-align: top;\n",
       "    }\n",
       "\n",
       "    .dataframe thead th {\n",
       "        text-align: right;\n",
       "    }\n",
       "</style>\n",
       "<table border=\"1\" class=\"dataframe\">\n",
       "  <thead>\n",
       "    <tr style=\"text-align: right;\">\n",
       "      <th></th>\n",
       "      <th>Unnamed: 0</th>\n",
       "      <th>&lt;= 0</th>\n",
       "      <th>Lo 30</th>\n",
       "      <th>Med 40</th>\n",
       "      <th>Hi 30</th>\n",
       "      <th>Lo 20</th>\n",
       "      <th>Qnt 2</th>\n",
       "      <th>Qnt 3</th>\n",
       "      <th>Qnt 4</th>\n",
       "      <th>Hi 20</th>\n",
       "      <th>Lo 10</th>\n",
       "      <th>Dec 2</th>\n",
       "      <th>Dec 3</th>\n",
       "      <th>Dec 4</th>\n",
       "      <th>Dec 5</th>\n",
       "      <th>Dec 6</th>\n",
       "      <th>Dec 7</th>\n",
       "      <th>Dec 8</th>\n",
       "      <th>Dec 9</th>\n",
       "      <th>Hi 10</th>\n",
       "    </tr>\n",
       "  </thead>\n",
       "  <tbody>\n",
       "    <tr>\n",
       "      <th>0</th>\n",
       "      <td>192607</td>\n",
       "      <td>-99.99</td>\n",
       "      <td>-0.43</td>\n",
       "      <td>1.45</td>\n",
       "      <td>2.68</td>\n",
       "      <td>-0.57</td>\n",
       "      <td>0.37</td>\n",
       "      <td>1.65</td>\n",
       "      <td>1.50</td>\n",
       "      <td>3.33</td>\n",
       "      <td>-1.42</td>\n",
       "      <td>0.29</td>\n",
       "      <td>-0.15</td>\n",
       "      <td>0.88</td>\n",
       "      <td>1.45</td>\n",
       "      <td>1.85</td>\n",
       "      <td>1.63</td>\n",
       "      <td>1.38</td>\n",
       "      <td>3.38</td>\n",
       "      <td>3.29</td>\n",
       "    </tr>\n",
       "    <tr>\n",
       "      <th>1</th>\n",
       "      <td>192608</td>\n",
       "      <td>-99.99</td>\n",
       "      <td>3.74</td>\n",
       "      <td>3.03</td>\n",
       "      <td>2.09</td>\n",
       "      <td>3.60</td>\n",
       "      <td>3.64</td>\n",
       "      <td>3.66</td>\n",
       "      <td>1.58</td>\n",
       "      <td>2.33</td>\n",
       "      <td>4.61</td>\n",
       "      <td>2.59</td>\n",
       "      <td>4.03</td>\n",
       "      <td>3.24</td>\n",
       "      <td>2.66</td>\n",
       "      <td>4.67</td>\n",
       "      <td>1.54</td>\n",
       "      <td>1.63</td>\n",
       "      <td>0.98</td>\n",
       "      <td>3.70</td>\n",
       "    </tr>\n",
       "    <tr>\n",
       "      <th>2</th>\n",
       "      <td>192609</td>\n",
       "      <td>-99.99</td>\n",
       "      <td>-1.07</td>\n",
       "      <td>-0.59</td>\n",
       "      <td>0.16</td>\n",
       "      <td>-0.48</td>\n",
       "      <td>-1.55</td>\n",
       "      <td>0.03</td>\n",
       "      <td>-0.47</td>\n",
       "      <td>-0.09</td>\n",
       "      <td>0.91</td>\n",
       "      <td>-1.87</td>\n",
       "      <td>-2.27</td>\n",
       "      <td>-0.84</td>\n",
       "      <td>0.12</td>\n",
       "      <td>-0.07</td>\n",
       "      <td>-1.58</td>\n",
       "      <td>0.64</td>\n",
       "      <td>-0.86</td>\n",
       "      <td>0.67</td>\n",
       "    </tr>\n",
       "    <tr>\n",
       "      <th>3</th>\n",
       "      <td>192610</td>\n",
       "      <td>-99.99</td>\n",
       "      <td>-3.29</td>\n",
       "      <td>-3.56</td>\n",
       "      <td>-3.06</td>\n",
       "      <td>-3.25</td>\n",
       "      <td>-4.18</td>\n",
       "      <td>-2.90</td>\n",
       "      <td>-3.36</td>\n",
       "      <td>-2.95</td>\n",
       "      <td>-4.72</td>\n",
       "      <td>-1.77</td>\n",
       "      <td>-3.36</td>\n",
       "      <td>-5.01</td>\n",
       "      <td>-3.09</td>\n",
       "      <td>-2.71</td>\n",
       "      <td>-3.45</td>\n",
       "      <td>-3.27</td>\n",
       "      <td>-3.47</td>\n",
       "      <td>-2.43</td>\n",
       "    </tr>\n",
       "    <tr>\n",
       "      <th>4</th>\n",
       "      <td>192611</td>\n",
       "      <td>-99.99</td>\n",
       "      <td>-0.46</td>\n",
       "      <td>3.83</td>\n",
       "      <td>3.09</td>\n",
       "      <td>-0.54</td>\n",
       "      <td>2.25</td>\n",
       "      <td>3.37</td>\n",
       "      <td>3.37</td>\n",
       "      <td>3.16</td>\n",
       "      <td>-0.77</td>\n",
       "      <td>-0.32</td>\n",
       "      <td>-0.29</td>\n",
       "      <td>4.79</td>\n",
       "      <td>3.17</td>\n",
       "      <td>3.58</td>\n",
       "      <td>3.80</td>\n",
       "      <td>2.95</td>\n",
       "      <td>3.61</td>\n",
       "      <td>2.70</td>\n",
       "    </tr>\n",
       "    <tr>\n",
       "      <th>...</th>\n",
       "      <td>...</td>\n",
       "      <td>...</td>\n",
       "      <td>...</td>\n",
       "      <td>...</td>\n",
       "      <td>...</td>\n",
       "      <td>...</td>\n",
       "      <td>...</td>\n",
       "      <td>...</td>\n",
       "      <td>...</td>\n",
       "      <td>...</td>\n",
       "      <td>...</td>\n",
       "      <td>...</td>\n",
       "      <td>...</td>\n",
       "      <td>...</td>\n",
       "      <td>...</td>\n",
       "      <td>...</td>\n",
       "      <td>...</td>\n",
       "      <td>...</td>\n",
       "      <td>...</td>\n",
       "      <td>...</td>\n",
       "    </tr>\n",
       "    <tr>\n",
       "      <th>1173</th>\n",
       "      <td>202404</td>\n",
       "      <td>-99.99</td>\n",
       "      <td>-7.40</td>\n",
       "      <td>-7.16</td>\n",
       "      <td>-5.06</td>\n",
       "      <td>-7.37</td>\n",
       "      <td>-7.83</td>\n",
       "      <td>-6.80</td>\n",
       "      <td>-6.43</td>\n",
       "      <td>-4.38</td>\n",
       "      <td>-6.90</td>\n",
       "      <td>-8.92</td>\n",
       "      <td>-7.60</td>\n",
       "      <td>-8.07</td>\n",
       "      <td>-7.12</td>\n",
       "      <td>-6.40</td>\n",
       "      <td>-6.59</td>\n",
       "      <td>-6.28</td>\n",
       "      <td>-4.78</td>\n",
       "      <td>-3.99</td>\n",
       "    </tr>\n",
       "    <tr>\n",
       "      <th>1174</th>\n",
       "      <td>202405</td>\n",
       "      <td>-99.99</td>\n",
       "      <td>5.03</td>\n",
       "      <td>5.07</td>\n",
       "      <td>2.15</td>\n",
       "      <td>4.96</td>\n",
       "      <td>5.28</td>\n",
       "      <td>5.38</td>\n",
       "      <td>3.19</td>\n",
       "      <td>2.15</td>\n",
       "      <td>4.31</td>\n",
       "      <td>7.09</td>\n",
       "      <td>5.48</td>\n",
       "      <td>5.06</td>\n",
       "      <td>5.76</td>\n",
       "      <td>4.90</td>\n",
       "      <td>4.33</td>\n",
       "      <td>2.15</td>\n",
       "      <td>1.62</td>\n",
       "      <td>2.65</td>\n",
       "    </tr>\n",
       "    <tr>\n",
       "      <th>1175</th>\n",
       "      <td>202406</td>\n",
       "      <td>-99.99</td>\n",
       "      <td>-4.62</td>\n",
       "      <td>-1.46</td>\n",
       "      <td>-0.36</td>\n",
       "      <td>-4.86</td>\n",
       "      <td>-2.66</td>\n",
       "      <td>-0.90</td>\n",
       "      <td>-1.76</td>\n",
       "      <td>0.42</td>\n",
       "      <td>-5.89</td>\n",
       "      <td>-1.53</td>\n",
       "      <td>-3.18</td>\n",
       "      <td>-2.10</td>\n",
       "      <td>-0.95</td>\n",
       "      <td>-0.84</td>\n",
       "      <td>-1.77</td>\n",
       "      <td>-1.74</td>\n",
       "      <td>-0.68</td>\n",
       "      <td>1.47</td>\n",
       "    </tr>\n",
       "    <tr>\n",
       "      <th>1176</th>\n",
       "      <td>202407</td>\n",
       "      <td>-99.99</td>\n",
       "      <td>7.48</td>\n",
       "      <td>8.51</td>\n",
       "      <td>3.73</td>\n",
       "      <td>6.86</td>\n",
       "      <td>11.11</td>\n",
       "      <td>8.10</td>\n",
       "      <td>5.74</td>\n",
       "      <td>2.88</td>\n",
       "      <td>4.94</td>\n",
       "      <td>14.06</td>\n",
       "      <td>11.59</td>\n",
       "      <td>10.60</td>\n",
       "      <td>7.81</td>\n",
       "      <td>8.41</td>\n",
       "      <td>6.24</td>\n",
       "      <td>5.27</td>\n",
       "      <td>3.36</td>\n",
       "      <td>2.41</td>\n",
       "    </tr>\n",
       "    <tr>\n",
       "      <th>1177</th>\n",
       "      <td>202408</td>\n",
       "      <td>-99.99</td>\n",
       "      <td>-4.59</td>\n",
       "      <td>-0.49</td>\n",
       "      <td>2.21</td>\n",
       "      <td>-4.69</td>\n",
       "      <td>-2.18</td>\n",
       "      <td>-1.21</td>\n",
       "      <td>1.33</td>\n",
       "      <td>2.48</td>\n",
       "      <td>-5.01</td>\n",
       "      <td>-3.52</td>\n",
       "      <td>-3.95</td>\n",
       "      <td>-0.32</td>\n",
       "      <td>-1.35</td>\n",
       "      <td>-1.06</td>\n",
       "      <td>0.93</td>\n",
       "      <td>1.71</td>\n",
       "      <td>1.88</td>\n",
       "      <td>3.06</td>\n",
       "    </tr>\n",
       "  </tbody>\n",
       "</table>\n",
       "<p>1178 rows × 20 columns</p>\n",
       "</div>"
      ],
      "text/plain": [
       "      Unnamed: 0   <= 0  Lo 30  Med 40  Hi 30  Lo 20  Qnt 2  Qnt 3  Qnt 4  \\\n",
       "0         192607 -99.99  -0.43    1.45   2.68  -0.57   0.37   1.65   1.50   \n",
       "1         192608 -99.99   3.74    3.03   2.09   3.60   3.64   3.66   1.58   \n",
       "2         192609 -99.99  -1.07   -0.59   0.16  -0.48  -1.55   0.03  -0.47   \n",
       "3         192610 -99.99  -3.29   -3.56  -3.06  -3.25  -4.18  -2.90  -3.36   \n",
       "4         192611 -99.99  -0.46    3.83   3.09  -0.54   2.25   3.37   3.37   \n",
       "...          ...    ...    ...     ...    ...    ...    ...    ...    ...   \n",
       "1173      202404 -99.99  -7.40   -7.16  -5.06  -7.37  -7.83  -6.80  -6.43   \n",
       "1174      202405 -99.99   5.03    5.07   2.15   4.96   5.28   5.38   3.19   \n",
       "1175      202406 -99.99  -4.62   -1.46  -0.36  -4.86  -2.66  -0.90  -1.76   \n",
       "1176      202407 -99.99   7.48    8.51   3.73   6.86  11.11   8.10   5.74   \n",
       "1177      202408 -99.99  -4.59   -0.49   2.21  -4.69  -2.18  -1.21   1.33   \n",
       "\n",
       "      Hi 20  Lo 10  Dec 2  Dec 3  Dec 4  Dec 5  Dec 6  Dec 7  Dec 8  Dec 9  \\\n",
       "0      3.33  -1.42   0.29  -0.15   0.88   1.45   1.85   1.63   1.38   3.38   \n",
       "1      2.33   4.61   2.59   4.03   3.24   2.66   4.67   1.54   1.63   0.98   \n",
       "2     -0.09   0.91  -1.87  -2.27  -0.84   0.12  -0.07  -1.58   0.64  -0.86   \n",
       "3     -2.95  -4.72  -1.77  -3.36  -5.01  -3.09  -2.71  -3.45  -3.27  -3.47   \n",
       "4      3.16  -0.77  -0.32  -0.29   4.79   3.17   3.58   3.80   2.95   3.61   \n",
       "...     ...    ...    ...    ...    ...    ...    ...    ...    ...    ...   \n",
       "1173  -4.38  -6.90  -8.92  -7.60  -8.07  -7.12  -6.40  -6.59  -6.28  -4.78   \n",
       "1174   2.15   4.31   7.09   5.48   5.06   5.76   4.90   4.33   2.15   1.62   \n",
       "1175   0.42  -5.89  -1.53  -3.18  -2.10  -0.95  -0.84  -1.77  -1.74  -0.68   \n",
       "1176   2.88   4.94  14.06  11.59  10.60   7.81   8.41   6.24   5.27   3.36   \n",
       "1177   2.48  -5.01  -3.52  -3.95  -0.32  -1.35  -1.06   0.93   1.71   1.88   \n",
       "\n",
       "      Hi 10  \n",
       "0      3.29  \n",
       "1      3.70  \n",
       "2      0.67  \n",
       "3     -2.43  \n",
       "4      2.70  \n",
       "...     ...  \n",
       "1173  -3.99  \n",
       "1174   2.65  \n",
       "1175   1.47  \n",
       "1176   2.41  \n",
       "1177   3.06  \n",
       "\n",
       "[1178 rows x 20 columns]"
      ]
     },
     "execution_count": 24,
     "metadata": {},
     "output_type": "execute_result"
    }
   ],
   "source": [
    "df"
   ]
  },
  {
   "cell_type": "markdown",
   "id": "9d6f0bfe-15e6-4027-a37f-6e2cec8b4775",
   "metadata": {},
   "source": [
    "##### Arreglar el DataFrame"
   ]
  },
  {
   "cell_type": "code",
   "execution_count": 12,
   "id": "12e1fd27-1107-4864-adeb-c684fa693a8b",
   "metadata": {
    "tags": []
   },
   "outputs": [],
   "source": [
    "#Convertir columna \"Unnamed: 0\" a \"fecha\"\n",
    "df.rename(columns={'Unnamed: 0': 'fecha'}, inplace=True)\n",
    "\n",
    "#Fecha como datetime\n",
    "df['fecha'] = pd.to_datetime(df['fecha'], format='%Y%m').dt.date\n",
    "\n",
    "#fecha como index\n",
    "df.set_index('fecha', inplace=True)\n",
    "\n",
    "#Seleccionar las columnas de interés\n",
    "df = df[['Lo 10', 'Hi 10']].copy()\n",
    "\n",
    "#Renombrar las columnas\n",
    "df.rename(columns={'Lo 10':'BajaCap', 'Hi 10':'AltaCap'}, inplace=True)\n",
    "\n",
    "#Los retornos están representados como porcentaje.  Cambiarlo a decimal\n",
    "df = df/100"
   ]
  },
  {
   "cell_type": "code",
   "execution_count": 13,
   "id": "18cb6944-566c-492c-9470-bd16a1c6d49d",
   "metadata": {
    "tags": []
   },
   "outputs": [
    {
     "data": {
      "text/html": [
       "<div>\n",
       "<style scoped>\n",
       "    .dataframe tbody tr th:only-of-type {\n",
       "        vertical-align: middle;\n",
       "    }\n",
       "\n",
       "    .dataframe tbody tr th {\n",
       "        vertical-align: top;\n",
       "    }\n",
       "\n",
       "    .dataframe thead th {\n",
       "        text-align: right;\n",
       "    }\n",
       "</style>\n",
       "<table border=\"1\" class=\"dataframe\">\n",
       "  <thead>\n",
       "    <tr style=\"text-align: right;\">\n",
       "      <th></th>\n",
       "      <th>BajaCap</th>\n",
       "      <th>AltaCap</th>\n",
       "    </tr>\n",
       "    <tr>\n",
       "      <th>fecha</th>\n",
       "      <th></th>\n",
       "      <th></th>\n",
       "    </tr>\n",
       "  </thead>\n",
       "  <tbody>\n",
       "    <tr>\n",
       "      <th>1926-07-01</th>\n",
       "      <td>-0.0142</td>\n",
       "      <td>0.0329</td>\n",
       "    </tr>\n",
       "    <tr>\n",
       "      <th>1926-08-01</th>\n",
       "      <td>0.0461</td>\n",
       "      <td>0.0370</td>\n",
       "    </tr>\n",
       "    <tr>\n",
       "      <th>1926-09-01</th>\n",
       "      <td>0.0091</td>\n",
       "      <td>0.0067</td>\n",
       "    </tr>\n",
       "    <tr>\n",
       "      <th>1926-10-01</th>\n",
       "      <td>-0.0472</td>\n",
       "      <td>-0.0243</td>\n",
       "    </tr>\n",
       "    <tr>\n",
       "      <th>1926-11-01</th>\n",
       "      <td>-0.0077</td>\n",
       "      <td>0.0270</td>\n",
       "    </tr>\n",
       "    <tr>\n",
       "      <th>...</th>\n",
       "      <td>...</td>\n",
       "      <td>...</td>\n",
       "    </tr>\n",
       "    <tr>\n",
       "      <th>2024-04-01</th>\n",
       "      <td>-0.0690</td>\n",
       "      <td>-0.0399</td>\n",
       "    </tr>\n",
       "    <tr>\n",
       "      <th>2024-05-01</th>\n",
       "      <td>0.0431</td>\n",
       "      <td>0.0265</td>\n",
       "    </tr>\n",
       "    <tr>\n",
       "      <th>2024-06-01</th>\n",
       "      <td>-0.0589</td>\n",
       "      <td>0.0147</td>\n",
       "    </tr>\n",
       "    <tr>\n",
       "      <th>2024-07-01</th>\n",
       "      <td>0.0494</td>\n",
       "      <td>0.0241</td>\n",
       "    </tr>\n",
       "    <tr>\n",
       "      <th>2024-08-01</th>\n",
       "      <td>-0.0501</td>\n",
       "      <td>0.0306</td>\n",
       "    </tr>\n",
       "  </tbody>\n",
       "</table>\n",
       "<p>1178 rows × 2 columns</p>\n",
       "</div>"
      ],
      "text/plain": [
       "            BajaCap  AltaCap\n",
       "fecha                       \n",
       "1926-07-01  -0.0142   0.0329\n",
       "1926-08-01   0.0461   0.0370\n",
       "1926-09-01   0.0091   0.0067\n",
       "1926-10-01  -0.0472  -0.0243\n",
       "1926-11-01  -0.0077   0.0270\n",
       "...             ...      ...\n",
       "2024-04-01  -0.0690  -0.0399\n",
       "2024-05-01   0.0431   0.0265\n",
       "2024-06-01  -0.0589   0.0147\n",
       "2024-07-01   0.0494   0.0241\n",
       "2024-08-01  -0.0501   0.0306\n",
       "\n",
       "[1178 rows x 2 columns]"
      ]
     },
     "execution_count": 13,
     "metadata": {},
     "output_type": "execute_result"
    }
   ],
   "source": [
    "df"
   ]
  },
  {
   "cell_type": "markdown",
   "id": "4311e1ec-b4bd-4042-bf30-c8bdda50ed23",
   "metadata": {},
   "source": [
    "##### Visualizar los retornos mensuales"
   ]
  },
  {
   "cell_type": "code",
   "execution_count": 14,
   "id": "63f77c1a-9fa6-4176-8a3a-2477dfbc818d",
   "metadata": {
    "tags": []
   },
   "outputs": [
    {
     "data": {
      "image/png": "[encoded data removed]",
      "text/plain": [
       "<Figure size 1200x700 with 1 Axes>"
      ]
     },
     "metadata": {},
     "output_type": "display_data"
    }
   ],
   "source": [
    "df.plot(figsize=(12,7), title='Retornos históricos mensuales de portafolios por capitalización NYSE/NASDAQ');"
   ]
  },
  {
   "cell_type": "markdown",
   "id": "219a49f3-149d-4b74-9b46-413aa03b1a19",
   "metadata": {},
   "source": [
    "##### Retornos y Sigma mensual"
   ]
  },
  {
   "cell_type": "markdown",
   "id": "b964ba31-3227-43a6-a401-3917db5bca1e",
   "metadata": {},
   "source": [
    "Se puede observar que en promedio, los retornos mensuales de los dos portafolios están alrededor del 0%:"
   ]
  },
  {
   "cell_type": "code",
   "execution_count": null,
   "id": "ebed1c2c-892e-4f2d-9dcf-6beb414a3ae1",
   "metadata": {},
   "outputs": [],
   "source": []
  },
  {
   "cell_type": "markdown",
   "id": "128c053f-c297-40b7-a2e1-64492af1fc5c",
   "metadata": {},
   "source": [
    "Y la volatilidad de los retornos mensuales es de:"
   ]
  },
  {
   "cell_type": "code",
   "execution_count": null,
   "id": "43b1b405-b384-4060-b751-1600c2b59946",
   "metadata": {},
   "outputs": [],
   "source": []
  },
  {
   "cell_type": "markdown",
   "id": "b9adadda-c85c-4910-b3ed-cab6433799f3",
   "metadata": {},
   "source": [
    "##### Pregunta:  En cual portafolio invertir nuestro capital?"
   ]
  },
  {
   "cell_type": "markdown",
   "id": "8c91aaec-cdaf-4b92-b7db-c2ad5c9fcdba",
   "metadata": {},
   "source": [
    "* Los portafolios de Baja Capitalización generan el doble de rendimiento promedio mensual que los de Alta Capitalización\n",
    "* __PERO__ también conlleva el doble de volatilidad/riesgo de acuerdo a la Desviación Estándard\n",
    "* Como podemos optimizar el retorno en relación al riesgo?\n",
    "\n",
    "Que tal si cuantificamos cuanto retorno obtenemos por cada unidad de riesgo que asumimos?  Lo podemos hacer de la siguiente manera:<br><br>\n",
    "Retorno Riesgo = $\\Large \\frac{Retorno}{Volatilidad}$"
   ]
  },
  {
   "cell_type": "code",
   "execution_count": null,
   "id": "3dfd9cbe-7ffd-4d5d-ab5c-b38351bf43d8",
   "metadata": {},
   "outputs": [],
   "source": []
  },
  {
   "cell_type": "markdown",
   "id": "422dd608-bfe0-4186-801c-c39eb186090a",
   "metadata": {},
   "source": [
    "De acuerdo a esta razón, es más eficiente invertir en el Portafolio de Alta Capitalización en función de los retornos obtenidos por la cantidad de riesgo asumido."
   ]
  },
  {
   "cell_type": "markdown",
   "id": "7e578fc0-0bd3-489b-9472-454e8f56933b",
   "metadata": {},
   "source": [
    "El análisis de retorno por cada unidad de riesgo asumida es crucial porque permite evaluar la eficiencia de una inversión al ponderar el rendimiento con el nivel de riesgo inherente. Sin embargo, al omitir la tasa libre de riesgo en este análisis, estamos ignorando un componente vital en la evaluación del rendimiento ajustado al riesgo. Es decir,  estamos omitiendo una comparación fundamental con la opción de una inversión sin riesgo, normalmente representada por bonos del Tesoro que ofrecen un retorno con un riesgo prácticamente nulo. Este componente es vital porque cualquier inversión debería, como mínimo, superar el rendimiento que se podría obtener sin asumir riesgo alguno.\n",
    "\n",
    "Podemos tener una evaluación más equilibrada utilizando el \"_Sharp Ratio_\""
   ]
  },
  {
   "cell_type": "markdown",
   "id": "06575297-e8ad-42d7-b9f1-8816f8f27acd",
   "metadata": {},
   "source": [
    "##### Sharp Ratio"
   ]
  },
  {
   "cell_type": "markdown",
   "id": "926d48a0-afbe-4065-9023-7fc62ed68312",
   "metadata": {},
   "source": [
    "Se calcula de la siguiente manera:<br>\n",
    "$$\\large Sharp=\\frac{Retorno - TasaLibreRiesgo}{Volatilidad}$$<br><br>\n",
    "Al incluir la tasa libre de riesgo, proporciona una evaluación más equilibrada y realista de la eficiencia de una inversión. Mide cuánto rendimiento adicional se obtiene por cada unidad de riesgo asumida en comparación con una inversión sin riesgo. Así, permite discernir si el rendimiento adicional obtenido justifica el riesgo adicional asumido.<br><br>\n",
    "Como los portafolios son del NYSE y del NASDAQ vamos a utilizar como tasa libre de riesgo el Bono del Tesoro de los Estados Unidos a 10 años con un tasa de retorno de 4.18% anual.<br><br>\n",
    "\n",
    "Esta situación servirá de pretexto para anualizar el retorno y la sigma mensual de los portafolios para poder comparar las mismas unidades vs. el t-bill en el cálculo del Sharp Ratio"
   ]
  },
  {
   "cell_type": "markdown",
   "id": "2bdd646a-89d6-4920-9e54-86b84fc1ec5d",
   "metadata": {},
   "source": [
    "Anualizar retornos:"
   ]
  },
  {
   "cell_type": "code",
   "execution_count": null,
   "id": "0f81f784-f795-4bfc-9ac8-c44f8c2ecec4",
   "metadata": {},
   "outputs": [],
   "source": []
  },
  {
   "cell_type": "markdown",
   "id": "b110cac3-e8d4-487f-b2aa-6a1592f93e7b",
   "metadata": {},
   "source": [
    "Anualizar sigma:"
   ]
  },
  {
   "cell_type": "code",
   "execution_count": null,
   "id": "15dd2a16-6c37-44d5-a6f8-87dbb6094af7",
   "metadata": {},
   "outputs": [],
   "source": []
  },
  {
   "cell_type": "markdown",
   "id": "e6a4707e-ec93-4a1a-8588-7f6e5814bac2",
   "metadata": {},
   "source": [
    "También podemos observar que la gran mayoría de los retornos mensuales igual o mayor a +/- 15% son del portafolio de Baja Capitalización"
   ]
  },
  {
   "cell_type": "code",
   "execution_count": 21,
   "id": "88cc9536-c5fc-4bdc-8e65-d85ba496697a",
   "metadata": {
    "tags": []
   },
   "outputs": [
    {
     "name": "stdout",
     "output_type": "stream",
     "text": [
      "Baja Capitalización: 60 / 88.24%\n",
      "Alta Capitalización: 8 / 11.76%\n",
      "Número de meses con retornos mensuales mayores a 15.0%: 68\n"
     ]
    }
   ],
   "source": [
    "benchmark = .15\n",
    "retornos_positivos_bc = df['BajaCap'][df['BajaCap'] >= benchmark].count()\n",
    "retornos_positivos_ac = df['AltaCap'][df['AltaCap'] >= benchmark].count()\n",
    "total_eventos = retornos_positivos_ac + retornos_positivos_bc\n",
    "porcentaje_ac = round(retornos_positivos_ac / total_eventos * 100, 2)\n",
    "porcentaje_bc = round(retornos_positivos_bc / total_eventos * 100, 2)\n",
    "\n",
    "\n",
    "print(f\"Baja Capitalización: {retornos_positivos_bc} / {porcentaje_bc}%\")\n",
    "print(f\"Alta Capitalización: {retornos_positivos_ac} / {porcentaje_ac}%\")\n",
    "print(f\"Número de meses con retornos mensuales mayores a {benchmark*100}%: {total_eventos}\")"
   ]
  },
  {
   "cell_type": "markdown",
   "id": "13db30e3-a5b5-4d21-9891-4b94c7b73be5",
   "metadata": {},
   "source": [
    "El número de eventos con un retorno negativo igual o mayor a -15%:"
   ]
  },
  {
   "cell_type": "code",
   "execution_count": 22,
   "id": "0297e01f-a987-4746-8655-b1ff0449dcd4",
   "metadata": {
    "tags": []
   },
   "outputs": [
    {
     "name": "stdout",
     "output_type": "stream",
     "text": [
      "Baja Capitalización: 27 / 72.97%\n",
      "Alta Capitalización: 10 / 27.03%\n",
      "Número de meses con retornos mensuales mayores a -15.0%: 37\n"
     ]
    }
   ],
   "source": [
    "benchmark *= -1\n",
    "retornos_positivos_bc = df['BajaCap'][df['BajaCap'] <= benchmark].count()\n",
    "retornos_positivos_ac = df['AltaCap'][df['AltaCap'] <= benchmark].count()\n",
    "total_eventos = retornos_positivos_ac + retornos_positivos_bc\n",
    "porcentaje_ac = round(retornos_positivos_ac / total_eventos * 100, 2)\n",
    "porcentaje_bc = round(retornos_positivos_bc / total_eventos * 100, 2)\n",
    "\n",
    "\n",
    "print(f\"Baja Capitalización: {retornos_positivos_bc} / {porcentaje_bc}%\")\n",
    "print(f\"Alta Capitalización: {retornos_positivos_ac} / {porcentaje_ac}%\")\n",
    "print(f\"Número de meses con retornos mensuales mayores a {benchmark*100}%: {total_eventos}\")"
   ]
  },
  {
   "cell_type": "code",
   "execution_count": null,
   "id": "6dc400d3-6933-4566-8970-80f4cbd68adc",
   "metadata": {},
   "outputs": [],
   "source": []
  },
  {
   "cell_type": "markdown",
   "id": "333618bf-fc67-4529-8b65-8856889b722c",
   "metadata": {},
   "source": [
    "## <font color='#2B17B0'>Crear librerías en Python</font>"
   ]
  },
  {
   "cell_type": "markdown",
   "id": "4b1b1490-1103-4e40-ac92-94623b0ea4e6",
   "metadata": {},
   "source": [
    "```python\n",
    "def ejemplo_sumar(x, y):\n",
    "    '''\n",
    "    La función ejemplo_sumar, regresa la suma de dos números\n",
    "    \n",
    "    Parámetros:\n",
    "    -x (int/float):  Primer número\n",
    "    -y (int/float):  Segundo número\n",
    "    \n",
    "    Return:\n",
    "    - int/float:  The sum of x + y\n",
    "    '''\n",
    "   \n",
    "    if not(type(x) in [int, float] and type(y) in [int, float]):\n",
    "        raise ValueError(\"los valores deben de ser numéricos\")\n",
    "    \n",
    "    respuesta = x + z\n",
    "    \n",
    "    return respuesta\n",
    "\n",
    "```"
   ]
  },
  {
   "cell_type": "markdown",
   "id": "47363ab6-897e-4f89-8752-62a167e9ec97",
   "metadata": {
    "tags": []
   },
   "source": [
    "### Comandos mágicos"
   ]
  },
  {
   "cell_type": "markdown",
   "id": "b9f20f8a-9bc1-4a2b-b05a-7cfff13bb2bb",
   "metadata": {},
   "source": [
    "```python\n",
    "%load_ext autoreload\n",
    "%autoreload 2\n",
    "```\n",
    "\n",
    "\n",
    "se utilizan comúnmente juntos en entornos de Jupyter Notebooks o Jupyter Lab para habilitar la recarga automática de módulos de Python importados antes de ejecutar el código.<br><br>\n",
    "\n",
    "\n",
    "%load_ext autoreload:\n",
    "Este comando mágico carga la extensión autoreload. La extensión autoreload proporciona la capacidad de recargar automáticamente los módulos importados antes de ejecutar el código introducido en el cuaderno.\n",
    "\n",
    "%autoreload 2:\n",
    "Este comando mágico establece el modo de autorecarga. El 2 después de %autoreload denota el modo a establecer, y aquí te explico qué significa cada modo:<br>\n",
    "0: Desactiva la autorecarga.<br>\n",
    "1: Recarga los módulos importados con la sentencia import ... antes de ejecutar el código de Python introducido. No funciona con la sentencia from ... import ....<br>\n",
    "2: Recarga todos los módulos (excepto aquellos excluidos por aimport) cada vez antes de ejecutar el código de Python. Este modo es más exhaustivo y generalmente es el que se utiliza cuando se están editando activamente los archivos fuente."
   ]
  },
  {
   "cell_type": "markdown",
   "id": "c1c76ccb-da7c-40cf-8004-b4caee760ec5",
   "metadata": {
    "slideshow": {
     "slide_type": "slide"
    }
   },
   "source": [
    "## <font color='#2B17B0'>LOS MERCADOS FINANCIEROS</font>"
   ]
  },
  {
   "cell_type": "markdown",
   "id": "1c91bb61-0824-44cc-b411-f1645f3b2370",
   "metadata": {
    "tags": []
   },
   "source": [
    "> _Los mercados financieros son espacios, ya sea físicos o virtuales, donde se llevan a cabo transacciones de instrumentos financieros. Estos mercados permiten el intercambio de capitales entre quienes lo ofrecen y quienes lo demandan. Son fundamentales para el funcionamiento y desarrollo de economías modernas, y juegan un rol clave en la asignación de recursos y la determinación de precios de los activos financieros._"
   ]
  },
  {
   "cell_type": "markdown",
   "id": "4b2668f7-05b8-4634-9edb-90fc76e5a357",
   "metadata": {},
   "source": [
    "### Clasificación de los mercados"
   ]
  },
  {
   "cell_type": "markdown",
   "id": "d272ffde-0414-4a6e-8081-2b916c154223",
   "metadata": {},
   "source": [
    "#### Por estructura operativa"
   ]
  },
  {
   "cell_type": "markdown",
   "id": "3239f393-7ec9-43ce-8f11-485f9a0ceda2",
   "metadata": {},
   "source": [
    "* Mercados Organizados:  Poseen lugares físicos o sistemas electrónicos donde se encuentran compradores y vendedores, como las bolsas de valores."
   ]
  },
  {
   "cell_type": "markdown",
   "id": "f5a5b844-f78d-47a3-ad7c-bc77afdc6ce2",
   "metadata": {},
   "source": [
    "![ActaConstitutivaVOC](https://dl.dropboxusercontent.com/scl/fi/jcgsvjal7lgreskar3l2r/nyse_floor.jpg?rlkey=bxrn43b2rfpdxk6deebw5111q&dl=0)<br>\n",
    "Imagen del piso del New York Stock Exchange, tomada de internet"
   ]
  },
  {
   "cell_type": "markdown",
   "id": "45baf3af-3f8e-4350-bf23-d69e55f19c54",
   "metadata": {},
   "source": [
    "![ActaConstitutivaVOC](https://dl.dropboxusercontent.com/scl/fi/8h4h7gy2p6kii0ol9qd9e/nasdaq_dc1.jpg?rlkey=frkua0cu8gn4ibu4swf869e0u&dl=0)<br>\n",
    "Uno de los sites de servidores del Nasdaq\n",
    "\n",
    "Imagen tomada de www.nasdaqtrader.com/Trader.aspx?id=colo"
   ]
  },
  {
   "cell_type": "markdown",
   "id": "1d0a35a0-e64b-4e58-97cd-831cef985f34",
   "metadata": {},
   "source": [
    "* Mercados OTC (over-the-counter): Las transacciones se realizan directamente entre las dos partes sin una bolsa centralizada. Muchos derivados se negocian en mercados OTC."
   ]
  },
  {
   "cell_type": "markdown",
   "id": "e845b8e9-2270-43c3-aa17-9cf873531ca4",
   "metadata": {},
   "source": [
    "#### Por tipo de activos o instrumentos"
   ]
  },
  {
   "cell_type": "markdown",
   "id": "cf495222-41be-48ef-b94b-87c28d139c16",
   "metadata": {},
   "source": [
    "* Mercado de capitales: Se negocian acciones (mercado de valores) y bonos (deuda a largo plazo)\n",
    "    * Mercado primario: Se emiten nuevos títulos (IPO)\n",
    "    * Mercado secundario: Se compran y venden títulos ya emitidos previamente\n",
    "* Mercado de derivados: Se negocian contratos que derivan su valor de un activo subyacente, como futuros, opciones y swaps\n",
    "* Mercado de divisas (Forex): Se negocian monedas\n",
    "* Mercado de criptomonedas:  Se negocian criptoactivos\n",
    "    * Mercados Centralizados\n",
    "    * Mercados Desentralizados\n",
    "    * OTC"
   ]
  },
  {
   "cell_type": "markdown",
   "id": "3c36be64-873f-4152-9f10-b27e2e10dc5d",
   "metadata": {
    "slideshow": {
     "slide_type": "slide"
    }
   },
   "source": [
    "## <font color='#2B17B0'>LOS PRIMEROS</font>"
   ]
  },
  {
   "cell_type": "markdown",
   "id": "e05649ad-3fa5-48ec-ad53-bbc490e4ad94",
   "metadata": {},
   "source": [
    "![ActaConstitutivaVOC](https://dl.dropboxusercontent.com/scl/fi/pgqui7f3rzwqw3y7uiaox/acta_constitutiva_voc.png?rlkey=j8s8is6wclgh7cu1n6ucude91&dl=0)<br>\n",
    "Primera hoja del Acta Constitutiva de la \"The Dutch East India Company\" (VOC), Agosto 1602.  Archivo Nacional de Holanda (https://www.nationaalarchief.nl)"
   ]
  },
  {
   "cell_type": "markdown",
   "id": "9c30f9ff-8141-46c6-80a1-4ebc0aa4fc24",
   "metadata": {},
   "source": [
    "![Primer mercado organizado](https://dl.dropboxusercontent.com/scl/fi/xs6151dglss9xyekw5686/HendrickDeKeyserExchange.png?rlkey=4ycicmwnptmj3vibko2o6i4bp&dl=0)<br>\n",
    "Hendrick de Keyser Exchange. C.J. Visscher, c.1613.  Colección de _Stichting Capital Amsterdam_"
   ]
  },
  {
   "cell_type": "markdown",
   "id": "d967095d-016e-4943-a634-c37acce443b5",
   "metadata": {},
   "source": [
    "![ActaConstitutivaVOC](https://dl.dropboxusercontent.com/scl/fi/ry7t8pvnk2lw221u7svx8/confusion_confusiones.png?rlkey=t13icbbh0rd6y9evvj6hxynty&dl=0)<br>\n",
    "Portada del libro \"Confusión de Confusiones\" por Joseph de la Vega, 1688.  Considerado como el primer libro escrito sobre la bolsa de valores.<br>|(https://www.sothebys.com/en/buy/auction/2018/fine-books-manuscripts-online/444a6a2b-a432-4728-b4d3-3f631935cfaf)"
   ]
  },
  {
   "cell_type": "markdown",
   "id": "4f07837d-2c20-47c0-a29a-292701738e07",
   "metadata": {
    "slideshow": {
     "slide_type": "subslide"
    },
    "tags": []
   },
   "source": [
    "## <font color='#2B17B0'>Actores en los mercados</font>"
   ]
  },
  {
   "cell_type": "markdown",
   "id": "0642e88a-c625-47f9-b191-83b9deb4ecbf",
   "metadata": {
    "slideshow": {
     "slide_type": "subslide"
    }
   },
   "source": [
    "### <font color='#2B17B0'>Dealers</font>\n",
    "Son entidades siempre dispuestas para hacer trading con sus clientes cuando y lo que su cliente quiera opearar.\n",
    "* Siempre publican sus posturas (bid/ask).\n",
    "* Una vez realizada la transacción con su cliente, salen al mercado a realizar la operación contraria\n",
    "* Su negocio está en realizar una ganancia en este proceso"
   ]
  },
  {
   "cell_type": "markdown",
   "id": "e4b566ee-88d6-4823-9cef-8bcf0a3ba53c",
   "metadata": {},
   "source": [
    "![ActaConstitutivaVOC](https://dl.dropboxusercontent.com/scl/fi/oz4ay7k7zuv2w02xqllnb/bid_ask.jpg?rlkey=k2ncui4mg9sq35h6ir4qbhzh8&dl=0)<br>\n",
    "Imagen tomada de internet"
   ]
  },
  {
   "cell_type": "markdown",
   "id": "d87114c2-ec55-4621-8fdc-59cf66f5342b",
   "metadata": {
    "slideshow": {
     "slide_type": "subslide"
    }
   },
   "source": [
    "### <font color='#2B17B0'>Brokers</font>\n",
    "Es un agente que arregla los trades a sus clientes buscando una contraparte con quien pueda realizar la transacción su cliente."
   ]
  },
  {
   "cell_type": "markdown",
   "id": "ff861145-6cfc-4bc5-b91f-5ee7ef2b90cc",
   "metadata": {
    "slideshow": {
     "slide_type": "subslide"
    }
   },
   "source": [
    "El negocio del *__broker__* está en la comisión que le cobra a sus clientes por organizar o facilitar la transacción."
   ]
  },
  {
   "cell_type": "markdown",
   "id": "96b67edd-53ec-4375-b135-c6deb400744c",
   "metadata": {},
   "source": [
    "![ActaConstitutivaVOC](https://dl.dropboxusercontent.com/scl/fi/i0xn9zad1bd6qoh63448a/stockbroker.jpg?rlkey=iff1rxnbrejjuhr4hygf98ade&dl=0)<br>\n",
    "Imagen tomada de internet"
   ]
  },
  {
   "cell_type": "markdown",
   "id": "60f69377-04a6-42bc-9866-c75fa5727ece",
   "metadata": {
    "slideshow": {
     "slide_type": "subslide"
    }
   },
   "source": [
    "### <font color='#2B17B0'>Trader</font>\n",
    "Es una persona, que se dedica a comprar y vender cualquier clase de activos financieros, para ella y/o para alguien más.  Su horizonte de posesión del activo es de coroto plazo y busca capitalizar tendencias de corto plazo.<br>"
   ]
  },
  {
   "cell_type": "markdown",
   "id": "bdf9b7c5-b37a-4058-9b15-239c483f5464",
   "metadata": {
    "slideshow": {
     "slide_type": "subslide"
    }
   },
   "source": [
    "* Si trabaja para una Institución financiera:\n",
    "    * Gana un sueldo más una comisión por la utilidad generada\n",
    "* Si lo hace para el mismo:\n",
    "    * Utiliza su propios recursos económicos\n",
    "    * Se queda con *__toda__* la utilidad generada."
   ]
  },
  {
   "cell_type": "markdown",
   "id": "a8ab0147-f712-44e7-9b3e-0e1058bf6333",
   "metadata": {},
   "source": [
    "![ActaConstitutivaVOC](https://dl.dropboxusercontent.com/scl/fi/bmbnyxrvu2cto1s7utr7s/female_trader.jpg?rlkey=kqksflcmfzvmv35rqn46mpynz&dl=0)<br>\n",
    "Imagen tomada de internet"
   ]
  },
  {
   "cell_type": "markdown",
   "id": "924b2944-169f-4647-bb3b-1f73aa64be1d",
   "metadata": {
    "slideshow": {
     "slide_type": "subslide"
    }
   },
   "source": [
    "### <font color='#2B17B0'>Trader (especulador)</font>\n",
    "Son traders que siempre buscan tener una ventaja contra los demás traders, al utilizar y diseñar modelos que les ayuden a predecir el precio futuro del activo financiero.<br>"
   ]
  },
  {
   "cell_type": "markdown",
   "id": "68650de8-4a6c-46d6-aef1-79f014062a44",
   "metadata": {
    "slideshow": {
     "slide_type": "subslide"
    }
   },
   "source": [
    "Con esa información, se aprovechan de los traders _desinformados_ para ganar a costa de ellos.<br>"
   ]
  },
  {
   "cell_type": "markdown",
   "id": "dfd01a90-850b-40a2-99bf-29aacf22a9bc",
   "metadata": {},
   "source": [
    "![ActaConstitutivaVOC](https://dl.dropboxusercontent.com/scl/fi/rswyrso6g7apxc4snzkch/tiburon2.jpg?rlkey=f5sm70gug2izlacs2sn1l4ar7&dl=0)<br>\n",
    "Imagen tomada de internet"
   ]
  },
  {
   "cell_type": "markdown",
   "id": "e004f8c3-04fc-4e5b-af9e-0dfe2ba6b135",
   "metadata": {
    "slideshow": {
     "slide_type": "subslide"
    }
   },
   "source": [
    "### <font color='#2B17B0'>Trader (informado)</font>\n",
    "Los traders que pueden estimar el valor fundamental del instrumento, hacen que el precio refleje su valor estimado.<br>"
   ]
  },
  {
   "cell_type": "markdown",
   "id": "de5edccf-6c58-4b96-af4b-1d6e0bc7881f",
   "metadata": {
    "slideshow": {
     "slide_type": "subslide"
    }
   },
   "source": [
    "* Compran: $precio < valorEstimado$\n",
    "* Empujan el valor del instrumento a la alza"
   ]
  },
  {
   "cell_type": "markdown",
   "id": "709da482-8df4-49df-9a41-c8c5abcaaa74",
   "metadata": {
    "slideshow": {
     "slide_type": "subslide"
    }
   },
   "source": [
    "* Venden: $precio > valorEstimado$\n",
    "* Jalan el valor del instumento a la baja\n"
   ]
  },
  {
   "cell_type": "markdown",
   "id": "8bdad622-6291-4a26-b75b-e1e540b42cd2",
   "metadata": {
    "slideshow": {
     "slide_type": "subslide"
    },
    "tags": []
   },
   "source": [
    "### <font color='#2B17B0'>Inversionista</font>\n",
    "Es una persona, que buscan trasladar riquezas o flujos excedentes del presente al futuro<br>"
   ]
  },
  {
   "cell_type": "markdown",
   "id": "8d392abd-3d77-4c8a-8052-a5a912852604",
   "metadata": {},
   "source": [
    "![ActaConstitutivaVOC](https://dl.dropboxusercontent.com/scl/fi/ynoa10mkp5vk1cbyz5g8h/dinero.jpg?rlkey=8ohn4mcqjoz3b9y14xnsohe0m&dl=0)<br>\n",
    "Imagen tomada de internet"
   ]
  },
  {
   "cell_type": "markdown",
   "id": "e859793f-326f-4b8f-a0bb-231b4917c2c5",
   "metadata": {
    "slideshow": {
     "slide_type": "subslide"
    }
   },
   "source": [
    "### <font color='#2B17B0'>Posición LONG</font>\n",
    "Es cuando un inversionista, trader, dealer, etc. compra un activo financiero y mantiene su posesión. Espera que el precio suba y así concretar una utilidad al momento de vender.<br><br>"
   ]
  },
  {
   "cell_type": "markdown",
   "id": "0ca11de2-70b5-4aa8-8077-736cfbb9f09c",
   "metadata": {
    "slideshow": {
     "slide_type": "subslide"
    }
   },
   "source": [
    "### <font color='#2B17B0'>Posición SHORT</font>\n",
    "Es cuando un inversionista, trader, dealer, etc. vende un activo financiero que no posee, tomándolo prestado, para venderlo y en un futuro regresarlo.  Espera que el precio baje, concretando una utilidad al comprar el activo.<br><br>"
   ]
  },
  {
   "cell_type": "markdown",
   "id": "9c08cf21-0381-44c1-860f-0fb80bfdcb43",
   "metadata": {
    "slideshow": {
     "slide_type": "subslide"
    }
   },
   "source": [
    "## <font color='#2B17B0'>Algunos coneptos importantes</font>"
   ]
  },
  {
   "cell_type": "markdown",
   "id": "b598b97a-fb62-4144-8cc3-138bcbcffec8",
   "metadata": {
    "slideshow": {
     "slide_type": "subslide"
    }
   },
   "source": [
    "### <font color='#2B17B0'>Activos financieros</font>\n",
    "* Instrumentos que representan propiedad de activos reales y de los flujos de efectivo que producen.\n",
    "* Las acciones y los bonos son ejempos de activos financieros.\n",
    "* Los emisores son los que crean los activos financieros"
   ]
  },
  {
   "cell_type": "markdown",
   "id": "195ddf63-f942-4619-b263-9f37e2d06393",
   "metadata": {
    "slideshow": {
     "slide_type": "subslide"
    }
   },
   "source": [
    "## <font color='#2B17B0'>FACILITADORES</font>"
   ]
  },
  {
   "cell_type": "markdown",
   "id": "220f12cd-b1da-4879-a132-86d2d23aac8b",
   "metadata": {
    "slideshow": {
     "slide_type": "subslide"
    }
   },
   "source": [
    "### <font color='#2B17B0'>Los mercados de valores</font>\n",
    "* Ofrecen un lugar donde los traders se puedan reunir a negociar titulos\n",
    "* En la mayoría de los casos, unicamente los mimebros pueden realizar trades"
   ]
  },
  {
   "cell_type": "markdown",
   "id": "a51cf1b7-52b1-43e8-9322-0f5b610534a0",
   "metadata": {
    "slideshow": {
     "slide_type": "subslide"
    }
   },
   "source": [
    "* Por mucho tiempo eran propiedad de sus miembros\n",
    "* Actualmente muchas bolsas en el mundo se han desmutualizado y se convirtieron en corporaciones\n"
   ]
  },
  {
   "cell_type": "markdown",
   "id": "9ceea4b0-9f62-4daa-8bd3-caada9d2922a",
   "metadata": {
    "slideshow": {
     "slide_type": "subslide"
    }
   },
   "source": [
    "* Las bolsas se apoyan en otras entidades para asegurarse que todas las transacciones se ejecuten correctamente y resolver conflictos."
   ]
  },
  {
   "cell_type": "markdown",
   "id": "1b819d25-81f4-464f-9d86-d282ddb116be",
   "metadata": {
    "slideshow": {
     "slide_type": "subslide"
    }
   },
   "source": [
    "### <font color='#2B17B0'>Agentes liquidadores</font>\n",
    "Ayudan a cuadrar los registros de las transacciones que hicieron las contrapartes, confirmando que las partes acordaron los mismos términos.  Cuando las transacciones se confirman, se les dice que están _liquidadaz_ y las partes saldan las operaciones."
   ]
  },
  {
   "cell_type": "markdown",
   "id": "9adc6fdf-40c4-408f-a134-e6a9431a1618",
   "metadata": {
    "slideshow": {
     "slide_type": "subslide"
    }
   },
   "source": [
    "### <font color='#2B17B0'>Agentes compensación y liquidación</font>\n",
    "Ayudan a los operadores a compensar sus obligaciones. De acuerdo a las reglas del mercado, los operadores terminan recibiendo los activos financieros o el dinero generado por la transacción."
   ]
  },
  {
   "cell_type": "markdown",
   "id": "ddd64f53-a63b-48e2-9fe2-f086b7346a4a",
   "metadata": {
    "slideshow": {
     "slide_type": "subslide"
    }
   },
   "source": [
    "## <font color='#2B17B0'>EL ARBITRO</font>"
   ]
  },
  {
   "cell_type": "markdown",
   "id": "3cb2007e-0258-40a9-a99f-f95d56ef15b6",
   "metadata": {
    "slideshow": {
     "slide_type": "fragment"
    }
   },
   "source": [
    "* Cada pais tiene su propia agencia encargada de la regulación de los mercados bursátiles y de la protección del público inversionista"
   ]
  },
  {
   "cell_type": "markdown",
   "id": "e8e39394-ab1f-467a-9316-cd0fff4c15b9",
   "metadata": {
    "slideshow": {
     "slide_type": "fragment"
    }
   },
   "source": [
    "* CNBV Méx\n",
    "* SEC USA\n",
    "* FCA UK"
   ]
  },
  {
   "cell_type": "markdown",
   "id": "7d4c7573-6558-426b-865e-9a1056cee9d0",
   "metadata": {
    "slideshow": {
     "slide_type": "slide"
    }
   },
   "source": [
    "# <font color='#2B17B0'>II.- OPERANDO EN EL MERCADO</font>"
   ]
  },
  {
   "cell_type": "markdown",
   "id": "0195f73d-4edc-47db-b1df-b7b01d21b1cc",
   "metadata": {
    "slideshow": {
     "slide_type": "subslide"
    }
   },
   "source": [
    "> _No puedes esperar ser éxitoso de manera constante en el mercado, si no conoces como opera y sus reglas de operación_."
   ]
  },
  {
   "cell_type": "markdown",
   "id": "98b74a8c-c166-47c7-8c67-d286b090df1f",
   "metadata": {
    "slideshow": {
     "slide_type": "subslide"
    }
   },
   "source": [
    "### <font color='#2B17B0'>Órdenes</font>\n",
    "* Una _**orden**_ es una instrucción que el inversionista gira a su broker y este al mercado de valores para que ejecuten una transacción."
   ]
  },
  {
   "cell_type": "markdown",
   "id": "e7666dd6-b7cf-4c2c-9abe-6ba327cd3b69",
   "metadata": {
    "slideshow": {
     "slide_type": "subslide"
    }
   },
   "source": [
    "### <font color='#2B17B0'>Características de una orden</font>\n",
    "Siempre se especifica:\n",
    "* Que instrumento se va a comercializar\n",
    "* La cantidad a negociar\n",
    "* Si es una compra o una venta"
   ]
  },
  {
   "cell_type": "markdown",
   "id": "88e7c3c2-1852-4f91-afd9-ccbc7901a590",
   "metadata": {
    "slideshow": {
     "slide_type": "subslide"
    }
   },
   "source": [
    "Puede incluir las siguientes condiciones:\n",
    "* Precio límite máximo que está dispuesto a negociar (bid/ask)\n",
    "* Tiempo de vida de la orden\n",
    "* Si se puede ejecutar de manera parcial\n",
    "* Entre otras"
   ]
  },
  {
   "cell_type": "markdown",
   "id": "97d8eb1c-855b-4da4-af33-e8d91e104f0a",
   "metadata": {
    "slideshow": {
     "slide_type": "subslide"
    }
   },
   "source": [
    "### <font color='#2B17B0'>Órdenes de mercado</font>\n",
    "Es cuando el inversionista da la instrucción de realizar una transacción al mejor precio disponible en el mercado. <br><br>\n",
    "Por lo general se ejecutan de manera rápida, a costa de un precio inferior."
   ]
  },
  {
   "cell_type": "markdown",
   "id": "bf083678-8921-4aaf-8301-023e03c34c4c",
   "metadata": {
    "slideshow": {
     "slide_type": "subslide"
    }
   },
   "source": [
    "### <font color='#2B17B0'>Impacto en el mercado</font>\n",
    "Una orden relativamente pequeña, es más fácil de ejecutar con un precio más controlado que una orden de mayor volumen."
   ]
  },
  {
   "cell_type": "markdown",
   "id": "a1b629ce-57bc-46ca-8e3f-b37af1555f38",
   "metadata": {
    "slideshow": {
     "slide_type": "subslide"
    }
   },
   "source": [
    "Si un trader quiere comprar (vender) una posición de volumen considerable, tiene que mejorar el precio subiendo el *__bid__* (bajando el *__ask__*) del mercado para animar a los vendedores (compradores) a que vendan (compren)"
   ]
  },
  {
   "cell_type": "markdown",
   "id": "a5e0d33c-5c97-4693-a5ad-43020518b11e",
   "metadata": {
    "slideshow": {
     "slide_type": "subslide"
    }
   },
   "source": [
    "### <font color='#2B17B0'>Incertidumbre en el precio de ejecución</font>\n",
    "El precio a que las órdenes de mercado se ejecutan dependen de la condición del mercado  y pueden cambiar rapidamente.  Por lo que puede ejecutar su orden a un precio menor a lo esperado.  A este riesgo se le llama *__incertidumbre en el precio de ejecución__*.\n"
   ]
  },
  {
   "cell_type": "markdown",
   "id": "0a83c76b-9d4c-4098-b9d4-a492998f976d",
   "metadata": {
    "slideshow": {
     "slide_type": "subslide"
    }
   },
   "source": [
    "### <font color='#2B17B0'>Órdenes limitadas</font>\n",
    "Es una instrucción para realizar una transacción al mejor precio disponible *__SI Y SOLO SI__* el precio es igual o mejor al especificado en la orden."
   ]
  },
  {
   "cell_type": "markdown",
   "id": "57f7bc5d-c20c-4969-9376-567768b3faca",
   "metadata": {
    "slideshow": {
     "slide_type": "subslide"
    }
   },
   "source": [
    "Si la orden limitada es:\n",
    "* Una orden de compra:  $P_{mercado} \\leq P_{limitado}$\n",
    "* Una orden de venta: $P_{mercado} \\geq P_{limitado}$"
   ]
  },
  {
   "cell_type": "markdown",
   "id": "0fb02ab7-7172-4914-87f8-0d4fb3fe358f",
   "metadata": {
    "slideshow": {
     "slide_type": "subslide"
    }
   },
   "source": [
    "Si la orden no se llega a ejecutar por que el precio del mercado no es igual o mejor que el de la orden limitada, entonces la orden se quedará como una oferta disponible hasta que:\n",
    "1. Alguien acepte ese precio\n",
    "1. Al expirar su vida\n",
    "1. Al ser cancelada por el traeder que la originó"
   ]
  },
  {
   "cell_type": "markdown",
   "id": "b804ad4b-3b6e-4e07-9542-e46c328976e9",
   "metadata": {
    "slideshow": {
     "slide_type": "subslide"
    }
   },
   "source": [
    "### <font color='#2B17B0'>Riesgos de utilizar órdenes limitadas</font>\n",
    "1. Riesgo de incertidumbre de ejecución\n",
    "1. Riesgo de ejecución no deseada:  Es cuando la orden se ejecuta, y se hubiera deseado que hubiera sido ejecutada."
   ]
  },
  {
   "cell_type": "markdown",
   "id": "b371eb3a-01d0-48c6-a76d-0115a46ee2e3",
   "metadata": {
    "slideshow": {
     "slide_type": "subslide"
    }
   },
   "source": [
    "### <font color='#2B17B0'>Stop orders</font>\n",
    "Son órdenes en la que se especifica que no se puede ejecutar hasta que el precio llegue o sobrepase un precio preestablecido. <br><br>\n",
    "Por lo general se utilizan como *__stop losses__*, para proteger si el precio de mueve en contra de una posición."
   ]
  },
  {
   "cell_type": "markdown",
   "id": "f093ec3e-b2be-4371-91c5-2284d1a6ac7a",
   "metadata": {
    "slideshow": {
     "slide_type": "subslide"
    }
   },
   "source": [
    "### <font color='#2B17B0'>Stop orders (ejemplo)</font>\n",
    "Supongamos que Erika:\n",
    "* Tiene una posición en CEMEXCPO\n",
    "* La compró a MXN\\$6.8\n",
    "* Está dispuesta a perder hasta un 15\\% de su valor inicial, antes de venderla"
   ]
  },
  {
   "cell_type": "markdown",
   "id": "91f28d9f-0f2c-4a32-8992-a606fdfdbb42",
   "metadata": {
    "slideshow": {
     "slide_type": "subslide"
    }
   },
   "source": [
    "* Por lo cual Erika pone un stop order a MXN\\$5.78 \n",
    "* $6.8 * (1-.15)$\n",
    "* La orden no se activará hasta que el precio de CEMEXCPO llegue o caiga por debajo de los \\$5.78"
   ]
  },
  {
   "cell_type": "markdown",
   "id": "ff4c9d13-72be-45b3-814e-5c4a72f8f476",
   "metadata": {
    "slideshow": {
     "slide_type": "subslide"
    }
   },
   "source": [
    "* El stop order, solo activa la orden para que sea comercializada\n",
    "* No garantiza que la posición se ejecute a ese precio\n",
    "* Si Erika quiere garantizar limitar su pérdida a \\$5.78:\n",
    "    * Su mejor alternativa es comprar una opción PUT, con un K de \\$5.78"
   ]
  },
  {
   "cell_type": "markdown",
   "id": "3b7c0f88-54e5-4ebc-b580-0c6fb085460b",
   "metadata": {
    "slideshow": {
     "slide_type": "subslide"
    }
   },
   "source": [
    "### <font color='#2B17B0'>Órdenes limitadas y stop orders</font>\n",
    "La diferencia entre ellas radica en el propósito del uso del *__precio__*:\n",
    "* La _orden limitada_ especifica a que precio se puede ejecutar la orden\n",
    "* El _stop loss_ indica que la orden se activa si llega a ese precio"
   ]
  },
  {
   "cell_type": "markdown",
   "id": "772cfad0-097f-48c3-9b7f-81abe28cd15f",
   "metadata": {
    "slideshow": {
     "slide_type": "subslide"
    }
   },
   "source": [
    "### <font color='#2B17B0'>Órdenes limitadas y stop orders (cont.)</font>\n",
    "Se puede anexar un stop order a una orden limitada.  Se tienen que especificar dos precios:\n",
    "1. El _stop price_ para activar la orden\n",
    "1. El _precio limitado_ para indicar a que precio se puede concretar la orden\n",
    "1. A esta orden combinada se le conoce como _**Stop limit order**_"
   ]
  },
  {
   "cell_type": "markdown",
   "id": "b4ee3dea-46f4-4f4c-9699-a57193696580",
   "metadata": {
    "slideshow": {
     "slide_type": "slide"
    }
   },
   "source": [
    "# <font color='#2B17B0'>III.- Introducción al análisis financiero</font>"
   ]
  },
  {
   "cell_type": "markdown",
   "id": "022350ed-ba70-4104-8b12-4a435f057629",
   "metadata": {
    "slideshow": {
     "slide_type": "subslide"
    }
   },
   "source": [
    "## <font color='#2B17B0'>Maneras de seleccionar donde invertir</font>"
   ]
  },
  {
   "cell_type": "markdown",
   "id": "2f4a0732-4379-454c-a9cd-5c6db294193c",
   "metadata": {
    "slideshow": {
     "slide_type": "fragment"
    }
   },
   "source": [
    "* _**Subjetiva**_"
   ]
  },
  {
   "cell_type": "markdown",
   "id": "8e08a92c-0588-4277-9515-6296540fa5f9",
   "metadata": {
    "slideshow": {
     "slide_type": "fragment"
    }
   },
   "source": [
    "* _**Objetiva / Analítica**_\n",
    "    * Análisis técnico\n",
    "    * Análisis fundamental\n",
    "    * Otros"
   ]
  },
  {
   "cell_type": "markdown",
   "id": "91248641-2314-4008-b232-6164c7923b20",
   "metadata": {
    "slideshow": {
     "slide_type": "subslide"
    }
   },
   "source": [
    "## <font color='#2B17B0'>Características del Análisis Técnico y el Fundamental</font>"
   ]
  },
  {
   "cell_type": "markdown",
   "id": "6a141f04-3532-44e0-af5d-14971ce73376",
   "metadata": {
    "slideshow": {
     "slide_type": "fragment"
    }
   },
   "source": [
    "||Técnico||Fundamental|\n",
    "|:-|:-:|:-:|:-:|\n",
    "|**Objetivo**|_Encontrar tendencias en el precio_||_Encontrar empresas mal valoradas_|\n",
    "|**Enfoque**|_Precios históricos_||_Utilidades, flujos, etc._|\n",
    "|**Métricas**|_Indicadores estadísticos_||_Multiplos, razones financieras, flujos descontados, etc_|\n",
    "|**Resultado**|_Señales de compra/venta_||_Definir si la empresa está sub o sobre valuada_|"
   ]
  },
  {
   "cell_type": "markdown",
   "id": "0e3f1444-b2b1-4e63-bd3a-11b9a939a0c9",
   "metadata": {
    "slideshow": {
     "slide_type": "subslide"
    }
   },
   "source": [
    "### <font color='#2B17B0'>Desempeño y horizonte de inversión</font>"
   ]
  },
  {
   "cell_type": "markdown",
   "id": "410785e8-2676-4053-bbf6-41ca88216a0a",
   "metadata": {},
   "source": [
    "![ActaConstitutivaVOC](https://dl.dropboxusercontent.com/scl/fi/cga82zk4grlwwalxp8dh8/horizonte_inversion.png?rlkey=t7g4k52z7qp0g6pnoqxunnse9&dl=0)<br>"
   ]
  },
  {
   "cell_type": "markdown",
   "id": "323df657-5ad2-447d-9bf1-349041fe75d9",
   "metadata": {
    "slideshow": {
     "slide_type": "subslide"
    }
   },
   "source": [
    "## <font color='#2B17B0'>Breve introducción Análisis Fundamental</font>"
   ]
  },
  {
   "cell_type": "markdown",
   "id": "e4e3b789-73cb-478e-8304-ee9dabb9792c",
   "metadata": {
    "slideshow": {
     "slide_type": "subslide"
    }
   },
   "source": [
    "### <font color='#2B17B0'>¿Qué es?</font>"
   ]
  },
  {
   "cell_type": "markdown",
   "id": "c2b24c96-a60a-4009-b3ce-d551786d0dd0",
   "metadata": {
    "slideshow": {
     "slide_type": "fragment"
    }
   },
   "source": [
    "> _Es la habilidad de interpretar toda la información que las empresas públicas proveen al público inversionista, para tomar decisiones de inversión inteligentes_"
   ]
  },
  {
   "cell_type": "markdown",
   "id": "c0681702-f654-4af0-8147-5b8606737840",
   "metadata": {
    "slideshow": {
     "slide_type": "subslide"
    }
   },
   "source": [
    "### <font color='#2B17B0'>¿Por qué utilizarlo?</font>"
   ]
  },
  {
   "cell_type": "markdown",
   "id": "98c858a1-b69e-482e-a6b9-31ee206a378c",
   "metadata": {
    "slideshow": {
     "slide_type": "fragment"
    }
   },
   "source": [
    "* _Decisiones tomadas en base a hechos, no opiniones._\n",
    "* _Nos ayuda a detectar cambios en la salud general de la empresa, antes de que las complicaciones empiecen._\n",
    "* _Nos ayuda a poner precios objetivos a las acciones._\n",
    "* _Hace que nos enfoquemos en la empresa y no la acción._"
   ]
  },
  {
   "cell_type": "markdown",
   "id": "82d72bd7-26d3-4139-b011-5220da219405",
   "metadata": {
    "slideshow": {
     "slide_type": "subslide"
    }
   },
   "source": [
    "### <font color='#2B17B0'>¿En qué valores enfocarnos?</font>"
   ]
  },
  {
   "cell_type": "markdown",
   "id": "3e7e670f-2e9f-4d7b-9e80-2d95157a614f",
   "metadata": {
    "slideshow": {
     "slide_type": "fragment"
    }
   },
   "source": [
    "* _Desempeño  financiero_\n",
    "* _Recursos económicos_\n",
    "* _Valuación_\n",
    "* _Tendencias macro_\n",
    "* _Equipo de administración_"
   ]
  },
  {
   "cell_type": "markdown",
   "id": "8ef78adf-3910-47cb-a77a-7c68defb1fb0",
   "metadata": {
    "slideshow": {
     "slide_type": "subslide"
    }
   },
   "source": [
    "## <font color='#2B17B0'>Breve introducción al Análisis Técnico</font>"
   ]
  },
  {
   "cell_type": "markdown",
   "id": "5fcf58e7-4e02-4cb1-b0de-405ddd97494c",
   "metadata": {
    "slideshow": {
     "slide_type": "subslide"
    }
   },
   "source": [
    "### <font color='#2B17B0'>¿Qué es?</font>"
   ]
  },
  {
   "cell_type": "markdown",
   "id": "0d2f154d-0f40-4d1a-8106-ec306e1f18a4",
   "metadata": {
    "slideshow": {
     "slide_type": "fragment"
    }
   },
   "source": [
    "> _Es una metodología utilizada para predecir la dirección futura de los precios de activos financieros basándose en la revisión de patrones de precios pasados y volúmenes de negociación. En lugar de centrarse en los factores fundamentales de una empresa o una economía (como ventas, utilidades, tasas de interés), el análisis técnico se enfoca en el estudio de gráficos y otros instrumentos para identificar patrones que sugieran futuras actividades de precios._"
   ]
  },
  {
   "cell_type": "markdown",
   "id": "65c28f9d-b777-4007-81b9-f300ee86b3ae",
   "metadata": {
    "slideshow": {
     "slide_type": "subslide"
    }
   },
   "source": [
    "### <font color='#2B17B0'>¿Por qué utilizarlo?</font>"
   ]
  },
  {
   "cell_type": "markdown",
   "id": "9b779d2e-0f57-4771-bb38-d8b3ae599ca8",
   "metadata": {
    "slideshow": {
     "slide_type": "fragment"
    }
   },
   "source": [
    "* _Una premisa fundamental del análisis técnico es que la historia tiende a repetirse_\n",
    "* _Al centrarse en el precio y el volumen, el análisis técnico busca descubrir la demanda y oferta subyacente en el mercado, lo que puede indicar futuros movimientos de precios_\n",
    "* _pueden tomar decisiones rápidas basadas en los signos y señales que observan_\n",
    "* _Puede ser utilizado en acciones, bonos, divisas, materias primas y prácticamente cualquier mercado con datos históricos de precios_"
   ]
  },
  {
   "cell_type": "markdown",
   "id": "f72162d8-5d16-4a31-8c0d-0d781812c0c1",
   "metadata": {
    "slideshow": {
     "slide_type": "subslide"
    }
   },
   "source": [
    "### <font color='#2B17B0'>¿En qué valores enfocarnos?</font>"
   ]
  },
  {
   "cell_type": "markdown",
   "id": "d6ae272c-41b6-46c3-9679-bf5aef150f37",
   "metadata": {
    "slideshow": {
     "slide_type": "fragment"
    }
   },
   "source": [
    "* _Gráficos del precio_\n",
    "* _Patrones en los gráficos_\n",
    "* _Tendencias_\n",
    "* _Indicadores y osciladores_\n",
    "* _Volumen_\n",
    "* _Equipo de administración_\n",
    "* _Soportes y resistencias_"
   ]
  },
  {
   "cell_type": "markdown",
   "id": "8dd9cbea-4f66-46e5-b3ba-cc82769f007a",
   "metadata": {
    "tags": []
   },
   "source": [
    "# <font color='#2B17B0'>Indice de Precios y Cotizaciones - \"IPC\" S&P BMV -</font>\n"
   ]
  },
  {
   "cell_type": "markdown",
   "id": "ce280f75-3add-453c-8fa3-5a256d3a7dac",
   "metadata": {},
   "source": [
    "> _\"El S&P/BMV IPC busca medir el desempeño de las acciones de mayor tamaño y liquidez listadas en la BMV. Su objetivo es proporcionar un índice amplio, representativo, que abarque el mercado bursátil mexicano. Los componentes del índice son ponderados por capitalización de mercado modificada, sujetos a requisitos de diversificación.\"_<br><br>https://www.spglobal.com/spdji/es/indices/equity/sp-bmv-ipc/#overview\n"
   ]
  },
  {
   "cell_type": "markdown",
   "id": "94313738-c180-4c8b-b563-adf796ede298",
   "metadata": {},
   "source": [
    "### Universo\n",
    "> \"_Los constituyentes deben de ser acciones listadas en la BMV, excluyendo los Fideicomisos de Inversión en Bienes Raíces (FIBRAS) y los Fideicomisos hipotecarios._\""
   ]
  },
  {
   "cell_type": "markdown",
   "id": "b2091c8a-55a4-4e72-86ec-b73fbec08fa1",
   "metadata": {},
   "source": [
    "### Historial de Operación\n",
    "> _\"Deben de cumplir con el siguiente criterio:\"_\n",
    "> * Las acciones deben de tener un historial de negociación por lo menos de tres meses\n",
    "> * Las acciones deberion de haber operado por lo menos en el 95% de los días de los últimos seis meses\n",
    "> * Si las acciones tienen menos de seis meses de historial, se aplica al 95% de los días operados"
   ]
  },
  {
   "attachments": {},
   "cell_type": "markdown",
   "id": "0c73c589-9c9f-4190-8e15-0d0775e1e80d",
   "metadata": {},
   "source": [
    "|Emisora|Ticker|Ticker Y!F|\n",
    "|:-|:-|:-|\n",
    "|\"Indice de Precios y Cotizaciones\"|IPC|^MXX|\n",
    "|Alfa A|ALFAA|ALFAA.MX|\n",
    "|Alsea A|ALSEA|ALSEA.MX|\n",
    "|America Movil  B|AMXB|AMXB.MX| \n",
    "|Arca Continental|AC|AC.MX| \n",
    "|Banco del Bajio|BBAJIOO|BBAJIOO.MX| \n",
    "|Becle |CUERVO|CUERVO.MX| \n",
    "|Bolsa Mexicana de Valores |BOLSAA|BOLSAA.MX| \n",
    "|Cemex CPO|CEMEXCPO|CEMEXCPO.MX| \n",
    "|Coca-Cola Femsa  UBL|KOFUBL|KOFUBL.MX| \n",
    "|Corporacion Inmobiliaria VestaB|VESTA|VESTA.MX| \n",
    "|El Puerto de Liverpool |LIVEPOLC-1|LIVEPOLC-1.MX| \n",
    "|Fomento Economico Mexicano |FEMSAUBD|FEMSAUBD.MX| \n",
    "|Genomma Lab Internacional |LABB|LABB.MX| \n",
    "|Gentera |GENTERA|GENTERA.MX| \n",
    "|Gruma SAB B|GRUMAB|GRUMAB.MX| \n",
    "|Grupo Aeroportuario del Centro NorteB. |OMAB|OMAB.MX| \n",
    "|Grupo Aeroportuario del PacificoB. |GAPB|GAPB.MX| \n",
    "|Grupo Aeroportuario del Sureste  B|ASURB|ASURB.MX| \n",
    "|Grupo Bimbo S.A.B.|BIMBOA|BIMBOA.MX| \n",
    "|Grupo Carso |GCARSOA1|GCARSOA1.MX| \n",
    "|Grupo Cementos de Chihuahua |GCC|GCC.MX| \n",
    "|Grupo Comercial Chedraui|CHDRAUIB|CHDRAUIB.MX|\n",
    "|Grupo Elektra |ELEKTRA|ELEKTRA.MX| \n",
    "|Grupo Financiero Banorte O|GFNORTEO|GFNORTEO.MX| \n",
    "|Grupo Financiero Inbursa O|GFINBURO|GFINBURO.MX| \n",
    "|Grupo Mexico  B|GMEXICOB|GMEXICOB.MX| \n",
    "|Grupo Televisa  CPO|TLEVISACPO|TLEVISACPO.MX| \n",
    "|Industrias Penoles|PE&OLES|PE&OLES.MX| \n",
    "|Kimberly Clark de Mexico  A|KIMBERA|KIMBERA.MX| \n",
    "|Megacable Holdings |MEGACPO|MEGACPO.MX| \n",
    "|ORBIA ADVANCE CORPORATION |ORBIA|ORBIA.MX| \n",
    "|Promotora y Operadora de Infraestructura |PINFRA|PINFRA.MX| \n",
    "|Qualitas Controladora|Q|Q.MX| \n",
    "|Regional |RA|RA.MX| \n",
    "|Walmart de Mexico |WALMEX|WALMEX.MX|"
   ]
  },
  {
   "cell_type": "markdown",
   "id": "9adf9926-a54c-4547-8184-15e4678a839e",
   "metadata": {
    "tags": []
   },
   "source": [
    "# <font color='#2B17B0'>Precios Yahoo Finance</font>"
   ]
  },
  {
   "cell_type": "markdown",
   "id": "36bff728-f421-4b4f-a767-bcf4be422a51",
   "metadata": {},
   "source": [
    "### Como obtener los precios de Y!Finance?"
   ]
  },
  {
   "cell_type": "code",
   "execution_count": null,
   "id": "06143c8d-6bd4-43f0-b683-18d6688b3ab6",
   "metadata": {},
   "outputs": [],
   "source": [
    "url = 'https://query1.finance.yahoo.com/v7/finance/download/AC.MX?period1=1653862375&period2=1685405575&interval=1d&events=history&includeAdjustedClose=true'"
   ]
  },
  {
   "cell_type": "markdown",
   "id": "1a13f557-03b2-4e47-8a2b-3ddbe691037e",
   "metadata": {},
   "source": [
    "## <font color='#2B17B0'>UNIX Epoch Time</font>\n"
   ]
  },
  {
   "cell_type": "markdown",
   "id": "0000c290-6af5-4e51-b34c-e0e4bee60e5f",
   "metadata": {},
   "source": [
    "> _\"Son los segundos que han pasado a partir de las 0:00:00hrs del 1 de enero, 1970\"_"
   ]
  },
  {
   "cell_type": "markdown",
   "id": "9f5b2b22-b491-461a-9217-0c346a122c4b",
   "metadata": {},
   "source": [
    "### Importar librería datetime"
   ]
  },
  {
   "cell_type": "code",
   "execution_count": 1,
   "id": "27d2fe4d-8c11-4675-804e-d04fd7f3ed8b",
   "metadata": {
    "tags": []
   },
   "outputs": [],
   "source": [
    "import datetime"
   ]
  },
  {
   "cell_type": "markdown",
   "id": "94027ef6-8096-4acd-b54a-3f964df0bfad",
   "metadata": {},
   "source": [
    "### Comparar los timestamps de los links"
   ]
  },
  {
   "cell_type": "code",
   "execution_count": null,
   "id": "15b72e5a-c55f-4dfb-9ba7-74c4da036ad9",
   "metadata": {},
   "outputs": [],
   "source": []
  },
  {
   "cell_type": "markdown",
   "id": "f350839a-482e-4c62-bf15-c77c396d58ea",
   "metadata": {},
   "source": [
    "### Epoch 0"
   ]
  },
  {
   "cell_type": "code",
   "execution_count": null,
   "id": "93259626-bb3d-4028-900a-bdd5d707e556",
   "metadata": {},
   "outputs": [],
   "source": []
  },
  {
   "cell_type": "markdown",
   "id": "5052858a-16ea-4f37-b0ff-55b9447a0f0b",
   "metadata": {},
   "source": [
    "### Tiempo Universal Coordinado / Coordinated Universal Time (UTC): Stándard de tiempo en el mundo\n"
   ]
  },
  {
   "cell_type": "markdown",
   "id": "85456548-99de-4051-a709-46ec03481dc6",
   "metadata": {},
   "source": [
    "UTC es un estándar de tiempo utilizado para sincronizar/coordinar los centros de tiempo alrededor del mundo.  Se utiliza el promedio de dos componentes:\n",
    "1. Hora Atómica Internacional (**TAI**):  Es una escala de tiempo que combina los resultados de 400 relojes atómicos de gran precisión alrededor del mundo\n",
    "1. Hora Universal (**UT1**):  También conocido como tiempo astronómico o solar referente a la rotación de la tierra.  Compara el paso marcado por **TAI** y la duración actual de un día en la tierra."
   ]
  },
  {
   "cell_type": "markdown",
   "id": "9d7ee715-9f95-47e2-9bfe-429001ab94da",
   "metadata": {},
   "source": [
    "### UTC es un estándard no una zona horaria\n",
    "GMT es la Zona Horaria de Greenwich.  "
   ]
  },
  {
   "cell_type": "markdown",
   "id": "083e65a6-00ab-4f83-a537-bc57a7419577",
   "metadata": {},
   "source": [
    "## <font color='#2B17B0'>Crear función para obtener precios de acciones</font>\n"
   ]
  },
  {
   "cell_type": "code",
   "execution_count": null,
   "id": "877a89f7-d09d-4554-b134-e34820040593",
   "metadata": {},
   "outputs": [],
   "source": []
  }
 ],
 "metadata": {
  "kernelspec": {
   "display_name": "Python 3 (ipykernel)",
   "language": "python",
   "name": "python3"
  },
  "language_info": {
   "codemirror_mode": {
    "name": "ipython",
    "version": 3
   },
   "file_extension": ".py",
   "mimetype": "text/x-python",
   "name": "python",
   "nbconvert_exporter": "python",
   "pygments_lexer": "ipython3",
   "version": "3.12.4"
  }
 },
 "nbformat": 4,
 "nbformat_minor": 5
}
