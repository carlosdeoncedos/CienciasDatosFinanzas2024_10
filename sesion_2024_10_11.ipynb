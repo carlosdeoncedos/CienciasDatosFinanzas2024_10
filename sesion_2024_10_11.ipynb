{
 "cells": [
  {
   "cell_type": "markdown",
   "id": "64563f84-86d3-491d-9c4d-2f00a2507894",
   "metadata": {},
   "source": [
    "# <font color='#2B17B0'>FZ4026.60 CIENCIA DE DATOS APLICADA A FINANZAS</font>\n",
    "Sesión 5 2024-10-11<br>\n",
    "Carlos Crespo Elizondo<br>\n",
    "TEC DE MONTERREY, CAMPUS SANTA FE"
   ]
  },
  {
   "cell_type": "markdown",
   "id": "62856015-e178-496f-a97b-d154d9cb7502",
   "metadata": {},
   "source": [
    "## <font color='#2B17B0'>COMENTARIOS INICIALES</font>"
   ]
  },
  {
   "cell_type": "markdown",
   "id": "717d4a27-48f3-479e-9860-067e47b41db7",
   "metadata": {
    "tags": []
   },
   "source": [
    "### Contacto"
   ]
  },
  {
   "cell_type": "markdown",
   "id": "aec04bd1-c580-4576-b477-93c54e3e8bad",
   "metadata": {},
   "source": [
    "email: carlos@oncedos.com"
   ]
  },
  {
   "cell_type": "markdown",
   "id": "062dfc21-5f27-4857-8fd8-4cb85c227291",
   "metadata": {
    "tags": []
   },
   "source": [
    "### Asesorías"
   ]
  },
  {
   "cell_type": "markdown",
   "id": "e6f3c82e-6dac-41c3-a2fc-7ce1eb498243",
   "metadata": {
    "tags": []
   },
   "source": [
    "### Github:  Clonar repositorio de la clase\n",
    "URL del repositorio:<br>\n",
    "https://github.com/carlosdeoncedos/CienciasDatosFinanzas2024_10.git <br>\n",
    "\n",
    "Para verificar si GitHub está instaldo corre el siguiente comando desde la ventana de terminal:\n",
    "`git --version`.  Si está instalado, arrojará la versión instalada.\n",
    "\n"
   ]
  },
  {
   "cell_type": "markdown",
   "id": "0be6229b-8dfa-4bf2-9699-e0b3bbf59166",
   "metadata": {
    "tags": []
   },
   "source": [
    "#### Instalar GitHub\n",
    "En caso de no tener Github instalado:"
   ]
  },
  {
   "cell_type": "markdown",
   "id": "1782bca8-9bab-49e5-94df-b59a7eb3ed5e",
   "metadata": {
    "tags": []
   },
   "source": [
    "##### **MAC OS:**\n",
    "1. Abre la Terminal en tu Mac.\n",
    "1. Ejecuta el siguiente comando para instalar Homebrew:<br>\n",
    "    `/bin/bash -c \"$(curl -fsSL https://raw.githubusercontent.com/Homebrew/install/HEAD/install.sh)\"`\n",
    "1. Ejecuta el siguiente comando para instalar Git usando Homebrew:\n",
    "    `brew install git`"
   ]
  },
  {
   "cell_type": "markdown",
   "id": "7262c5fc-b023-41a7-ab69-d3966945098f",
   "metadata": {},
   "source": [
    "##### **WINDOWS**:\n",
    "1. Ve al sitio web oficial de Git: https://git-scm.com/download/win\n",
    "1. La descarga del instalador de Git para Windows debería comenzar automáticamente. Si no es así, haz clic en el enlace \"click here to download manually\" (haz clic aquí para descargar manualmente) en la página.\n",
    "1. Ejecuta el archivo de instalación que descargaste en el Paso 1.\n",
    "1. Selecciona las opciones de instalación que prefieras y sigue las instrucciones del instalador. Si no estás seguro de qué opciones elegir, las predeterminadas suelen ser adecuadas para la mayoría de los usuarios.\n",
    "1. Haz clic en \"Install\" (Instalar) para comenzar la instalación.\n",
    "1. Una vez que se complete la instalación, Git estará instalado en tu computadora con Windows."
   ]
  },
  {
   "cell_type": "markdown",
   "id": "5bc24210-e1a3-4eed-9cfa-85878fd93e2d",
   "metadata": {},
   "source": [
    "#### **CREAR USUARIO**\n",
    "1. Entra a la página https://github.com\n",
    "1. En la página principal de GitHub, localiza el formulario de registro.\n",
    "1. Ingresa un nombre de usuario único. GitHub verificará si el nombre de usuario está disponible.\n",
    "1. Ingresa una dirección de correo electrónico válida. Asegúrate de que sea una dirección de correo electrónico a la que tengas acceso, ya que GitHub enviará un correo electrónico de verificación.\n",
    "1. Crea una contraseña segura siguiendo las pautas de GitHub. La contraseña debe tener al menos 8 caracteres y debe incluir letras mayúsculas y minúsculas, números y símbolos.\n",
    "1. Haz clic en el botón \"Sign up for GitHub\" (Regístrate en GitHub) para continuar.\n",
    "1. GitHub te enviará un correo electrónico de verificación a la dirección de correo electrónico que proporcionaste.\n",
    "1. Abre el correo electrónico y haz clic en el enlace de verificación para confirmar tu dirección de correo electrónico y continuar con el proceso de registro.\n",
    "1. GitHub te mostrará diferentes planes disponibles. Elige el plan gratuito y haz clic en \"Continue\". El plan gratuito te permitirá crear repositorios públicos ilimitados y colaborar en repositorios privados.\n",
    "1. GitHub te ofrecerá la opción de personalizar tu experiencia proporcionando información adicional sobre tus intereses y preferencias. Puedes completar esta información si lo deseas, pero no es obligatorio.\n",
    "1. Una vez que hayas proporcionado la información que desees, haz clic en \"Submit\" (Enviar) o \"Skip this step\" (Omitir este paso) si prefieres no proporcionar esta información."
   ]
  },
  {
   "cell_type": "markdown",
   "id": "e90a91d9-4afe-4c04-a32d-729263b83d3e",
   "metadata": {},
   "source": [
    "#### Clonar repositorio"
   ]
  },
  {
   "cell_type": "markdown",
   "id": "395a4181-a29a-4a56-891e-b3660d72f7fb",
   "metadata": {},
   "source": [
    "1. Navega a la página principal del repositorio de la clase (Ver URL).\n",
    "1. Haz clic en el botón verde \"Code\" cerca de la esquina superior derecha de la página.\n",
    "1. En el menú desplegable, elige entre HTTPS o SSH en \"Clone\". Si no estás seguro de cuál usar, se recomienda HTTPS para la mayoría de los usuarios debido a su simplicidad y compatibilidad. Copia la URL proporcionada.\n",
    "1. Abre tu terminal (en macOS o Linux) o Command Prompt (en Windows) en la computadora y ve al directorio donde deseas clonar el repositorio\n",
    "1. Ejecutar el siguiente comando para clonar repositorio:<br>\n",
    "    `git clone https://github.com/carlosdeoncedos/CienciaDatosFinanzas2023_05.git`"
   ]
  },
  {
   "cell_type": "markdown",
   "id": "5bfc3d04-90b4-42b3-b6ce-79ae2f666140",
   "metadata": {},
   "source": [
    "# <font color='#2B17B0'>APIs</font>\n"
   ]
  },
  {
   "cell_type": "markdown",
   "id": "ef42d0c1-5394-4cec-8223-775273ae0cca",
   "metadata": {},
   "source": [
    "### <font color='#2B17B0'>Que es un API</font>\n"
   ]
  },
  {
   "cell_type": "markdown",
   "id": "47784a9d-1d90-404e-a894-a106529fefad",
   "metadata": {},
   "source": [
    "> _API: \"(Application Programming Interface) es un set de reglas y protocolos que permite que un software pueda interactuar con otro.  Define los métodos y la estructura de datos que las aplicaciones utilizan para comunicarse entre si\"_  <br>\n",
    "\n",
    "Chat GPT-4o"
   ]
  },
  {
   "cell_type": "markdown",
   "id": "752b9e21-17e4-4da0-ac56-e32724350f26",
   "metadata": {},
   "source": [
    "### <font color='#2B17B0'>Tipos de APIs</font>\n"
   ]
  },
  {
   "cell_type": "markdown",
   "id": "1b4d590f-353d-487d-aeff-6197c479212e",
   "metadata": {},
   "source": [
    "* _Web_:  Se usan para interactuar con servicios web (protocolos HTTP/HTTPS).\n",
    "* _Librerias_:  Publicadas por las librerías para permitir el uso de sus funciones.\n",
    "* _Sistema Operativo_:  Permite que una aplicación pueda interactuar con el OS.\n",
    "* _Base de Datos_:  Permite la comunicación entre una aplicación y el administrador de la BD."
   ]
  },
  {
   "cell_type": "markdown",
   "id": "2fcf2fb2-89a6-41d6-9fc9-7c787bb577a4",
   "metadata": {},
   "source": [
    "### <font color='#2B17B0'>Como funcionan las APIs</font>\n"
   ]
  },
  {
   "cell_type": "markdown",
   "id": "3e1b422d-b766-4b9d-bc74-d27b7ba7d068",
   "metadata": {},
   "source": [
    "#### <font color='#2B17B0'>Componentes</font>\n"
   ]
  },
  {
   "cell_type": "markdown",
   "id": "9ca4ca30-aae1-478b-9341-a90f92d1ee71",
   "metadata": {},
   "source": [
    "1. _Endpoint_:  Especificar URL para accesar al API.\n",
    "1. _Request_:  La llamada que el cliente hace al **endpoint**.  Por lo general incluye parámetros.\n",
    "1. _Response_:  Los datos que el API regresa al cliente.\n",
    "1. _Methods_:  Las acciones que puedes hacer através del API como:\n",
    "    * Get:  Obtener datos.\n",
    "    * Post:  Subir datos.\n",
    "    * Put:  Actualizar registros  o crearlo en caso de que no exista\n",
    "    * Delete:  Eliminar registros"
   ]
  },
  {
   "cell_type": "markdown",
   "id": "590b48cc-6c92-43db-b3ae-7461b0e6f04c",
   "metadata": {},
   "source": [
    "#### <font color='#2B17B0'>Web APIs</font>\n"
   ]
  },
  {
   "cell_type": "markdown",
   "id": "639cd942-215d-4d76-890b-9100924190cd",
   "metadata": {},
   "source": [
    "1. Por lo general utilizan los protocolos de comunicación HTTP / HTTPS\n",
    "2. Existen varias arquitecturas, las más usadas son:\n",
    "    1. REST (Representational State Transfer)\n",
    "    2. SOAP (Simple Object Access Protocol)"
   ]
  },
  {
   "cell_type": "markdown",
   "id": "ff3ca9fd-d9fa-45d3-afbe-f3941968a1b0",
   "metadata": {},
   "source": [
    "### <font color='#2B17B0'>Ejemplo:  Usar los APIs del Banco de México </font>\n",
    "OBJETIVO:  Cargar la serie histórica del tipo de cambio peso dólar en Jupyter.<br>\n",
    "MÉTODO:\n",
    "1. Manera manual\n",
    "1. Manera Automatizada"
   ]
  },
  {
   "cell_type": "markdown",
   "id": "9eee55b6-d128-4b31-8e5c-f79daa3c72e3",
   "metadata": {},
   "source": [
    "#### Buscar la información en la página de Banxico y cargarla en Jupyter"
   ]
  },
  {
   "cell_type": "markdown",
   "id": "5ed19888-8b14-4186-9f0f-ba7de346b9e5",
   "metadata": {},
   "source": [
    "https://www.banxico.org.mx <br>\n",
    "https://www.banxico.org.mx/SieAPIRest/service/v1/"
   ]
  },
  {
   "cell_type": "markdown",
   "id": "40870987-2104-484d-a1ea-7328b06c2ce4",
   "metadata": {},
   "source": [
    "#### Hacer pruebas de conexión al API utilizando Postman\n"
   ]
  },
  {
   "cell_type": "markdown",
   "id": "6f0a5256-415c-4832-82ac-7ad013a07930",
   "metadata": {},
   "source": [
    "* Postman es un programa en el que podemos desarrollar y/o probar APIs\n",
    "* Descargarlo en la siguiente dirección:<br>\n",
    "  https://web.postman.co\n"
   ]
  },
  {
   "cell_type": "markdown",
   "id": "4fa01bb1-f352-45ee-86a9-c9f7a6ca4036",
   "metadata": {},
   "source": [
    "#### <font color='#2B17B0'>Librería Request</font>\n"
   ]
  },
  {
   "cell_type": "markdown",
   "id": "94b11ea9-170e-472b-83dc-8ac7bc7e1046",
   "metadata": {},
   "source": [
    "> _Request es una librería de Python que se usa para hacer llamadas HTTP_"
   ]
  },
  {
   "cell_type": "markdown",
   "id": "863c667e-30ee-4c98-848c-3897c67c4db0",
   "metadata": {},
   "source": [
    "Pasos para usar hacer una llamda con la librería Request:\n",
    "1. Importar librería\n",
    "2. Definir la URL a donde se hará la llamada\n",
    "3. Realizar la llamada\n",
    "\n",
    "Adicionalmente podemos interpretar el tipo de respuesta de la llamada"
   ]
  },
  {
   "cell_type": "code",
   "execution_count": 1,
   "id": "073dd978-30da-4083-a2cb-39b1147ff9a8",
   "metadata": {},
   "outputs": [],
   "source": [
    "import pandas as pd\n",
    "import requests"
   ]
  },
  {
   "cell_type": "code",
   "execution_count": 2,
   "id": "e4c017c5-6136-42da-8615-1025a43d525c",
   "metadata": {},
   "outputs": [],
   "source": [
    "url = 'https://www.banxico.org.mx/SieAPIRest/service/v1/series/SF63528/datos'"
   ]
  },
  {
   "cell_type": "markdown",
   "id": "e9b467d4-c198-43b6-b8c4-9191ed23b5a1",
   "metadata": {},
   "source": [
    "A continuación haremos la llamada al API **CON UN ERROR** (falta el TOKEN)"
   ]
  },
  {
   "cell_type": "code",
   "execution_count": 3,
   "id": "d2936213-42b0-40be-8573-f728d464a0c7",
   "metadata": {},
   "outputs": [],
   "source": [
    "respuesta = requests.get(url)"
   ]
  },
  {
   "cell_type": "code",
   "execution_count": 4,
   "id": "8d9c6864-71a4-4178-9497-eb055c6a235f",
   "metadata": {},
   "outputs": [
    {
     "data": {
      "text/plain": [
       "<Response [401]>"
      ]
     },
     "execution_count": 4,
     "metadata": {},
     "output_type": "execute_result"
    }
   ],
   "source": [
    "respuesta"
   ]
  },
  {
   "cell_type": "markdown",
   "id": "c0810156-79a4-4972-aa31-90e0ac22febc",
   "metadata": {},
   "source": [
    "Ahora haremos la llamada al API de BANXICO correctamente"
   ]
  },
  {
   "cell_type": "code",
   "execution_count": 5,
   "id": "778ecffb-791d-417a-9734-37bd87e073e5",
   "metadata": {},
   "outputs": [],
   "source": [
    "token = '251f19996ce7aa25c925974f843c9dd532a152783be1799a547591a962e08c6d'"
   ]
  },
  {
   "cell_type": "code",
   "execution_count": 6,
   "id": "6bfb4bca-2357-40b4-9f3e-6a195e8c321f",
   "metadata": {},
   "outputs": [],
   "source": [
    "headers = {\n",
    "    'Bmx-Token': token\n",
    "}"
   ]
  },
  {
   "cell_type": "code",
   "execution_count": 7,
   "id": "8dd32b61-ea3f-4926-986b-0889cd047fee",
   "metadata": {},
   "outputs": [],
   "source": [
    "respuesta = requests.get(url, headers=headers)"
   ]
  },
  {
   "cell_type": "code",
   "execution_count": 8,
   "id": "44b20470-01af-4e60-960e-5f9edda0609c",
   "metadata": {},
   "outputs": [
    {
     "data": {
      "text/plain": [
       "<Response [200]>"
      ]
     },
     "execution_count": 8,
     "metadata": {},
     "output_type": "execute_result"
    }
   ],
   "source": [
    "respuesta"
   ]
  },
  {
   "cell_type": "code",
   "execution_count": 9,
   "id": "97ad2bd4-0c2d-4962-ad3b-84355bd42022",
   "metadata": {},
   "outputs": [],
   "source": [
    "datos = respuesta.json()"
   ]
  },
  {
   "cell_type": "code",
   "execution_count": 10,
   "id": "ea352d4f-5951-4e4b-91fe-62e77bf7b54d",
   "metadata": {
    "scrolled": true
   },
   "outputs": [
    {
     "data": {
      "text/plain": [
       "{'bmx': {'series': [{'idSerie': 'SF63528',\n",
       "    'titulo': 'Serie histórica del tipo de cambio Tipo de cambio peso dólar desde 1954',\n",
       "    'datos': [{'fecha': '19/04/1954', 'dato': '0.01250'},\n",
       "     {'fecha': '20/04/1954', 'dato': '0.01250'},\n",
       "     {'fecha': '21/04/1954', 'dato': '0.01250'},\n",
       "     {'fecha': '22/04/1954', 'dato': '0.01250'},\n",
       "     {'fecha': '23/04/1954', 'dato': '0.01250'},\n",
       "     {'fecha': '26/04/1954', 'dato': '0.01250'},\n",
       "     {'fecha': '27/04/1954', 'dato': '0.01250'},\n",
       "     {'fecha': '28/04/1954', 'dato': '0.01250'},\n",
       "     {'fecha': '29/04/1954', 'dato': '0.01250'},\n",
       "     {'fecha': '30/04/1954', 'dato': '0.01250'},\n",
       "     {'fecha': '03/05/1954', 'dato': '0.01250'},\n",
       "     {'fecha': '04/05/1954', 'dato': '0.01250'},\n",
       "     {'fecha': '05/05/1954', 'dato': '0.01250'},\n",
       "     {'fecha': '06/05/1954', 'dato': '0.01250'},\n",
       "     {'fecha': '07/05/1954', 'dato': '0.01250'},\n",
       "     {'fecha': '10/05/1954', 'dato': '0.01250'},\n",
       "     {'fecha': '11/05/1954', 'dato': '0.01250'},\n",
       "     {'fecha': '12/05/1954', 'dato': '0.01250'},\n",
       "     {'fecha': '13/05/1954', 'dato': '0.01250'},\n",
       "     {'fecha': '14/05/1954', 'dato': '0.01250'},\n",
       "     {'fecha': '17/05/1954', 'dato': '0.01250'},\n",
       "     {'fecha': '18/05/1954', 'dato': '0.01250'},\n",
       "     {'fecha': '19/05/1954', 'dato': '0.01250'},\n",
       "     {'fecha': '20/05/1954', 'dato': '0.01250'},\n",
       "     {'fecha': '21/05/1954', 'dato': '0.01250'},\n",
       "     {'fecha': '24/05/1954', 'dato': '0.01250'},\n",
       "     {'fecha': '25/05/1954', 'dato': '0.01250'},\n",
       "     {'fecha': '26/05/1954', 'dato': '0.01250'},\n",
       "     {'fecha': '27/05/1954', 'dato': '0.01250'},\n",
       "     {'fecha': '28/05/1954', 'dato': '0.01250'},\n",
       "     {'fecha': '31/05/1954', 'dato': '0.01250'},\n",
       "     {'fecha': '01/06/1954', 'dato': '0.01250'},\n",
       "     {'fecha': '02/06/1954', 'dato': '0.01250'},\n",
       "     {'fecha': '03/06/1954', 'dato': '0.01250'},\n",
       "     {'fecha': '04/06/1954', 'dato': '0.01250'},\n",
       "     {'fecha': '07/06/1954', 'dato': '0.01250'},\n",
       "     {'fecha': '08/06/1954', 'dato': '0.01250'},\n",
       "     {'fecha': '09/06/1954', 'dato': '0.01250'},\n",
       "     {'fecha': '10/06/1954', 'dato': '0.01250'},\n",
       "     {'fecha': '11/06/1954', 'dato': '0.01250'},\n",
       "     {'fecha': '14/06/1954', 'dato': '0.01250'},\n",
       "     {'fecha': '15/06/1954', 'dato': '0.01250'},\n",
       "     {'fecha': '16/06/1954', 'dato': '0.01250'},\n",
       "     {'fecha': '17/06/1954', 'dato': '0.01250'},\n",
       "     {'fecha': '18/06/1954', 'dato': '0.01250'},\n",
       "     {'fecha': '21/06/1954', 'dato': '0.01250'},\n",
       "     {'fecha': '22/06/1954', 'dato': '0.01250'},\n",
       "     {'fecha': '23/06/1954', 'dato': '0.01250'},\n",
       "     {'fecha': '24/06/1954', 'dato': '0.01250'},\n",
       "     {'fecha': '25/06/1954', 'dato': '0.01250'},\n",
       "     {'fecha': '28/06/1954', 'dato': '0.01250'},\n",
       "     {'fecha': '29/06/1954', 'dato': '0.01250'},\n",
       "     {'fecha': '30/06/1954', 'dato': '0.01250'},\n",
       "     {'fecha': '01/07/1954', 'dato': '0.01250'},\n",
       "     {'fecha': '02/07/1954', 'dato': '0.01250'},\n",
       "     {'fecha': '05/07/1954', 'dato': '0.01250'},\n",
       "     {'fecha': '06/07/1954', 'dato': '0.01250'},\n",
       "     {'fecha': '07/07/1954', 'dato': '0.01250'},\n",
       "     {'fecha': '08/07/1954', 'dato': '0.01250'},\n",
       "     {'fecha': '09/07/1954', 'dato': '0.01250'},\n",
       "     {'fecha': '12/07/1954', 'dato': '0.01250'},\n",
       "     {'fecha': '13/07/1954', 'dato': '0.01250'},\n",
       "     {'fecha': '14/07/1954', 'dato': '0.01250'},\n",
       "     {'fecha': '15/07/1954', 'dato': '0.01250'},\n",
       "     {'fecha': '16/07/1954', 'dato': '0.01250'},\n",
       "     {'fecha': '19/07/1954', 'dato': '0.01250'},\n",
       "     {'fecha': '20/07/1954', 'dato': '0.01250'},\n",
       "     {'fecha': '21/07/1954', 'dato': '0.01250'},\n",
       "     {'fecha': '22/07/1954', 'dato': '0.01250'},\n",
       "     {'fecha': '23/07/1954', 'dato': '0.01250'},\n",
       "     {'fecha': '26/07/1954', 'dato': '0.01250'},\n",
       "     {'fecha': '27/07/1954', 'dato': '0.01250'},\n",
       "     {'fecha': '28/07/1954', 'dato': '0.01250'},\n",
       "     {'fecha': '29/07/1954', 'dato': '0.01250'},\n",
       "     {'fecha': '30/07/1954', 'dato': '0.01250'},\n",
       "     {'fecha': '02/08/1954', 'dato': '0.01250'},\n",
       "     {'fecha': '03/08/1954', 'dato': '0.01250'},\n",
       "     {'fecha': '04/08/1954', 'dato': '0.01250'},\n",
       "     {'fecha': '05/08/1954', 'dato': '0.01250'},\n",
       "     {'fecha': '06/08/1954', 'dato': '0.01250'},\n",
       "     {'fecha': '09/08/1954', 'dato': '0.01250'},\n",
       "     {'fecha': '10/08/1954', 'dato': '0.01250'},\n",
       "     {'fecha': '11/08/1954', 'dato': '0.01250'},\n",
       "     {'fecha': '12/08/1954', 'dato': '0.01250'},\n",
       "     {'fecha': '13/08/1954', 'dato': '0.01250'},\n",
       "     {'fecha': '16/08/1954', 'dato': '0.01250'},\n",
       "     {'fecha': '17/08/1954', 'dato': '0.01250'},\n",
       "     {'fecha': '18/08/1954', 'dato': '0.01250'},\n",
       "     {'fecha': '19/08/1954', 'dato': '0.01250'},\n",
       "     {'fecha': '20/08/1954', 'dato': '0.01250'},\n",
       "     {'fecha': '23/08/1954', 'dato': '0.01250'},\n",
       "     {'fecha': '24/08/1954', 'dato': '0.01250'},\n",
       "     {'fecha': '25/08/1954', 'dato': '0.01250'},\n",
       "     {'fecha': '26/08/1954', 'dato': '0.01250'},\n",
       "     {'fecha': '27/08/1954', 'dato': '0.01250'},\n",
       "     {'fecha': '30/08/1954', 'dato': '0.01250'},\n",
       "     {'fecha': '31/08/1954', 'dato': '0.01250'},\n",
       "     {'fecha': '01/09/1954', 'dato': '0.01250'},\n",
       "     {'fecha': '02/09/1954', 'dato': '0.01250'},\n",
       "     {'fecha': '03/09/1954', 'dato': '0.01250'},\n",
       "     {'fecha': '06/09/1954', 'dato': '0.01250'},\n",
       "     {'fecha': '07/09/1954', 'dato': '0.01250'},\n",
       "     {'fecha': '08/09/1954', 'dato': '0.01250'},\n",
       "     {'fecha': '09/09/1954', 'dato': '0.01250'},\n",
       "     {'fecha': '10/09/1954', 'dato': '0.01250'},\n",
       "     {'fecha': '13/09/1954', 'dato': '0.01250'},\n",
       "     {'fecha': '14/09/1954', 'dato': '0.01250'},\n",
       "     {'fecha': '15/09/1954', 'dato': '0.01250'},\n",
       "     {'fecha': '16/09/1954', 'dato': '0.01250'},\n",
       "     {'fecha': '17/09/1954', 'dato': '0.01250'},\n",
       "     {'fecha': '20/09/1954', 'dato': '0.01250'},\n",
       "     {'fecha': '21/09/1954', 'dato': '0.01250'},\n",
       "     {'fecha': '22/09/1954', 'dato': '0.01250'},\n",
       "     {'fecha': '23/09/1954', 'dato': '0.01250'},\n",
       "     {'fecha': '24/09/1954', 'dato': '0.01250'},\n",
       "     {'fecha': '27/09/1954', 'dato': '0.01250'},\n",
       "     {'fecha': '28/09/1954', 'dato': '0.01250'},\n",
       "     {'fecha': '29/09/1954', 'dato': '0.01250'},\n",
       "     {'fecha': '30/09/1954', 'dato': '0.01250'},\n",
       "     {'fecha': '01/10/1954', 'dato': '0.01250'},\n",
       "     {'fecha': '04/10/1954', 'dato': '0.01250'},\n",
       "     {'fecha': '05/10/1954', 'dato': '0.01250'},\n",
       "     {'fecha': '06/10/1954', 'dato': '0.01250'},\n",
       "     {'fecha': '07/10/1954', 'dato': '0.01250'},\n",
       "     {'fecha': '08/10/1954', 'dato': '0.01250'},\n",
       "     {'fecha': '11/10/1954', 'dato': '0.01250'},\n",
       "     {'fecha': '12/10/1954', 'dato': '0.01250'},\n",
       "     {'fecha': '13/10/1954', 'dato': '0.01250'},\n",
       "     {'fecha': '14/10/1954', 'dato': '0.01250'},\n",
       "     {'fecha': '15/10/1954', 'dato': '0.01250'},\n",
       "     {'fecha': '18/10/1954', 'dato': '0.01250'},\n",
       "     {'fecha': '19/10/1954', 'dato': '0.01250'},\n",
       "     {'fecha': '20/10/1954', 'dato': '0.01250'},\n",
       "     {'fecha': '21/10/1954', 'dato': '0.01250'},\n",
       "     {'fecha': '22/10/1954', 'dato': '0.01250'},\n",
       "     {'fecha': '25/10/1954', 'dato': '0.01250'},\n",
       "     {'fecha': '26/10/1954', 'dato': '0.01250'},\n",
       "     {'fecha': '27/10/1954', 'dato': '0.01250'},\n",
       "     {'fecha': '28/10/1954', 'dato': '0.01250'},\n",
       "     {'fecha': '29/10/1954', 'dato': '0.01250'},\n",
       "     {'fecha': '01/11/1954', 'dato': '0.01250'},\n",
       "     {'fecha': '02/11/1954', 'dato': '0.01250'},\n",
       "     {'fecha': '03/11/1954', 'dato': '0.01250'},\n",
       "     {'fecha': '04/11/1954', 'dato': '0.01250'},\n",
       "     {'fecha': '05/11/1954', 'dato': '0.01250'},\n",
       "     {'fecha': '08/11/1954', 'dato': '0.01250'},\n",
       "     {'fecha': '09/11/1954', 'dato': '0.01250'},\n",
       "     {'fecha': '10/11/1954', 'dato': '0.01250'},\n",
       "     {'fecha': '11/11/1954', 'dato': '0.01250'},\n",
       "     {'fecha': '12/11/1954', 'dato': '0.01250'},\n",
       "     {'fecha': '15/11/1954', 'dato': '0.01250'},\n",
       "     {'fecha': '16/11/1954', 'dato': '0.01250'},\n",
       "     {'fecha': '17/11/1954', 'dato': '0.01250'},\n",
       "     {'fecha': '18/11/1954', 'dato': '0.01250'},\n",
       "     {'fecha': '19/11/1954', 'dato': '0.01250'},\n",
       "     {'fecha': '22/11/1954', 'dato': '0.01250'},\n",
       "     {'fecha': '23/11/1954', 'dato': '0.01250'},\n",
       "     {'fecha': '24/11/1954', 'dato': '0.01250'},\n",
       "     {'fecha': '25/11/1954', 'dato': '0.01250'},\n",
       "     {'fecha': '26/11/1954', 'dato': '0.01250'},\n",
       "     {'fecha': '29/11/1954', 'dato': '0.01250'},\n",
       "     {'fecha': '30/11/1954', 'dato': '0.01250'},\n",
       "     {'fecha': '01/12/1954', 'dato': '0.01250'},\n",
       "     {'fecha': '02/12/1954', 'dato': '0.01250'},\n",
       "     {'fecha': '03/12/1954', 'dato': '0.01250'},\n",
       "     {'fecha': '06/12/1954', 'dato': '0.01250'},\n",
       "     {'fecha': '07/12/1954', 'dato': '0.01250'},\n",
       "     {'fecha': '08/12/1954', 'dato': '0.01250'},\n",
       "     {'fecha': '09/12/1954', 'dato': '0.01250'},\n",
       "     {'fecha': '10/12/1954', 'dato': '0.01250'},\n",
       "     {'fecha': '13/12/1954', 'dato': '0.01250'},\n",
       "     {'fecha': '14/12/1954', 'dato': '0.01250'},\n",
       "     {'fecha': '15/12/1954', 'dato': '0.01250'},\n",
       "     {'fecha': '16/12/1954', 'dato': '0.01250'},\n",
       "     {'fecha': '17/12/1954', 'dato': '0.01250'},\n",
       "     {'fecha': '20/12/1954', 'dato': '0.01250'},\n",
       "     {'fecha': '21/12/1954', 'dato': '0.01250'},\n",
       "     {'fecha': '22/12/1954', 'dato': '0.01250'},\n",
       "     {'fecha': '23/12/1954', 'dato': '0.01250'},\n",
       "     {'fecha': '24/12/1954', 'dato': '0.01250'},\n",
       "     {'fecha': '27/12/1954', 'dato': '0.01250'},\n",
       "     {'fecha': '28/12/1954', 'dato': '0.01250'},\n",
       "     {'fecha': '29/12/1954', 'dato': '0.01250'},\n",
       "     {'fecha': '30/12/1954', 'dato': '0.01250'},\n",
       "     {'fecha': '31/12/1954', 'dato': '0.01250'},\n",
       "     {'fecha': '03/01/1955', 'dato': '0.01250'},\n",
       "     {'fecha': '04/01/1955', 'dato': '0.01250'},\n",
       "     {'fecha': '05/01/1955', 'dato': '0.01250'},\n",
       "     {'fecha': '06/01/1955', 'dato': '0.01250'},\n",
       "     {'fecha': '07/01/1955', 'dato': '0.01250'},\n",
       "     {'fecha': '10/01/1955', 'dato': '0.01250'},\n",
       "     {'fecha': '11/01/1955', 'dato': '0.01250'},\n",
       "     {'fecha': '12/01/1955', 'dato': '0.01250'},\n",
       "     {'fecha': '13/01/1955', 'dato': '0.01250'},\n",
       "     {'fecha': '14/01/1955', 'dato': '0.01250'},\n",
       "     {'fecha': '17/01/1955', 'dato': '0.01250'},\n",
       "     {'fecha': '18/01/1955', 'dato': '0.01250'},\n",
       "     {'fecha': '19/01/1955', 'dato': '0.01250'},\n",
       "     {'fecha': '20/01/1955', 'dato': '0.01250'},\n",
       "     {'fecha': '21/01/1955', 'dato': '0.01250'},\n",
       "     {'fecha': '24/01/1955', 'dato': '0.01250'},\n",
       "     {'fecha': '25/01/1955', 'dato': '0.01250'},\n",
       "     {'fecha': '26/01/1955', 'dato': '0.01250'},\n",
       "     {'fecha': '27/01/1955', 'dato': '0.01250'},\n",
       "     {'fecha': '28/01/1955', 'dato': '0.01250'},\n",
       "     {'fecha': '31/01/1955', 'dato': '0.01250'},\n",
       "     {'fecha': '01/02/1955', 'dato': '0.01250'},\n",
       "     {'fecha': '02/02/1955', 'dato': '0.01250'},\n",
       "     {'fecha': '03/02/1955', 'dato': '0.01250'},\n",
       "     {'fecha': '04/02/1955', 'dato': '0.01250'},\n",
       "     {'fecha': '07/02/1955', 'dato': '0.01250'},\n",
       "     {'fecha': '08/02/1955', 'dato': '0.01250'},\n",
       "     {'fecha': '09/02/1955', 'dato': '0.01250'},\n",
       "     {'fecha': '10/02/1955', 'dato': '0.01250'},\n",
       "     {'fecha': '11/02/1955', 'dato': '0.01250'},\n",
       "     {'fecha': '14/02/1955', 'dato': '0.01250'},\n",
       "     {'fecha': '15/02/1955', 'dato': '0.01250'},\n",
       "     {'fecha': '16/02/1955', 'dato': '0.01250'},\n",
       "     {'fecha': '17/02/1955', 'dato': '0.01250'},\n",
       "     {'fecha': '18/02/1955', 'dato': '0.01250'},\n",
       "     {'fecha': '21/02/1955', 'dato': '0.01250'},\n",
       "     {'fecha': '22/02/1955', 'dato': '0.01250'},\n",
       "     {'fecha': '23/02/1955', 'dato': '0.01250'},\n",
       "     {'fecha': '24/02/1955', 'dato': '0.01250'},\n",
       "     {'fecha': '25/02/1955', 'dato': '0.01250'},\n",
       "     {'fecha': '28/02/1955', 'dato': '0.01250'},\n",
       "     {'fecha': '01/03/1955', 'dato': '0.01250'},\n",
       "     {'fecha': '02/03/1955', 'dato': '0.01250'},\n",
       "     {'fecha': '03/03/1955', 'dato': '0.01250'},\n",
       "     {'fecha': '04/03/1955', 'dato': '0.01250'},\n",
       "     {'fecha': '07/03/1955', 'dato': '0.01250'},\n",
       "     {'fecha': '08/03/1955', 'dato': '0.01250'},\n",
       "     {'fecha': '09/03/1955', 'dato': '0.01250'},\n",
       "     {'fecha': '10/03/1955', 'dato': '0.01250'},\n",
       "     {'fecha': '11/03/1955', 'dato': '0.01250'},\n",
       "     {'fecha': '14/03/1955', 'dato': '0.01250'},\n",
       "     {'fecha': '15/03/1955', 'dato': '0.01250'},\n",
       "     {'fecha': '16/03/1955', 'dato': '0.01250'},\n",
       "     {'fecha': '17/03/1955', 'dato': '0.01250'},\n",
       "     {'fecha': '18/03/1955', 'dato': '0.01250'},\n",
       "     {'fecha': '21/03/1955', 'dato': '0.01250'},\n",
       "     {'fecha': '22/03/1955', 'dato': '0.01250'},\n",
       "     {'fecha': '23/03/1955', 'dato': '0.01250'},\n",
       "     {'fecha': '24/03/1955', 'dato': '0.01250'},\n",
       "     {'fecha': '25/03/1955', 'dato': '0.01250'},\n",
       "     {'fecha': '28/03/1955', 'dato': '0.01250'},\n",
       "     {'fecha': '29/03/1955', 'dato': '0.01250'},\n",
       "     {'fecha': '30/03/1955', 'dato': '0.01250'},\n",
       "     {'fecha': '31/03/1955', 'dato': '0.01250'},\n",
       "     {'fecha': '01/04/1955', 'dato': '0.01250'},\n",
       "     {'fecha': '04/04/1955', 'dato': '0.01250'},\n",
       "     {'fecha': '05/04/1955', 'dato': '0.01250'},\n",
       "     {'fecha': '06/04/1955', 'dato': '0.01250'},\n",
       "     {'fecha': '07/04/1955', 'dato': '0.01250'},\n",
       "     {'fecha': '08/04/1955', 'dato': '0.01250'},\n",
       "     {'fecha': '11/04/1955', 'dato': '0.01250'},\n",
       "     {'fecha': '12/04/1955', 'dato': '0.01250'},\n",
       "     {'fecha': '13/04/1955', 'dato': '0.01250'},\n",
       "     {'fecha': '14/04/1955', 'dato': '0.01250'},\n",
       "     {'fecha': '15/04/1955', 'dato': '0.01250'},\n",
       "     {'fecha': '18/04/1955', 'dato': '0.01250'},\n",
       "     {'fecha': '19/04/1955', 'dato': '0.01250'},\n",
       "     {'fecha': '20/04/1955', 'dato': '0.01250'},\n",
       "     {'fecha': '21/04/1955', 'dato': '0.01250'},\n",
       "     {'fecha': '22/04/1955', 'dato': '0.01250'},\n",
       "     {'fecha': '25/04/1955', 'dato': '0.01250'},\n",
       "     {'fecha': '26/04/1955', 'dato': '0.01250'},\n",
       "     {'fecha': '27/04/1955', 'dato': '0.01250'},\n",
       "     {'fecha': '28/04/1955', 'dato': '0.01250'},\n",
       "     {'fecha': '29/04/1955', 'dato': '0.01250'},\n",
       "     {'fecha': '02/05/1955', 'dato': '0.01250'},\n",
       "     {'fecha': '03/05/1955', 'dato': '0.01250'},\n",
       "     {'fecha': '04/05/1955', 'dato': '0.01250'},\n",
       "     {'fecha': '05/05/1955', 'dato': '0.01250'},\n",
       "     {'fecha': '06/05/1955', 'dato': '0.01250'},\n",
       "     {'fecha': '09/05/1955', 'dato': '0.01250'},\n",
       "     {'fecha': '10/05/1955', 'dato': '0.01250'},\n",
       "     {'fecha': '11/05/1955', 'dato': '0.01250'},\n",
       "     {'fecha': '12/05/1955', 'dato': '0.01250'},\n",
       "     {'fecha': '13/05/1955', 'dato': '0.01250'},\n",
       "     {'fecha': '16/05/1955', 'dato': '0.01250'},\n",
       "     {'fecha': '17/05/1955', 'dato': '0.01250'},\n",
       "     {'fecha': '18/05/1955', 'dato': '0.01250'},\n",
       "     {'fecha': '19/05/1955', 'dato': '0.01250'},\n",
       "     {'fecha': '20/05/1955', 'dato': '0.01250'},\n",
       "     {'fecha': '23/05/1955', 'dato': '0.01250'},\n",
       "     {'fecha': '24/05/1955', 'dato': '0.01250'},\n",
       "     {'fecha': '25/05/1955', 'dato': '0.01250'},\n",
       "     {'fecha': '26/05/1955', 'dato': '0.01250'},\n",
       "     {'fecha': '27/05/1955', 'dato': '0.01250'},\n",
       "     {'fecha': '30/05/1955', 'dato': '0.01250'},\n",
       "     {'fecha': '31/05/1955', 'dato': '0.01250'},\n",
       "     {'fecha': '01/06/1955', 'dato': '0.01250'},\n",
       "     {'fecha': '02/06/1955', 'dato': '0.01250'},\n",
       "     {'fecha': '03/06/1955', 'dato': '0.01250'},\n",
       "     {'fecha': '06/06/1955', 'dato': '0.01250'},\n",
       "     {'fecha': '07/06/1955', 'dato': '0.01250'},\n",
       "     {'fecha': '08/06/1955', 'dato': '0.01250'},\n",
       "     {'fecha': '09/06/1955', 'dato': '0.01250'},\n",
       "     {'fecha': '10/06/1955', 'dato': '0.01250'},\n",
       "     {'fecha': '13/06/1955', 'dato': '0.01250'},\n",
       "     {'fecha': '14/06/1955', 'dato': '0.01250'},\n",
       "     {'fecha': '15/06/1955', 'dato': '0.01250'},\n",
       "     {'fecha': '16/06/1955', 'dato': '0.01250'},\n",
       "     {'fecha': '17/06/1955', 'dato': '0.01250'},\n",
       "     {'fecha': '20/06/1955', 'dato': '0.01250'},\n",
       "     {'fecha': '21/06/1955', 'dato': '0.01250'},\n",
       "     {'fecha': '22/06/1955', 'dato': '0.01250'},\n",
       "     {'fecha': '23/06/1955', 'dato': '0.01250'},\n",
       "     {'fecha': '24/06/1955', 'dato': '0.01250'},\n",
       "     {'fecha': '27/06/1955', 'dato': '0.01250'},\n",
       "     {'fecha': '28/06/1955', 'dato': '0.01250'},\n",
       "     {'fecha': '29/06/1955', 'dato': '0.01250'},\n",
       "     {'fecha': '30/06/1955', 'dato': '0.01250'},\n",
       "     {'fecha': '01/07/1955', 'dato': '0.01250'},\n",
       "     {'fecha': '04/07/1955', 'dato': '0.01250'},\n",
       "     {'fecha': '05/07/1955', 'dato': '0.01250'},\n",
       "     {'fecha': '06/07/1955', 'dato': '0.01250'},\n",
       "     {'fecha': '07/07/1955', 'dato': '0.01250'},\n",
       "     {'fecha': '08/07/1955', 'dato': '0.01250'},\n",
       "     {'fecha': '11/07/1955', 'dato': '0.01250'},\n",
       "     {'fecha': '12/07/1955', 'dato': '0.01250'},\n",
       "     {'fecha': '13/07/1955', 'dato': '0.01250'},\n",
       "     {'fecha': '14/07/1955', 'dato': '0.01250'},\n",
       "     {'fecha': '15/07/1955', 'dato': '0.01250'},\n",
       "     {'fecha': '18/07/1955', 'dato': '0.01250'},\n",
       "     {'fecha': '19/07/1955', 'dato': '0.01250'},\n",
       "     {'fecha': '20/07/1955', 'dato': '0.01250'},\n",
       "     {'fecha': '21/07/1955', 'dato': '0.01250'},\n",
       "     {'fecha': '22/07/1955', 'dato': '0.01250'},\n",
       "     {'fecha': '25/07/1955', 'dato': '0.01250'},\n",
       "     {'fecha': '26/07/1955', 'dato': '0.01250'},\n",
       "     {'fecha': '27/07/1955', 'dato': '0.01250'},\n",
       "     {'fecha': '28/07/1955', 'dato': '0.01250'},\n",
       "     {'fecha': '29/07/1955', 'dato': '0.01250'},\n",
       "     {'fecha': '01/08/1955', 'dato': '0.01250'},\n",
       "     {'fecha': '02/08/1955', 'dato': '0.01250'},\n",
       "     {'fecha': '03/08/1955', 'dato': '0.01250'},\n",
       "     {'fecha': '04/08/1955', 'dato': '0.01250'},\n",
       "     {'fecha': '05/08/1955', 'dato': '0.01250'},\n",
       "     {'fecha': '08/08/1955', 'dato': '0.01250'},\n",
       "     {'fecha': '09/08/1955', 'dato': '0.01250'},\n",
       "     {'fecha': '10/08/1955', 'dato': '0.01250'},\n",
       "     {'fecha': '11/08/1955', 'dato': '0.01250'},\n",
       "     {'fecha': '12/08/1955', 'dato': '0.01250'},\n",
       "     {'fecha': '15/08/1955', 'dato': '0.01250'},\n",
       "     {'fecha': '16/08/1955', 'dato': '0.01250'},\n",
       "     {'fecha': '17/08/1955', 'dato': '0.01250'},\n",
       "     {'fecha': '18/08/1955', 'dato': '0.01250'},\n",
       "     {'fecha': '19/08/1955', 'dato': '0.01250'},\n",
       "     {'fecha': '22/08/1955', 'dato': '0.01250'},\n",
       "     {'fecha': '23/08/1955', 'dato': '0.01250'},\n",
       "     {'fecha': '24/08/1955', 'dato': '0.01250'},\n",
       "     {'fecha': '25/08/1955', 'dato': '0.01250'},\n",
       "     {'fecha': '26/08/1955', 'dato': '0.01250'},\n",
       "     {'fecha': '29/08/1955', 'dato': '0.01250'},\n",
       "     {'fecha': '30/08/1955', 'dato': '0.01250'},\n",
       "     {'fecha': '31/08/1955', 'dato': '0.01250'},\n",
       "     {'fecha': '01/09/1955', 'dato': '0.01250'},\n",
       "     {'fecha': '02/09/1955', 'dato': '0.01250'},\n",
       "     {'fecha': '05/09/1955', 'dato': '0.01250'},\n",
       "     {'fecha': '06/09/1955', 'dato': '0.01250'},\n",
       "     {'fecha': '07/09/1955', 'dato': '0.01250'},\n",
       "     {'fecha': '08/09/1955', 'dato': '0.01250'},\n",
       "     {'fecha': '09/09/1955', 'dato': '0.01250'},\n",
       "     {'fecha': '12/09/1955', 'dato': '0.01250'},\n",
       "     {'fecha': '13/09/1955', 'dato': '0.01250'},\n",
       "     {'fecha': '14/09/1955', 'dato': '0.01250'},\n",
       "     {'fecha': '15/09/1955', 'dato': '0.01250'},\n",
       "     {'fecha': '16/09/1955', 'dato': '0.01250'},\n",
       "     {'fecha': '19/09/1955', 'dato': '0.01250'},\n",
       "     {'fecha': '20/09/1955', 'dato': '0.01250'},\n",
       "     {'fecha': '21/09/1955', 'dato': '0.01250'},\n",
       "     {'fecha': '22/09/1955', 'dato': '0.01250'},\n",
       "     {'fecha': '23/09/1955', 'dato': '0.01250'},\n",
       "     {'fecha': '26/09/1955', 'dato': '0.01250'},\n",
       "     {'fecha': '27/09/1955', 'dato': '0.01250'},\n",
       "     {'fecha': '28/09/1955', 'dato': '0.01250'},\n",
       "     {'fecha': '29/09/1955', 'dato': '0.01250'},\n",
       "     {'fecha': '30/09/1955', 'dato': '0.01250'},\n",
       "     {'fecha': '03/10/1955', 'dato': '0.01250'},\n",
       "     {'fecha': '04/10/1955', 'dato': '0.01250'},\n",
       "     {'fecha': '05/10/1955', 'dato': '0.01250'},\n",
       "     {'fecha': '06/10/1955', 'dato': '0.01250'},\n",
       "     {'fecha': '07/10/1955', 'dato': '0.01250'},\n",
       "     {'fecha': '10/10/1955', 'dato': '0.01250'},\n",
       "     {'fecha': '11/10/1955', 'dato': '0.01250'},\n",
       "     {'fecha': '12/10/1955', 'dato': '0.01250'},\n",
       "     {'fecha': '13/10/1955', 'dato': '0.01250'},\n",
       "     {'fecha': '14/10/1955', 'dato': '0.01250'},\n",
       "     {'fecha': '17/10/1955', 'dato': '0.01250'},\n",
       "     {'fecha': '18/10/1955', 'dato': '0.01250'},\n",
       "     {'fecha': '19/10/1955', 'dato': '0.01250'},\n",
       "     {'fecha': '20/10/1955', 'dato': '0.01250'},\n",
       "     {'fecha': '21/10/1955', 'dato': '0.01250'},\n",
       "     {'fecha': '24/10/1955', 'dato': '0.01250'},\n",
       "     {'fecha': '25/10/1955', 'dato': '0.01250'},\n",
       "     {'fecha': '26/10/1955', 'dato': '0.01250'},\n",
       "     {'fecha': '27/10/1955', 'dato': '0.01250'},\n",
       "     {'fecha': '28/10/1955', 'dato': '0.01250'},\n",
       "     {'fecha': '31/10/1955', 'dato': '0.01250'},\n",
       "     {'fecha': '01/11/1955', 'dato': '0.01250'},\n",
       "     {'fecha': '02/11/1955', 'dato': '0.01250'},\n",
       "     {'fecha': '03/11/1955', 'dato': '0.01250'},\n",
       "     {'fecha': '04/11/1955', 'dato': '0.01250'},\n",
       "     {'fecha': '07/11/1955', 'dato': '0.01250'},\n",
       "     {'fecha': '08/11/1955', 'dato': '0.01250'},\n",
       "     {'fecha': '09/11/1955', 'dato': '0.01250'},\n",
       "     {'fecha': '10/11/1955', 'dato': '0.01250'},\n",
       "     {'fecha': '11/11/1955', 'dato': '0.01250'},\n",
       "     {'fecha': '14/11/1955', 'dato': '0.01250'},\n",
       "     {'fecha': '15/11/1955', 'dato': '0.01250'},\n",
       "     {'fecha': '16/11/1955', 'dato': '0.01250'},\n",
       "     {'fecha': '17/11/1955', 'dato': '0.01250'},\n",
       "     {'fecha': '18/11/1955', 'dato': '0.01250'},\n",
       "     {'fecha': '21/11/1955', 'dato': '0.01250'},\n",
       "     {'fecha': '22/11/1955', 'dato': '0.01250'},\n",
       "     {'fecha': '23/11/1955', 'dato': '0.01250'},\n",
       "     {'fecha': '24/11/1955', 'dato': '0.01250'},\n",
       "     {'fecha': '25/11/1955', 'dato': '0.01250'},\n",
       "     {'fecha': '28/11/1955', 'dato': '0.01250'},\n",
       "     {'fecha': '29/11/1955', 'dato': '0.01250'},\n",
       "     {'fecha': '30/11/1955', 'dato': '0.01250'},\n",
       "     {'fecha': '01/12/1955', 'dato': '0.01250'},\n",
       "     {'fecha': '02/12/1955', 'dato': '0.01250'},\n",
       "     {'fecha': '05/12/1955', 'dato': '0.01250'},\n",
       "     {'fecha': '06/12/1955', 'dato': '0.01250'},\n",
       "     {'fecha': '07/12/1955', 'dato': '0.01250'},\n",
       "     {'fecha': '08/12/1955', 'dato': '0.01250'},\n",
       "     {'fecha': '09/12/1955', 'dato': '0.01250'},\n",
       "     {'fecha': '12/12/1955', 'dato': '0.01250'},\n",
       "     {'fecha': '13/12/1955', 'dato': '0.01250'},\n",
       "     {'fecha': '14/12/1955', 'dato': '0.01250'},\n",
       "     {'fecha': '15/12/1955', 'dato': '0.01250'},\n",
       "     {'fecha': '16/12/1955', 'dato': '0.01250'},\n",
       "     {'fecha': '19/12/1955', 'dato': '0.01250'},\n",
       "     {'fecha': '20/12/1955', 'dato': '0.01250'},\n",
       "     {'fecha': '21/12/1955', 'dato': '0.01250'},\n",
       "     {'fecha': '22/12/1955', 'dato': '0.01250'},\n",
       "     {'fecha': '23/12/1955', 'dato': '0.01250'},\n",
       "     {'fecha': '26/12/1955', 'dato': '0.01250'},\n",
       "     {'fecha': '27/12/1955', 'dato': '0.01250'},\n",
       "     {'fecha': '28/12/1955', 'dato': '0.01250'},\n",
       "     {'fecha': '29/12/1955', 'dato': '0.01250'},\n",
       "     {'fecha': '30/12/1955', 'dato': '0.01250'},\n",
       "     {'fecha': '02/01/1956', 'dato': '0.01250'},\n",
       "     {'fecha': '03/01/1956', 'dato': '0.01250'},\n",
       "     {'fecha': '04/01/1956', 'dato': '0.01250'},\n",
       "     {'fecha': '05/01/1956', 'dato': '0.01250'},\n",
       "     {'fecha': '06/01/1956', 'dato': '0.01250'},\n",
       "     {'fecha': '09/01/1956', 'dato': '0.01250'},\n",
       "     {'fecha': '10/01/1956', 'dato': '0.01250'},\n",
       "     {'fecha': '11/01/1956', 'dato': '0.01250'},\n",
       "     {'fecha': '12/01/1956', 'dato': '0.01250'},\n",
       "     {'fecha': '13/01/1956', 'dato': '0.01250'},\n",
       "     {'fecha': '16/01/1956', 'dato': '0.01250'},\n",
       "     {'fecha': '17/01/1956', 'dato': '0.01250'},\n",
       "     {'fecha': '18/01/1956', 'dato': '0.01250'},\n",
       "     {'fecha': '19/01/1956', 'dato': '0.01250'},\n",
       "     {'fecha': '20/01/1956', 'dato': '0.01250'},\n",
       "     {'fecha': '23/01/1956', 'dato': '0.01250'},\n",
       "     {'fecha': '24/01/1956', 'dato': '0.01250'},\n",
       "     {'fecha': '25/01/1956', 'dato': '0.01250'},\n",
       "     {'fecha': '26/01/1956', 'dato': '0.01250'},\n",
       "     {'fecha': '27/01/1956', 'dato': '0.01250'},\n",
       "     {'fecha': '30/01/1956', 'dato': '0.01250'},\n",
       "     {'fecha': '31/01/1956', 'dato': '0.01250'},\n",
       "     {'fecha': '01/02/1956', 'dato': '0.01250'},\n",
       "     {'fecha': '02/02/1956', 'dato': '0.01250'},\n",
       "     {'fecha': '03/02/1956', 'dato': '0.01250'},\n",
       "     {'fecha': '06/02/1956', 'dato': '0.01250'},\n",
       "     {'fecha': '07/02/1956', 'dato': '0.01250'},\n",
       "     {'fecha': '08/02/1956', 'dato': '0.01250'},\n",
       "     {'fecha': '09/02/1956', 'dato': '0.01250'},\n",
       "     {'fecha': '10/02/1956', 'dato': '0.01250'},\n",
       "     {'fecha': '13/02/1956', 'dato': '0.01250'},\n",
       "     {'fecha': '14/02/1956', 'dato': '0.01250'},\n",
       "     {'fecha': '15/02/1956', 'dato': '0.01250'},\n",
       "     {'fecha': '16/02/1956', 'dato': '0.01250'},\n",
       "     {'fecha': '17/02/1956', 'dato': '0.01250'},\n",
       "     {'fecha': '20/02/1956', 'dato': '0.01250'},\n",
       "     {'fecha': '21/02/1956', 'dato': '0.01250'},\n",
       "     {'fecha': '22/02/1956', 'dato': '0.01250'},\n",
       "     {'fecha': '23/02/1956', 'dato': '0.01250'},\n",
       "     {'fecha': '24/02/1956', 'dato': '0.01250'},\n",
       "     {'fecha': '27/02/1956', 'dato': '0.01250'},\n",
       "     {'fecha': '28/02/1956', 'dato': '0.01250'},\n",
       "     {'fecha': '29/02/1956', 'dato': '0.01250'},\n",
       "     {'fecha': '01/03/1956', 'dato': '0.01250'},\n",
       "     {'fecha': '02/03/1956', 'dato': '0.01250'},\n",
       "     {'fecha': '05/03/1956', 'dato': '0.01250'},\n",
       "     {'fecha': '06/03/1956', 'dato': '0.01250'},\n",
       "     {'fecha': '07/03/1956', 'dato': '0.01250'},\n",
       "     {'fecha': '08/03/1956', 'dato': '0.01250'},\n",
       "     {'fecha': '09/03/1956', 'dato': '0.01250'},\n",
       "     {'fecha': '12/03/1956', 'dato': '0.01250'},\n",
       "     {'fecha': '13/03/1956', 'dato': '0.01250'},\n",
       "     {'fecha': '14/03/1956', 'dato': '0.01250'},\n",
       "     {'fecha': '15/03/1956', 'dato': '0.01250'},\n",
       "     {'fecha': '16/03/1956', 'dato': '0.01250'},\n",
       "     {'fecha': '19/03/1956', 'dato': '0.01250'},\n",
       "     {'fecha': '20/03/1956', 'dato': '0.01250'},\n",
       "     {'fecha': '21/03/1956', 'dato': '0.01250'},\n",
       "     {'fecha': '22/03/1956', 'dato': '0.01250'},\n",
       "     {'fecha': '23/03/1956', 'dato': '0.01250'},\n",
       "     {'fecha': '26/03/1956', 'dato': '0.01250'},\n",
       "     {'fecha': '27/03/1956', 'dato': '0.01250'},\n",
       "     {'fecha': '28/03/1956', 'dato': '0.01250'},\n",
       "     {'fecha': '29/03/1956', 'dato': '0.01250'},\n",
       "     {'fecha': '30/03/1956', 'dato': '0.01250'},\n",
       "     {'fecha': '02/04/1956', 'dato': '0.01250'},\n",
       "     {'fecha': '03/04/1956', 'dato': '0.01250'},\n",
       "     {'fecha': '04/04/1956', 'dato': '0.01250'},\n",
       "     {'fecha': '05/04/1956', 'dato': '0.01250'},\n",
       "     {'fecha': '06/04/1956', 'dato': '0.01250'},\n",
       "     {'fecha': '09/04/1956', 'dato': '0.01250'},\n",
       "     {'fecha': '10/04/1956', 'dato': '0.01250'},\n",
       "     {'fecha': '11/04/1956', 'dato': '0.01250'},\n",
       "     {'fecha': '12/04/1956', 'dato': '0.01250'},\n",
       "     {'fecha': '13/04/1956', 'dato': '0.01250'},\n",
       "     {'fecha': '16/04/1956', 'dato': '0.01250'},\n",
       "     {'fecha': '17/04/1956', 'dato': '0.01250'},\n",
       "     {'fecha': '18/04/1956', 'dato': '0.01250'},\n",
       "     {'fecha': '19/04/1956', 'dato': '0.01250'},\n",
       "     {'fecha': '20/04/1956', 'dato': '0.01250'},\n",
       "     {'fecha': '23/04/1956', 'dato': '0.01250'},\n",
       "     {'fecha': '24/04/1956', 'dato': '0.01250'},\n",
       "     {'fecha': '25/04/1956', 'dato': '0.01250'},\n",
       "     {'fecha': '26/04/1956', 'dato': '0.01250'},\n",
       "     {'fecha': '27/04/1956', 'dato': '0.01250'},\n",
       "     {'fecha': '30/04/1956', 'dato': '0.01250'},\n",
       "     {'fecha': '01/05/1956', 'dato': '0.01250'},\n",
       "     {'fecha': '02/05/1956', 'dato': '0.01250'},\n",
       "     {'fecha': '03/05/1956', 'dato': '0.01250'},\n",
       "     {'fecha': '04/05/1956', 'dato': '0.01250'},\n",
       "     {'fecha': '07/05/1956', 'dato': '0.01250'},\n",
       "     {'fecha': '08/05/1956', 'dato': '0.01250'},\n",
       "     {'fecha': '09/05/1956', 'dato': '0.01250'},\n",
       "     {'fecha': '10/05/1956', 'dato': '0.01250'},\n",
       "     {'fecha': '11/05/1956', 'dato': '0.01250'},\n",
       "     {'fecha': '14/05/1956', 'dato': '0.01250'},\n",
       "     {'fecha': '15/05/1956', 'dato': '0.01250'},\n",
       "     {'fecha': '16/05/1956', 'dato': '0.01250'},\n",
       "     {'fecha': '17/05/1956', 'dato': '0.01250'},\n",
       "     {'fecha': '18/05/1956', 'dato': '0.01250'},\n",
       "     {'fecha': '21/05/1956', 'dato': '0.01250'},\n",
       "     {'fecha': '22/05/1956', 'dato': '0.01250'},\n",
       "     {'fecha': '23/05/1956', 'dato': '0.01250'},\n",
       "     {'fecha': '24/05/1956', 'dato': '0.01250'},\n",
       "     {'fecha': '25/05/1956', 'dato': '0.01250'},\n",
       "     {'fecha': '28/05/1956', 'dato': '0.01250'},\n",
       "     {'fecha': '29/05/1956', 'dato': '0.01250'},\n",
       "     {'fecha': '30/05/1956', 'dato': '0.01250'},\n",
       "     {'fecha': '31/05/1956', 'dato': '0.01250'},\n",
       "     {'fecha': '01/06/1956', 'dato': '0.01250'},\n",
       "     {'fecha': '04/06/1956', 'dato': '0.01250'},\n",
       "     {'fecha': '05/06/1956', 'dato': '0.01250'},\n",
       "     {'fecha': '06/06/1956', 'dato': '0.01250'},\n",
       "     {'fecha': '07/06/1956', 'dato': '0.01250'},\n",
       "     {'fecha': '08/06/1956', 'dato': '0.01250'},\n",
       "     {'fecha': '11/06/1956', 'dato': '0.01250'},\n",
       "     {'fecha': '12/06/1956', 'dato': '0.01250'},\n",
       "     {'fecha': '13/06/1956', 'dato': '0.01250'},\n",
       "     {'fecha': '14/06/1956', 'dato': '0.01250'},\n",
       "     {'fecha': '15/06/1956', 'dato': '0.01250'},\n",
       "     {'fecha': '18/06/1956', 'dato': '0.01250'},\n",
       "     {'fecha': '19/06/1956', 'dato': '0.01250'},\n",
       "     {'fecha': '20/06/1956', 'dato': '0.01250'},\n",
       "     {'fecha': '21/06/1956', 'dato': '0.01250'},\n",
       "     {'fecha': '22/06/1956', 'dato': '0.01250'},\n",
       "     {'fecha': '25/06/1956', 'dato': '0.01250'},\n",
       "     {'fecha': '26/06/1956', 'dato': '0.01250'},\n",
       "     {'fecha': '27/06/1956', 'dato': '0.01250'},\n",
       "     {'fecha': '28/06/1956', 'dato': '0.01250'},\n",
       "     {'fecha': '29/06/1956', 'dato': '0.01250'},\n",
       "     {'fecha': '02/07/1956', 'dato': '0.01250'},\n",
       "     {'fecha': '03/07/1956', 'dato': '0.01250'},\n",
       "     {'fecha': '04/07/1956', 'dato': '0.01250'},\n",
       "     {'fecha': '05/07/1956', 'dato': '0.01250'},\n",
       "     {'fecha': '06/07/1956', 'dato': '0.01250'},\n",
       "     {'fecha': '09/07/1956', 'dato': '0.01250'},\n",
       "     {'fecha': '10/07/1956', 'dato': '0.01250'},\n",
       "     {'fecha': '11/07/1956', 'dato': '0.01250'},\n",
       "     {'fecha': '12/07/1956', 'dato': '0.01250'},\n",
       "     {'fecha': '13/07/1956', 'dato': '0.01250'},\n",
       "     {'fecha': '16/07/1956', 'dato': '0.01250'},\n",
       "     {'fecha': '17/07/1956', 'dato': '0.01250'},\n",
       "     {'fecha': '18/07/1956', 'dato': '0.01250'},\n",
       "     {'fecha': '19/07/1956', 'dato': '0.01250'},\n",
       "     {'fecha': '20/07/1956', 'dato': '0.01250'},\n",
       "     {'fecha': '23/07/1956', 'dato': '0.01250'},\n",
       "     {'fecha': '24/07/1956', 'dato': '0.01250'},\n",
       "     {'fecha': '25/07/1956', 'dato': '0.01250'},\n",
       "     {'fecha': '26/07/1956', 'dato': '0.01250'},\n",
       "     {'fecha': '27/07/1956', 'dato': '0.01250'},\n",
       "     {'fecha': '30/07/1956', 'dato': '0.01250'},\n",
       "     {'fecha': '31/07/1956', 'dato': '0.01250'},\n",
       "     {'fecha': '01/08/1956', 'dato': '0.01250'},\n",
       "     {'fecha': '02/08/1956', 'dato': '0.01250'},\n",
       "     {'fecha': '03/08/1956', 'dato': '0.01250'},\n",
       "     {'fecha': '06/08/1956', 'dato': '0.01250'},\n",
       "     {'fecha': '07/08/1956', 'dato': '0.01250'},\n",
       "     {'fecha': '08/08/1956', 'dato': '0.01250'},\n",
       "     {'fecha': '09/08/1956', 'dato': '0.01250'},\n",
       "     {'fecha': '10/08/1956', 'dato': '0.01250'},\n",
       "     {'fecha': '13/08/1956', 'dato': '0.01250'},\n",
       "     {'fecha': '14/08/1956', 'dato': '0.01250'},\n",
       "     {'fecha': '15/08/1956', 'dato': '0.01250'},\n",
       "     {'fecha': '16/08/1956', 'dato': '0.01250'},\n",
       "     {'fecha': '17/08/1956', 'dato': '0.01250'},\n",
       "     {'fecha': '20/08/1956', 'dato': '0.01250'},\n",
       "     {'fecha': '21/08/1956', 'dato': '0.01250'},\n",
       "     {'fecha': '22/08/1956', 'dato': '0.01250'},\n",
       "     {'fecha': '23/08/1956', 'dato': '0.01250'},\n",
       "     {'fecha': '24/08/1956', 'dato': '0.01250'},\n",
       "     {'fecha': '27/08/1956', 'dato': '0.01250'},\n",
       "     {'fecha': '28/08/1956', 'dato': '0.01250'},\n",
       "     {'fecha': '29/08/1956', 'dato': '0.01250'},\n",
       "     {'fecha': '30/08/1956', 'dato': '0.01250'},\n",
       "     {'fecha': '31/08/1956', 'dato': '0.01250'},\n",
       "     {'fecha': '03/09/1956', 'dato': '0.01250'},\n",
       "     {'fecha': '04/09/1956', 'dato': '0.01250'},\n",
       "     {'fecha': '05/09/1956', 'dato': '0.01250'},\n",
       "     {'fecha': '06/09/1956', 'dato': '0.01250'},\n",
       "     {'fecha': '07/09/1956', 'dato': '0.01250'},\n",
       "     {'fecha': '10/09/1956', 'dato': '0.01250'},\n",
       "     {'fecha': '11/09/1956', 'dato': '0.01250'},\n",
       "     {'fecha': '12/09/1956', 'dato': '0.01250'},\n",
       "     {'fecha': '13/09/1956', 'dato': '0.01250'},\n",
       "     {'fecha': '14/09/1956', 'dato': '0.01250'},\n",
       "     {'fecha': '17/09/1956', 'dato': '0.01250'},\n",
       "     {'fecha': '18/09/1956', 'dato': '0.01250'},\n",
       "     {'fecha': '19/09/1956', 'dato': '0.01250'},\n",
       "     {'fecha': '20/09/1956', 'dato': '0.01250'},\n",
       "     {'fecha': '21/09/1956', 'dato': '0.01250'},\n",
       "     {'fecha': '24/09/1956', 'dato': '0.01250'},\n",
       "     {'fecha': '25/09/1956', 'dato': '0.01250'},\n",
       "     {'fecha': '26/09/1956', 'dato': '0.01250'},\n",
       "     {'fecha': '27/09/1956', 'dato': '0.01250'},\n",
       "     {'fecha': '28/09/1956', 'dato': '0.01250'},\n",
       "     {'fecha': '01/10/1956', 'dato': '0.01250'},\n",
       "     {'fecha': '02/10/1956', 'dato': '0.01250'},\n",
       "     {'fecha': '03/10/1956', 'dato': '0.01250'},\n",
       "     {'fecha': '04/10/1956', 'dato': '0.01250'},\n",
       "     {'fecha': '05/10/1956', 'dato': '0.01250'},\n",
       "     {'fecha': '08/10/1956', 'dato': '0.01250'},\n",
       "     {'fecha': '09/10/1956', 'dato': '0.01250'},\n",
       "     {'fecha': '10/10/1956', 'dato': '0.01250'},\n",
       "     {'fecha': '11/10/1956', 'dato': '0.01250'},\n",
       "     {'fecha': '12/10/1956', 'dato': '0.01250'},\n",
       "     {'fecha': '15/10/1956', 'dato': '0.01250'},\n",
       "     {'fecha': '16/10/1956', 'dato': '0.01250'},\n",
       "     {'fecha': '17/10/1956', 'dato': '0.01250'},\n",
       "     {'fecha': '18/10/1956', 'dato': '0.01250'},\n",
       "     {'fecha': '19/10/1956', 'dato': '0.01250'},\n",
       "     {'fecha': '22/10/1956', 'dato': '0.01250'},\n",
       "     {'fecha': '23/10/1956', 'dato': '0.01250'},\n",
       "     {'fecha': '24/10/1956', 'dato': '0.01250'},\n",
       "     {'fecha': '25/10/1956', 'dato': '0.01250'},\n",
       "     {'fecha': '26/10/1956', 'dato': '0.01250'},\n",
       "     {'fecha': '29/10/1956', 'dato': '0.01250'},\n",
       "     {'fecha': '30/10/1956', 'dato': '0.01250'},\n",
       "     {'fecha': '31/10/1956', 'dato': '0.01250'},\n",
       "     {'fecha': '01/11/1956', 'dato': '0.01250'},\n",
       "     {'fecha': '02/11/1956', 'dato': '0.01250'},\n",
       "     {'fecha': '05/11/1956', 'dato': '0.01250'},\n",
       "     {'fecha': '06/11/1956', 'dato': '0.01250'},\n",
       "     {'fecha': '07/11/1956', 'dato': '0.01250'},\n",
       "     {'fecha': '08/11/1956', 'dato': '0.01250'},\n",
       "     {'fecha': '09/11/1956', 'dato': '0.01250'},\n",
       "     {'fecha': '12/11/1956', 'dato': '0.01250'},\n",
       "     {'fecha': '13/11/1956', 'dato': '0.01250'},\n",
       "     {'fecha': '14/11/1956', 'dato': '0.01250'},\n",
       "     {'fecha': '15/11/1956', 'dato': '0.01250'},\n",
       "     {'fecha': '16/11/1956', 'dato': '0.01250'},\n",
       "     {'fecha': '19/11/1956', 'dato': '0.01250'},\n",
       "     {'fecha': '20/11/1956', 'dato': '0.01250'},\n",
       "     {'fecha': '21/11/1956', 'dato': '0.01250'},\n",
       "     {'fecha': '22/11/1956', 'dato': '0.01250'},\n",
       "     {'fecha': '23/11/1956', 'dato': '0.01250'},\n",
       "     {'fecha': '26/11/1956', 'dato': '0.01250'},\n",
       "     {'fecha': '27/11/1956', 'dato': '0.01250'},\n",
       "     {'fecha': '28/11/1956', 'dato': '0.01250'},\n",
       "     {'fecha': '29/11/1956', 'dato': '0.01250'},\n",
       "     {'fecha': '30/11/1956', 'dato': '0.01250'},\n",
       "     {'fecha': '03/12/1956', 'dato': '0.01250'},\n",
       "     {'fecha': '04/12/1956', 'dato': '0.01250'},\n",
       "     {'fecha': '05/12/1956', 'dato': '0.01250'},\n",
       "     {'fecha': '06/12/1956', 'dato': '0.01250'},\n",
       "     {'fecha': '07/12/1956', 'dato': '0.01250'},\n",
       "     {'fecha': '10/12/1956', 'dato': '0.01250'},\n",
       "     {'fecha': '11/12/1956', 'dato': '0.01250'},\n",
       "     {'fecha': '12/12/1956', 'dato': '0.01250'},\n",
       "     {'fecha': '13/12/1956', 'dato': '0.01250'},\n",
       "     {'fecha': '14/12/1956', 'dato': '0.01250'},\n",
       "     {'fecha': '17/12/1956', 'dato': '0.01250'},\n",
       "     {'fecha': '18/12/1956', 'dato': '0.01250'},\n",
       "     {'fecha': '19/12/1956', 'dato': '0.01250'},\n",
       "     {'fecha': '20/12/1956', 'dato': '0.01250'},\n",
       "     {'fecha': '21/12/1956', 'dato': '0.01250'},\n",
       "     {'fecha': '24/12/1956', 'dato': '0.01250'},\n",
       "     {'fecha': '25/12/1956', 'dato': '0.01250'},\n",
       "     {'fecha': '26/12/1956', 'dato': '0.01250'},\n",
       "     {'fecha': '27/12/1956', 'dato': '0.01250'},\n",
       "     {'fecha': '28/12/1956', 'dato': '0.01250'},\n",
       "     {'fecha': '31/12/1956', 'dato': '0.01250'},\n",
       "     {'fecha': '01/01/1957', 'dato': '0.01250'},\n",
       "     {'fecha': '02/01/1957', 'dato': '0.01250'},\n",
       "     {'fecha': '03/01/1957', 'dato': '0.01250'},\n",
       "     {'fecha': '04/01/1957', 'dato': '0.01250'},\n",
       "     {'fecha': '07/01/1957', 'dato': '0.01250'},\n",
       "     {'fecha': '08/01/1957', 'dato': '0.01250'},\n",
       "     {'fecha': '09/01/1957', 'dato': '0.01250'},\n",
       "     {'fecha': '10/01/1957', 'dato': '0.01250'},\n",
       "     {'fecha': '11/01/1957', 'dato': '0.01250'},\n",
       "     {'fecha': '14/01/1957', 'dato': '0.01250'},\n",
       "     {'fecha': '15/01/1957', 'dato': '0.01250'},\n",
       "     {'fecha': '16/01/1957', 'dato': '0.01250'},\n",
       "     {'fecha': '17/01/1957', 'dato': '0.01250'},\n",
       "     {'fecha': '18/01/1957', 'dato': '0.01250'},\n",
       "     {'fecha': '21/01/1957', 'dato': '0.01250'},\n",
       "     {'fecha': '22/01/1957', 'dato': '0.01250'},\n",
       "     {'fecha': '23/01/1957', 'dato': '0.01250'},\n",
       "     {'fecha': '24/01/1957', 'dato': '0.01250'},\n",
       "     {'fecha': '25/01/1957', 'dato': '0.01250'},\n",
       "     {'fecha': '28/01/1957', 'dato': '0.01250'},\n",
       "     {'fecha': '29/01/1957', 'dato': '0.01250'},\n",
       "     {'fecha': '30/01/1957', 'dato': '0.01250'},\n",
       "     {'fecha': '31/01/1957', 'dato': '0.01250'},\n",
       "     {'fecha': '01/02/1957', 'dato': '0.01250'},\n",
       "     {'fecha': '04/02/1957', 'dato': '0.01250'},\n",
       "     {'fecha': '05/02/1957', 'dato': '0.01250'},\n",
       "     {'fecha': '06/02/1957', 'dato': '0.01250'},\n",
       "     {'fecha': '07/02/1957', 'dato': '0.01250'},\n",
       "     {'fecha': '08/02/1957', 'dato': '0.01250'},\n",
       "     {'fecha': '11/02/1957', 'dato': '0.01250'},\n",
       "     {'fecha': '12/02/1957', 'dato': '0.01250'},\n",
       "     {'fecha': '13/02/1957', 'dato': '0.01250'},\n",
       "     {'fecha': '14/02/1957', 'dato': '0.01250'},\n",
       "     {'fecha': '15/02/1957', 'dato': '0.01250'},\n",
       "     {'fecha': '18/02/1957', 'dato': '0.01250'},\n",
       "     {'fecha': '19/02/1957', 'dato': '0.01250'},\n",
       "     {'fecha': '20/02/1957', 'dato': '0.01250'},\n",
       "     {'fecha': '21/02/1957', 'dato': '0.01250'},\n",
       "     {'fecha': '22/02/1957', 'dato': '0.01250'},\n",
       "     {'fecha': '25/02/1957', 'dato': '0.01250'},\n",
       "     {'fecha': '26/02/1957', 'dato': '0.01250'},\n",
       "     {'fecha': '27/02/1957', 'dato': '0.01250'},\n",
       "     {'fecha': '28/02/1957', 'dato': '0.01250'},\n",
       "     {'fecha': '01/03/1957', 'dato': '0.01250'},\n",
       "     {'fecha': '04/03/1957', 'dato': '0.01250'},\n",
       "     {'fecha': '05/03/1957', 'dato': '0.01250'},\n",
       "     {'fecha': '06/03/1957', 'dato': '0.01250'},\n",
       "     {'fecha': '07/03/1957', 'dato': '0.01250'},\n",
       "     {'fecha': '08/03/1957', 'dato': '0.01250'},\n",
       "     {'fecha': '11/03/1957', 'dato': '0.01250'},\n",
       "     {'fecha': '12/03/1957', 'dato': '0.01250'},\n",
       "     {'fecha': '13/03/1957', 'dato': '0.01250'},\n",
       "     {'fecha': '14/03/1957', 'dato': '0.01250'},\n",
       "     {'fecha': '15/03/1957', 'dato': '0.01250'},\n",
       "     {'fecha': '18/03/1957', 'dato': '0.01250'},\n",
       "     {'fecha': '19/03/1957', 'dato': '0.01250'},\n",
       "     {'fecha': '20/03/1957', 'dato': '0.01250'},\n",
       "     {'fecha': '21/03/1957', 'dato': '0.01250'},\n",
       "     {'fecha': '22/03/1957', 'dato': '0.01250'},\n",
       "     {'fecha': '25/03/1957', 'dato': '0.01250'},\n",
       "     {'fecha': '26/03/1957', 'dato': '0.01250'},\n",
       "     {'fecha': '27/03/1957', 'dato': '0.01250'},\n",
       "     {'fecha': '28/03/1957', 'dato': '0.01250'},\n",
       "     {'fecha': '29/03/1957', 'dato': '0.01250'},\n",
       "     {'fecha': '01/04/1957', 'dato': '0.01250'},\n",
       "     {'fecha': '02/04/1957', 'dato': '0.01250'},\n",
       "     {'fecha': '03/04/1957', 'dato': '0.01250'},\n",
       "     {'fecha': '04/04/1957', 'dato': '0.01250'},\n",
       "     {'fecha': '05/04/1957', 'dato': '0.01250'},\n",
       "     {'fecha': '08/04/1957', 'dato': '0.01250'},\n",
       "     {'fecha': '09/04/1957', 'dato': '0.01250'},\n",
       "     {'fecha': '10/04/1957', 'dato': '0.01250'},\n",
       "     {'fecha': '11/04/1957', 'dato': '0.01250'},\n",
       "     {'fecha': '12/04/1957', 'dato': '0.01250'},\n",
       "     {'fecha': '15/04/1957', 'dato': '0.01250'},\n",
       "     {'fecha': '16/04/1957', 'dato': '0.01250'},\n",
       "     {'fecha': '17/04/1957', 'dato': '0.01250'},\n",
       "     {'fecha': '18/04/1957', 'dato': '0.01250'},\n",
       "     {'fecha': '19/04/1957', 'dato': '0.01250'},\n",
       "     {'fecha': '22/04/1957', 'dato': '0.01250'},\n",
       "     {'fecha': '23/04/1957', 'dato': '0.01250'},\n",
       "     {'fecha': '24/04/1957', 'dato': '0.01250'},\n",
       "     {'fecha': '25/04/1957', 'dato': '0.01250'},\n",
       "     {'fecha': '26/04/1957', 'dato': '0.01250'},\n",
       "     {'fecha': '29/04/1957', 'dato': '0.01250'},\n",
       "     {'fecha': '30/04/1957', 'dato': '0.01250'},\n",
       "     {'fecha': '01/05/1957', 'dato': '0.01250'},\n",
       "     {'fecha': '02/05/1957', 'dato': '0.01250'},\n",
       "     {'fecha': '03/05/1957', 'dato': '0.01250'},\n",
       "     {'fecha': '06/05/1957', 'dato': '0.01250'},\n",
       "     {'fecha': '07/05/1957', 'dato': '0.01250'},\n",
       "     {'fecha': '08/05/1957', 'dato': '0.01250'},\n",
       "     {'fecha': '09/05/1957', 'dato': '0.01250'},\n",
       "     {'fecha': '10/05/1957', 'dato': '0.01250'},\n",
       "     {'fecha': '13/05/1957', 'dato': '0.01250'},\n",
       "     {'fecha': '14/05/1957', 'dato': '0.01250'},\n",
       "     {'fecha': '15/05/1957', 'dato': '0.01250'},\n",
       "     {'fecha': '16/05/1957', 'dato': '0.01250'},\n",
       "     {'fecha': '17/05/1957', 'dato': '0.01250'},\n",
       "     {'fecha': '20/05/1957', 'dato': '0.01250'},\n",
       "     {'fecha': '21/05/1957', 'dato': '0.01250'},\n",
       "     {'fecha': '22/05/1957', 'dato': '0.01250'},\n",
       "     {'fecha': '23/05/1957', 'dato': '0.01250'},\n",
       "     {'fecha': '24/05/1957', 'dato': '0.01250'},\n",
       "     {'fecha': '27/05/1957', 'dato': '0.01250'},\n",
       "     {'fecha': '28/05/1957', 'dato': '0.01250'},\n",
       "     {'fecha': '29/05/1957', 'dato': '0.01250'},\n",
       "     {'fecha': '30/05/1957', 'dato': '0.01250'},\n",
       "     {'fecha': '31/05/1957', 'dato': '0.01250'},\n",
       "     {'fecha': '03/06/1957', 'dato': '0.01250'},\n",
       "     {'fecha': '04/06/1957', 'dato': '0.01250'},\n",
       "     {'fecha': '05/06/1957', 'dato': '0.01250'},\n",
       "     {'fecha': '06/06/1957', 'dato': '0.01250'},\n",
       "     {'fecha': '07/06/1957', 'dato': '0.01250'},\n",
       "     {'fecha': '10/06/1957', 'dato': '0.01250'},\n",
       "     {'fecha': '11/06/1957', 'dato': '0.01250'},\n",
       "     {'fecha': '12/06/1957', 'dato': '0.01250'},\n",
       "     {'fecha': '13/06/1957', 'dato': '0.01250'},\n",
       "     {'fecha': '14/06/1957', 'dato': '0.01250'},\n",
       "     {'fecha': '17/06/1957', 'dato': '0.01250'},\n",
       "     {'fecha': '18/06/1957', 'dato': '0.01250'},\n",
       "     {'fecha': '19/06/1957', 'dato': '0.01250'},\n",
       "     {'fecha': '20/06/1957', 'dato': '0.01250'},\n",
       "     {'fecha': '21/06/1957', 'dato': '0.01250'},\n",
       "     {'fecha': '24/06/1957', 'dato': '0.01250'},\n",
       "     {'fecha': '25/06/1957', 'dato': '0.01250'},\n",
       "     {'fecha': '26/06/1957', 'dato': '0.01250'},\n",
       "     {'fecha': '27/06/1957', 'dato': '0.01250'},\n",
       "     {'fecha': '28/06/1957', 'dato': '0.01250'},\n",
       "     {'fecha': '01/07/1957', 'dato': '0.01250'},\n",
       "     {'fecha': '02/07/1957', 'dato': '0.01250'},\n",
       "     {'fecha': '03/07/1957', 'dato': '0.01250'},\n",
       "     {'fecha': '04/07/1957', 'dato': '0.01250'},\n",
       "     {'fecha': '05/07/1957', 'dato': '0.01250'},\n",
       "     {'fecha': '08/07/1957', 'dato': '0.01250'},\n",
       "     {'fecha': '09/07/1957', 'dato': '0.01250'},\n",
       "     {'fecha': '10/07/1957', 'dato': '0.01250'},\n",
       "     {'fecha': '11/07/1957', 'dato': '0.01250'},\n",
       "     {'fecha': '12/07/1957', 'dato': '0.01250'},\n",
       "     {'fecha': '15/07/1957', 'dato': '0.01250'},\n",
       "     {'fecha': '16/07/1957', 'dato': '0.01250'},\n",
       "     {'fecha': '17/07/1957', 'dato': '0.01250'},\n",
       "     {'fecha': '18/07/1957', 'dato': '0.01250'},\n",
       "     {'fecha': '19/07/1957', 'dato': '0.01250'},\n",
       "     {'fecha': '22/07/1957', 'dato': '0.01250'},\n",
       "     {'fecha': '23/07/1957', 'dato': '0.01250'},\n",
       "     {'fecha': '24/07/1957', 'dato': '0.01250'},\n",
       "     {'fecha': '25/07/1957', 'dato': '0.01250'},\n",
       "     {'fecha': '26/07/1957', 'dato': '0.01250'},\n",
       "     {'fecha': '29/07/1957', 'dato': '0.01250'},\n",
       "     {'fecha': '30/07/1957', 'dato': '0.01250'},\n",
       "     {'fecha': '31/07/1957', 'dato': '0.01250'},\n",
       "     {'fecha': '01/08/1957', 'dato': '0.01250'},\n",
       "     {'fecha': '02/08/1957', 'dato': '0.01250'},\n",
       "     {'fecha': '05/08/1957', 'dato': '0.01250'},\n",
       "     {'fecha': '06/08/1957', 'dato': '0.01250'},\n",
       "     {'fecha': '07/08/1957', 'dato': '0.01250'},\n",
       "     {'fecha': '08/08/1957', 'dato': '0.01250'},\n",
       "     {'fecha': '09/08/1957', 'dato': '0.01250'},\n",
       "     {'fecha': '12/08/1957', 'dato': '0.01250'},\n",
       "     {'fecha': '13/08/1957', 'dato': '0.01250'},\n",
       "     {'fecha': '14/08/1957', 'dato': '0.01250'},\n",
       "     {'fecha': '15/08/1957', 'dato': '0.01250'},\n",
       "     {'fecha': '16/08/1957', 'dato': '0.01250'},\n",
       "     {'fecha': '19/08/1957', 'dato': '0.01250'},\n",
       "     {'fecha': '20/08/1957', 'dato': '0.01250'},\n",
       "     {'fecha': '21/08/1957', 'dato': '0.01250'},\n",
       "     {'fecha': '22/08/1957', 'dato': '0.01250'},\n",
       "     {'fecha': '23/08/1957', 'dato': '0.01250'},\n",
       "     {'fecha': '26/08/1957', 'dato': '0.01250'},\n",
       "     {'fecha': '27/08/1957', 'dato': '0.01250'},\n",
       "     {'fecha': '28/08/1957', 'dato': '0.01250'},\n",
       "     {'fecha': '29/08/1957', 'dato': '0.01250'},\n",
       "     {'fecha': '30/08/1957', 'dato': '0.01250'},\n",
       "     {'fecha': '02/09/1957', 'dato': '0.01250'},\n",
       "     {'fecha': '03/09/1957', 'dato': '0.01250'},\n",
       "     {'fecha': '04/09/1957', 'dato': '0.01250'},\n",
       "     {'fecha': '05/09/1957', 'dato': '0.01250'},\n",
       "     {'fecha': '06/09/1957', 'dato': '0.01250'},\n",
       "     {'fecha': '09/09/1957', 'dato': '0.01250'},\n",
       "     {'fecha': '10/09/1957', 'dato': '0.01250'},\n",
       "     {'fecha': '11/09/1957', 'dato': '0.01250'},\n",
       "     {'fecha': '12/09/1957', 'dato': '0.01250'},\n",
       "     {'fecha': '13/09/1957', 'dato': '0.01250'},\n",
       "     {'fecha': '16/09/1957', 'dato': '0.01250'},\n",
       "     {'fecha': '17/09/1957', 'dato': '0.01250'},\n",
       "     {'fecha': '18/09/1957', 'dato': '0.01250'},\n",
       "     {'fecha': '19/09/1957', 'dato': '0.01250'},\n",
       "     {'fecha': '20/09/1957', 'dato': '0.01250'},\n",
       "     {'fecha': '23/09/1957', 'dato': '0.01250'},\n",
       "     {'fecha': '24/09/1957', 'dato': '0.01250'},\n",
       "     {'fecha': '25/09/1957', 'dato': '0.01250'},\n",
       "     {'fecha': '26/09/1957', 'dato': '0.01250'},\n",
       "     {'fecha': '27/09/1957', 'dato': '0.01250'},\n",
       "     {'fecha': '30/09/1957', 'dato': '0.01250'},\n",
       "     {'fecha': '01/10/1957', 'dato': '0.01250'},\n",
       "     {'fecha': '02/10/1957', 'dato': '0.01250'},\n",
       "     {'fecha': '03/10/1957', 'dato': '0.01250'},\n",
       "     {'fecha': '04/10/1957', 'dato': '0.01250'},\n",
       "     {'fecha': '07/10/1957', 'dato': '0.01250'},\n",
       "     {'fecha': '08/10/1957', 'dato': '0.01250'},\n",
       "     {'fecha': '09/10/1957', 'dato': '0.01250'},\n",
       "     {'fecha': '10/10/1957', 'dato': '0.01250'},\n",
       "     {'fecha': '11/10/1957', 'dato': '0.01250'},\n",
       "     {'fecha': '14/10/1957', 'dato': '0.01250'},\n",
       "     {'fecha': '15/10/1957', 'dato': '0.01250'},\n",
       "     {'fecha': '16/10/1957', 'dato': '0.01250'},\n",
       "     {'fecha': '17/10/1957', 'dato': '0.01250'},\n",
       "     {'fecha': '18/10/1957', 'dato': '0.01250'},\n",
       "     {'fecha': '21/10/1957', 'dato': '0.01250'},\n",
       "     {'fecha': '22/10/1957', 'dato': '0.01250'},\n",
       "     {'fecha': '23/10/1957', 'dato': '0.01250'},\n",
       "     {'fecha': '24/10/1957', 'dato': '0.01250'},\n",
       "     {'fecha': '25/10/1957', 'dato': '0.01250'},\n",
       "     {'fecha': '28/10/1957', 'dato': '0.01250'},\n",
       "     {'fecha': '29/10/1957', 'dato': '0.01250'},\n",
       "     {'fecha': '30/10/1957', 'dato': '0.01250'},\n",
       "     {'fecha': '31/10/1957', 'dato': '0.01250'},\n",
       "     {'fecha': '01/11/1957', 'dato': '0.01250'},\n",
       "     {'fecha': '04/11/1957', 'dato': '0.01250'},\n",
       "     {'fecha': '05/11/1957', 'dato': '0.01250'},\n",
       "     {'fecha': '06/11/1957', 'dato': '0.01250'},\n",
       "     {'fecha': '07/11/1957', 'dato': '0.01250'},\n",
       "     {'fecha': '08/11/1957', 'dato': '0.01250'},\n",
       "     {'fecha': '11/11/1957', 'dato': '0.01250'},\n",
       "     {'fecha': '12/11/1957', 'dato': '0.01250'},\n",
       "     {'fecha': '13/11/1957', 'dato': '0.01250'},\n",
       "     {'fecha': '14/11/1957', 'dato': '0.01250'},\n",
       "     {'fecha': '15/11/1957', 'dato': '0.01250'},\n",
       "     {'fecha': '18/11/1957', 'dato': '0.01250'},\n",
       "     {'fecha': '19/11/1957', 'dato': '0.01250'},\n",
       "     {'fecha': '20/11/1957', 'dato': '0.01250'},\n",
       "     {'fecha': '21/11/1957', 'dato': '0.01250'},\n",
       "     {'fecha': '22/11/1957', 'dato': '0.01250'},\n",
       "     {'fecha': '25/11/1957', 'dato': '0.01250'},\n",
       "     {'fecha': '26/11/1957', 'dato': '0.01250'},\n",
       "     {'fecha': '27/11/1957', 'dato': '0.01250'},\n",
       "     {'fecha': '28/11/1957', 'dato': '0.01250'},\n",
       "     {'fecha': '29/11/1957', 'dato': '0.01250'},\n",
       "     {'fecha': '02/12/1957', 'dato': '0.01250'},\n",
       "     {'fecha': '03/12/1957', 'dato': '0.01250'},\n",
       "     {'fecha': '04/12/1957', 'dato': '0.01250'},\n",
       "     {'fecha': '05/12/1957', 'dato': '0.01250'},\n",
       "     {'fecha': '06/12/1957', 'dato': '0.01250'},\n",
       "     {'fecha': '09/12/1957', 'dato': '0.01250'},\n",
       "     {'fecha': '10/12/1957', 'dato': '0.01250'},\n",
       "     {'fecha': '11/12/1957', 'dato': '0.01250'},\n",
       "     {'fecha': '12/12/1957', 'dato': '0.01250'},\n",
       "     {'fecha': '13/12/1957', 'dato': '0.01250'},\n",
       "     {'fecha': '16/12/1957', 'dato': '0.01250'},\n",
       "     {'fecha': '17/12/1957', 'dato': '0.01250'},\n",
       "     {'fecha': '18/12/1957', 'dato': '0.01250'},\n",
       "     {'fecha': '19/12/1957', 'dato': '0.01250'},\n",
       "     {'fecha': '20/12/1957', 'dato': '0.01250'},\n",
       "     {'fecha': '23/12/1957', 'dato': '0.01250'},\n",
       "     {'fecha': '24/12/1957', 'dato': '0.01250'},\n",
       "     {'fecha': '25/12/1957', 'dato': '0.01250'},\n",
       "     {'fecha': '26/12/1957', 'dato': '0.01250'},\n",
       "     {'fecha': '27/12/1957', 'dato': '0.01250'},\n",
       "     {'fecha': '30/12/1957', 'dato': '0.01250'},\n",
       "     {'fecha': '31/12/1957', 'dato': '0.01250'},\n",
       "     {'fecha': '01/01/1958', 'dato': '0.01250'},\n",
       "     {'fecha': '02/01/1958', 'dato': '0.01250'},\n",
       "     {'fecha': '03/01/1958', 'dato': '0.01250'},\n",
       "     {'fecha': '06/01/1958', 'dato': '0.01250'},\n",
       "     {'fecha': '07/01/1958', 'dato': '0.01250'},\n",
       "     {'fecha': '08/01/1958', 'dato': '0.01250'},\n",
       "     {'fecha': '09/01/1958', 'dato': '0.01250'},\n",
       "     {'fecha': '10/01/1958', 'dato': '0.01250'},\n",
       "     {'fecha': '13/01/1958', 'dato': '0.01250'},\n",
       "     {'fecha': '14/01/1958', 'dato': '0.01250'},\n",
       "     {'fecha': '15/01/1958', 'dato': '0.01250'},\n",
       "     {'fecha': '16/01/1958', 'dato': '0.01250'},\n",
       "     {'fecha': '17/01/1958', 'dato': '0.01250'},\n",
       "     {'fecha': '20/01/1958', 'dato': '0.01250'},\n",
       "     {'fecha': '21/01/1958', 'dato': '0.01250'},\n",
       "     {'fecha': '22/01/1958', 'dato': '0.01250'},\n",
       "     {'fecha': '23/01/1958', 'dato': '0.01250'},\n",
       "     {'fecha': '24/01/1958', 'dato': '0.01250'},\n",
       "     {'fecha': '27/01/1958', 'dato': '0.01250'},\n",
       "     {'fecha': '28/01/1958', 'dato': '0.01250'},\n",
       "     {'fecha': '29/01/1958', 'dato': '0.01250'},\n",
       "     {'fecha': '30/01/1958', 'dato': '0.01250'},\n",
       "     {'fecha': '31/01/1958', 'dato': '0.01250'},\n",
       "     {'fecha': '03/02/1958', 'dato': '0.01250'},\n",
       "     {'fecha': '04/02/1958', 'dato': '0.01250'},\n",
       "     {'fecha': '05/02/1958', 'dato': '0.01250'},\n",
       "     {'fecha': '06/02/1958', 'dato': '0.01250'},\n",
       "     {'fecha': '07/02/1958', 'dato': '0.01250'},\n",
       "     {'fecha': '10/02/1958', 'dato': '0.01250'},\n",
       "     {'fecha': '11/02/1958', 'dato': '0.01250'},\n",
       "     {'fecha': '12/02/1958', 'dato': '0.01250'},\n",
       "     {'fecha': '13/02/1958', 'dato': '0.01250'},\n",
       "     {'fecha': '14/02/1958', 'dato': '0.01250'},\n",
       "     ...]}]}}"
      ]
     },
     "execution_count": 10,
     "metadata": {},
     "output_type": "execute_result"
    }
   ],
   "source": [
    "datos"
   ]
  },
  {
   "cell_type": "code",
   "execution_count": 11,
   "id": "94303d73-4fbf-485f-a4cc-d408fcb4180c",
   "metadata": {
    "scrolled": true
   },
   "outputs": [],
   "source": [
    "fix = datos['bmx']['series'][0]['datos']"
   ]
  },
  {
   "cell_type": "code",
   "execution_count": 12,
   "id": "eceaeca8-8edd-4044-af8e-3c42419cdd9e",
   "metadata": {},
   "outputs": [],
   "source": [
    "df = pd.DataFrame(fix)"
   ]
  },
  {
   "cell_type": "code",
   "execution_count": 13,
   "id": "babd3931-458a-401f-a6e8-f030859016f8",
   "metadata": {},
   "outputs": [
    {
     "data": {
      "text/html": [
       "<div>\n",
       "<style scoped>\n",
       "    .dataframe tbody tr th:only-of-type {\n",
       "        vertical-align: middle;\n",
       "    }\n",
       "\n",
       "    .dataframe tbody tr th {\n",
       "        vertical-align: top;\n",
       "    }\n",
       "\n",
       "    .dataframe thead th {\n",
       "        text-align: right;\n",
       "    }\n",
       "</style>\n",
       "<table border=\"1\" class=\"dataframe\">\n",
       "  <thead>\n",
       "    <tr style=\"text-align: right;\">\n",
       "      <th></th>\n",
       "      <th>fecha</th>\n",
       "      <th>dato</th>\n",
       "    </tr>\n",
       "  </thead>\n",
       "  <tbody>\n",
       "    <tr>\n",
       "      <th>0</th>\n",
       "      <td>19/04/1954</td>\n",
       "      <td>0.01250</td>\n",
       "    </tr>\n",
       "    <tr>\n",
       "      <th>1</th>\n",
       "      <td>20/04/1954</td>\n",
       "      <td>0.01250</td>\n",
       "    </tr>\n",
       "    <tr>\n",
       "      <th>2</th>\n",
       "      <td>21/04/1954</td>\n",
       "      <td>0.01250</td>\n",
       "    </tr>\n",
       "    <tr>\n",
       "      <th>3</th>\n",
       "      <td>22/04/1954</td>\n",
       "      <td>0.01250</td>\n",
       "    </tr>\n",
       "    <tr>\n",
       "      <th>4</th>\n",
       "      <td>23/04/1954</td>\n",
       "      <td>0.01250</td>\n",
       "    </tr>\n",
       "    <tr>\n",
       "      <th>...</th>\n",
       "      <td>...</td>\n",
       "      <td>...</td>\n",
       "    </tr>\n",
       "    <tr>\n",
       "      <th>17901</th>\n",
       "      <td>07/10/2024</td>\n",
       "      <td>19.33880</td>\n",
       "    </tr>\n",
       "    <tr>\n",
       "      <th>17902</th>\n",
       "      <td>08/10/2024</td>\n",
       "      <td>19.35320</td>\n",
       "    </tr>\n",
       "    <tr>\n",
       "      <th>17903</th>\n",
       "      <td>09/10/2024</td>\n",
       "      <td>19.41750</td>\n",
       "    </tr>\n",
       "    <tr>\n",
       "      <th>17904</th>\n",
       "      <td>10/10/2024</td>\n",
       "      <td>19.51130</td>\n",
       "    </tr>\n",
       "    <tr>\n",
       "      <th>17905</th>\n",
       "      <td>11/10/2024</td>\n",
       "      <td>19.39830</td>\n",
       "    </tr>\n",
       "  </tbody>\n",
       "</table>\n",
       "<p>17906 rows × 2 columns</p>\n",
       "</div>"
      ],
      "text/plain": [
       "            fecha      dato\n",
       "0      19/04/1954   0.01250\n",
       "1      20/04/1954   0.01250\n",
       "2      21/04/1954   0.01250\n",
       "3      22/04/1954   0.01250\n",
       "4      23/04/1954   0.01250\n",
       "...           ...       ...\n",
       "17901  07/10/2024  19.33880\n",
       "17902  08/10/2024  19.35320\n",
       "17903  09/10/2024  19.41750\n",
       "17904  10/10/2024  19.51130\n",
       "17905  11/10/2024  19.39830\n",
       "\n",
       "[17906 rows x 2 columns]"
      ]
     },
     "execution_count": 13,
     "metadata": {},
     "output_type": "execute_result"
    }
   ],
   "source": [
    "df"
   ]
  },
  {
   "cell_type": "code",
   "execution_count": 14,
   "id": "09985094-f927-4c8d-8eda-714db421653b",
   "metadata": {},
   "outputs": [
    {
     "name": "stdout",
     "output_type": "stream",
     "text": [
      "<class 'pandas.core.frame.DataFrame'>\n",
      "RangeIndex: 17906 entries, 0 to 17905\n",
      "Data columns (total 2 columns):\n",
      " #   Column  Non-Null Count  Dtype \n",
      "---  ------  --------------  ----- \n",
      " 0   fecha   17906 non-null  object\n",
      " 1   dato    17906 non-null  object\n",
      "dtypes: object(2)\n",
      "memory usage: 279.9+ KB\n"
     ]
    }
   ],
   "source": [
    "df.info()"
   ]
  },
  {
   "cell_type": "markdown",
   "id": "30479008-f56a-4283-8f47-278fe41f28c9",
   "metadata": {
    "tags": []
   },
   "source": [
    "## <font color='#2B17B0'>RETORNOS</font>"
   ]
  },
  {
   "cell_type": "markdown",
   "id": "49db3f67-3045-40c3-ad2d-dcb04fdd6fec",
   "metadata": {},
   "source": [
    "La gráfica a continuación ilustra que ambos activos (activo naranja y el activo azul) poseen un Retorno Promedio de 1% tras 12 periodos. Basarse exclusivamente en Retornos Promedios podría conducirnos a conclusiones incorrectas. Esta visualización subraya la relevancia de entender cómo se comportan y se componen los retornos y sus respectivas volatilidades."
   ]
  },
  {
   "cell_type": "markdown",
   "id": "c4236156-cb32-4e39-9538-da3992f08342",
   "metadata": {},
   "source": [
    "![Image](https://dl.dropboxusercontent.com/scl/fi/b7wdy8tro4bplu2bp9fpj/retornos_mensuales.png?rlkey=7rt23vi2scfl0uz3tdwrnrx2f&dl=0)"
   ]
  },
  {
   "cell_type": "markdown",
   "id": "25f4a79f-fe6c-4115-bc90-d1bc6f2a631b",
   "metadata": {},
   "source": [
    "La gráfica siguiente refleja el saldo resultante de invertir $100 en cada uno de los activos azul y naranja"
   ]
  },
  {
   "cell_type": "markdown",
   "id": "17795b87-4abd-4310-b7bd-6652e9a0fea0",
   "metadata": {},
   "source": [
    "![Image](https://dl.dropboxusercontent.com/scl/fi/u0qygnfbfrh9cu1iscgdy/desempeno_inversion.png?rlkey=i1r2nl1xlqb306w27mlhvl3or&dl=0)"
   ]
  },
  {
   "cell_type": "markdown",
   "id": "870552db-4ca3-4cc8-a4ab-6b8bd9510d1b",
   "metadata": {},
   "source": [
    "Puntos clave de la gráfica \"Demepeño de invertir \\$100 en cada activo\":\n",
    "* *Inversión inicial de $100 en ambos activos*\n",
    "* _Evolución de los activos durante el año:_\n",
    "    * _Activo azul: crecimiento estable y positivo_\n",
    "    * _Activo naranja: comportamiento volátil_\n",
    "* _Activos con el mismo __retorno promedio mensual__ al final del periodo_\n",
    "* _No confundir retorno promedio con ganancias finales_"
   ]
  },
  {
   "cell_type": "markdown",
   "id": "f2db3847-7ef6-401a-82f9-c63ca3e821d4",
   "metadata": {},
   "source": [
    "> _El **retorno** es un indicador esencial que refleja la ganancia o pérdida en una inversión en comparación con la cantidad invertida inicialmente, y se expresa en forma de porcentaje o decimal. Este indicador nos permite evaluar el desempeño de las inversiones, comparar diversas opciones y tomar decisiones fundamentadas en la asignación de recursos. Alcanzar el equilibrio adecuado entre riesgo y retorno es crucial para desarrollar una estrategia de inversión exitosa._<br><br>\n",
    "> _**IMPORTANTE**: Por lo general los rendimientos **más altos**  conllevan **mayores riesgos**._<br>"
   ]
  },
  {
   "cell_type": "markdown",
   "id": "567561d6-4302-4d7c-a700-cfebbf1aac61",
   "metadata": {},
   "source": [
    "El cálculo del retorno aritmético es directo; se realiza restando el precio de compra al precio de venta y dividiendo el resultado entre el precio de compra. También se puede expresar como la relación entre el precio de venta y el de compra, menos uno."
   ]
  },
  {
   "cell_type": "markdown",
   "id": "d1062e76-ee8a-4d6b-aed1-f20ecc10f9f1",
   "metadata": {},
   "source": [
    "<br><br>\n",
    "$$\\Large R=\\frac{P_1-P_0}{P_0}\\rightarrow R=\\frac{P_1}{P_0}-1$$"
   ]
  },
  {
   "cell_type": "markdown",
   "id": "b7475387-efbd-4d2b-a83e-43f14b16d8e2",
   "metadata": {},
   "source": [
    "Al calcular el retorno de un activo que ha generado flujos adicionales de efectivo durante el periodo de tenencia, como los dividendos de una acción, estos flujos adicionales deben ser incluidos."
   ]
  },
  {
   "cell_type": "markdown",
   "id": "766ab4c0-e5a1-48cf-8fe0-b31de7045986",
   "metadata": {},
   "source": [
    "<br><br>\n",
    "$$\\Large R=\\frac{P_1+Div_{t_0, t_1}-P_0}{P_0}\\rightarrow R=\\frac{P_1+Div_{t_0, t_1}}{P_0}-1$$"
   ]
  },
  {
   "cell_type": "markdown",
   "id": "4ecc75ab-bbf7-4d94-8436-5e8bfd8c2d4c",
   "metadata": {},
   "source": [
    "### <font color='#2B17B0'>FLUJOS DE EFECTIVOS Y RETORNOS ENTRE MULTIPLES PERIODOS</font>"
   ]
  },
  {
   "cell_type": "markdown",
   "id": "d8635b14-42e6-4421-9814-88e900639dde",
   "metadata": {
    "tags": []
   },
   "source": [
    "### Flujos de efectivo"
   ]
  },
  {
   "cell_type": "markdown",
   "id": "ab3595e5-6701-44e5-b0ea-2345ddcafb5c",
   "metadata": {},
   "source": [
    "> _Los flujos de efectivo representan el movimiento de dinero que se recibe o se gasta a lo largo de un período determinado. Estos flujos pueden ser entrantes (dinero recibido) o salientes (dinero gastado), y su ocurrencia puede ser regular o esporádica._\n",
    "<br><br>\n",
    "> _Visualizar el flujo de efectivo en un gráfico facilita la comprensión de los datos financieros complejos, mejorando así la toma de decisiones. Los gráficos muestran la dirección de los flujos (entrantes o salientes), las cantidades de dinero, el número de períodos y la frecuencia con la que ocurren._"
   ]
  },
  {
   "cell_type": "markdown",
   "id": "2af393f4-f23a-4713-b28b-1e502efe18fb",
   "metadata": {},
   "source": [
    "Supongamos que contamos con tres flujos de ingresos positivos de 140, 189, y 195 para los periodos $t_0$, $t_1$ y $t_2$ respectivamente.  Podemos representar estos flujos gráficamente de la siguiente forma:"
   ]
  },
  {
   "cell_type": "markdown",
   "id": "d60bb661-bde5-42ef-8c80-c7fda8090bbe",
   "metadata": {},
   "source": [
    "![Image](https://dl.dropboxusercontent.com/scl/fi/k4vrvw71s9kw5j16hzq17/flujos_periodo.png?rlkey=yu3c96xo5x3izv0sno4wi4h7n&dl=0)"
   ]
  },
  {
   "cell_type": "markdown",
   "id": "b50defa2-0607-4d36-8c35-023ed8f1cc83",
   "metadata": {},
   "source": [
    "Los ingresos o flujos positivos se representan en la parte superior de cada periodo, mientras que los flujos negativos o egresos se expresan en la parte inferior.<br><br>"
   ]
  },
  {
   "cell_type": "markdown",
   "id": "822f5315-5d97-40b0-98ea-4415618f5d8f",
   "metadata": {
    "tags": []
   },
   "source": [
    "### Calcular el retorno de los flujos de $t_0$ a $t_1$ y de $t_1$ a $t_2$"
   ]
  },
  {
   "cell_type": "markdown",
   "id": "70cf813a-5d7e-4980-a871-e900fd2fdc4f",
   "metadata": {},
   "source": [
    "Para determinar el retorno de estos flujos, procederemos paso a paso. A modo de ejemplo, calcularemos inicialmente los retornos entre los periodos de $t_0$ a $t_1$ y de $t_1$ a $t_2$"
   ]
  },
  {
   "cell_type": "markdown",
   "id": "15930682-511a-4610-b94b-f36cb4a9116d",
   "metadata": {},
   "source": [
    "![Image](https://dl.dropboxusercontent.com/scl/fi/7ccrpxhi9vqt1mfcpfbuu/retorno_periodo.png?rlkey=r5c8wno09mxna74q918m46mwl&dl=0)"
   ]
  },
  {
   "cell_type": "markdown",
   "id": "845fae1e-8cc3-49e8-94ec-15624e9a81b7",
   "metadata": {},
   "source": [
    "$\\large R_{0,1} = \\frac{189}{140} - 1$"
   ]
  },
  {
   "cell_type": "code",
   "execution_count": 15,
   "id": "6df68d83-8060-4121-a1cb-e782e4d5e9bd",
   "metadata": {},
   "outputs": [
    {
     "data": {
      "text/plain": [
       "0.3500000000000001"
      ]
     },
     "execution_count": 15,
     "metadata": {},
     "output_type": "execute_result"
    }
   ],
   "source": [
    "189/140 - 1"
   ]
  },
  {
   "cell_type": "markdown",
   "id": "8df07244-5f2f-4e79-8eb4-ecb22d1ca4cc",
   "metadata": {},
   "source": [
    "$\\large R_{1,2} = \\frac{195}{189} - 1$"
   ]
  },
  {
   "cell_type": "code",
   "execution_count": null,
   "id": "4c882aa0-25c0-46a2-9c14-a9aba588c5f6",
   "metadata": {},
   "outputs": [],
   "source": []
  },
  {
   "cell_type": "markdown",
   "id": "7a7f912c-29db-428b-a1bd-d0e5a6d272a2",
   "metadata": {
    "tags": []
   },
   "source": [
    "### Calcular el retorno múltiple o compuesto de $t_0$ a $t_2$"
   ]
  },
  {
   "cell_type": "markdown",
   "id": "adee56bf-5b99-49a6-929d-3e6fc99ce02b",
   "metadata": {
    "tags": []
   },
   "source": [
    "> *El retorno de múltiples periodos es la medida acumulativa de la ganancia o pérdida de una inversión a lo largo de varios intervalos de tiempo consecutivos, reflejando el efecto compuesto de los retornos en cada periodo.*\n",
    "\n",
    "Ya sabemos los retornos de $t_0$ a $t_1$ y de $t_1$ a $t_2$.  Ahora el reto es calcular el retorno de los multiples períodos!"
   ]
  },
  {
   "cell_type": "markdown",
   "id": "e601a1f4-49f1-4858-9e99-4375766f666a",
   "metadata": {},
   "source": [
    "![Image](https://dl.dropboxusercontent.com/scl/fi/89iafhshon8fng5415kci/retorno_multiples_periodos.png?rlkey=d6wluqutujqsl1wj24gjdkg3f&dl=0)"
   ]
  },
  {
   "cell_type": "markdown",
   "id": "f02eb23f-6a43-42df-8ddc-fe4c5279c6d8",
   "metadata": {},
   "source": [
    "#### Cálculo intuitivo"
   ]
  },
  {
   "cell_type": "markdown",
   "id": "6679d7f6-53bb-4e52-bdfd-7c4c9f155be8",
   "metadata": {},
   "source": [
    "Quizá una manera intuitiva de calcular el retorno de los múltiples períodos sería calcular el retorno entre $t_0$ y $t_2$:\n",
    "\n",
    "$\\large R_{0,2}=\\frac{195}{140}-1$<br><br>"
   ]
  },
  {
   "cell_type": "code",
   "execution_count": 16,
   "id": "c325f874-097d-4913-8e94-6a74ea9cdc61",
   "metadata": {},
   "outputs": [
    {
     "data": {
      "text/plain": [
       "0.3928571428571428"
      ]
     },
     "execution_count": 16,
     "metadata": {},
     "output_type": "execute_result"
    }
   ],
   "source": [
    "195/140 - 1"
   ]
  },
  {
   "cell_type": "markdown",
   "id": "744ad766-b4cb-4321-a912-0615558b7f80",
   "metadata": {},
   "source": [
    "Y hasta podemos comprobarlo:"
   ]
  },
  {
   "cell_type": "code",
   "execution_count": null,
   "id": "970e6c59-8f6c-4c20-9bfc-b3b058a6597d",
   "metadata": {},
   "outputs": [],
   "source": []
  },
  {
   "cell_type": "markdown",
   "id": "3b332b8c-3d40-4058-b72d-030d1f4f8921",
   "metadata": {},
   "source": [
    "*__Sin embargo__*, esto no refleja el retorno compuesto. El retorno compuesto se calcula a partir de los retornos intermedios o, en otras palabras, utilizando los retornos entre periodos. Este método considera el efecto de la reinversión de los retornos obtenidos en cada periodo, ofreciendo una visión más exacta del rendimiento total de una inversión a lo largo del tiempo, sobre todo cuando los rendimientos fluctúan.\n",
    "\n",
    "Calcular el interés compuesto también es muy sencillo:<br>\n",
    "$\\large R_{t_0,t_2}=(1+R_{t_0,t_1})(1+R_{t_1,t_2})-1$\n",
    "<br><br>\n",
    "$\\large R_{t_0,t_n}=(1+R_{t_0,t_1})(1+R_{t_1,t_2}) \\ldots (1+R_{t_{n-1},t_n})-1\\text{, donde } t_n \\text{repesenta el tiempo en el periodo \"n\"}$ <br><br>\n",
    "\n",
    "Recordemos los retornos $R_{0,1}$ y $R_{1,2}$"
   ]
  },
  {
   "cell_type": "code",
   "execution_count": 17,
   "id": "f5aed936-8733-4bbd-b7aa-81e748d345f3",
   "metadata": {},
   "outputs": [
    {
     "data": {
      "text/plain": [
       "0.3932000000000002"
      ]
     },
     "execution_count": 17,
     "metadata": {},
     "output_type": "execute_result"
    }
   ],
   "source": [
    "((1+.35) * (1 + 0.032)) - 1"
   ]
  },
  {
   "cell_type": "markdown",
   "id": "d024a09f-5b00-4cb1-9a91-f64d19e194b9",
   "metadata": {},
   "source": [
    "El retorno compuesto de $t_0$ a $t_2$ lo calculamos de la siguinete manera:<br>\n",
    "$R_{0,2} = (1+0.35) * (1+0.0317) - 1$"
   ]
  },
  {
   "cell_type": "code",
   "execution_count": null,
   "id": "816607fe-36e6-4545-989d-3c88ba8a1fc8",
   "metadata": {},
   "outputs": [],
   "source": []
  },
  {
   "cell_type": "markdown",
   "id": "e03dfc27-3a38-4b95-b91d-a9ff87bb3b48",
   "metadata": {
    "tags": []
   },
   "source": [
    "### Retorno Anualizado"
   ]
  },
  {
   "cell_type": "markdown",
   "id": "ec0ef3d0-ccfe-4f9d-941b-34649cd5391e",
   "metadata": {},
   "source": [
    "Anualizar retornos es fundamental para realizar comparaciones exactas y equitativas de la rentabilidad de distintas inversiones, especialmente cuando los periodos de inversión difieren. Convertir todos los retornos a una base anual nos permite realizar comparaciones equitativas entre diferentes escalas temporales de inversión.\n",
    "\n",
    "Por ejemplo, al comparar una inversión que ha rendido un 6% en 6 meses con una que ha rendido un 10% en un año, a primera vista, la segunda podría parecer más rentable. No obstante, al anualizar los retornos, podríamos encontrar que la primera inversión, si se mantiene durante un año completo, ofrecería un rendimiento superior, facilitando así una evaluación más precisa y justa."
   ]
  },
  {
   "cell_type": "markdown",
   "id": "f6a5b43f-7880-4f2b-9e68-35c07db3e0bd",
   "metadata": {},
   "source": [
    "$$\\Large R_{a}=(1+R_{P})^{\\frac{PeriodosPorAño}{NúmeroDePeriodos}}-1$$\n",
    "Donde<br>\n",
    "* $R_a$: Retorno anualizado<br>\n",
    "* $R_P$: Retorno del periodos<br>\n",
    "* $PeriodosPorAño$:  Números de periodos presentes en un año<br>\n",
    "* $NúmeroDePeriodos$:  Números de periodos que representa el $R_p$"
   ]
  },
  {
   "cell_type": "markdown",
   "id": "e0b16f13-4d06-420b-bf82-f48b23c93255",
   "metadata": {},
   "source": [
    "|Frecuencia|Fórmula|\n",
    "|:-:|:-:|\n",
    "|Diaria*|$$(1+R_p)^{252}-1$$|\n",
    "|Mensual|$$(1+R_p)^{12}-1$$|\n",
    "|Bimestral|$$(1+R_p)^{6}-1$$|\n",
    "|Trimestral|$$(1+R_p)^{4}-1$$|\n",
    "|Semestral|$$(1+R_p)^{2}-1$$|\n",
    "\n",
    "* _NOTA_:  Se utilizan 252 días para incluir solo los días en que los mercados están operativos, excluyendo fines de semana y días festivos. Sin embargo, en mercados que operan continuamente como los de divisas (FX) o criptomonedas, se emplean 365 días, dado que estos mercados funcionan 24/7."
   ]
  },
  {
   "cell_type": "markdown",
   "id": "7ff03ee5-d327-400c-a7e8-ba5c3bf5f57b",
   "metadata": {},
   "source": [
    "#### Anualizar retorno diario"
   ]
  },
  {
   "cell_type": "code",
   "execution_count": 18,
   "id": "a814e1e0-7c18-417f-9eee-443cf4fbbf2f",
   "metadata": {
    "tags": []
   },
   "outputs": [],
   "source": [
    "r_d = 0.001"
   ]
  },
  {
   "cell_type": "code",
   "execution_count": 19,
   "id": "cd36c102-613f-4e91-a2d0-b2921fc634a7",
   "metadata": {
    "tags": []
   },
   "outputs": [
    {
     "data": {
      "text/plain": [
       "0.28643404437615216"
      ]
     },
     "execution_count": 19,
     "metadata": {},
     "output_type": "execute_result"
    }
   ],
   "source": [
    "(1 + r_d)**252 - 1"
   ]
  },
  {
   "cell_type": "markdown",
   "id": "55cbb5a2-ccdd-4342-a601-edb9f147c35d",
   "metadata": {},
   "source": [
    "#### Anualizar retorno mensual"
   ]
  },
  {
   "cell_type": "code",
   "execution_count": 20,
   "id": "0d6ad144-b92c-4620-a0e4-b22dd6b4aa63",
   "metadata": {
    "tags": []
   },
   "outputs": [],
   "source": [
    "r_m = .01"
   ]
  },
  {
   "cell_type": "code",
   "execution_count": 21,
   "id": "b12d510b-034c-4843-a0ac-520c0ff65d13",
   "metadata": {
    "tags": []
   },
   "outputs": [
    {
     "data": {
      "text/plain": [
       "0.12682503013196977"
      ]
     },
     "execution_count": 21,
     "metadata": {},
     "output_type": "execute_result"
    }
   ],
   "source": [
    "(1 + r_m)**12 - 1"
   ]
  },
  {
   "cell_type": "markdown",
   "id": "8114afbd-5050-43b9-bf4c-920d39443ed9",
   "metadata": {},
   "source": [
    "#### Anualizar retorno bimestral"
   ]
  },
  {
   "cell_type": "code",
   "execution_count": 22,
   "id": "c8b4eb81-7fbd-48e8-bc78-3406c4f2c484",
   "metadata": {
    "tags": []
   },
   "outputs": [],
   "source": [
    "r_bm = .01"
   ]
  },
  {
   "cell_type": "code",
   "execution_count": 23,
   "id": "3fb923e5-3763-4347-bc0f-5a0fd518d5e5",
   "metadata": {
    "tags": []
   },
   "outputs": [
    {
     "data": {
      "text/plain": [
       "0.061520150601000134"
      ]
     },
     "execution_count": 23,
     "metadata": {},
     "output_type": "execute_result"
    }
   ],
   "source": [
    "(1 + r_bm)**6 - 1"
   ]
  },
  {
   "cell_type": "markdown",
   "id": "56e3b093-c88b-47a1-a038-7713268e9d58",
   "metadata": {},
   "source": [
    "#### Anualizar retorno trimestral"
   ]
  },
  {
   "cell_type": "code",
   "execution_count": 24,
   "id": "3892b53b-8273-431b-ad1f-a1893eafbcaa",
   "metadata": {
    "tags": []
   },
   "outputs": [],
   "source": [
    "r_tm = .01"
   ]
  },
  {
   "cell_type": "code",
   "execution_count": 25,
   "id": "2cf7ca54-53ef-49c5-b30c-1d3be929841b",
   "metadata": {
    "tags": []
   },
   "outputs": [
    {
     "data": {
      "text/plain": [
       "0.040604010000000024"
      ]
     },
     "execution_count": 25,
     "metadata": {},
     "output_type": "execute_result"
    }
   ],
   "source": [
    "(1 + r_tm)**4 - 1"
   ]
  },
  {
   "cell_type": "markdown",
   "id": "3845bbaa-6d89-4684-8943-e479f85f684e",
   "metadata": {},
   "source": [
    "#### Anualizar retorno semestral"
   ]
  },
  {
   "cell_type": "code",
   "execution_count": 26,
   "id": "ff564524-eda6-4ca8-b184-a18aff34469a",
   "metadata": {
    "tags": []
   },
   "outputs": [],
   "source": [
    "r_s = 0.1"
   ]
  },
  {
   "cell_type": "code",
   "execution_count": 27,
   "id": "5cf7d665-e69b-4cce-8ddb-f0b655359c2b",
   "metadata": {
    "tags": []
   },
   "outputs": [
    {
     "data": {
      "text/plain": [
       "0.2100000000000002"
      ]
     },
     "execution_count": 27,
     "metadata": {},
     "output_type": "execute_result"
    }
   ],
   "source": [
    "(1 + r_s)**2 - 1"
   ]
  },
  {
   "cell_type": "markdown",
   "id": "f6555555-d490-4655-9c83-60910109f07a",
   "metadata": {},
   "source": [
    "## <font color='#2B17B0'>RIESGO</font>"
   ]
  },
  {
   "cell_type": "markdown",
   "id": "a0943c6c-848e-4415-8262-67ab744db76c",
   "metadata": {},
   "source": [
    "En finanzas, definimos el riesgo en series de tiempo y retornos, principalmente, a través de la Desviación Estándar, que sirve como medida de la volatilidad o variabilidad de una serie de datos. En el contexto de los retornos financieros, la Desviación Estándar cuantifica la dispersión de los retornos de una inversión respecto a su media, ofreciendo una percepción clara de la estabilidad o variabilidad en los retornos a lo largo del tiempo.\n",
    "\n",
    "Cuando los retornos de una inversión presentan una Desviación Estándar alta, se interpreta como una inversión de alto riesgo, ya que los retornos pueden variar significativamente, siendo impredecibles y oscilando ampliamente entre valores positivos y negativos. Por el contrario, una Desviación Estándar baja indica un menor riesgo, ya que los retornos tienden a ser más estables y predecibles, fluctuando en menor medida alrededor de la media."
   ]
  },
  {
   "cell_type": "markdown",
   "id": "c5d48062-c97d-49db-b358-ce7120689a38",
   "metadata": {},
   "source": [
    "### Varianza"
   ]
  },
  {
   "cell_type": "markdown",
   "id": "4a546492-73dd-47ca-8c82-e307877c4219",
   "metadata": {},
   "source": [
    "> \"_La varianza es una medida estadística cuantitativa que representa la dispersión o variabilidad de los valores en un conjunto de datos._\""
   ]
  },
  {
   "cell_type": "markdown",
   "id": "94e12298-fcfd-4bdb-9d66-7b53973db2af",
   "metadata": {},
   "source": [
    "$$\\sigma_{R}^{2} =  \\frac{1}{N}*\\sum_{i=1}^{N}{(R - \\bar{R})^2}$$\n",
    "Donde $\\bar{R}$ es el promedio aritmérico de los retornos"
   ]
  },
  {
   "cell_type": "markdown",
   "id": "36ea432e-b916-4f04-a4fe-43235779f2c4",
   "metadata": {},
   "source": [
    "En otras palabras, la varianza es _\"el promedio del cuadrado de las desviaciones de la media\"_.\n",
    "Pasos:\n",
    "1. Descontar la media a cada retorno de la serie\n",
    "1. Elevar al cuadrado el retorno descontado\n",
    "1. Promediar todos los retornos descontados elevados al cuadrado"
   ]
  },
  {
   "cell_type": "markdown",
   "id": "93f23462-343e-40f4-a004-d4dfc0a4c330",
   "metadata": {},
   "source": [
    "### Desviación Estándar"
   ]
  },
  {
   "cell_type": "markdown",
   "id": "036882ac-3730-4099-9c1a-ad19ac3d5c75",
   "metadata": {
    "tags": []
   },
   "source": [
    "Para medir la volatilidad eliminamos los valores elevados al cuadrado que representa la varianza, calculando la desviación estándar."
   ]
  },
  {
   "cell_type": "markdown",
   "id": "c98d6cad-af83-4b61-8a45-2bee3845e2c2",
   "metadata": {},
   "source": [
    "$$\\sigma_{R} =  \\sqrt{\\sigma_{R}^2}=\\sqrt{\\frac{1}{N}*\\sum_{i=1}^{N}{(R - \\bar{R})^2}}$$"
   ]
  },
  {
   "cell_type": "markdown",
   "id": "ab74f00b-a201-41b5-9e84-2c32def27f3c",
   "metadata": {},
   "source": [
    "### Anualizar volatilidad"
   ]
  },
  {
   "cell_type": "markdown",
   "id": "5909c95c-f2cf-42c4-8a12-9cf2f8b5014f",
   "metadata": {},
   "source": [
    "#### Pasos para anualizar volatilidad"
   ]
  },
  {
   "cell_type": "markdown",
   "id": "3ff9bc19-c867-4837-99df-fc1ae5dab8d9",
   "metadata": {},
   "source": [
    "1. Identificar el número de periodos en un año calendario\n",
    "    1. _**NOTA:  Para el caso de retornos diarios, se considera que el año calendario es de 252 días en caso de que operen en mercados como las Bolsas de Valores**_\n",
    "1. Multiplicar la raiz cuadrada del número de periodos por su volatilidad correspondiente"
   ]
  },
  {
   "cell_type": "markdown",
   "id": "6885540a-a53f-4fff-a36c-da4bc74af386",
   "metadata": {},
   "source": [
    "$$\\large\\sigma{2}_{anualizada}=\\sigma{2}_{p}*p$$\n",
    "$$\\large\\sigma_{anualizada}=\\sigma_{p}*\\sqrt{p}$$"
   ]
  },
  {
   "cell_type": "markdown",
   "id": "94c8bcc7-2812-434a-8ed8-4c8bb08d64c3",
   "metadata": {},
   "source": [
    "#### Portafolios de Alta y Baja Capitalización de Mercado"
   ]
  },
  {
   "cell_type": "markdown",
   "id": "3c841406-2f8f-4569-925a-61166faa1806",
   "metadata": {},
   "source": [
    "La base de datos del Dr. Kenneth French proporciona una amplia gama de datos sobre los retornos de los portafolios de acciones, categorizados por diferentes criterios, uno de los cuales es el tamaño de capitalización del mercado (\"market cap\"). Los datos se estructuran para facilitar la investigación en finanzas empíricas, especialmente en áreas relacionadas con la valuación de activos.\n",
    "En particular, los portafolios divididos por tamaño, o \"market cap\", normalmente incluyen:\n",
    "\n",
    "* Large Cap: Empresas con alta capitalización de mercado. Estas son, generalmente, empresas grandes y bien establecidas\n",
    "* Small Cap: Empresas con baja capitalización de mercado, las cuales son usualmente empresas más pequeñas o nuevas\n",
    "\n",
    "De la página del Dr. Kennet French, vamos a descargar un archivo que contiene los retornos mensuales de diferentes portafolios construidos en función al tamaño de las empresas.<br>\n",
    "https://mba.tuck.dartmouth.edu/pages/faculty/ken.french/"
   ]
  },
  {
   "cell_type": "markdown",
   "id": "0eb3d9c8-c181-4430-8ad8-8a335b2ad8e1",
   "metadata": {},
   "source": [
    "##### Importar librerías"
   ]
  },
  {
   "cell_type": "code",
   "execution_count": null,
   "id": "55bcb126-f7c8-471d-8245-93b0e368eb21",
   "metadata": {
    "tags": []
   },
   "outputs": [],
   "source": [
    "import matplotlib.pyplot as plt\n",
    "import seaborn as sns #librería para formatear/editar gráficas\n",
    "import pandas as pd\n",
    "import numpy as np\n",
    "\n",
    "sns.set_theme() "
   ]
  },
  {
   "cell_type": "markdown",
   "id": "d0bb89ee-2581-48ce-ac20-6339543a33f3",
   "metadata": {},
   "source": [
    "##### Leer datos y guardarlos en un DataFrame de pandas"
   ]
  },
  {
   "cell_type": "code",
   "execution_count": null,
   "id": "031c735e-ba4d-4e01-b8b1-b1df2bd05dbe",
   "metadata": {
    "tags": []
   },
   "outputs": [],
   "source": [
    "url = 'https://mba.tuck.dartmouth.edu/pages/faculty/ken.french/ftp/Portfolios_Formed_on_ME_CSV.zip'"
   ]
  },
  {
   "cell_type": "code",
   "execution_count": null,
   "id": "c908e763-6c76-4726-b672-70e693df0e21",
   "metadata": {
    "tags": []
   },
   "outputs": [],
   "source": [
    "df = pd.read_csv(url, compression='zip', skiprows=1194, nrows=1178)"
   ]
  },
  {
   "cell_type": "code",
   "execution_count": null,
   "id": "8d60c77f-f3b8-4ff9-8b82-412e1789099d",
   "metadata": {
    "tags": []
   },
   "outputs": [],
   "source": [
    "df.info()"
   ]
  },
  {
   "cell_type": "code",
   "execution_count": null,
   "id": "8b969cc4-8a4f-4914-ba15-e61ad3a94f31",
   "metadata": {},
   "outputs": [],
   "source": [
    "df"
   ]
  },
  {
   "cell_type": "markdown",
   "id": "9d6f0bfe-15e6-4027-a37f-6e2cec8b4775",
   "metadata": {},
   "source": [
    "##### Arreglar el DataFrame"
   ]
  },
  {
   "cell_type": "code",
   "execution_count": null,
   "id": "12e1fd27-1107-4864-adeb-c684fa693a8b",
   "metadata": {
    "tags": []
   },
   "outputs": [],
   "source": [
    "#Convertir columna \"Unnamed: 0\" a \"fecha\"\n",
    "df.rename(columns={'Unnamed: 0': 'fecha'}, inplace=True)\n",
    "\n",
    "#Fecha como datetime\n",
    "df['fecha'] = pd.to_datetime(df['fecha'], format='%Y%m').dt.date\n",
    "\n",
    "#fecha como index\n",
    "df.set_index('fecha', inplace=True)\n",
    "\n",
    "#Seleccionar las columnas de interés\n",
    "df = df[['Lo 10', 'Hi 10']].copy()\n",
    "\n",
    "#Renombrar las columnas\n",
    "df.rename(columns={'Lo 10':'BajaCap', 'Hi 10':'AltaCap'}, inplace=True)\n",
    "\n",
    "#Los retornos están representados como porcentaje.  Cambiarlo a decimal\n",
    "df = df/100"
   ]
  },
  {
   "cell_type": "code",
   "execution_count": null,
   "id": "18cb6944-566c-492c-9470-bd16a1c6d49d",
   "metadata": {
    "tags": []
   },
   "outputs": [],
   "source": [
    "df"
   ]
  },
  {
   "cell_type": "markdown",
   "id": "4311e1ec-b4bd-4042-bf30-c8bdda50ed23",
   "metadata": {},
   "source": [
    "##### Visualizar los retornos mensuales"
   ]
  },
  {
   "cell_type": "code",
   "execution_count": null,
   "id": "63f77c1a-9fa6-4176-8a3a-2477dfbc818d",
   "metadata": {
    "tags": []
   },
   "outputs": [],
   "source": [
    "df.plot(figsize=(12,7), title='Retornos históricos mensuales de portafolios por capitalización NYSE/NASDAQ');"
   ]
  },
  {
   "cell_type": "markdown",
   "id": "219a49f3-149d-4b74-9b46-413aa03b1a19",
   "metadata": {},
   "source": [
    "##### Retornos y Sigma mensual"
   ]
  },
  {
   "cell_type": "markdown",
   "id": "b964ba31-3227-43a6-a401-3917db5bca1e",
   "metadata": {},
   "source": [
    "Se puede observar que en promedio, los retornos mensuales de los dos portafolios están alrededor del 0%:"
   ]
  },
  {
   "cell_type": "code",
   "execution_count": null,
   "id": "ebed1c2c-892e-4f2d-9dcf-6beb414a3ae1",
   "metadata": {},
   "outputs": [],
   "source": []
  },
  {
   "cell_type": "markdown",
   "id": "128c053f-c297-40b7-a2e1-64492af1fc5c",
   "metadata": {},
   "source": [
    "Y la volatilidad de los retornos mensuales es de:"
   ]
  },
  {
   "cell_type": "code",
   "execution_count": null,
   "id": "43b1b405-b384-4060-b751-1600c2b59946",
   "metadata": {},
   "outputs": [],
   "source": []
  },
  {
   "cell_type": "markdown",
   "id": "b9adadda-c85c-4910-b3ed-cab6433799f3",
   "metadata": {},
   "source": [
    "##### Pregunta:  En cual portafolio invertir nuestro capital?"
   ]
  },
  {
   "cell_type": "markdown",
   "id": "8c91aaec-cdaf-4b92-b7db-c2ad5c9fcdba",
   "metadata": {},
   "source": [
    "* Los portafolios de Baja Capitalización generan el doble de rendimiento promedio mensual que los de Alta Capitalización\n",
    "* __PERO__ también conlleva el doble de volatilidad/riesgo de acuerdo a la Desviación Estándard\n",
    "* Como podemos optimizar el retorno en relación al riesgo?\n",
    "\n",
    "Que tal si cuantificamos cuanto retorno obtenemos por cada unidad de riesgo que asumimos?  Lo podemos hacer de la siguiente manera:<br><br>\n",
    "Retorno Riesgo = $\\Large \\frac{Retorno}{Volatilidad}$"
   ]
  },
  {
   "cell_type": "code",
   "execution_count": null,
   "id": "3dfd9cbe-7ffd-4d5d-ab5c-b38351bf43d8",
   "metadata": {},
   "outputs": [],
   "source": []
  },
  {
   "cell_type": "markdown",
   "id": "422dd608-bfe0-4186-801c-c39eb186090a",
   "metadata": {},
   "source": [
    "De acuerdo a esta razón, es más eficiente invertir en el Portafolio de Alta Capitalización en función de los retornos obtenidos por la cantidad de riesgo asumido."
   ]
  },
  {
   "cell_type": "markdown",
   "id": "7e578fc0-0bd3-489b-9472-454e8f56933b",
   "metadata": {},
   "source": [
    "El análisis de retorno por cada unidad de riesgo asumida es crucial porque permite evaluar la eficiencia de una inversión al ponderar el rendimiento con el nivel de riesgo inherente. Sin embargo, al omitir la tasa libre de riesgo en este análisis, estamos ignorando un componente vital en la evaluación del rendimiento ajustado al riesgo. Es decir,  estamos omitiendo una comparación fundamental con la opción de una inversión sin riesgo, normalmente representada por bonos del Tesoro que ofrecen un retorno con un riesgo prácticamente nulo. Este componente es vital porque cualquier inversión debería, como mínimo, superar el rendimiento que se podría obtener sin asumir riesgo alguno.\n",
    "\n",
    "Podemos tener una evaluación más equilibrada utilizando el \"_Sharp Ratio_\""
   ]
  },
  {
   "cell_type": "markdown",
   "id": "06575297-e8ad-42d7-b9f1-8816f8f27acd",
   "metadata": {},
   "source": [
    "##### Sharp Ratio"
   ]
  },
  {
   "cell_type": "markdown",
   "id": "926d48a0-afbe-4065-9023-7fc62ed68312",
   "metadata": {},
   "source": [
    "Se calcula de la siguiente manera:<br>\n",
    "$$\\large Sharp=\\frac{Retorno - TasaLibreRiesgo}{Volatilidad}$$<br><br>\n",
    "Al incluir la tasa libre de riesgo, proporciona una evaluación más equilibrada y realista de la eficiencia de una inversión. Mide cuánto rendimiento adicional se obtiene por cada unidad de riesgo asumida en comparación con una inversión sin riesgo. Así, permite discernir si el rendimiento adicional obtenido justifica el riesgo adicional asumido.<br><br>\n",
    "Como los portafolios son del NYSE y del NASDAQ vamos a utilizar como tasa libre de riesgo el Bono del Tesoro de los Estados Unidos a 10 años con un tasa de retorno de 4.18% anual.<br><br>\n",
    "\n",
    "Esta situación servirá de pretexto para anualizar el retorno y la sigma mensual de los portafolios para poder comparar las mismas unidades vs. el t-bill en el cálculo del Sharp Ratio"
   ]
  },
  {
   "cell_type": "markdown",
   "id": "2bdd646a-89d6-4920-9e54-86b84fc1ec5d",
   "metadata": {},
   "source": [
    "Anualizar retornos:"
   ]
  },
  {
   "cell_type": "code",
   "execution_count": null,
   "id": "0f81f784-f795-4bfc-9ac8-c44f8c2ecec4",
   "metadata": {},
   "outputs": [],
   "source": []
  },
  {
   "cell_type": "markdown",
   "id": "b110cac3-e8d4-487f-b2aa-6a1592f93e7b",
   "metadata": {},
   "source": [
    "Anualizar sigma:"
   ]
  },
  {
   "cell_type": "code",
   "execution_count": null,
   "id": "15dd2a16-6c37-44d5-a6f8-87dbb6094af7",
   "metadata": {},
   "outputs": [],
   "source": []
  },
  {
   "cell_type": "markdown",
   "id": "e6a4707e-ec93-4a1a-8588-7f6e5814bac2",
   "metadata": {},
   "source": [
    "También podemos observar que la gran mayoría de los retornos mensuales igual o mayor a +/- 15% son del portafolio de Baja Capitalización"
   ]
  },
  {
   "cell_type": "code",
   "execution_count": null,
   "id": "88cc9536-c5fc-4bdc-8e65-d85ba496697a",
   "metadata": {
    "tags": []
   },
   "outputs": [],
   "source": [
    "benchmark = .15\n",
    "retornos_positivos_bc = df['BajaCap'][df['BajaCap'] >= benchmark].count()\n",
    "retornos_positivos_ac = df['AltaCap'][df['AltaCap'] >= benchmark].count()\n",
    "total_eventos = retornos_positivos_ac + retornos_positivos_bc\n",
    "porcentaje_ac = round(retornos_positivos_ac / total_eventos * 100, 2)\n",
    "porcentaje_bc = round(retornos_positivos_bc / total_eventos * 100, 2)\n",
    "\n",
    "\n",
    "print(f\"Baja Capitalización: {retornos_positivos_bc} / {porcentaje_bc}%\")\n",
    "print(f\"Alta Capitalización: {retornos_positivos_ac} / {porcentaje_ac}%\")\n",
    "print(f\"Número de meses con retornos mensuales mayores a {benchmark*100}%: {total_eventos}\")"
   ]
  },
  {
   "cell_type": "markdown",
   "id": "13db30e3-a5b5-4d21-9891-4b94c7b73be5",
   "metadata": {},
   "source": [
    "El número de eventos con un retorno negativo igual o mayor a -15%:"
   ]
  },
  {
   "cell_type": "code",
   "execution_count": null,
   "id": "0297e01f-a987-4746-8655-b1ff0449dcd4",
   "metadata": {
    "tags": []
   },
   "outputs": [],
   "source": [
    "benchmark *= -1\n",
    "retornos_positivos_bc = df['BajaCap'][df['BajaCap'] <= benchmark].count()\n",
    "retornos_positivos_ac = df['AltaCap'][df['AltaCap'] <= benchmark].count()\n",
    "total_eventos = retornos_positivos_ac + retornos_positivos_bc\n",
    "porcentaje_ac = round(retornos_positivos_ac / total_eventos * 100, 2)\n",
    "porcentaje_bc = round(retornos_positivos_bc / total_eventos * 100, 2)\n",
    "\n",
    "\n",
    "print(f\"Baja Capitalización: {retornos_positivos_bc} / {porcentaje_bc}%\")\n",
    "print(f\"Alta Capitalización: {retornos_positivos_ac} / {porcentaje_ac}%\")\n",
    "print(f\"Número de meses con retornos mensuales mayores a {benchmark*100}%: {total_eventos}\")"
   ]
  },
  {
   "cell_type": "code",
   "execution_count": null,
   "id": "6dc400d3-6933-4566-8970-80f4cbd68adc",
   "metadata": {},
   "outputs": [],
   "source": []
  },
  {
   "cell_type": "markdown",
   "id": "c1c76ccb-da7c-40cf-8004-b4caee760ec5",
   "metadata": {
    "slideshow": {
     "slide_type": "slide"
    }
   },
   "source": [
    "## <font color='#2B17B0'>LOS MERCADOS FINANCIEROS</font>"
   ]
  },
  {
   "cell_type": "markdown",
   "id": "1c91bb61-0824-44cc-b411-f1645f3b2370",
   "metadata": {
    "tags": []
   },
   "source": [
    "> _Los mercados financieros son espacios, ya sea físicos o virtuales, donde se llevan a cabo transacciones de instrumentos financieros. Estos mercados permiten el intercambio de capitales entre quienes lo ofrecen y quienes lo demandan. Son fundamentales para el funcionamiento y desarrollo de economías modernas, y juegan un rol clave en la asignación de recursos y la determinación de precios de los activos financieros._"
   ]
  },
  {
   "cell_type": "markdown",
   "id": "4b2668f7-05b8-4634-9edb-90fc76e5a357",
   "metadata": {},
   "source": [
    "### Clasificación de los mercados"
   ]
  },
  {
   "cell_type": "markdown",
   "id": "d272ffde-0414-4a6e-8081-2b916c154223",
   "metadata": {},
   "source": [
    "#### Por estructura operativa"
   ]
  },
  {
   "cell_type": "markdown",
   "id": "3239f393-7ec9-43ce-8f11-485f9a0ceda2",
   "metadata": {},
   "source": [
    "* Mercados Organizados:  Poseen lugares físicos o sistemas electrónicos donde se encuentran compradores y vendedores, como las bolsas de valores."
   ]
  },
  {
   "cell_type": "markdown",
   "id": "f5a5b844-f78d-47a3-ad7c-bc77afdc6ce2",
   "metadata": {},
   "source": [
    "![ActaConstitutivaVOC](https://dl.dropboxusercontent.com/scl/fi/jcgsvjal7lgreskar3l2r/nyse_floor.jpg?rlkey=bxrn43b2rfpdxk6deebw5111q&dl=0)<br>\n",
    "Imagen del piso del New York Stock Exchange, tomada de internet"
   ]
  },
  {
   "cell_type": "markdown",
   "id": "45baf3af-3f8e-4350-bf23-d69e55f19c54",
   "metadata": {},
   "source": [
    "![ActaConstitutivaVOC](https://dl.dropboxusercontent.com/scl/fi/8h4h7gy2p6kii0ol9qd9e/nasdaq_dc1.jpg?rlkey=frkua0cu8gn4ibu4swf869e0u&dl=0)<br>\n",
    "Uno de los sites de servidores del Nasdaq\n",
    "\n",
    "Imagen tomada de www.nasdaqtrader.com/Trader.aspx?id=colo"
   ]
  },
  {
   "cell_type": "markdown",
   "id": "1d0a35a0-e64b-4e58-97cd-831cef985f34",
   "metadata": {},
   "source": [
    "* Mercados OTC (over-the-counter): Las transacciones se realizan directamente entre las dos partes sin una bolsa centralizada. Muchos derivados se negocian en mercados OTC."
   ]
  },
  {
   "cell_type": "markdown",
   "id": "e845b8e9-2270-43c3-aa17-9cf873531ca4",
   "metadata": {},
   "source": [
    "#### Por tipo de activos o instrumentos"
   ]
  },
  {
   "cell_type": "markdown",
   "id": "cf495222-41be-48ef-b94b-87c28d139c16",
   "metadata": {},
   "source": [
    "* Mercado de capitales: Se negocian acciones (mercado de valores) y bonos (deuda a largo plazo)\n",
    "    * Mercado primario: Se emiten nuevos títulos (IPO)\n",
    "    * Mercado secundario: Se compran y venden títulos ya emitidos previamente\n",
    "* Mercado de derivados: Se negocian contratos que derivan su valor de un activo subyacente, como futuros, opciones y swaps\n",
    "* Mercado de divisas (Forex): Se negocian monedas\n",
    "* Mercado de criptomonedas:  Se negocian criptoactivos\n",
    "    * Mercados Centralizados\n",
    "    * Mercados Desentralizados\n",
    "    * OTC"
   ]
  },
  {
   "cell_type": "markdown",
   "id": "3c36be64-873f-4152-9f10-b27e2e10dc5d",
   "metadata": {
    "slideshow": {
     "slide_type": "slide"
    }
   },
   "source": [
    "## <font color='#2B17B0'>LOS PRIMEROS</font>"
   ]
  },
  {
   "cell_type": "markdown",
   "id": "e05649ad-3fa5-48ec-ad53-bbc490e4ad94",
   "metadata": {},
   "source": [
    "![ActaConstitutivaVOC](https://dl.dropboxusercontent.com/scl/fi/pgqui7f3rzwqw3y7uiaox/acta_constitutiva_voc.png?rlkey=j8s8is6wclgh7cu1n6ucude91&dl=0)<br>\n",
    "Primera hoja del Acta Constitutiva de la \"The Dutch East India Company\" (VOC), Agosto 1602.  Archivo Nacional de Holanda (https://www.nationaalarchief.nl)"
   ]
  },
  {
   "cell_type": "markdown",
   "id": "9c30f9ff-8141-46c6-80a1-4ebc0aa4fc24",
   "metadata": {},
   "source": [
    "![Primer mercado organizado](https://dl.dropboxusercontent.com/scl/fi/xs6151dglss9xyekw5686/HendrickDeKeyserExchange.png?rlkey=4ycicmwnptmj3vibko2o6i4bp&dl=0)<br>\n",
    "Hendrick de Keyser Exchange. C.J. Visscher, c.1613.  Colección de _Stichting Capital Amsterdam_"
   ]
  },
  {
   "cell_type": "markdown",
   "id": "d967095d-016e-4943-a634-c37acce443b5",
   "metadata": {},
   "source": [
    "![ActaConstitutivaVOC](https://dl.dropboxusercontent.com/scl/fi/ry7t8pvnk2lw221u7svx8/confusion_confusiones.png?rlkey=t13icbbh0rd6y9evvj6hxynty&dl=0)<br>\n",
    "Portada del libro \"Confusión de Confusiones\" por Joseph de la Vega, 1688.  Considerado como el primer libro escrito sobre la bolsa de valores.<br>|(https://www.sothebys.com/en/buy/auction/2018/fine-books-manuscripts-online/444a6a2b-a432-4728-b4d3-3f631935cfaf)"
   ]
  },
  {
   "cell_type": "markdown",
   "id": "4f07837d-2c20-47c0-a29a-292701738e07",
   "metadata": {
    "slideshow": {
     "slide_type": "subslide"
    },
    "tags": []
   },
   "source": [
    "## <font color='#2B17B0'>Actores en los mercados</font>"
   ]
  },
  {
   "cell_type": "markdown",
   "id": "0642e88a-c625-47f9-b191-83b9deb4ecbf",
   "metadata": {
    "slideshow": {
     "slide_type": "subslide"
    }
   },
   "source": [
    "### <font color='#2B17B0'>Dealers</font>\n",
    "Son entidades siempre dispuestas para hacer trading con sus clientes cuando y lo que su cliente quiera opearar.\n",
    "* Siempre publican sus posturas (bid/ask).\n",
    "* Una vez realizada la transacción con su cliente, salen al mercado a realizar la operación contraria\n",
    "* Su negocio está en realizar una ganancia en este proceso"
   ]
  },
  {
   "cell_type": "markdown",
   "id": "e4b566ee-88d6-4823-9cef-8bcf0a3ba53c",
   "metadata": {},
   "source": [
    "![ActaConstitutivaVOC](https://dl.dropboxusercontent.com/scl/fi/oz4ay7k7zuv2w02xqllnb/bid_ask.jpg?rlkey=k2ncui4mg9sq35h6ir4qbhzh8&dl=0)<br>\n",
    "Imagen tomada de internet"
   ]
  },
  {
   "cell_type": "markdown",
   "id": "d87114c2-ec55-4621-8fdc-59cf66f5342b",
   "metadata": {
    "slideshow": {
     "slide_type": "subslide"
    }
   },
   "source": [
    "### <font color='#2B17B0'>Brokers</font>\n",
    "Es un agente que arregla los trades a sus clientes buscando una contraparte con quien pueda realizar la transacción su cliente."
   ]
  },
  {
   "cell_type": "markdown",
   "id": "ff861145-6cfc-4bc5-b91f-5ee7ef2b90cc",
   "metadata": {
    "slideshow": {
     "slide_type": "subslide"
    }
   },
   "source": [
    "El negocio del *__broker__* está en la comisión que le cobra a sus clientes por organizar o facilitar la transacción."
   ]
  },
  {
   "cell_type": "markdown",
   "id": "96b67edd-53ec-4375-b135-c6deb400744c",
   "metadata": {},
   "source": [
    "![ActaConstitutivaVOC](https://dl.dropboxusercontent.com/scl/fi/i0xn9zad1bd6qoh63448a/stockbroker.jpg?rlkey=iff1rxnbrejjuhr4hygf98ade&dl=0)<br>\n",
    "Imagen tomada de internet"
   ]
  },
  {
   "cell_type": "markdown",
   "id": "60f69377-04a6-42bc-9866-c75fa5727ece",
   "metadata": {
    "slideshow": {
     "slide_type": "subslide"
    }
   },
   "source": [
    "### <font color='#2B17B0'>Trader</font>\n",
    "Es una persona, que se dedica a comprar y vender cualquier clase de activos financieros, para ella y/o para alguien más.  Su horizonte de posesión del activo es de coroto plazo y busca capitalizar tendencias de corto plazo.<br>"
   ]
  },
  {
   "cell_type": "markdown",
   "id": "bdf9b7c5-b37a-4058-9b15-239c483f5464",
   "metadata": {
    "slideshow": {
     "slide_type": "subslide"
    }
   },
   "source": [
    "* Si trabaja para una Institución financiera:\n",
    "    * Gana un sueldo más una comisión por la utilidad generada\n",
    "* Si lo hace para el mismo:\n",
    "    * Utiliza su propios recursos económicos\n",
    "    * Se queda con *__toda__* la utilidad generada."
   ]
  },
  {
   "cell_type": "markdown",
   "id": "a8ab0147-f712-44e7-9b3e-0e1058bf6333",
   "metadata": {},
   "source": [
    "![ActaConstitutivaVOC](https://dl.dropboxusercontent.com/scl/fi/bmbnyxrvu2cto1s7utr7s/female_trader.jpg?rlkey=kqksflcmfzvmv35rqn46mpynz&dl=0)<br>\n",
    "Imagen tomada de internet"
   ]
  },
  {
   "cell_type": "markdown",
   "id": "924b2944-169f-4647-bb3b-1f73aa64be1d",
   "metadata": {
    "slideshow": {
     "slide_type": "subslide"
    }
   },
   "source": [
    "### <font color='#2B17B0'>Trader (especulador)</font>\n",
    "Son traders que siempre buscan tener una ventaja contra los demás traders, al utilizar y diseñar modelos que les ayuden a predecir el precio futuro del activo financiero.<br>"
   ]
  },
  {
   "cell_type": "markdown",
   "id": "68650de8-4a6c-46d6-aef1-79f014062a44",
   "metadata": {
    "slideshow": {
     "slide_type": "subslide"
    }
   },
   "source": [
    "Con esa información, se aprovechan de los traders _desinformados_ para ganar a costa de ellos.<br>"
   ]
  },
  {
   "cell_type": "markdown",
   "id": "dfd01a90-850b-40a2-99bf-29aacf22a9bc",
   "metadata": {},
   "source": [
    "![ActaConstitutivaVOC](https://dl.dropboxusercontent.com/scl/fi/rswyrso6g7apxc4snzkch/tiburon2.jpg?rlkey=f5sm70gug2izlacs2sn1l4ar7&dl=0)<br>\n",
    "Imagen tomada de internet"
   ]
  },
  {
   "cell_type": "markdown",
   "id": "e004f8c3-04fc-4e5b-af9e-0dfe2ba6b135",
   "metadata": {
    "slideshow": {
     "slide_type": "subslide"
    }
   },
   "source": [
    "### <font color='#2B17B0'>Trader (informado)</font>\n",
    "Los traders que pueden estimar el valor fundamental del instrumento, hacen que el precio refleje su valor estimado.<br>"
   ]
  },
  {
   "cell_type": "markdown",
   "id": "de5edccf-6c58-4b96-af4b-1d6e0bc7881f",
   "metadata": {
    "slideshow": {
     "slide_type": "subslide"
    }
   },
   "source": [
    "* Compran: $precio < valorEstimado$\n",
    "* Empujan el valor del instrumento a la alza"
   ]
  },
  {
   "cell_type": "markdown",
   "id": "709da482-8df4-49df-9a41-c8c5abcaaa74",
   "metadata": {
    "slideshow": {
     "slide_type": "subslide"
    }
   },
   "source": [
    "* Venden: $precio > valorEstimado$\n",
    "* Jalan el valor del instumento a la baja\n"
   ]
  },
  {
   "cell_type": "markdown",
   "id": "8bdad622-6291-4a26-b75b-e1e540b42cd2",
   "metadata": {
    "slideshow": {
     "slide_type": "subslide"
    },
    "tags": []
   },
   "source": [
    "### <font color='#2B17B0'>Inversionista</font>\n",
    "Es una persona, que buscan trasladar riquezas o flujos excedentes del presente al futuro<br>"
   ]
  },
  {
   "cell_type": "markdown",
   "id": "8d392abd-3d77-4c8a-8052-a5a912852604",
   "metadata": {},
   "source": [
    "![ActaConstitutivaVOC](https://dl.dropboxusercontent.com/scl/fi/ynoa10mkp5vk1cbyz5g8h/dinero.jpg?rlkey=8ohn4mcqjoz3b9y14xnsohe0m&dl=0)<br>\n",
    "Imagen tomada de internet"
   ]
  },
  {
   "cell_type": "markdown",
   "id": "e859793f-326f-4b8f-a0bb-231b4917c2c5",
   "metadata": {
    "slideshow": {
     "slide_type": "subslide"
    }
   },
   "source": [
    "### <font color='#2B17B0'>Posición LONG</font>\n",
    "Es cuando un inversionista, trader, dealer, etc. compra un activo financiero y mantiene su posesión. Espera que el precio suba y así concretar una utilidad al momento de vender.<br><br>"
   ]
  },
  {
   "cell_type": "markdown",
   "id": "0ca11de2-70b5-4aa8-8077-736cfbb9f09c",
   "metadata": {
    "slideshow": {
     "slide_type": "subslide"
    }
   },
   "source": [
    "### <font color='#2B17B0'>Posición SHORT</font>\n",
    "Es cuando un inversionista, trader, dealer, etc. vende un activo financiero que no posee, tomándolo prestado, para venderlo y en un futuro regresarlo.  Espera que el precio baje, concretando una utilidad al comprar el activo.<br><br>"
   ]
  },
  {
   "cell_type": "markdown",
   "id": "9c08cf21-0381-44c1-860f-0fb80bfdcb43",
   "metadata": {
    "slideshow": {
     "slide_type": "subslide"
    }
   },
   "source": [
    "## <font color='#2B17B0'>Algunos coneptos importantes</font>"
   ]
  },
  {
   "cell_type": "markdown",
   "id": "b598b97a-fb62-4144-8cc3-138bcbcffec8",
   "metadata": {
    "slideshow": {
     "slide_type": "subslide"
    }
   },
   "source": [
    "### <font color='#2B17B0'>Activos financieros</font>\n",
    "* Instrumentos que representan propiedad de activos reales y de los flujos de efectivo que producen.\n",
    "* Las acciones y los bonos son ejempos de activos financieros.\n",
    "* Los emisores son los que crean los activos financieros"
   ]
  },
  {
   "cell_type": "markdown",
   "id": "195ddf63-f942-4619-b263-9f37e2d06393",
   "metadata": {
    "slideshow": {
     "slide_type": "subslide"
    }
   },
   "source": [
    "## <font color='#2B17B0'>FACILITADORES</font>"
   ]
  },
  {
   "cell_type": "markdown",
   "id": "220f12cd-b1da-4879-a132-86d2d23aac8b",
   "metadata": {
    "slideshow": {
     "slide_type": "subslide"
    }
   },
   "source": [
    "### <font color='#2B17B0'>Los mercados de valores</font>\n",
    "* Ofrecen un lugar donde los traders se puedan reunir a negociar titulos\n",
    "* En la mayoría de los casos, unicamente los mimebros pueden realizar trades"
   ]
  },
  {
   "cell_type": "markdown",
   "id": "a51cf1b7-52b1-43e8-9322-0f5b610534a0",
   "metadata": {
    "slideshow": {
     "slide_type": "subslide"
    }
   },
   "source": [
    "* Por mucho tiempo eran propiedad de sus miembros\n",
    "* Actualmente muchas bolsas en el mundo se han desmutualizado y se convirtieron en corporaciones\n"
   ]
  },
  {
   "cell_type": "markdown",
   "id": "9ceea4b0-9f62-4daa-8bd3-caada9d2922a",
   "metadata": {
    "slideshow": {
     "slide_type": "subslide"
    }
   },
   "source": [
    "* Las bolsas se apoyan en otras entidades para asegurarse que todas las transacciones se ejecuten correctamente y resolver conflictos."
   ]
  },
  {
   "cell_type": "markdown",
   "id": "1b819d25-81f4-464f-9d86-d282ddb116be",
   "metadata": {
    "slideshow": {
     "slide_type": "subslide"
    }
   },
   "source": [
    "### <font color='#2B17B0'>Agentes liquidadores</font>\n",
    "Ayudan a cuadrar los registros de las transacciones que hicieron las contrapartes, confirmando que las partes acordaron los mismos términos.  Cuando las transacciones se confirman, se les dice que están _liquidadaz_ y las partes saldan las operaciones."
   ]
  },
  {
   "cell_type": "markdown",
   "id": "9adc6fdf-40c4-408f-a134-e6a9431a1618",
   "metadata": {
    "slideshow": {
     "slide_type": "subslide"
    }
   },
   "source": [
    "### <font color='#2B17B0'>Agentes compensación y liquidación</font>\n",
    "Ayudan a los operadores a compensar sus obligaciones. De acuerdo a las reglas del mercado, los operadores terminan recibiendo los activos financieros o el dinero generado por la transacción."
   ]
  },
  {
   "cell_type": "markdown",
   "id": "ddd64f53-a63b-48e2-9fe2-f086b7346a4a",
   "metadata": {
    "slideshow": {
     "slide_type": "subslide"
    }
   },
   "source": [
    "## <font color='#2B17B0'>EL ARBITRO</font>"
   ]
  },
  {
   "cell_type": "markdown",
   "id": "3cb2007e-0258-40a9-a99f-f95d56ef15b6",
   "metadata": {
    "slideshow": {
     "slide_type": "fragment"
    }
   },
   "source": [
    "* Cada pais tiene su propia agencia encargada de la regulación de los mercados bursátiles y de la protección del público inversionista"
   ]
  },
  {
   "cell_type": "markdown",
   "id": "e8e39394-ab1f-467a-9316-cd0fff4c15b9",
   "metadata": {
    "slideshow": {
     "slide_type": "fragment"
    }
   },
   "source": [
    "* CNBV Méx\n",
    "* SEC USA\n",
    "* FCA UK"
   ]
  },
  {
   "cell_type": "markdown",
   "id": "7d4c7573-6558-426b-865e-9a1056cee9d0",
   "metadata": {
    "slideshow": {
     "slide_type": "slide"
    }
   },
   "source": [
    "# <font color='#2B17B0'>II.- OPERANDO EN EL MERCADO</font>"
   ]
  },
  {
   "cell_type": "markdown",
   "id": "0195f73d-4edc-47db-b1df-b7b01d21b1cc",
   "metadata": {
    "slideshow": {
     "slide_type": "subslide"
    }
   },
   "source": [
    "> _No puedes esperar ser éxitoso de manera constante en el mercado, si no conoces como opera y sus reglas de operación_."
   ]
  },
  {
   "cell_type": "markdown",
   "id": "98b74a8c-c166-47c7-8c67-d286b090df1f",
   "metadata": {
    "slideshow": {
     "slide_type": "subslide"
    }
   },
   "source": [
    "### <font color='#2B17B0'>Órdenes</font>\n",
    "* Una _**orden**_ es una instrucción que el inversionista gira a su broker y este al mercado de valores para que ejecuten una transacción."
   ]
  },
  {
   "cell_type": "markdown",
   "id": "e7666dd6-b7cf-4c2c-9abe-6ba327cd3b69",
   "metadata": {
    "slideshow": {
     "slide_type": "subslide"
    }
   },
   "source": [
    "### <font color='#2B17B0'>Características de una orden</font>\n",
    "Siempre se especifica:\n",
    "* Que instrumento se va a comercializar\n",
    "* La cantidad a negociar\n",
    "* Si es una compra o una venta"
   ]
  },
  {
   "cell_type": "markdown",
   "id": "88e7c3c2-1852-4f91-afd9-ccbc7901a590",
   "metadata": {
    "slideshow": {
     "slide_type": "subslide"
    }
   },
   "source": [
    "Puede incluir las siguientes condiciones:\n",
    "* Precio límite máximo que está dispuesto a negociar (bid/ask)\n",
    "* Tiempo de vida de la orden\n",
    "* Si se puede ejecutar de manera parcial\n",
    "* Entre otras"
   ]
  },
  {
   "cell_type": "markdown",
   "id": "97d8eb1c-855b-4da4-af33-e8d91e104f0a",
   "metadata": {
    "slideshow": {
     "slide_type": "subslide"
    }
   },
   "source": [
    "### <font color='#2B17B0'>Órdenes de mercado</font>\n",
    "Es cuando el inversionista da la instrucción de realizar una transacción al mejor precio disponible en el mercado. <br><br>\n",
    "Por lo general se ejecutan de manera rápida, a costa de un precio inferior."
   ]
  },
  {
   "cell_type": "markdown",
   "id": "bf083678-8921-4aaf-8301-023e03c34c4c",
   "metadata": {
    "slideshow": {
     "slide_type": "subslide"
    }
   },
   "source": [
    "### <font color='#2B17B0'>Impacto en el mercado</font>\n",
    "Una orden relativamente pequeña, es más fácil de ejecutar con un precio más controlado que una orden de mayor volumen."
   ]
  },
  {
   "cell_type": "markdown",
   "id": "a1b629ce-57bc-46ca-8e3f-b37af1555f38",
   "metadata": {
    "slideshow": {
     "slide_type": "subslide"
    }
   },
   "source": [
    "Si un trader quiere comprar (vender) una posición de volumen considerable, tiene que mejorar el precio subiendo el *__bid__* (bajando el *__ask__*) del mercado para animar a los vendedores (compradores) a que vendan (compren)"
   ]
  },
  {
   "cell_type": "markdown",
   "id": "a5e0d33c-5c97-4693-a5ad-43020518b11e",
   "metadata": {
    "slideshow": {
     "slide_type": "subslide"
    }
   },
   "source": [
    "### <font color='#2B17B0'>Incertidumbre en el precio de ejecución</font>\n",
    "El precio a que las órdenes de mercado se ejecutan dependen de la condición del mercado  y pueden cambiar rapidamente.  Por lo que puede ejecutar su orden a un precio menor a lo esperado.  A este riesgo se le llama *__incertidumbre en el precio de ejecución__*.\n"
   ]
  },
  {
   "cell_type": "markdown",
   "id": "0a83c76b-9d4c-4098-b9d4-a492998f976d",
   "metadata": {
    "slideshow": {
     "slide_type": "subslide"
    }
   },
   "source": [
    "### <font color='#2B17B0'>Órdenes limitadas</font>\n",
    "Es una instrucción para realizar una transacción al mejor precio disponible *__SI Y SOLO SI__* el precio es igual o mejor al especificado en la orden."
   ]
  },
  {
   "cell_type": "markdown",
   "id": "57f7bc5d-c20c-4969-9376-567768b3faca",
   "metadata": {
    "slideshow": {
     "slide_type": "subslide"
    }
   },
   "source": [
    "Si la orden limitada es:\n",
    "* Una orden de compra:  $P_{mercado} \\leq P_{limitado}$\n",
    "* Una orden de venta: $P_{mercado} \\geq P_{limitado}$"
   ]
  },
  {
   "cell_type": "markdown",
   "id": "0fb02ab7-7172-4914-87f8-0d4fb3fe358f",
   "metadata": {
    "slideshow": {
     "slide_type": "subslide"
    }
   },
   "source": [
    "Si la orden no se llega a ejecutar por que el precio del mercado no es igual o mejor que el de la orden limitada, entonces la orden se quedará como una oferta disponible hasta que:\n",
    "1. Alguien acepte ese precio\n",
    "1. Al expirar su vida\n",
    "1. Al ser cancelada por el traeder que la originó"
   ]
  },
  {
   "cell_type": "markdown",
   "id": "b804ad4b-3b6e-4e07-9542-e46c328976e9",
   "metadata": {
    "slideshow": {
     "slide_type": "subslide"
    }
   },
   "source": [
    "### <font color='#2B17B0'>Riesgos de utilizar órdenes limitadas</font>\n",
    "1. Riesgo de incertidumbre de ejecución\n",
    "1. Riesgo de ejecución no deseada:  Es cuando la orden se ejecuta, y se hubiera deseado que hubiera sido ejecutada."
   ]
  },
  {
   "cell_type": "markdown",
   "id": "b371eb3a-01d0-48c6-a76d-0115a46ee2e3",
   "metadata": {
    "slideshow": {
     "slide_type": "subslide"
    }
   },
   "source": [
    "### <font color='#2B17B0'>Stop orders</font>\n",
    "Son órdenes en la que se especifica que no se puede ejecutar hasta que el precio llegue o sobrepase un precio preestablecido. <br><br>\n",
    "Por lo general se utilizan como *__stop losses__*, para proteger si el precio de mueve en contra de una posición."
   ]
  },
  {
   "cell_type": "markdown",
   "id": "f093ec3e-b2be-4371-91c5-2284d1a6ac7a",
   "metadata": {
    "slideshow": {
     "slide_type": "subslide"
    }
   },
   "source": [
    "### <font color='#2B17B0'>Stop orders (ejemplo)</font>\n",
    "Supongamos que Erika:\n",
    "* Tiene una posición en CEMEXCPO\n",
    "* La compró a MXN\\$6.8\n",
    "* Está dispuesta a perder hasta un 15\\% de su valor inicial, antes de venderla"
   ]
  },
  {
   "cell_type": "markdown",
   "id": "91f28d9f-0f2c-4a32-8992-a606fdfdbb42",
   "metadata": {
    "slideshow": {
     "slide_type": "subslide"
    }
   },
   "source": [
    "* Por lo cual Erika pone un stop order a MXN\\$5.78 \n",
    "* $6.8 * (1-.15)$\n",
    "* La orden no se activará hasta que el precio de CEMEXCPO llegue o caiga por debajo de los \\$5.78"
   ]
  },
  {
   "cell_type": "markdown",
   "id": "ff4c9d13-72be-45b3-814e-5c4a72f8f476",
   "metadata": {
    "slideshow": {
     "slide_type": "subslide"
    }
   },
   "source": [
    "* El stop order, solo activa la orden para que sea comercializada\n",
    "* No garantiza que la posición se ejecute a ese precio\n",
    "* Si Erika quiere garantizar limitar su pérdida a \\$5.78:\n",
    "    * Su mejor alternativa es comprar una opción PUT, con un K de \\$5.78"
   ]
  },
  {
   "cell_type": "markdown",
   "id": "3b7c0f88-54e5-4ebc-b580-0c6fb085460b",
   "metadata": {
    "slideshow": {
     "slide_type": "subslide"
    }
   },
   "source": [
    "### <font color='#2B17B0'>Órdenes limitadas y stop orders</font>\n",
    "La diferencia entre ellas radica en el propósito del uso del *__precio__*:\n",
    "* La _orden limitada_ especifica a que precio se puede ejecutar la orden\n",
    "* El _stop loss_ indica que la orden se activa si llega a ese precio"
   ]
  },
  {
   "cell_type": "markdown",
   "id": "772cfad0-097f-48c3-9b7f-81abe28cd15f",
   "metadata": {
    "slideshow": {
     "slide_type": "subslide"
    }
   },
   "source": [
    "### <font color='#2B17B0'>Órdenes limitadas y stop orders (cont.)</font>\n",
    "Se puede anexar un stop order a una orden limitada.  Se tienen que especificar dos precios:\n",
    "1. El _stop price_ para activar la orden\n",
    "1. El _precio limitado_ para indicar a que precio se puede concretar la orden\n",
    "1. A esta orden combinada se le conoce como _**Stop limit order**_"
   ]
  },
  {
   "cell_type": "markdown",
   "id": "b4ee3dea-46f4-4f4c-9699-a57193696580",
   "metadata": {
    "slideshow": {
     "slide_type": "slide"
    }
   },
   "source": [
    "# <font color='#2B17B0'>III.- Introducción al análisis financiero</font>"
   ]
  },
  {
   "cell_type": "markdown",
   "id": "022350ed-ba70-4104-8b12-4a435f057629",
   "metadata": {
    "slideshow": {
     "slide_type": "subslide"
    }
   },
   "source": [
    "## <font color='#2B17B0'>Maneras de seleccionar donde invertir</font>"
   ]
  },
  {
   "cell_type": "markdown",
   "id": "2f4a0732-4379-454c-a9cd-5c6db294193c",
   "metadata": {
    "slideshow": {
     "slide_type": "fragment"
    }
   },
   "source": [
    "* _**Subjetiva**_"
   ]
  },
  {
   "cell_type": "markdown",
   "id": "8e08a92c-0588-4277-9515-6296540fa5f9",
   "metadata": {
    "slideshow": {
     "slide_type": "fragment"
    }
   },
   "source": [
    "* _**Objetiva / Analítica**_\n",
    "    * Análisis técnico\n",
    "    * Análisis fundamental\n",
    "    * Otros"
   ]
  },
  {
   "cell_type": "markdown",
   "id": "91248641-2314-4008-b232-6164c7923b20",
   "metadata": {
    "slideshow": {
     "slide_type": "subslide"
    }
   },
   "source": [
    "## <font color='#2B17B0'>Características del Análisis Técnico y el Fundamental</font>"
   ]
  },
  {
   "cell_type": "markdown",
   "id": "6a141f04-3532-44e0-af5d-14971ce73376",
   "metadata": {
    "slideshow": {
     "slide_type": "fragment"
    }
   },
   "source": [
    "||Técnico||Fundamental|\n",
    "|:-|:-:|:-:|:-:|\n",
    "|**Objetivo**|_Encontrar tendencias en el precio_||_Encontrar empresas mal valoradas_|\n",
    "|**Enfoque**|_Precios históricos_||_Utilidades, flujos, etc._|\n",
    "|**Métricas**|_Indicadores estadísticos_||_Multiplos, razones financieras, flujos descontados, etc_|\n",
    "|**Resultado**|_Señales de compra/venta_||_Definir si la empresa está sub o sobre valuada_|"
   ]
  },
  {
   "cell_type": "markdown",
   "id": "0e3f1444-b2b1-4e63-bd3a-11b9a939a0c9",
   "metadata": {
    "slideshow": {
     "slide_type": "subslide"
    }
   },
   "source": [
    "### <font color='#2B17B0'>Desempeño y horizonte de inversión</font>"
   ]
  },
  {
   "cell_type": "markdown",
   "id": "410785e8-2676-4053-bbf6-41ca88216a0a",
   "metadata": {},
   "source": [
    "![ActaConstitutivaVOC](https://dl.dropboxusercontent.com/scl/fi/cga82zk4grlwwalxp8dh8/horizonte_inversion.png?rlkey=t7g4k52z7qp0g6pnoqxunnse9&dl=0)<br>"
   ]
  },
  {
   "cell_type": "markdown",
   "id": "323df657-5ad2-447d-9bf1-349041fe75d9",
   "metadata": {
    "slideshow": {
     "slide_type": "subslide"
    }
   },
   "source": [
    "## <font color='#2B17B0'>Breve introducción Análisis Fundamental</font>"
   ]
  },
  {
   "cell_type": "markdown",
   "id": "e4e3b789-73cb-478e-8304-ee9dabb9792c",
   "metadata": {
    "slideshow": {
     "slide_type": "subslide"
    }
   },
   "source": [
    "### <font color='#2B17B0'>¿Qué es?</font>"
   ]
  },
  {
   "cell_type": "markdown",
   "id": "c2b24c96-a60a-4009-b3ce-d551786d0dd0",
   "metadata": {
    "slideshow": {
     "slide_type": "fragment"
    }
   },
   "source": [
    "> _Es la habilidad de interpretar toda la información que las empresas públicas proveen al público inversionista, para tomar decisiones de inversión inteligentes_"
   ]
  },
  {
   "cell_type": "markdown",
   "id": "c0681702-f654-4af0-8147-5b8606737840",
   "metadata": {
    "slideshow": {
     "slide_type": "subslide"
    }
   },
   "source": [
    "### <font color='#2B17B0'>¿Por qué utilizarlo?</font>"
   ]
  },
  {
   "cell_type": "markdown",
   "id": "98c858a1-b69e-482e-a6b9-31ee206a378c",
   "metadata": {
    "slideshow": {
     "slide_type": "fragment"
    }
   },
   "source": [
    "* _Decisiones tomadas en base a hechos, no opiniones._\n",
    "* _Nos ayuda a detectar cambios en la salud general de la empresa, antes de que las complicaciones empiecen._\n",
    "* _Nos ayuda a poner precios objetivos a las acciones._\n",
    "* _Hace que nos enfoquemos en la empresa y no la acción._"
   ]
  },
  {
   "cell_type": "markdown",
   "id": "82d72bd7-26d3-4139-b011-5220da219405",
   "metadata": {
    "slideshow": {
     "slide_type": "subslide"
    }
   },
   "source": [
    "### <font color='#2B17B0'>¿En qué valores enfocarnos?</font>"
   ]
  },
  {
   "cell_type": "markdown",
   "id": "3e7e670f-2e9f-4d7b-9e80-2d95157a614f",
   "metadata": {
    "slideshow": {
     "slide_type": "fragment"
    }
   },
   "source": [
    "* _Desempeño  financiero_\n",
    "* _Recursos económicos_\n",
    "* _Valuación_\n",
    "* _Tendencias macro_\n",
    "* _Equipo de administración_"
   ]
  },
  {
   "cell_type": "markdown",
   "id": "8ef78adf-3910-47cb-a77a-7c68defb1fb0",
   "metadata": {
    "slideshow": {
     "slide_type": "subslide"
    }
   },
   "source": [
    "## <font color='#2B17B0'>Breve introducción al Análisis Técnico</font>"
   ]
  },
  {
   "cell_type": "markdown",
   "id": "5fcf58e7-4e02-4cb1-b0de-405ddd97494c",
   "metadata": {
    "slideshow": {
     "slide_type": "subslide"
    }
   },
   "source": [
    "### <font color='#2B17B0'>¿Qué es?</font>"
   ]
  },
  {
   "cell_type": "markdown",
   "id": "0d2f154d-0f40-4d1a-8106-ec306e1f18a4",
   "metadata": {
    "slideshow": {
     "slide_type": "fragment"
    }
   },
   "source": [
    "> _Es una metodología utilizada para predecir la dirección futura de los precios de activos financieros basándose en la revisión de patrones de precios pasados y volúmenes de negociación. En lugar de centrarse en los factores fundamentales de una empresa o una economía (como ventas, utilidades, tasas de interés), el análisis técnico se enfoca en el estudio de gráficos y otros instrumentos para identificar patrones que sugieran futuras actividades de precios._"
   ]
  },
  {
   "cell_type": "markdown",
   "id": "65c28f9d-b777-4007-81b9-f300ee86b3ae",
   "metadata": {
    "slideshow": {
     "slide_type": "subslide"
    }
   },
   "source": [
    "### <font color='#2B17B0'>¿Por qué utilizarlo?</font>"
   ]
  },
  {
   "cell_type": "markdown",
   "id": "9b779d2e-0f57-4771-bb38-d8b3ae599ca8",
   "metadata": {
    "slideshow": {
     "slide_type": "fragment"
    }
   },
   "source": [
    "* _Una premisa fundamental del análisis técnico es que la historia tiende a repetirse_\n",
    "* _Al centrarse en el precio y el volumen, el análisis técnico busca descubrir la demanda y oferta subyacente en el mercado, lo que puede indicar futuros movimientos de precios_\n",
    "* _pueden tomar decisiones rápidas basadas en los signos y señales que observan_\n",
    "* _Puede ser utilizado en acciones, bonos, divisas, materias primas y prácticamente cualquier mercado con datos históricos de precios_"
   ]
  },
  {
   "cell_type": "markdown",
   "id": "f72162d8-5d16-4a31-8c0d-0d781812c0c1",
   "metadata": {
    "slideshow": {
     "slide_type": "subslide"
    }
   },
   "source": [
    "### <font color='#2B17B0'>¿En qué valores enfocarnos?</font>"
   ]
  },
  {
   "cell_type": "markdown",
   "id": "d6ae272c-41b6-46c3-9679-bf5aef150f37",
   "metadata": {
    "slideshow": {
     "slide_type": "fragment"
    }
   },
   "source": [
    "* _Gráficos del precio_\n",
    "* _Patrones en los gráficos_\n",
    "* _Tendencias_\n",
    "* _Indicadores y osciladores_\n",
    "* _Volumen_\n",
    "* _Equipo de administración_\n",
    "* _Soportes y resistencias_"
   ]
  },
  {
   "cell_type": "markdown",
   "id": "8dd9cbea-4f66-46e5-b3ba-cc82769f007a",
   "metadata": {
    "tags": []
   },
   "source": [
    "# <font color='#2B17B0'>Indice de Precios y Cotizaciones - \"IPC\" S&P BMV -</font>\n"
   ]
  },
  {
   "cell_type": "markdown",
   "id": "ce280f75-3add-453c-8fa3-5a256d3a7dac",
   "metadata": {},
   "source": [
    "> _\"El S&P/BMV IPC busca medir el desempeño de las acciones de mayor tamaño y liquidez listadas en la BMV. Su objetivo es proporcionar un índice amplio, representativo, que abarque el mercado bursátil mexicano. Los componentes del índice son ponderados por capitalización de mercado modificada, sujetos a requisitos de diversificación.\"_<br><br>https://www.spglobal.com/spdji/es/indices/equity/sp-bmv-ipc/#overview\n"
   ]
  },
  {
   "cell_type": "markdown",
   "id": "94313738-c180-4c8b-b563-adf796ede298",
   "metadata": {},
   "source": [
    "### Universo\n",
    "> \"_Los constituyentes deben de ser acciones listadas en la BMV, excluyendo los Fideicomisos de Inversión en Bienes Raíces (FIBRAS) y los Fideicomisos hipotecarios._\""
   ]
  },
  {
   "cell_type": "markdown",
   "id": "b2091c8a-55a4-4e72-86ec-b73fbec08fa1",
   "metadata": {},
   "source": [
    "### Historial de Operación\n",
    "> _\"Deben de cumplir con el siguiente criterio:\"_\n",
    "> * Las acciones deben de tener un historial de negociación por lo menos de tres meses\n",
    "> * Las acciones deberion de haber operado por lo menos en el 95% de los días de los últimos seis meses\n",
    "> * Si las acciones tienen menos de seis meses de historial, se aplica al 95% de los días operados"
   ]
  },
  {
   "attachments": {},
   "cell_type": "markdown",
   "id": "0c73c589-9c9f-4190-8e15-0d0775e1e80d",
   "metadata": {},
   "source": [
    "|Emisora|Ticker|Ticker Y!F|\n",
    "|:-|:-|:-|\n",
    "|\"Indice de Precios y Cotizaciones\"|IPC|^MXX|\n",
    "|Alfa A|ALFAA|ALFAA.MX|\n",
    "|Alsea A|ALSEA|ALSEA.MX|\n",
    "|America Movil  B|AMXB|AMXB.MX| \n",
    "|Arca Continental|AC|AC.MX| \n",
    "|Banco del Bajio|BBAJIOO|BBAJIOO.MX| \n",
    "|Becle |CUERVO|CUERVO.MX| \n",
    "|Bolsa Mexicana de Valores |BOLSAA|BOLSAA.MX| \n",
    "|Cemex CPO|CEMEXCPO|CEMEXCPO.MX| \n",
    "|Coca-Cola Femsa  UBL|KOFUBL|KOFUBL.MX| \n",
    "|Corporacion Inmobiliaria VestaB|VESTA|VESTA.MX| \n",
    "|El Puerto de Liverpool |LIVEPOLC-1|LIVEPOLC-1.MX| \n",
    "|Fomento Economico Mexicano |FEMSAUBD|FEMSAUBD.MX| \n",
    "|Genomma Lab Internacional |LABB|LABB.MX| \n",
    "|Gentera |GENTERA|GENTERA.MX| \n",
    "|Gruma SAB B|GRUMAB|GRUMAB.MX| \n",
    "|Grupo Aeroportuario del Centro NorteB. |OMAB|OMAB.MX| \n",
    "|Grupo Aeroportuario del PacificoB. |GAPB|GAPB.MX| \n",
    "|Grupo Aeroportuario del Sureste  B|ASURB|ASURB.MX| \n",
    "|Grupo Bimbo S.A.B.|BIMBOA|BIMBOA.MX| \n",
    "|Grupo Carso |GCARSOA1|GCARSOA1.MX| \n",
    "|Grupo Cementos de Chihuahua |GCC|GCC.MX| \n",
    "|Grupo Comercial Chedraui|CHDRAUIB|CHDRAUIB.MX|\n",
    "|Grupo Elektra |ELEKTRA|ELEKTRA.MX| \n",
    "|Grupo Financiero Banorte O|GFNORTEO|GFNORTEO.MX| \n",
    "|Grupo Financiero Inbursa O|GFINBURO|GFINBURO.MX| \n",
    "|Grupo Mexico  B|GMEXICOB|GMEXICOB.MX| \n",
    "|Grupo Televisa  CPO|TLEVISACPO|TLEVISACPO.MX| \n",
    "|Industrias Penoles|PE&OLES|PE&OLES.MX| \n",
    "|Kimberly Clark de Mexico  A|KIMBERA|KIMBERA.MX| \n",
    "|Megacable Holdings |MEGACPO|MEGACPO.MX| \n",
    "|ORBIA ADVANCE CORPORATION |ORBIA|ORBIA.MX| \n",
    "|Promotora y Operadora de Infraestructura |PINFRA|PINFRA.MX| \n",
    "|Qualitas Controladora|Q|Q.MX| \n",
    "|Regional |RA|RA.MX| \n",
    "|Walmart de Mexico |WALMEX|WALMEX.MX|"
   ]
  },
  {
   "cell_type": "markdown",
   "id": "e004e7b2-ac50-44e4-9154-2eae89e06a63",
   "metadata": {},
   "source": [
    "## <font color='#2B17B0'>Crear librerías en Python</font>"
   ]
  },
  {
   "cell_type": "markdown",
   "id": "4ba6f0e2-ae69-4231-8c29-46c0043afb37",
   "metadata": {},
   "source": [
    "```python\n",
    "def ejemplo_sumar(x, y):\n",
    "    '''\n",
    "    La función ejemplo_sumar, regresa la suma de dos números\n",
    "    \n",
    "    Parámetros:\n",
    "    -x (int/float):  Primer número\n",
    "    -y (int/float):  Segundo número\n",
    "    \n",
    "    Return:\n",
    "    - int/float:  The sum of x + y\n",
    "    '''\n",
    "   \n",
    "    if not(type(x) in [int, float] and type(y) in [int, float]):\n",
    "        raise ValueError(\"los valores deben de ser numéricos\")\n",
    "    \n",
    "    respuesta = x + z\n",
    "    \n",
    "    return respuesta\n",
    "\n",
    "```"
   ]
  },
  {
   "cell_type": "markdown",
   "id": "b3c84cc4-b8e2-437e-b322-4230905b6bd2",
   "metadata": {
    "tags": []
   },
   "source": [
    "### Comandos mágicos"
   ]
  },
  {
   "cell_type": "markdown",
   "id": "09e9c2f6-5092-4018-84d5-b127d60c44ed",
   "metadata": {},
   "source": [
    "```python\n",
    "%load_ext autoreload\n",
    "%autoreload 2\n",
    "```\n",
    "\n",
    "\n",
    "se utilizan comúnmente juntos en entornos de Jupyter Notebooks o Jupyter Lab para habilitar la recarga automática de módulos de Python importados antes de ejecutar el código.<br><br>\n",
    "\n",
    "\n",
    "%load_ext autoreload:\n",
    "Este comando mágico carga la extensión autoreload. La extensión autoreload proporciona la capacidad de recargar automáticamente los módulos importados antes de ejecutar el código introducido en el cuaderno.\n",
    "\n",
    "%autoreload 2:\n",
    "Este comando mágico establece el modo de autorecarga. El 2 después de %autoreload denota el modo a establecer, y aquí te explico qué significa cada modo:<br>\n",
    "0: Desactiva la autorecarga.<br>\n",
    "1: Recarga los módulos importados con la sentencia import ... antes de ejecutar el código de Python introducido. No funciona con la sentencia from ... import ....<br>\n",
    "2: Recarga todos los módulos (excepto aquellos excluidos por aimport) cada vez antes de ejecutar el código de Python. Este modo es más exhaustivo y generalmente es el que se utiliza cuando se están editando activamente los archivos fuente."
   ]
  },
  {
   "cell_type": "markdown",
   "id": "9adf9926-a54c-4547-8184-15e4678a839e",
   "metadata": {
    "tags": []
   },
   "source": [
    "# <font color='#2B17B0'>Precios Yahoo Finance</font>"
   ]
  },
  {
   "cell_type": "markdown",
   "id": "36bff728-f421-4b4f-a767-bcf4be422a51",
   "metadata": {},
   "source": [
    "### Como obtener los precios de Y!Finance?"
   ]
  },
  {
   "cell_type": "code",
   "execution_count": null,
   "id": "06143c8d-6bd4-43f0-b683-18d6688b3ab6",
   "metadata": {},
   "outputs": [],
   "source": [
    "url = 'https://query1.finance.yahoo.com/v7/finance/download/AC.MX?period1=1653862375&period2=1685405575&interval=1d&events=history&includeAdjustedClose=true'"
   ]
  },
  {
   "cell_type": "markdown",
   "id": "1a13f557-03b2-4e47-8a2b-3ddbe691037e",
   "metadata": {},
   "source": [
    "## <font color='#2B17B0'>UNIX Epoch Time</font>\n"
   ]
  },
  {
   "cell_type": "markdown",
   "id": "0000c290-6af5-4e51-b34c-e0e4bee60e5f",
   "metadata": {},
   "source": [
    "> _\"Son los segundos que han pasado a partir de las 0:00:00hrs del 1 de enero, 1970\"_"
   ]
  },
  {
   "cell_type": "markdown",
   "id": "9f830d7f-9f42-4019-84b3-809f48c86cd5",
   "metadata": {},
   "source": [
    "### <font color='#2B17B0'>A falta de Yahoo! Finance:  Binance Open Data</font>\n"
   ]
  },
  {
   "cell_type": "code",
   "execution_count": null,
   "id": "d1c9a1b3-7306-45ab-831c-b5376be64007",
   "metadata": {},
   "outputs": [],
   "source": [
    "import pandas as pd\n",
    "import numpy as np\n",
    "import requests"
   ]
  },
  {
   "cell_type": "markdown",
   "id": "80067047-b87e-49a8-8441-811b1f4d38d8",
   "metadata": {},
   "source": [
    "### <font color='#2B17B0'>Datos históricos O-H-L-C</font>"
   ]
  },
  {
   "cell_type": "markdown",
   "id": "217d6ab2-8620-4a83-a960-da79b2a792e9",
   "metadata": {},
   "source": [
    "Documentación oficial binance:\n",
    "https://www.binance.com/en/binance-api\n"
   ]
  },
  {
   "cell_type": "markdown",
   "id": "b3c909c7-06be-4af0-81f3-a4989bf604be",
   "metadata": {},
   "source": [
    "Hacer llamadas utilizando Postman"
   ]
  },
  {
   "cell_type": "code",
   "execution_count": null,
   "id": "e9ae2e6f-9618-47b3-a7fa-6a8b31d2bf1f",
   "metadata": {},
   "outputs": [],
   "source": []
  },
  {
   "cell_type": "markdown",
   "id": "653b6d26-4cfa-4afc-8ef5-6505e1b5c996",
   "metadata": {},
   "source": [
    "### <font color='#2B17B0'>Librería binance</font>"
   ]
  },
  {
   "cell_type": "markdown",
   "id": "c9ee2a1c-ebfe-4449-bc8b-293b148ff97c",
   "metadata": {},
   "source": [
    "https://github.com/binance/binance-connector-python"
   ]
  },
  {
   "cell_type": "code",
   "execution_count": null,
   "id": "aa607fdd-d230-4224-8365-11b3ba20aac5",
   "metadata": {},
   "outputs": [],
   "source": []
  },
  {
   "cell_type": "markdown",
   "id": "dfa73c6e-0c22-45b8-9008-fa5eda609dbe",
   "metadata": {
    "tags": []
   },
   "source": [
    "#### <font color='#2B17B0'>Crear gráfica de Velas Japonesas</font>"
   ]
  },
  {
   "cell_type": "code",
   "execution_count": null,
   "id": "12e354cc-8afc-4c71-9f15-6fdd7545d492",
   "metadata": {},
   "outputs": [],
   "source": []
  },
  {
   "cell_type": "markdown",
   "id": "083e65a6-00ab-4f83-a537-bc57a7419577",
   "metadata": {},
   "source": [
    "## <font color='#2B17B0'>Crear función para obtener precios de acciones</font>\n"
   ]
  },
  {
   "cell_type": "code",
   "execution_count": null,
   "id": "877a89f7-d09d-4554-b134-e34820040593",
   "metadata": {},
   "outputs": [],
   "source": []
  },
  {
   "cell_type": "markdown",
   "id": "92850696-a501-4ba0-b2c6-5a75462a92e5",
   "metadata": {},
   "source": [
    "## Guardar función en nuestra librería y recargarlas en automático:"
   ]
  },
  {
   "cell_type": "code",
   "execution_count": null,
   "id": "b17c1ba1-d55e-4d88-8a42-948062bfd053",
   "metadata": {
    "tags": []
   },
   "outputs": [],
   "source": [
    "%load_ext autoreload\n",
    "%autoreload 2"
   ]
  },
  {
   "cell_type": "markdown",
   "id": "9c70c69f-4f23-4e2c-bb05-3aabf2d0a26a",
   "metadata": {},
   "source": [
    "## Comparar 2 o más acciones"
   ]
  },
  {
   "cell_type": "markdown",
   "id": "fb204ceb-fef2-411c-ade5-cf8f4b77cd42",
   "metadata": {
    "tags": []
   },
   "source": [
    "### Crear DataFrame con 2 o más precios de cierre de diferentes acciones"
   ]
  },
  {
   "cell_type": "markdown",
   "id": "b2ae6d9f-6a1e-45b1-b85b-c3d559cc2097",
   "metadata": {},
   "source": [
    "1. Crear una lista con las acciones de interés\n",
    "1. Crea un df vacío\n",
    "1. Generar un for loop para cada elemento de la lista\n",
    "    1. Llamar a la función precios\n",
    "    1. Asignar al dataframe vacío la columna de precio ajustado, con el nombre de la acción\n",
    "    1. Borrar el dataframe donde se bajó los precios de la acción en turno"
   ]
  },
  {
   "cell_type": "code",
   "execution_count": null,
   "id": "714a51de-6a53-4575-8ef2-97b168e51afc",
   "metadata": {},
   "outputs": [],
   "source": []
  },
  {
   "cell_type": "markdown",
   "id": "897a22f1-b098-4943-93e2-6de5a8548833",
   "metadata": {},
   "source": [
    "### Visualizar dataframe"
   ]
  },
  {
   "cell_type": "code",
   "execution_count": null,
   "id": "50b4b011-9834-4b92-a936-f59a35f8bc9d",
   "metadata": {},
   "outputs": [],
   "source": []
  },
  {
   "cell_type": "markdown",
   "id": "bb5db1bb-4fb6-43de-9e4d-83113414d821",
   "metadata": {},
   "source": [
    "### Normalizado de series de tiempo: Comparar 2 o más acciones"
   ]
  },
  {
   "cell_type": "code",
   "execution_count": null,
   "id": "ce9d5680-941c-4326-8666-c68fe5cc8622",
   "metadata": {},
   "outputs": [],
   "source": []
  },
  {
   "cell_type": "markdown",
   "id": "695f9840-065a-428f-9546-a552f3f7a3a6",
   "metadata": {},
   "source": [
    "# <font color='#2B17B0'>Análisis técnico</font>\n"
   ]
  },
  {
   "cell_type": "markdown",
   "id": "021d0a13-5939-4b99-8fb6-66d2ea4d0ed0",
   "metadata": {
    "tags": []
   },
   "source": [
    "## Análisis técnico"
   ]
  },
  {
   "cell_type": "markdown",
   "id": "f54535a0-18ee-41ff-ba29-2b2e0ab6f406",
   "metadata": {},
   "source": [
    "### Tipos de gráficas\n",
    "Ir a trading view"
   ]
  },
  {
   "cell_type": "markdown",
   "id": "ecc94edd-3e60-4d35-95c4-018958303143",
   "metadata": {
    "tags": []
   },
   "source": [
    "## Algoritmo Promedios Móviles"
   ]
  },
  {
   "cell_type": "markdown",
   "id": "676a3e43-2557-4d1c-84f7-ae8c168586e6",
   "metadata": {
    "tags": []
   },
   "source": [
    "Un promedio móvil es una técnica que calcula el promedio de un conjunto de datos a lo largo de un período específico, que se actualiza constantemente a medida que pasa el tiempo. Por ejemplo, en el caso de los precios de cierre de una acción, un promedio móvil de 20 días calcula el promedio de los precios de cierre de los últimos 20 días. Con cada día que pasa, se elimina el dato correspondiente al día más antiguo de los 20 y se incorpora el precio del día más reciente. De esta forma, el promedio móvil siempre refleja el precio promedio de las últimos 20 días.<br><br>\n",
    "\n",
    "Los PM se basan en la idea que los precios:\n",
    "* Reflejan unicamente el *sentir* del mercado en ese dia.\n",
    "* No reflejan el verdadero precio del activo.\n",
    "* Todos los días se corrigen los precios para llegar al precio real.\n",
    "* Al promediar los precios de cierre de los últimos \"n\" dias, se llega a un precio más real. \n",
    "<br><br>\n",
    "Comentarios:\n",
    "* Uno de los indicadores técnicos más utilizados.\n",
    "* Muchos sistemas basados en estrategias de \"trend-following\", lo utilizan como base de sus algorítmos.\n",
    "* Muy fácil de cuantificar y probar. \n",
    "* Las reglas de los promedios móviles son fácil de programar y generar señales de compra venta.\n",
    "<br><br>\n",
    "El PM se calcula de la siguiente manera:\n",
    "* Generamos dos promedios móviles vectorizados, donde generalmente el 1er promedio móvil (PM1) es de corto plazo (3 a 30 dias) y el 2do promédio móvil (PM2) es de mediano plazo (2, 3 hasta 12 meses).\n",
    "<br><br>\n",
    "\n",
    "Nuestra estrategia consiste en tomar posiciones \"long\" (comprar) o \"short\" (vender) al cruce de los PMs:\n",
    "* Long: PM1 > PM2\n",
    "* Short: PM1 < PM2 \n",
    "<br><br>\n",
    "Para calcular los PMs, utilizaremos el \"método\" .rolling(window).mean( ).\n",
    "con los siguientes datos:"
   ]
  },
  {
   "cell_type": "code",
   "execution_count": null,
   "id": "45cff4ce-9199-43a5-9e14-f118d911146e",
   "metadata": {},
   "outputs": [],
   "source": []
  },
  {
   "cell_type": "markdown",
   "id": "e51ce602-b0fd-4996-8048-32eee1240806",
   "metadata": {},
   "source": [
    "### Cálculo de los promedios móviles"
   ]
  },
  {
   "cell_type": "markdown",
   "id": "e7bf2c0a-985a-451a-9f38-24f123df2d95",
   "metadata": {},
   "source": [
    "Referencia sobre la función `rolling` de pandas:\n",
    "https://pandas.pydata.org/docs/reference/api/pandas.DataFrame.rolling.html"
   ]
  },
  {
   "cell_type": "code",
   "execution_count": null,
   "id": "cbad34dc-171c-46cc-a4de-bf669892e397",
   "metadata": {},
   "outputs": [],
   "source": []
  },
  {
   "cell_type": "markdown",
   "id": "be2804fb-5d79-4034-a566-d8812f5b6c9c",
   "metadata": {},
   "source": [
    "### Visualización"
   ]
  },
  {
   "cell_type": "markdown",
   "id": "4bf43f57-3de1-44bf-9634-ffcb2d89163e",
   "metadata": {},
   "source": [
    "### Calcular posicion en el mercado"
   ]
  },
  {
   "cell_type": "markdown",
   "id": "f0220c7c-357e-44bc-b80e-c23fe44c16a4",
   "metadata": {},
   "source": [
    "Ventas en corto permitidas:\n",
    "La estrategia consiste en tomar posiciones \"long\" o \"short\" al cruce de los PMs:\n",
    "* Long: PM1 > PM2 $\\longrightarrow$ __1__\n",
    "* Short: PM1 < PM2 $\\longrightarrow$ __-1__\n",
    "\n",
    "Ventas en corto no permitidas:\n",
    "* Long: PM1 > PM2 $\\longrightarrow$ __1__\n",
    "* Out:   PM1 < PM2 $\\longrightarrow$ **0**\n",
    "\n",
    "El utilizar números nos permite:\n",
    "* Visualizar posición en el mercado de acuerdo a los crueces de lospromedios móviles\n",
    "* Calcular los retornos de de la estrategia"
   ]
  },
  {
   "cell_type": "markdown",
   "id": "374c12e9-b56f-4500-ad6f-5dbc02868ad7",
   "metadata": {
    "tags": []
   },
   "source": [
    "#### Cálculo de posición del mercado utilizando ventas en corto"
   ]
  },
  {
   "cell_type": "code",
   "execution_count": null,
   "id": "22479aa9-22f1-4fb4-985a-ea83e25a5129",
   "metadata": {},
   "outputs": [],
   "source": []
  },
  {
   "cell_type": "markdown",
   "id": "f765d4f5-cf98-44c3-a1b1-51652b03f17d",
   "metadata": {
    "tags": []
   },
   "source": [
    "### BackTesting: Estrategia de promedios móviles con ventas en corto"
   ]
  },
  {
   "cell_type": "markdown",
   "id": "dbbe8812-eeff-42ed-9566-717fca4679e6",
   "metadata": {},
   "source": [
    "### Retornos del mercado Vs Estrategia PMs"
   ]
  },
  {
   "cell_type": "code",
   "execution_count": null,
   "id": "7a8bb775-4afc-48ee-a46a-e4e5694e5d6a",
   "metadata": {},
   "outputs": [],
   "source": []
  },
  {
   "cell_type": "markdown",
   "id": "8c1304dd-4167-4a36-afdc-f1fa1f7f7f8b",
   "metadata": {},
   "source": [
    "### Visualizar desempeño"
   ]
  },
  {
   "cell_type": "markdown",
   "id": "dcf6d8cf-2567-4060-b400-5faeb607cc59",
   "metadata": {},
   "source": [
    "### <font color='navygray'>Balance monetario</font>"
   ]
  },
  {
   "cell_type": "code",
   "execution_count": null,
   "id": "b96e8a95-94b6-4110-acb3-c23bafaa2c15",
   "metadata": {},
   "outputs": [],
   "source": []
  },
  {
   "cell_type": "markdown",
   "id": "cf723653-11b3-4966-bea1-3cddbfa0c80a",
   "metadata": {},
   "source": [
    "### Balance: Máximos"
   ]
  },
  {
   "cell_type": "code",
   "execution_count": null,
   "id": "4d75b5ca-1a28-4a6d-a4fe-914b11b9e74b",
   "metadata": {},
   "outputs": [],
   "source": []
  },
  {
   "cell_type": "markdown",
   "id": "c35d481a-42d4-4b8a-b2e2-2a1200edac2a",
   "metadata": {},
   "source": [
    "### Balance: Perdidas"
   ]
  },
  {
   "cell_type": "code",
   "execution_count": null,
   "id": "34eb302d-ad29-4265-9ca0-076d9ec18d1f",
   "metadata": {},
   "outputs": [],
   "source": []
  },
  {
   "cell_type": "markdown",
   "id": "bf6441cf-b4db-4b3e-98d4-4e48bdd5f3ba",
   "metadata": {},
   "source": [
    "### Encontrar pérdida máxima"
   ]
  },
  {
   "cell_type": "markdown",
   "id": "b18d45a0-5e73-497f-81b5-07bc61c08b65",
   "metadata": {},
   "source": [
    "Pasos:\n",
    "1. Identificar la mayor pérdida del periodo\n",
    "1. Encontrar la fecha de la mayor pérdida\n",
    "1. Identificar el pico máximo acumulado en la fecha de la mayor perdida\n",
    "1. Identificar el balance en la fecha de la mayor pérdida\n",
    "1. Graficar"
   ]
  },
  {
   "cell_type": "markdown",
   "id": "b64bc0f0-4c91-47fb-a845-d9d8c884fcca",
   "metadata": {},
   "source": [
    "#### dentificar la mayor perdida"
   ]
  },
  {
   "cell_type": "code",
   "execution_count": null,
   "id": "0a15c0bb-521a-407a-a544-da39a5aac58e",
   "metadata": {},
   "outputs": [],
   "source": []
  },
  {
   "cell_type": "markdown",
   "id": "2f526f31-8e70-49b2-82aa-909b10b1658c",
   "metadata": {},
   "source": [
    "#### Encontrar fecha"
   ]
  },
  {
   "cell_type": "code",
   "execution_count": null,
   "id": "f1454a5a-8a4b-4c8c-806f-856d2082848d",
   "metadata": {},
   "outputs": [],
   "source": []
  },
  {
   "cell_type": "markdown",
   "id": "336c9851-81fe-437b-9211-30e61d1965c7",
   "metadata": {},
   "source": [
    "#### Identificar valor del pico máximo en la fecha de la mayor perdida"
   ]
  },
  {
   "cell_type": "code",
   "execution_count": null,
   "id": "03f61834-daa3-4046-8650-a5011b8feccb",
   "metadata": {},
   "outputs": [],
   "source": []
  },
  {
   "cell_type": "markdown",
   "id": "f757ed7e-a047-4424-8649-eafb115b7447",
   "metadata": {},
   "source": [
    "#### Identificar balance en la fecha de la mayor pérdida"
   ]
  },
  {
   "cell_type": "code",
   "execution_count": null,
   "id": "44f1aa6b-ba27-4416-8cfd-d202b1c4c652",
   "metadata": {},
   "outputs": [],
   "source": []
  },
  {
   "cell_type": "markdown",
   "id": "7a676de9-585b-4ccf-b359-97fe09a0d774",
   "metadata": {
    "tags": []
   },
   "source": [
    "## Estrategia de Reversión a la Media"
   ]
  },
  {
   "cell_type": "markdown",
   "id": "7d25c1a8-1348-45f2-84f6-68bdc0e39ad9",
   "metadata": {},
   "source": [
    "La idea de las estrategias de reversión a la media se basan en el concepto de que el precio volverá a su precio medio. Una forma común de implementar esta estrategia es con las Bandas de Bollinger."
   ]
  },
  {
   "cell_type": "markdown",
   "id": "cc3fc623-1db0-44c2-8b26-6105575ece35",
   "metadata": {},
   "source": [
    "### Bandas de Bollinger"
   ]
  },
  {
   "cell_type": "markdown",
   "id": "3c7c67ab-e53f-4c37-868e-4fe05b513ba1",
   "metadata": {},
   "source": [
    "Las Bandas de Bollinger son un indicador de volatilidad desarrollado por John Bollinger.  La estrategia consiste en crear un rango alrededor del precio medio. Cuando el precio de la acción cruza por encima de la banda superior, se genera una señal de venta ya que se considera que el precio está \"sobrevaluado\" y es probable que sufra una corrección. Cuando el precio cruza por debajo de la banda inferior, se genera una señal de compra ya que se considera que el precio está \"subvaluado\" y es probable que se produzca un rebote.\n",
    "\n",
    "Se calculan a partir de una media móvil (generalmente de 20 períodos) a la que se añaden dos bandas situadas a dos desviaciones estándar de la media. De esta forma, las bandas se ensanchan o se estrechan en función de la volatilidad del mercado.\n",
    "\n",
    "La fórmula para calcular las Bandas de Bollinger es la siguiente:"
   ]
  },
  {
   "cell_type": "markdown",
   "id": "d713e48c-efb4-4dc2-a23a-ea0642a1abdd",
   "metadata": {},
   "source": [
    "$$Banda\\_promedio=\\frac{1}{n}\\sum_{i=0}^{n-1}Precio_{t-i}$$"
   ]
  },
  {
   "cell_type": "markdown",
   "id": "e438c6bd-1a28-470c-9b8e-bb8a3303a289",
   "metadata": {},
   "source": [
    "$$Banda\\_superior = Banda\\_media + k \\cdot \\sigma_{n}$$"
   ]
  },
  {
   "cell_type": "markdown",
   "id": "f6cc693d-5dbb-4375-a4ef-c2a471793c06",
   "metadata": {},
   "source": [
    "$$Banda\\_inferior = Banda\\_media - k \\cdot \\sigma_{n}$$"
   ]
  },
  {
   "cell_type": "markdown",
   "id": "b407b94d-c969-4519-a8fd-59cf7e5393ed",
   "metadata": {},
   "source": [
    "Donde:\n",
    "* $n$ es el número de periodos \n",
    "* $k$ es el número de desviaciones estándar que queremos que la banda se aleje de la media móvil.  Por lo general $k=2$\n",
    "* $\\sigma_n$ es la desviación estándar de los precios en los últimos $n$ días"
   ]
  },
  {
   "cell_type": "code",
   "execution_count": null,
   "id": "f31f20a1-fd19-48f5-b8ec-d2f89681f8b6",
   "metadata": {},
   "outputs": [],
   "source": []
  },
  {
   "cell_type": "markdown",
   "id": "36efd13a-467c-4e93-ac53-b59743c23800",
   "metadata": {},
   "source": [
    "### <font color='navygray'>Balance monetario</font>"
   ]
  },
  {
   "cell_type": "code",
   "execution_count": null,
   "id": "4324a9bc-2e74-4dd7-8db4-d3d6ab4664df",
   "metadata": {},
   "outputs": [],
   "source": []
  },
  {
   "cell_type": "markdown",
   "id": "21cdbf3d-21f1-490a-b3dd-a09e9997385d",
   "metadata": {},
   "source": [
    "### Balance: Máximos"
   ]
  },
  {
   "cell_type": "code",
   "execution_count": null,
   "id": "d1da2816-b89c-4c6b-b9a4-f6319c089fc7",
   "metadata": {},
   "outputs": [],
   "source": []
  },
  {
   "cell_type": "markdown",
   "id": "996bab60-c555-4a7e-8d6c-043460857638",
   "metadata": {},
   "source": [
    "### Balance: Perdidas"
   ]
  },
  {
   "cell_type": "code",
   "execution_count": null,
   "id": "8d9e0e74-f568-4163-925b-e15241a51ee9",
   "metadata": {},
   "outputs": [],
   "source": []
  },
  {
   "cell_type": "markdown",
   "id": "5d4d871c-6622-458b-8067-dad0bcf58e80",
   "metadata": {},
   "source": [
    "### Encontrar pérdida máxima"
   ]
  },
  {
   "cell_type": "markdown",
   "id": "8ed80a11-0f32-4d0e-97ed-421b6095ae52",
   "metadata": {},
   "source": [
    "Pasos:\n",
    "1. Identificar la mayor pérdida del periodo\n",
    "1. Encontrar la fecha de la mayor pérdida\n",
    "1. Identificar el pico máximo acumulado en la fecha de la mayor perdida\n",
    "1. Identificar el balance en la fecha de la mayor pérdida\n",
    "1. Graficar"
   ]
  },
  {
   "cell_type": "markdown",
   "id": "0c0da70f-74eb-4f69-afb7-2d83949f6357",
   "metadata": {},
   "source": [
    "#### dentificar la mayor perdida"
   ]
  },
  {
   "cell_type": "code",
   "execution_count": null,
   "id": "ab3e3974-08a5-48ce-b2de-75db0d9a1c31",
   "metadata": {},
   "outputs": [],
   "source": []
  },
  {
   "cell_type": "markdown",
   "id": "57da8417-2866-4400-a52c-729ea0ce3334",
   "metadata": {},
   "source": [
    "#### Encontrar fecha"
   ]
  },
  {
   "cell_type": "code",
   "execution_count": null,
   "id": "38ba5dfe-b41e-4361-b30e-17284d458733",
   "metadata": {},
   "outputs": [],
   "source": []
  },
  {
   "cell_type": "markdown",
   "id": "029dcd26-aaff-4a02-a3bb-11a9e094f874",
   "metadata": {},
   "source": [
    "#### Identificar valor del pico máximo en la fecha de la mayor perdida"
   ]
  },
  {
   "cell_type": "code",
   "execution_count": null,
   "id": "9967ee23-df65-4ae1-a6e2-309cfd7c7409",
   "metadata": {},
   "outputs": [],
   "source": []
  },
  {
   "cell_type": "markdown",
   "id": "825a8005-682a-4b0a-9759-706e0ff7bcbb",
   "metadata": {},
   "source": [
    "#### Identificar balance en la fecha de la mayor pérdida"
   ]
  },
  {
   "cell_type": "code",
   "execution_count": null,
   "id": "a5d03099-d861-4942-893f-1d4eb82e1622",
   "metadata": {},
   "outputs": [],
   "source": []
  },
  {
   "cell_type": "markdown",
   "id": "83bd8029-c190-400f-9143-81ee6987821f",
   "metadata": {
    "tags": []
   },
   "source": [
    "# <font color='#2B17B0'>Portafolios de Inversión</font>"
   ]
  },
  {
   "cell_type": "code",
   "execution_count": null,
   "id": "000cf5f4-0026-4170-9149-d92da6f65ae7",
   "metadata": {
    "tags": []
   },
   "outputs": [],
   "source": [
    "from matplotlib.patches import FancyArrow\n",
    "from matplotlib.patches import Circle\n",
    "import matplotlib.pyplot as plt\n",
    "import pandas as pd\n",
    "import numpy as np\n",
    "import itertools\n",
    "import seaborn as sns\n",
    "\n",
    "\n",
    "\n",
    "# Estas librerías las utilizo para generar las gráficas ya pre-programadas\n",
    "from matplotlib.patches import FancyArrow\n",
    "from matplotlib.patches import Circle\n",
    "import matplotlib.pyplot as plt\n",
    "\n",
    "\n",
    "# sns.set_style('darkgrid')"
   ]
  },
  {
   "cell_type": "markdown",
   "id": "2359fe8e-5d7f-4f66-957d-75dedf0bced4",
   "metadata": {
    "tags": []
   },
   "source": [
    "## <font color='#2B17B0'>Retornos y volatilidad de 2 activos</font>"
   ]
  },
  {
   "cell_type": "code",
   "execution_count": null,
   "id": "196db9a1-cfa8-4828-9554-32a101555813",
   "metadata": {
    "tags": []
   },
   "outputs": [],
   "source": [
    "df_2activos = pd.DataFrame({\n",
    "    \"rojo\":{'ret':.04, 'sigma':.2},\n",
    "    \"azul\":{'ret':.12, 'sigma':.3}})\n",
    "df_2activos"
   ]
  },
  {
   "cell_type": "code",
   "execution_count": null,
   "id": "f503d36e-841d-4055-9265-e2b8adead750",
   "metadata": {
    "tags": []
   },
   "outputs": [],
   "source": [
    "def fig_2activos(df_2activos):\n",
    "    fig, ax = plt.subplots(figsize=(12,6))\n",
    "    ax.set_title('Gráfica Activos Rojo y Azul')\n",
    "\n",
    "    plt.xlabel('Riesgo', fontsize = 10)\n",
    "    plt.ylabel('Retorno', fontsize = 10)\n",
    "    # Limitar los ticks a unicamente los valores de ret y sigma en df_2activos:\n",
    "    plt.xticks(df_2activos.loc['sigma'])\n",
    "    plt.yticks(df_2activos.loc['ret'])\n",
    "\n",
    "    #lista de colores \n",
    "    list_color=['red', 'blue']\n",
    "    i = 0\n",
    "\n",
    "    \"\"\"\n",
    "    For loop para imprimir la ubicación de cada activo, asi como las líneas verticales y horizontales.\n",
    "    Para que las líneas sobrepasaran el punto le sume + .01 a la longitud de la líneas\n",
    "    Poner atención como cambia el color de acuerdo al contador 'i':\n",
    "    \"\"\"\n",
    "    for activo in df_2activos.columns:\n",
    "        ax.hlines(df_2activos[activo].loc['ret'], 0, df_2activos[activo].loc['sigma'] + .01, lw=.8, ls='--', color=list_color[i])\n",
    "        ax.vlines(df_2activos[activo].loc['sigma'], 0, df_2activos[activo].loc['ret'] + 0.01, lw=.8, ls='--', color=list_color[i])\n",
    "        plt.scatter(df_2activos[activo].loc['sigma'], df_2activos[activo].loc['ret'], marker = '.', s=1500, label= activo, color=list_color[i], alpha=.15)\n",
    "        plt.scatter(df_2activos[activo].loc['sigma'], df_2activos[activo].loc['ret'], marker = '.', s=300, label= activo, color=list_color[i])\n",
    "        i += 1\n",
    "\n",
    "    #Quitar las líneas del perímetro de la gráfica   \n",
    "    ax.spines['top'].set_visible(False)\n",
    "    ax.spines['right'].set_visible(False)\n",
    "    ax.spines['bottom'].set_visible(False)\n",
    "    ax.spines['left'].set_visible(False)\n",
    "\n",
    "    #Agregar flechas para el eje de las X's y Y's\n",
    "    arrow_x = FancyArrow(0, 0, .35, 0, head_width=0.005, head_length=0.006, fc='gray', ec='gray', linewidth=0.1)\n",
    "    arrow_y = FancyArrow(0, 0, 0, 0.15, head_width=0.005, head_length=0.006, fc='gray', ec='gray', linewidth=0.1)\n",
    "    ax.add_patch(arrow_x)\n",
    "    ax.add_patch(arrow_y);"
   ]
  },
  {
   "cell_type": "code",
   "execution_count": null,
   "id": "befdc265-fff1-4cfd-890a-0436b72a55c1",
   "metadata": {},
   "outputs": [],
   "source": [
    "fig_2activos(df_2activos)"
   ]
  },
  {
   "cell_type": "markdown",
   "id": "3f94c19c-0699-49c0-8051-b2565f052247",
   "metadata": {
    "tags": []
   },
   "source": [
    "### Portafolio compuesto por 50% <font color='blue'>activo azul</font> y 50% <font color='red'>activo rojo</font>"
   ]
  },
  {
   "cell_type": "code",
   "execution_count": null,
   "id": "0f34d130-89e9-4298-96df-2bc5acd50976",
   "metadata": {},
   "outputs": [],
   "source": [
    "def fig_pregunta(df_2activos):\n",
    "    fig, ax = plt.subplots(figsize=(12,6))\n",
    "    ax.set_title=('sdsd')\n",
    "\n",
    "    plt.xlabel('Riesgo', fontsize = 14)\n",
    "    plt.ylabel('Retorno', fontsize = 14)\n",
    "    # Limitar los ticks a unicamente los valores de ret y sigma en df_2activos:\n",
    "    plt.xticks(df_2activos.loc['sigma'])\n",
    "    plt.yticks(df_2activos.loc['ret'])\n",
    "\n",
    "    #lista de colores \n",
    "    list_color=['red', 'blue']\n",
    "    i = 0\n",
    "\n",
    "    \"\"\"\n",
    "    For loop para imprimir la ubicación de cada activo, asi como las líneas verticales y horizontales.\n",
    "    Para que las líneas sobrepasaran el punto le sume + .01 a la longitud de la líneas\n",
    "    Poner atención como cambia el color de acuerdo al contador 'i':\n",
    "    \"\"\"\n",
    "    for activo in df_2activos.columns:\n",
    "        ax.hlines(df_2activos[activo].loc['ret'], 0, df_2activos[activo].loc['sigma'] + .01, lw=.8, ls='--', color=list_color[i])\n",
    "        ax.vlines(df_2activos[activo].loc['sigma'], 0, df_2activos[activo].loc['ret'] + 0.01, lw=.8, ls='--', color=list_color[i])\n",
    "        plt.scatter(df_2activos[activo].loc['sigma'], df_2activos[activo].loc['ret'], marker = '.', s=1500, label= activo, color=list_color[i], alpha=.15)\n",
    "        plt.scatter(df_2activos[activo].loc['sigma'], df_2activos[activo].loc['ret'], marker = '.', s=300, label= activo, color=list_color[i])\n",
    "        i += 1\n",
    "\n",
    "    #Quitar las líneas del perímetro de la gráfica   \n",
    "    ax.spines['top'].set_visible(False)\n",
    "    ax.spines['right'].set_visible(False)\n",
    "    ax.spines['bottom'].set_visible(False)\n",
    "    ax.spines['left'].set_visible(False)\n",
    "\n",
    "    #Agregar flechas para el eje de las X's y Y's\n",
    "    arrow_x = FancyArrow(0, 0, .35, 0, head_width=0.005, head_length=0.006, fc='gray', ec='gray', linewidth=0.1)\n",
    "    arrow_y = FancyArrow(0, 0, 0, 0.15, head_width=0.005, head_length=0.006, fc='gray', ec='gray', linewidth=0.1)\n",
    "    ax.add_patch(arrow_x)\n",
    "    ax.add_patch(arrow_y)\n",
    "\n",
    "    ax.scatter(.25, .08, marker = '.', s=1500, label= activo, color='green', alpha=.15)\n",
    "    ax.scatter(.25, .08, marker = '.', s=300, label= activo, color='green')\n",
    "    ax.set_xticks([.2,.25,.3])\n",
    "    ax.set_yticks([.04, .08, .12])\n",
    "    ax.plot([.2 , .3], [.04, .12], lw=.8, ls='--', color='green')\n",
    "    ax.hlines(.08, 0, .25 + .01, lw=.8, ls='--', color='green')\n",
    "    ax.vlines(.25, 0, .08 + 0.01, lw=.8, ls='--', color='green')"
   ]
  },
  {
   "cell_type": "markdown",
   "id": "f6332409-9acb-4551-b730-5426e88ac111",
   "metadata": {
    "tags": []
   },
   "source": [
    "#### PREGUNTA:  Donde estaría ubicado el Portafolio compuesto por 50% <font color='blue'>activo azul</font> y 50% <font color='red'>activo rojo?</font>"
   ]
  },
  {
   "cell_type": "markdown",
   "id": "67a28996-b12e-4e08-a714-2f9644b326a2",
   "metadata": {
    "tags": []
   },
   "source": [
    "#### POSIBLE RESPUESTA:"
   ]
  },
  {
   "cell_type": "code",
   "execution_count": null,
   "id": "f176a944-7568-4c44-8547-01071d2daabd",
   "metadata": {
    "tags": []
   },
   "outputs": [],
   "source": [
    "fig_pregunta(df_2activos)"
   ]
  },
  {
   "cell_type": "markdown",
   "id": "a2495628-14a3-4fa6-bdfa-102ea6466fce",
   "metadata": {},
   "source": [
    "### Cálculo del retorno de un portafolio de 2 activos"
   ]
  },
  {
   "cell_type": "markdown",
   "id": "f51baca3-351a-40d3-8065-23ab34fc0fe6",
   "metadata": {},
   "source": [
    "$$\\Large R_{w_A, w_B}=w_A*R_A + w_B*R_B$$"
   ]
  },
  {
   "cell_type": "markdown",
   "id": "636502d2-af3f-4d48-b6cf-22424a1a72cf",
   "metadata": {
    "tags": []
   },
   "source": [
    "### Cálculo de la volatilidad de un portafolio de 2 activos (fórmula teórica)"
   ]
  },
  {
   "cell_type": "markdown",
   "id": "4ca9a85f-6ba3-4adf-991a-eea235a6b560",
   "metadata": {},
   "source": [
    "$$\\Large \\sigma^2_{w_A, w_B}=\\sigma^2_{A}w^2_{A}+\\sigma^2_{B}w^2_{B}+2w_Aw_B\\sigma_A\\sigma_B\\rho_{A,B}$$"
   ]
  },
  {
   "cell_type": "markdown",
   "id": "e41cc828-a2f8-4bfc-9740-b1903b6079a5",
   "metadata": {},
   "source": [
    "Donde:\n",
    "* $\\rho_{A,B}$ es la correlación de los retornos de los 2 activos\n",
    "* $w_A, w_B$ son los pesos del activo A y el activo B en el portafolio"
   ]
  },
  {
   "cell_type": "markdown",
   "id": "74af95c8-13a3-4318-8d8a-d2615c94c69e",
   "metadata": {},
   "source": [
    "$$\\Large \\sigma_{w_a, w_b}=\\sqrt{\\sigma^2_{w_A, w_B}}$$"
   ]
  },
  {
   "cell_type": "code",
   "execution_count": null,
   "id": "0d86ec07-c940-49d6-8820-fa349db9ccc9",
   "metadata": {},
   "outputs": [],
   "source": [
    "'''\n",
    "En esta función utilizo dos maneras diferentes de ir cambiando los colores de las figuras:\n",
    "1. De manera vectorizada con pandas\n",
    "2. A través de un for loop y de una variable incremental\n",
    "'''\n",
    "\n",
    "def fig_portafolio(df_2activos, rho):\n",
    "\n",
    "    df_portafolio2activos = portafolio(df_2activos, rho)\n",
    "    df_portafolio2activos['colores'] = df_portafolio2activos.apply(lambda row: mezcla_colores(row['w_rojo'], 'ff0000', '0018ff'), axis=1)\n",
    "\n",
    "    fig, ax = plt.subplots(figsize=(12,6))\n",
    "    ax.set_title('Portafolios con diferentes proporciones de pesos en los activos \"Azul\" y \"Rojo\"; ' + r'$\\rho$' + f'={rho}')\n",
    "\n",
    "    plt.yticks([.04,.12])\n",
    "\n",
    "    ax.scatter(df_portafolio2activos['sigma'].iloc[1:-1], df_portafolio2activos['retorno'].iloc[1:-1], color=df_portafolio2activos['colores'].iloc[1:-1], s=100)\n",
    "\n",
    "    colores=['#ff0000', '#0018ff']\n",
    "\n",
    "    i = 0\n",
    "    for activo in df_2activos.columns:\n",
    "        plt.scatter(df_2activos[activo].loc['sigma'], df_2activos[activo].loc['ret'], marker = '.', s=1500, label= activo, color=colores[i], alpha=.15)\n",
    "        plt.scatter(df_2activos[activo].loc['sigma'], df_2activos[activo].loc['ret'], marker = '.', s=300, label= activo, color=colores[i])\n",
    "        i += 1\n",
    "\n",
    "    ax.set_xlabel('sigma')\n",
    "    ax.set_ylabel('retorno')\n",
    "\n",
    "    ax.spines['top'].set_visible(False)\n",
    "    ax.spines['right'].set_visible(False)\n",
    "    ax.spines['bottom'].set_visible(False)\n",
    "    ax.spines['left'].set_visible(False);\n",
    "    \n",
    "\n",
    "def fig_port_dif_correlacion(df_2activos):\n",
    "    rho=.1\n",
    "    list_color = ['red', 'blue']\n",
    "\n",
    "    df_portafolio2activos = portafolio(df_2activos, rho)\n",
    "    list_rho = np.arange(0, 1.01, .1)\n",
    "    fig, ax = plt.subplots(figsize=(12,6))\n",
    "\n",
    "    for rho in list_rho:\n",
    "        df_portafolio2activos = portafolio(df_2activos, rho, False)\n",
    "        ax.plot(df_portafolio2activos['sigma'], df_portafolio2activos['retorno'], label=f'rho={rho:.1f}')\n",
    "\n",
    "    i = 0\n",
    "    for activo in df_2activos.columns:\n",
    "        plt.scatter(df_2activos[activo].loc['sigma'], df_2activos[activo].loc['ret'], marker = '.', s=1500, color=list_color[i], alpha=.15)\n",
    "        plt.scatter(df_2activos[activo].loc['sigma'], df_2activos[activo].loc['ret'], marker = '.', s=300, color=list_color[i],)\n",
    "        i += 1\n",
    "\n",
    "    ax.set_xlabel('sigma')\n",
    "    ax.set_ylabel('retorno')\n",
    "\n",
    "    ax.spines['top'].set_visible(False)\n",
    "    ax.spines['right'].set_visible(False)\n",
    "    ax.spines['bottom'].set_visible(False)\n",
    "    ax.spines['left'].set_visible(False)\n",
    "\n",
    "    ax.legend(frameon=False);\n",
    "\n",
    "\n",
    "def portafolio(df_2activos, r, pocos=True):\n",
    "    \"\"\"\n",
    "    Cálculo vectorizado de los pesos, retornos y volatilidad\n",
    "    de un portafolio de 2 activos.\n",
    "    requiere un dataframe con los retornos y volatilidades\n",
    "    de cada uno de los activos y su correlación\n",
    "    \"\"\"\n",
    "    if pocos == True:\n",
    "        a = np.arange(0.0, 1.1, .1)\n",
    "    elif pocos == False:\n",
    "        a = np.arange(0.0, 1.01, .01)\n",
    "    df_ = pd.DataFrame()\n",
    "    df_['w_rojo'] = a\n",
    "    df_['w_azul'] = 1 - df_['w_rojo']\n",
    "    df_['retorno'] = (\n",
    "        df_2activos['rojo'].loc['ret'] * df_['w_rojo'] +\n",
    "        df_2activos['azul'].loc['ret'] * df_['w_azul']\n",
    "    )\n",
    "\n",
    "    df_['sigma'] = (\n",
    "        (df_2activos['rojo'].loc['sigma']**2)*(df_['w_rojo']**2) +\n",
    "        (df_2activos['azul'].loc['sigma']**2)*(df_['w_azul']**2) +\n",
    "        (2 * \n",
    "         df_['w_rojo'] * \n",
    "         df_['w_azul'] * \n",
    "         df_2activos['rojo'].loc['sigma'] * \n",
    "         df_2activos['azul'].loc['sigma'] *\n",
    "         r\n",
    "        ) \n",
    "    )**.5\n",
    "    \n",
    "    return df_\n",
    "\n",
    "\n",
    "def mezcla_colores(peso, color1, color2):\n",
    "    # Descomponemos los colores en sus componentes R, G, B\n",
    "    componente1 = tuple(int(color1[i:i+2], 16)/255 for i in (0, 2, 4))\n",
    "    componente2 = tuple(int(color2[i:i+2], 16)/255 for i in (0, 2, 4))\n",
    "\n",
    "    # Calculamos la media ponderada de las componentes\n",
    "    color_mezclado = [(peso*componente1[i] + (1-peso)*componente2[i]) for i in range(3)]\n",
    "    \n",
    "    # Convertimos el color mezclado a formato hexadecimal\n",
    "    return '#{:02x}{:02x}{:02x}'.format(*(int(c*255) for c in color_mezclado))"
   ]
  },
  {
   "cell_type": "code",
   "execution_count": null,
   "id": "b66c2684-1ff5-45a8-877b-4d603165a39c",
   "metadata": {
    "tags": []
   },
   "outputs": [],
   "source": [
    "fig_portafolio(df_2activos, .1)"
   ]
  },
  {
   "cell_type": "code",
   "execution_count": null,
   "id": "a6250dc4-faf2-4957-b521-b8c59a3f3e9d",
   "metadata": {},
   "outputs": [],
   "source": [
    "def fig_port_dif_correlacion(df_2activos):\n",
    "    rho=.1\n",
    "    list_color = ['red', 'blue']\n",
    "\n",
    "    df_portafolio2activos = portafolio(df_2activos, rho)\n",
    "    list_rho = np.arange(0, 1.01, .1)\n",
    "    fig, ax = plt.subplots(figsize=(12,6))\n",
    "\n",
    "    for rho in list_rho:\n",
    "        df_portafolio2activos = portafolio(df_2activos, rho, False)\n",
    "        ax.plot(df_portafolio2activos['sigma'], df_portafolio2activos['retorno'], label=f'rho={rho:.1f}')\n",
    "\n",
    "    i = 0\n",
    "    for activo in df_2activos.columns:\n",
    "        plt.scatter(df_2activos[activo].loc['sigma'], df_2activos[activo].loc['ret'], marker = '.', s=1500, color=list_color[i], alpha=.15)\n",
    "        plt.scatter(df_2activos[activo].loc['sigma'], df_2activos[activo].loc['ret'], marker = '.', s=300, color=list_color[i],)\n",
    "        i += 1\n",
    "\n",
    "    ax.set_xlabel('sigma')\n",
    "    ax.set_ylabel('retorno')\n",
    "\n",
    "    ax.spines['top'].set_visible(False)\n",
    "    ax.spines['right'].set_visible(False)\n",
    "    ax.spines['bottom'].set_visible(False)\n",
    "    ax.spines['left'].set_visible(False)\n",
    "\n",
    "    ax.legend(frameon=False);"
   ]
  },
  {
   "cell_type": "code",
   "execution_count": null,
   "id": "6e9dcc4a-4b7c-4acc-970b-02073cd1a324",
   "metadata": {
    "scrolled": true,
    "tags": []
   },
   "outputs": [],
   "source": [
    "fig_port_dif_correlacion(df_2activos)"
   ]
  },
  {
   "cell_type": "markdown",
   "id": "66203e66-7a1c-4894-bd34-542ac99893fa",
   "metadata": {},
   "source": [
    "## Instalar YFINANCE"
   ]
  },
  {
   "cell_type": "markdown",
   "id": "0f63975a-6563-4f1e-a015-0cae34cd4910",
   "metadata": {},
   "source": [
    "Pág GitHub: https://github.com/ranaroussi/yfinance"
   ]
  },
  {
   "cell_type": "code",
   "execution_count": null,
   "id": "694b94ac-eb93-4604-963a-95152e2b5d0e",
   "metadata": {},
   "outputs": [],
   "source": [
    "import yfinance as yf"
   ]
  },
  {
   "cell_type": "code",
   "execution_count": null,
   "id": "3640222e-abab-4162-9065-f09aeafc8129",
   "metadata": {},
   "outputs": [],
   "source": [
    "acciones = 'ALFAA.MX ALSEA.MX AMXB.MX AC.MX BBAJIOO.MX CUERVO.MX BOLSAA.MX CEMEXCPO.MX KOFUBL.MX VOLARA.MX VESTA.MX LIVEPOLC-1.MX FEMSAUBD.MX LABB.MX GENTERA.MX GRUMAB.MX OMAB.MX GAPB.MX ASURB.MX BIMBOA.MX GCARSOA1.MX GCC.MX ELEKTRA.MX GFNORTEO.MX GFINBURO.MX GMEXICOB.MX TLEVISACPO.MX PE&OLES.MX KIMBERA.MX MEGACPO.MX ORBIA.MX PINFRA.MX Q.MX RA.MX WALMEX.MX'"
   ]
  },
  {
   "cell_type": "code",
   "execution_count": null,
   "id": "760c49e9-9ea2-4cff-98ef-6eac27e9151e",
   "metadata": {},
   "outputs": [],
   "source": [
    "precios = yf.download(acciones, period=\"1y\")"
   ]
  },
  {
   "cell_type": "code",
   "execution_count": null,
   "id": "8f983037-1701-4c71-8026-383ef690c11e",
   "metadata": {},
   "outputs": [],
   "source": [
    "precios.info()"
   ]
  },
  {
   "cell_type": "code",
   "execution_count": null,
   "id": "ef63c96b-c461-42fa-9875-aa5133471d10",
   "metadata": {},
   "outputs": [],
   "source": [
    "precios"
   ]
  },
  {
   "cell_type": "code",
   "execution_count": null,
   "id": "568d534a-dcc1-4534-8108-3ead966d6712",
   "metadata": {},
   "outputs": [],
   "source": [
    "precios = precios['Adj Close'].copy()"
   ]
  },
  {
   "cell_type": "code",
   "execution_count": null,
   "id": "616434f8-68f5-41f2-be49-aef5971616bd",
   "metadata": {},
   "outputs": [],
   "source": [
    "precios.info()"
   ]
  },
  {
   "cell_type": "code",
   "execution_count": null,
   "id": "51085ad2-0dae-4541-aa45-df0feabca7a0",
   "metadata": {
    "tags": []
   },
   "outputs": [],
   "source": [
    "sns.set_style('darkgrid')"
   ]
  },
  {
   "cell_type": "markdown",
   "id": "aadbb0c7-2944-455e-8d98-3a04abfe4f1e",
   "metadata": {
    "tags": []
   },
   "source": [
    "## <font color='#2B17B0'>Construir portafolios utilizando Simulación MonteCarlo</font>"
   ]
  },
  {
   "cell_type": "markdown",
   "id": "abb2bb31-1882-4dee-8185-8acad946f545",
   "metadata": {},
   "source": [
    "Para el desarrollo del primer portafolio de inversión, vamos a seguir los siguiente pasos:\n",
    "\n",
    "1. Importar librerías\n",
    "1. Importar precios de cierre\n",
    "1. Calcular retornos diarios y anuales\n",
    "1. Calcular $\\sigma$ diaria y anual\n",
    "1. Graficar dispersiones de los retornos anuales Vs $\\sigma$ anual\n",
    "1. Seleccionar de manera cuantitativa las acciones que formaran el portafolio (Sharp Ratio)\n",
    "1. Calcular matriz de covarianza  de las acciones seleccionadas\n",
    "1. Crear array NumPy para guardar los resultados de las simulaciones.\n",
    "1. Realizar simulación Monte Carlo\n",
    "1. Visualizar portafolio\n",
    "1. Visualizar resultados óptimos"
   ]
  },
  {
   "cell_type": "markdown",
   "id": "82f79fcd-ea5f-47eb-aa0d-fc4ffec871fb",
   "metadata": {
    "tags": []
   },
   "source": [
    "### <font color='royalblue'>2. Importar precios de cierre</font>"
   ]
  },
  {
   "cell_type": "markdown",
   "id": "2f389e15-ed7a-4788-8465-2bf62723cda6",
   "metadata": {
    "tags": []
   },
   "source": [
    "### <font color='royalblue'>3. Calcular retornos diarios y anuales</font>"
   ]
  },
  {
   "cell_type": "markdown",
   "id": "05a7ddd1-a1b2-4c11-b493-f7835dd86917",
   "metadata": {},
   "source": [
    "#### Retornos diarios"
   ]
  },
  {
   "cell_type": "code",
   "execution_count": null,
   "id": "d7038955-5fcb-4be5-ab4f-053cebd55cfb",
   "metadata": {},
   "outputs": [],
   "source": []
  },
  {
   "cell_type": "markdown",
   "id": "59c4dd1f-11b7-484c-8773-b49003fd170c",
   "metadata": {},
   "source": [
    "#### Retornos anualizados"
   ]
  },
  {
   "cell_type": "code",
   "execution_count": null,
   "id": "c88a635f-82b7-4981-b296-d447b228e995",
   "metadata": {},
   "outputs": [],
   "source": []
  },
  {
   "cell_type": "markdown",
   "id": "39eda069-4974-458f-b049-6e15dc476280",
   "metadata": {
    "tags": []
   },
   "source": [
    "### <font color='royalblue'>4. Calcular $\\sigma$ diaria y anual</font>"
   ]
  },
  {
   "cell_type": "code",
   "execution_count": null,
   "id": "7f150403-0485-437b-9eec-237738f6d09a",
   "metadata": {},
   "outputs": [],
   "source": []
  },
  {
   "cell_type": "markdown",
   "id": "9f8c0fa5-eb15-43ee-981a-1a4d31d05642",
   "metadata": {},
   "source": [
    "#### Sigma anual"
   ]
  },
  {
   "cell_type": "code",
   "execution_count": null,
   "id": "cc79de69-63cf-4b5c-8f09-85635786b2d4",
   "metadata": {},
   "outputs": [],
   "source": []
  },
  {
   "cell_type": "markdown",
   "id": "7542d080-6512-4b21-bf4e-b5a66610f4df",
   "metadata": {},
   "source": [
    "#### <font color='royalblue'>4.1 Crear una lista con el nombre de las emisoras</font>"
   ]
  },
  {
   "cell_type": "code",
   "execution_count": null,
   "id": "b0ab731a-3901-403f-9867-c3ac1d1e75e7",
   "metadata": {},
   "outputs": [],
   "source": []
  },
  {
   "cell_type": "markdown",
   "id": "6dba84fc-a453-42cb-a2d7-30214f7675a3",
   "metadata": {},
   "source": [
    "### <font color='royalblue'>5. Graficar dispersiones de los retornos anuales Vs $\\sigma$ anual</font>"
   ]
  },
  {
   "cell_type": "code",
   "execution_count": null,
   "id": "7a3fad4e-ce7d-4bce-8b5b-1b91283d405d",
   "metadata": {},
   "outputs": [],
   "source": [
    "plt.figure(figsize=(14,6))\n",
    "plt.suptitle('Dispersión retornos/volatildiad componentes IPC BMV')\n",
    "\n",
    "plt.xlabel('Sigma anual')\n",
    "plt.ylabel('Retorno anual')\n",
    "\n",
    "for accion in acciones:\n",
    "    plt.scatter(sigma_anual[accion], retornos_anuales[accion], marker = '+')\n",
    "    plt.text(sigma_anual[accion], retornos_anuales[accion], accion, fontsize=12)"
   ]
  },
  {
   "cell_type": "code",
   "execution_count": null,
   "id": "17803b75-5923-4f0d-a543-6ec002bae14a",
   "metadata": {},
   "outputs": [],
   "source": []
  },
  {
   "cell_type": "markdown",
   "id": "c3eca407-d7cd-418a-bcaa-27d4745f7d89",
   "metadata": {},
   "source": [
    "### <font color='royalblue'>6. Seleccionar de manera cuantitativa las acciones que formaran el portafolio</font>"
   ]
  },
  {
   "cell_type": "markdown",
   "id": "01305f59-80d9-425b-8f4d-b6ab823f4a2e",
   "metadata": {},
   "source": [
    "#### Sharpe Ratio\n",
    "El Sharp Ratio, mide el rendimiento adicional que genera un activo por encima de la tasa de retorno libre de riesgo, ajustado por su volatilidad.<br><br>\n",
    "$$SharpRatio = \\frac{r_x - r_f}{\\sigma_x}$$<br>\n",
    "Como tasa libre de riesgo utilizaremos CETES a 28 dias $\\approx11\\%$ anual."
   ]
  },
  {
   "cell_type": "code",
   "execution_count": null,
   "id": "9a1bfaf5-b59b-4671-915f-b82f7f1accf2",
   "metadata": {},
   "outputs": [],
   "source": []
  },
  {
   "cell_type": "markdown",
   "id": "7abf260e-f0c1-49ba-9ebd-47996d5348cc",
   "metadata": {
    "tags": []
   },
   "source": [
    "### <font color='royalblue'>7. Calcular matriz de covarianza  de las acciones seleccionadas</font>"
   ]
  },
  {
   "cell_type": "code",
   "execution_count": null,
   "id": "ed53077d-d8ce-4111-886d-dc488bfce5a9",
   "metadata": {},
   "outputs": [],
   "source": []
  },
  {
   "cell_type": "markdown",
   "id": "70b4d715-2070-4c7c-9e14-e0d65dc8038d",
   "metadata": {
    "tags": []
   },
   "source": [
    "### <font color='royalblue'>8. Crear array NumPy para guardar los resultados de las simulaciones</font>\n",
    "Incluir las siguientes columnas:\n",
    "1. \\# de simulación\n",
    "  1. Retorno generado\n",
    "  1. $\\sigma$ del portafolio\n",
    "  1. Sharp Ratio del portafolio\n",
    "  1. y el peso (w) de cada acción que forman el portafolio"
   ]
  },
  {
   "cell_type": "code",
   "execution_count": null,
   "id": "b1a0d007-bc3b-4eff-b181-51284e858190",
   "metadata": {},
   "outputs": [],
   "source": []
  },
  {
   "cell_type": "markdown",
   "id": "156cb973-6b9d-457c-9e1d-3ef26fadbaf8",
   "metadata": {
    "tags": []
   },
   "source": [
    "### <font color='royalblue'>9. Realizar simulación Monte Carlo</font>"
   ]
  },
  {
   "cell_type": "markdown",
   "id": "ec3d16ee-1fed-43d2-8345-b08fd5b1e5c3",
   "metadata": {
    "tags": []
   },
   "source": [
    "### <font color='gray'>Cálculo $E(R_p)$, $\\sigma^2$ de un portafolio</font>\n",
    "Para calcular el retorno de un portafolio de *\"n\"* activos:<br>\n",
    "$E(R_p) = \\displaystyle\\sum_{i=1}^{n}{w_iE(R_i)}\\implies Rw$<br><br>\n",
    "Para calcular la $\\sigma^2$ de un portafolio de dos activos -Recordar que la nombre como fórmula teórica-:<br>\n",
    "$\\sigma_p^2 = w_1^2\\sigma_1^2 + w_2^2\\sigma_2^2 + 2w_1w_2\\sigma_1\\sigma_2\\rho_{12}$<br><br>\n",
    "Recordememos que la fórmula de la correlación es:<br><br>\n",
    "$\\large\\rho=\\frac{Cov_{i,j}}{\\sigma_i \\sigma_j}$<br><br>\n",
    "Podemos simplificar la fórmula de la varianza eliminando sustituyendo la fórmula de la $\\rho$ y simplificándola a:<br><br>\n",
    "$\\sigma_p^2 = w_1^2\\sigma_1^2 + w_2^2\\sigma_2^2 + 2w_1w_2\\sigma_1\\sigma_2\\frac{Cov_{1,2}}{\\sigma_1 \\sigma_2}\\implies \\sigma_p^2 = w_1^2\\sigma_1^2 + w_2^2\\sigma_2^2 + 2w_1w_2\\sigma_{1,2}$<br><br>\n",
    "Para calcular la $\\sigma^2$ de un portafolio de *\"n\"* activos:<br>\n",
    "$$\n",
    "\\begin{array}{rcl}\n",
    "\\sigma_p^2 & = & \\displaystyle\\sum_{i=1}^{n} {w_i^2\\sigma_i^2} +  \\displaystyle\\sum_{i=1}^{n} \\displaystyle\\sum_{j\\neq i}^{n}w_iw_j\\sigma_i\\sigma_j\\rho_{ij}\\\\\n",
    "& = & \\displaystyle\\sum_{i=1}^{n} \\displaystyle\\sum_{j=i}^{n}w_iw_j\\sigma_{i,j}\\\\\n",
    "& = & w^T\\sum w \n",
    "\\end{array}\n",
    "$$\n",
    "Donde $\\sum$ es la matriz de varianza - covarianza"
   ]
  },
  {
   "cell_type": "code",
   "execution_count": null,
   "id": "12a4f752-8ccd-4fc4-89ca-1a852557fbe4",
   "metadata": {},
   "outputs": [],
   "source": []
  },
  {
   "cell_type": "markdown",
   "id": "ee396b42-b31c-4b3a-91d8-2cfa76e8ed9f",
   "metadata": {},
   "source": [
    "### <font color='gray'>Renombrar columnas</font>"
   ]
  },
  {
   "cell_type": "code",
   "execution_count": null,
   "id": "260de912-3f73-4937-a6dd-f296de0169e8",
   "metadata": {},
   "outputs": [],
   "source": []
  },
  {
   "cell_type": "markdown",
   "id": "881aff2b-af3f-4616-9fca-312a66d266d4",
   "metadata": {},
   "source": [
    "### <font color='gray'>Identificar portafolio con el máximo Sharp Ratio y el de mínima varianza </font>"
   ]
  },
  {
   "cell_type": "code",
   "execution_count": null,
   "id": "f53e9880-7f39-4a43-afdb-7001f687f551",
   "metadata": {},
   "outputs": [],
   "source": []
  },
  {
   "cell_type": "markdown",
   "id": "6d852719-8273-455b-854e-02dc72456ed1",
   "metadata": {
    "tags": []
   },
   "source": [
    "### <font color='royalblue'>10. Visualizar portafolio</font>"
   ]
  },
  {
   "cell_type": "code",
   "execution_count": null,
   "id": "ebfe0b76-cb73-44db-95ed-33d5c03bf5e7",
   "metadata": {
    "scrolled": true
   },
   "outputs": [],
   "source": [
    "plt.figure(figsize=(12,6))\n",
    "plt.scatter(x=resultados.Sigma.values, y=resultados['Ret'].values, c=resultados.Sharp, cmap='winter', label='simulacion')\n",
    "\n",
    "clb = plt.colorbar()\n",
    "clb.ax.set_title('SharpRatio')\n",
    "\n",
    "plt.scatter(max_sharp_ratio[2], max_sharp_ratio[1], marker='*', color='gold', s=200, label='Port.Max Sharp Ratio')\n",
    "\n",
    "\n",
    "plt.scatter(min_vol[2], min_vol[1], marker='*', color='r', s=200, label='Port.Min Volatilidad');"
   ]
  },
  {
   "cell_type": "code",
   "execution_count": null,
   "id": "cbe78dae-89a0-42e4-9270-6e494e1fa667",
   "metadata": {},
   "outputs": [],
   "source": []
  }
 ],
 "metadata": {
  "kernelspec": {
   "display_name": "Python 3 (ipykernel)",
   "language": "python",
   "name": "python3"
  },
  "language_info": {
   "codemirror_mode": {
    "name": "ipython",
    "version": 3
   },
   "file_extension": ".py",
   "mimetype": "text/x-python",
   "name": "python",
   "nbconvert_exporter": "python",
   "pygments_lexer": "ipython3",
   "version": "3.12.4"
  }
 },
 "nbformat": 4,
 "nbformat_minor": 5
}
